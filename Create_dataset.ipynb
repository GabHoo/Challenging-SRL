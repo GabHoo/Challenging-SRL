{
  "cells": [
    {
      "cell_type": "markdown",
      "metadata": {
        "id": "wJ35qPko7VZ7"
      },
      "source": [
        "# This notebook containes all the functions and manually created sentences to further generate (Automatically or semi-automatically) the test sets used in *Challenging-SRL*"
      ]
    },
    {
      "cell_type": "code",
      "execution_count": null,
      "metadata": {
        "id": "EjmZ36D27VaA"
      },
      "outputs": [],
      "source": [
        "pip install checklist"
      ]
    },
    {
      "cell_type": "code",
      "execution_count": 3,
      "metadata": {
        "id": "lTp0y5ef7VZ-"
      },
      "outputs": [],
      "source": [
        "import numpy as np\n",
        "import json\n",
        "import random\n",
        "from checklist.editor import Editor\n",
        "from checklist.perturb import Perturb"
      ]
    },
    {
      "cell_type": "code",
      "execution_count": 1,
      "metadata": {
        "id": "35lOyg867VaB"
      },
      "outputs": [],
      "source": []
    },
    {
      "cell_type": "markdown",
      "metadata": {
        "id": "YhnXhIPo7VaC"
      },
      "source": [
        "## Predicate identification test set"
      ]
    },
    {
      "cell_type": "code",
      "execution_count": null,
      "metadata": {
        "id": "jQzOoxEC7VaC"
      },
      "outputs": [],
      "source": [
        "#All the sentences generated will be stred in this folder:\n",
        "path=\"./Data/Predicate_identification/\""
      ]
    },
    {
      "cell_type": "markdown",
      "metadata": {
        "id": "T5nYfnyP7VaD"
      },
      "source": [
        "### Predicate contraction\n",
        "\n",
        "Creation semi manual of the contraction data test.  \n",
        "Some sentences with predicates that can be subjected to this phenomena are written by the author and Checklist will contract or expand the sentence.  \n",
        "The list is not exhaustive and can be always be expanded"
      ]
    },
    {
      "cell_type": "code",
      "execution_count": null,
      "metadata": {
        "id": "QKkINuvI7VaE"
      },
      "outputs": [],
      "source": [
        "def create_contractions(data):\n",
        "    \"\"\"This function creates contractions from a list of sentences.\n",
        "    Either contrated or expanded. Using Checklist Perturbation.contractions\n",
        "\n",
        "    :data is a list of sententes\n",
        "\n",
        "    Returns a list of nested list [sent,sent]\n",
        "    \"\"\"\n",
        "\n",
        "    ret = Perturb.perturb(data, Perturb.contractions)\n",
        "\n",
        "\n",
        "    return ret.data\n",
        "\n",
        "def create_dictionary_Format(data,sents):\n",
        "    \"\"\" \n",
        "    This function is exclusively for formatting a new dictionary.\n",
        "    \n",
        "    :data is {sent:verb_indx}\n",
        "    :sents is list of coupled lists [contracted , expanded]\n",
        "\n",
        "    Output: A nested dictionary\n",
        "    {sentence:(contracted_sentence:verb_indx)}\n",
        "    \"\"\"\n",
        "    co=np.array(sents).T[1]\n",
        "    new_dict = {s: x for s,x in zip(co,data.items())}\n",
        "    return new_dict"
      ]
    },
    {
      "cell_type": "code",
      "execution_count": null,
      "metadata": {
        "id": "LL-BBU1m7VaF"
      },
      "outputs": [],
      "source": [
        "#THIS sentences were manually generated taking inspiration from Checklist perturbator.py where a various contractions are listed\n",
        "\n",
        "data = {'it\\'s a wonderfull day': 1,\n",
        "        \"where did he go?\":1,\n",
        "        \"There's some pesto left\": 1,\n",
        "        \"He was ought not to do it\": 2,\n",
        "        \"I could've tried that as well\": 2,\n",
        "        \"They will leave the house\": 1,\n",
        "        \"That would be creazy\": 1,\n",
        "        \"we are here\": 1,\n",
        "        \"Mark had not see that coming\": 1,\n",
        "        \"She will be a great candidate\": 1,\n",
        "        \"Mary is not a nurse.\": 1,\n",
        "        \"He's gone already\": 1,\n",
        "        \"I would like some tea\": 1,\n",
        "        \"who is there?\": 1,\n",
        "        \"I could not eat some food now\": 1,\n",
        "        \"We've decided to change house\": 1,\n",
        "        \"I must not lose my temper\": 1,\n",
        "        \"You might not want to do that\": 1\n",
        "}\n"
      ]
    },
    {
      "cell_type": "code",
      "execution_count": null,
      "metadata": {
        "id": "QqemIl1x7VaH",
        "outputId": "0f9d58eb-e0d0-4b24-c6dc-3011c3082187"
      },
      "outputs": [
        {
          "data": {
            "text/plain": [
              "({'it is a wonderfull day': (\"it's a wonderfull day\", 1),\n",
              "  \"where'd he go?\": ('where did he go?', 1),\n",
              "  'There is some pesto left': (\"There's some pesto left\", 1),\n",
              "  \"He was oughtn't to do it\": ('He was ought not to do it', 2),\n",
              "  'I could have tried that as well': (\"I could've tried that as well\", 2),\n",
              "  \"They'll leave the house\": ('They will leave the house', 1),\n",
              "  \"That'd be creazy\": ('That would be creazy', 1),\n",
              "  \"we're here\": ('we are here', 1),\n",
              "  \"Mark hadn't see that coming\": ('Mark had not see that coming', 1),\n",
              "  \"She'll be a great candidate\": ('She will be a great candidate', 1),\n",
              "  \"Mary isn't a nurse.\": ('Mary is not a nurse.', 1),\n",
              "  'He is gone already': (\"He's gone already\", 1),\n",
              "  \"I'd like some tea\": ('I would like some tea', 1),\n",
              "  \"who's there?\": ('who is there?', 1),\n",
              "  \"I couldn't eat some food now\": ('I could not eat some food now', 1),\n",
              "  'We have decided to change house': (\"We've decided to change house\", 1),\n",
              "  \"I mustn't lose my temper\": ('I must not lose my temper', 1),\n",
              "  \"You mightn't want to do that\": ('You might not want to do that', 1)},\n",
              " 18)"
            ]
          },
          "execution_count": 235,
          "metadata": {},
          "output_type": "execute_result"
        }
      ],
      "source": [
        "sents=create_contractions(list(data.keys()))\n",
        "out_dict=create_dictionary_Format(data,sents)\n",
        "out_dict,len(out_dict)"
      ]
    },
    {
      "cell_type": "code",
      "execution_count": null,
      "metadata": {
        "id": "wTi7AYs67VaI"
      },
      "outputs": [],
      "source": [
        "with open(path+\"contracted_sentences.json\",\"w\") as f:\n",
        "    json.dump(out_dict,f)"
      ]
    },
    {
      "cell_type": "markdown",
      "metadata": {
        "id": "O9wUvZw_7VaI"
      },
      "source": [
        "### Predicate irregular inflections\n",
        "Semi automatic creation of sentences using a list of irregular inflected verb.  \n",
        "List was found online / written by the authros. Example sentences are contructed with Large Language Model RoBerta integrated in CheckList library."
      ]
    },
    {
      "cell_type": "code",
      "execution_count": null,
      "metadata": {
        "id": "y5jEOMl97VaJ"
      },
      "outputs": [],
      "source": [
        "def create_inflected_sentences(irregular_inflections):\n",
        "    \"\"\"This function creates a dictionary in the shape {label:sentence}. Where label is the inflected verb form.\n",
        "    :irregular_inflections is a list of the irregular verbs to be used.\n",
        "    returns Dict\n",
        "    \"\"\"\n",
        "    editor = Editor()\n",
        "    #This will add the irregular verbs to the lexicon so that we can use them in the template.\n",
        "    editor.add_lexicon('irr_verb', irregular_inflections,remove_duplicates=True)\n",
        "\n",
        "    #This will create 1000 samples sentences and their lables will be the irregular verb picked.\n",
        "    #{mask} is a special token that will be replaced by a random word suggested by the Language model.\n",
        "    #{fist_name} is a special token that will be replaced by a random first name in the lexicon.\n",
        "    ret = editor.template('{first_name} {irr_verb} {a:mask} {mask}.',nsamples=100,labels='{irr_verb}')\n",
        "\n",
        "    #This creates a dictionary in the shape {label:sentence}. Where label is the verb.\n",
        "    #Carefull, this will be much smaller than the number of samples because some of the sentences will be duplicates.\n",
        "    inflected_sentences=dict(zip(ret.labels,ret.data))\n",
        "\n",
        "\n",
        "    return inflected_sentences"
      ]
    },
    {
      "cell_type": "code",
      "execution_count": null,
      "metadata": {
        "id": "sXQMkv8I7VaK"
      },
      "outputs": [],
      "source": [
        "irregular_inflections=['Beheld', 'Dwelt', 'Flung', 'Broadcast', 'Clung', 'Dared', 'Fitted', 'Forgave', 'Grinded', 'Hanged', 'Knelt', 'Laid', 'Led', 'Leant', 'Molten', 'Mistook', 'Proved', 'Rose', 'Sawn', 'Sought', 'Sewed', 'Shaven', 'Slit', 'Snuck', 'Span', 'Spoiled', 'Spring', 'Stuck', 'Strode', 'Struck', 'Swung', 'Torn', 'Undertook', 'Vext', 'Wet', 'Wrote']"
      ]
    },
    {
      "cell_type": "code",
      "execution_count": null,
      "metadata": {
        "id": "d4FD531j7VaL",
        "outputId": "c6b25a8c-d894-4a2e-c841-7480a280bc27"
      },
      "outputs": [
        {
          "data": {
            "text/plain": [
              "(35,\n",
              " {'Leant': 'Christopher Leant a H __.',\n",
              "  'Knelt': 'Elizabeth Knelt an Old Woman.',\n",
              "  'Snuck': 'Katherine Snuck an Old Swan.',\n",
              "  'Rose': 'Al Rose a L Key.',\n",
              "  'Forgave': 'Al Forgave a New Thing.',\n",
              "  'Span': 'Joan Span a New Order.',\n",
              "  'Strode': 'Lauren Strode a L Stand.',\n",
              "  'Sewed': 'Christopher Sewed a L 3.',\n",
              "  'Undertook': 'Steve Undertook an Old Rose.',\n",
              "  'Led': 'Peter Led a H in.',\n",
              "  'Dwelt': 'Frances Dwelt a L No.',\n",
              "  'Swung': 'Paul Swung a H Band.',\n",
              "  'Sawn': 'Fiona Sawn an Old Girl.',\n",
              "  'Vext': 'Gary Vext an A Rose.',\n",
              "  'Flung': 'Frederick Flung a H Bar.',\n",
              "  'Wet': 'Donald Wet a R Road.',\n",
              "  'Slit': 'Catherine Slit a H Ranch.',\n",
              "  'Fitted': 'Henry Fitted a L 0.',\n",
              "  'Mistook': 'Emily Mistook an In A.',\n",
              "  'Dared': 'Jennifer Dared an Old Friend.',\n",
              "  'Spoiled': 'Al Spoiled a L Stand.',\n",
              "  'Shaven': 'Sue Shaven a H in.',\n",
              "  'Sought': 'Martha Sought a L Ring.',\n",
              "  'Molten': 'Bill Molten an Old Thing.',\n",
              "  'Hanged': 'Susan Hanged an Old Car.',\n",
              "  'Stuck': 'Frank Stuck a R Post.',\n",
              "  'Proved': 'Simon Proved a L H.',\n",
              "  'Broadcast': 'Mark Broadcast a L Stand.',\n",
              "  'Beheld': 'Sarah Beheld an Old Rose.',\n",
              "  'Struck': 'Kathy Struck a New Frontier.',\n",
              "  'Laid': 'Christine Laid a L K.',\n",
              "  'Wrote': 'Frances Wrote an Old Chair.',\n",
              "  'Torn': 'Michelle Torn a New Order.',\n",
              "  'Grinded': 'Jay Grinded an A Lot.',\n",
              "  'Spring': 'Sarah Spring a L 3.'})"
            ]
          },
          "execution_count": 241,
          "metadata": {},
          "output_type": "execute_result"
        }
      ],
      "source": [
        "inflected_sentences=create_inflected_sentences(irregular_inflections)\n",
        "len(inflected_sentences),inflected_sentences"
      ]
    },
    {
      "cell_type": "code",
      "execution_count": null,
      "metadata": {
        "colab": {
          "base_uri": "https://localhost:8080/",
          "height": 191
        },
        "id": "SAgD4ute7VaM",
        "outputId": "a3737198-71b4-4529-a63d-0ee68c22b611"
      },
      "outputs": [
        {
          "output_type": "error",
          "ename": "FileNotFoundError",
          "evalue": "ignored",
          "traceback": [
            "\u001b[0;31m---------------------------------------------------------------------------\u001b[0m",
            "\u001b[0;31mFileNotFoundError\u001b[0m                         Traceback (most recent call last)",
            "\u001b[0;32m<ipython-input-102-e7772469ab27>\u001b[0m in \u001b[0;36m<cell line: 1>\u001b[0;34m()\u001b[0m\n\u001b[0;32m----> 1\u001b[0;31m \u001b[0;32mwith\u001b[0m \u001b[0mopen\u001b[0m\u001b[0;34m(\u001b[0m\u001b[0mpath\u001b[0m\u001b[0;34m+\u001b[0m\u001b[0;34m\"inflected_sentences.json\"\u001b[0m\u001b[0;34m,\u001b[0m\u001b[0;34m\"w\"\u001b[0m\u001b[0;34m)\u001b[0m \u001b[0;32mas\u001b[0m \u001b[0mf\u001b[0m\u001b[0;34m:\u001b[0m\u001b[0;34m\u001b[0m\u001b[0;34m\u001b[0m\u001b[0m\n\u001b[0m\u001b[1;32m      2\u001b[0m     \u001b[0mjson\u001b[0m\u001b[0;34m.\u001b[0m\u001b[0mdump\u001b[0m\u001b[0;34m(\u001b[0m\u001b[0minflected_sentences\u001b[0m\u001b[0;34m,\u001b[0m\u001b[0mf\u001b[0m\u001b[0;34m)\u001b[0m\u001b[0;34m\u001b[0m\u001b[0;34m\u001b[0m\u001b[0m\n",
            "\u001b[0;31mFileNotFoundError\u001b[0m: [Errno 2] No such file or directory: './Data/Predicate_identification/inflected_sentences.json'"
          ]
        }
      ],
      "source": [
        "with open(path+\"inflected_sentences.json\",\"w\") as f:\n",
        "    json.dump(inflected_sentences,f)"
      ]
    },
    {
      "cell_type": "code",
      "execution_count": null,
      "metadata": {
        "id": "BwLudL0h7VaM"
      },
      "outputs": [],
      "source": []
    },
    {
      "cell_type": "markdown",
      "metadata": {
        "id": "4Ozk3dcz7VaN"
      },
      "source": [
        "### Typos\n",
        "For the creation of the this dataset we take a list of verbs (possibly transitive) from ChatGPT/the internet. For each verb we add a typo by switching two characters with the help of Checklist perturbator class. We then use Checklist template to fill a tamplate with the perturbated verb."
      ]
    },
    {
      "cell_type": "code",
      "source": [
        "def create_verb_typos(verb_list):\n",
        "  \"\"\"This function creates a list of sentences with a perturbate verbs (typos).\n",
        "  It first generated  the list of wrong verbs from the input list and then create as many sentences.\n",
        "  \"\"\"\n",
        "  editor=Editor()\n",
        "  verb_typos=[Perturb.add_typos(x) for x in verb_list]\n",
        "\n",
        "  editor.add_lexicon('verb_typos', verb_typos,remove_duplicates=True)\n",
        "  editor.add_lexicon('adj', ['good', 'bad', 'great', 'terrible','wierd','cool','aweful'])\n",
        "\n",
        "  ret = editor.template('They {verb_typos} a {adj} {mask}.',nsamples=len(verb_list), remove_duplicates=True,labels='{verb_typos}')\n",
        "  return dict(zip(ret.labels, ret.data))\n"
      ],
      "metadata": {
        "id": "U3pQ8jrg89_G"
      },
      "execution_count": null,
      "outputs": []
    },
    {
      "cell_type": "code",
      "source": [
        "verb_list=['Beheld', 'Flung', 'Broadcast', 'Forgave', 'Grinded', 'Hanged', 'Laid', 'Led', 'Leant', 'Molten', 'Mistook', 'Proved', 'Sawn', 'Sought', 'Sewed', 'Shaven', 'Slit', 'Snuck', 'Span', 'Spoiled', 'Stuck', 'Strode', 'Struck', 'Swung', 'Torn', 'Undertook', 'Vext', 'Wet', 'Wrote','eat', 'drink', 'throw', 'catch', 'write', 'read', 'hit', 'kick', 'open', 'close', 'cook', 'bake', 'paint', 'draw', 'build', 'break', 'repair', 'clean', 'wash', 'drive', 'ride', 'carry', 'lift', 'play', 'sing', 'dance', 'love', 'hate', 'need', 'want', 'like', 'dislike', 'teach', 'learn', 'understand', 'know', 'remember', 'forget', 'help', 'hurt', 'show']\n"
      ],
      "metadata": {
        "id": "-fdhLsGTMgtf"
      },
      "execution_count": null,
      "outputs": []
    },
    {
      "cell_type": "code",
      "execution_count": null,
      "metadata": {
        "id": "rBF1ig_w7VaN"
      },
      "outputs": [],
      "source": [
        "\n",
        "sents=create_verb_typos(verb_list)\n",
        "\n",
        "\n",
        "with open(path+\"verb_typos_sentence.json\",\"w\") as f:\n",
        "    json.dump(sents,f)"
      ]
    },
    {
      "cell_type": "markdown",
      "source": [
        "### Slang\n",
        "This data were created with the help of chat gpt"
      ],
      "metadata": {
        "id": "5FiJlUDfJREE"
      }
    },
    {
      "cell_type": "code",
      "source": [
        "sentences = {\n",
        "    \"wanna\": \"I wanna go to the movies tonight.\",\n",
        "    \"gonna\": \"I'm gonna meet my friends at the mall.\",\n",
        "    \"gotta\": \"I gotta finish my homework before I can go out.\",\n",
        "    \"gimme\": \"Gimme a slice of pizza, please.\",\n",
        "    \"lemme\": \"Lemme know if you need any help.\",\n",
        "    \"dunno\": \"I dunno what to wear to the party.\",\n",
        "    \"tryna\": \"I'm tryna get in shape for summer.\",\n",
        "    \"Ima\": \"Ima buy a new car next month.\",\n",
        "    \"Needa\": \"I Needa take a break from work.\",\n",
        "    \"Hafta\": \"I hafta leave early today for a doctor's appointment.\",\n",
        "    \"Whatcha\": \"Whatcha doing this weekend?\",\n",
        "    \"C'mon\": \"C'mon, let's go to the park.\"\n",
        "}"
      ],
      "metadata": {
        "id": "RrcwAUYlJhfu"
      },
      "execution_count": null,
      "outputs": []
    },
    {
      "cell_type": "code",
      "source": [
        "with open(path+\"verbs_slang.json\",\"w\") as f:\n",
        "    json.dump(sentences,f)"
      ],
      "metadata": {
        "colab": {
          "base_uri": "https://localhost:8080/"
        },
        "id": "ub4e61ymJhh2",
        "outputId": "0c6f231d-75e5-435e-c26a-e0b604a2fd71"
      },
      "execution_count": null,
      "outputs": [
        {
          "output_type": "execute_result",
          "data": {
            "text/plain": [
              "dict"
            ]
          },
          "metadata": {},
          "execution_count": 123
        }
      ]
    },
    {
      "cell_type": "markdown",
      "source": [
        "### New verbs\n",
        "This data were created mostly by manually looking for new verbs"
      ],
      "metadata": {
        "id": "YIeAxpC_Pc7r"
      }
    },
    {
      "cell_type": "code",
      "source": [
        "sentences = {\n",
        "\"google\": \"I need to google the address of the restaurant.\",\n",
        "    \"zoom\": \"Let's zoom the meeting instead of meeting in person.\",\n",
        "    \"binge-watching\": \"I'm binge-watching the new TV series this weekend.\",\n",
        "    \"adulting\": \"I don't feel like adulting today, can we just stay in bed?\",\n",
        "    \"ghosted\": \"He ghosted me after our first date and never replied to my messages.\",\n",
        "    \"tweeting\":\"He has been tweeting aweful stuff\",\n",
        "    \"flexed\": \"She flexed her designer bags on social media.\",\n",
        "    \"stan\": \"I stan this new artist, their music is amazing!\",\n",
        "    \"greenwash\":\"They like to greenwash their people\",\n",
        "    \"terraform\":\"If we terraform another plants we have to make sure we build an equal society\"\n",
        "}"
      ],
      "metadata": {
        "id": "gPgzRQVXPWpB"
      },
      "execution_count": null,
      "outputs": []
    },
    {
      "cell_type": "code",
      "source": [
        "with open(path+\"verbs_slang.json\",\"w\") as f:\n",
        "    json.dump(sentences,f)"
      ],
      "metadata": {
        "id": "1tM0bd-bRAV4"
      },
      "execution_count": null,
      "outputs": []
    },
    {
      "cell_type": "markdown",
      "metadata": {
        "id": "4CInsLWc7VaP"
      },
      "source": [
        "# ARGOUMENTS CLASSIFICATION"
      ]
    },
    {
      "cell_type": "code",
      "execution_count": null,
      "metadata": {
        "id": "RscMahMY7VaP"
      },
      "outputs": [],
      "source": [
        "#All the sentences generated will be stred in this folder:\n",
        "path=\"./Data/Predicate_identification/\""
      ]
    },
    {
      "cell_type": "markdown",
      "metadata": {
        "id": "GiwvQO-c7VaP"
      },
      "source": [
        "### Typos \n",
        "Here we create perturbed sentences with Checklist.\n",
        "It is possible to perturbate the sentences up to n times.\n",
        "From 1 to n typos dataset will be saved as well (to make a nice comparison)"
      ]
    },
    {
      "cell_type": "code",
      "source": [
        "def add_n_typos(sents,n):\n",
        "  \"\"\"\n",
        "  This functions perturb a sentence with n typos\n",
        "  Returns a dict like {original:Typos_sents}\n",
        "  \"\"\"\n",
        "  original=sents\n",
        "  for x in range(n):\n",
        "    sents=[Perturb.add_typos(x) for x in sents]\n",
        "  return dict(zip(original,sents))\n",
        "  \n",
        "def create_Multiple_typos_sentences(sents,n):\n",
        "  \"\"\"\n",
        "  This function creates n dictionaries with sentences perturbed n times where n goes from 1 to n\n",
        "  reutrns dict of dicts\n",
        "  \"\"\"\n",
        "  dict_typos={}\n",
        "  for i in range(1,n+1):\n",
        "    dict_typos[i]=add_n_typos(sents,i)\n",
        "  return dict_typos"
      ],
      "metadata": {
        "id": "_mk314pDVAll"
      },
      "execution_count": 32,
      "outputs": []
    },
    {
      "cell_type": "code",
      "execution_count": 9,
      "metadata": {
        "id": "rPdDCXg27VaR"
      },
      "outputs": [],
      "source": [
        "editor = Editor()\n",
        "ret = editor.template('{first_name} and {mask} {mask} {a:mask} {mask}.',nsamples=100,keep_original=True)\n",
        "correct_sents=ret.data\n",
        "all_typos_sents=create_Multiple_typos_sentences(correct_sents,4)\n",
        "\n",
        "for i in (all_typos_sents.keys()):\n",
        "  print(i)\n",
        "  with open(path+f\"sents_{i}_typos.json\",\"w\") as f:\n",
        "    json.dump(all_typos_sents[i],f)"
      ]
    },
    {
      "cell_type": "code",
      "source": [],
      "metadata": {
        "id": "d0dR7bNoYCxI"
      },
      "execution_count": null,
      "outputs": []
    }
  ],
  "metadata": {
    "kernelspec": {
      "display_name": "nlpTaskKernel",
      "language": "python",
      "name": "nlptaskkernel"
    },
    "language_info": {
      "codemirror_mode": {
        "name": "ipython",
        "version": 3
      },
      "file_extension": ".py",
      "mimetype": "text/x-python",
      "name": "python",
      "nbconvert_exporter": "python",
      "pygments_lexer": "ipython3",
      "version": "3.10.9"
    },
    "orig_nbformat": 4,
    "colab": {
      "provenance": []
    }
  },
  "nbformat": 4,
  "nbformat_minor": 0
}