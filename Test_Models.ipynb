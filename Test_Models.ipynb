{
  "cells": [
    {
      "cell_type": "markdown",
      "metadata": {
        "colab_type": "text",
        "id": "view-in-github"
      },
      "source": [
        "<a href=\"https://colab.research.google.com/github/GabHoo/Challenging-SRL/blob/main/Test_Models.ipynb\" target=\"_parent\"><img src=\"https://colab.research.google.com/assets/colab-badge.svg\" alt=\"Open In Colab\"/></a>"
      ]
    },
    {
      "attachments": {},
      "cell_type": "markdown",
      "metadata": {},
      "source": [
        "# SETTING UP\n",
        "Run the following cells in the Settin Up section to be able to run any of the tests in this notebook with the two suggested models.  \n",
        "Change the current value for both model path according to your own models location. If No models are found they will be downloaded"
      ]
    },
    {
      "cell_type": "code",
      "execution_count": 6,
      "metadata": {
        "id": "iDMzdKns-m8m"
      },
      "outputs": [],
      "source": [
        "# INSTALL AND IMPORTS\n",
        "\"\"\"\n",
        "pip install allennlp\n",
        "pip install allennlp-models\n",
        "pip install -U spaCy\n",
        "pip install checklist\n",
        "\"\"\"\n",
        "from allennlp.predictors import Predictor\n",
        "import allennlp_models.tagging\n",
        "\n",
        "import json\n",
        "import os\n",
        "from utils import *\n",
        "import utils\n",
        "import re\n"
      ]
    },
    {
      "cell_type": "code",
      "execution_count": 7,
      "metadata": {},
      "outputs": [
        {
          "name": "stdout",
          "output_type": "stream",
          "text": [
            "Model found!\n"
          ]
        },
        {
          "name": "stderr",
          "output_type": "stream",
          "text": [
            "Some weights of the model checkpoint at bert-base-uncased were not used when initializing BertModel: ['cls.predictions.bias', 'cls.predictions.transform.LayerNorm.bias', 'cls.predictions.transform.LayerNorm.weight', 'cls.predictions.decoder.weight', 'cls.seq_relationship.bias', 'cls.seq_relationship.weight', 'cls.predictions.transform.dense.bias', 'cls.predictions.transform.dense.weight']\n",
            "- This IS expected if you are initializing BertModel from the checkpoint of a model trained on another task or with another architecture (e.g. initializing a BertForSequenceClassification model from a BertForPreTraining model).\n",
            "- This IS NOT expected if you are initializing BertModel from the checkpoint of a model that you expect to be exactly identical (initializing a BertForSequenceClassification model from a BertForSequenceClassification model).\n",
            "/home/gabhoo/.local/lib/python3.10/site-packages/spacy/util.py:887: UserWarning: [W095] Model 'en_core_web_sm' (3.3.0) was trained with spaCy v3.3 and may not be 100% compatible with the current version (3.5.1). If you see errors or degraded performance, download a newer compatible model or retrain your custom model with the current spaCy version. For more details and available updates, run: python -m spacy validate\n",
            "  warnings.warn(warn_msg)\n"
          ]
        },
        {
          "name": "stdout",
          "output_type": "stream",
          "text": [
            "SRL model was loaded succeffully !\n"
          ]
        }
      ],
      "source": [
        "#LOADING MODEL\n",
        "model=\"Bert\"\n",
        "\n",
        "if model==\"Bert\":\n",
        "    model_name=\"structured-prediction-srl-bert.2020.12.15.tar.gz\"\n",
        "    path_model=\"models/\"+model_name\n",
        "elif model==\"Bilstm\":\n",
        "    model_name=\"openie-model.2020.03.26.tar.gz\"\n",
        "    path_model=\"models/\"+model_name\n",
        "else:\n",
        "    print(\"Model not found!\")\n",
        "    exit()\n",
        "\n",
        "if os.path.exists(path_model):\n",
        "    print(\"Model found!\")\n",
        "    predictor = Predictor.from_path(path_model)\n",
        "else:\n",
        "    predictor = Predictor.from_path(\"https://storage.googleapis.com/\"+model_name)\n",
        "\n",
        "#TESTING IF THE MODELS ARE LOADED CORRECTLY\n",
        "\n",
        "pred=predictor.predict(\"SRL model was loaded succeffully!\")\n",
        "if pred :\n",
        "    print((\" \").join(pred['words']))\n",
        "    "
      ]
    },
    {
      "attachments": {},
      "cell_type": "markdown",
      "metadata": {
        "id": "bqIKaBdxF1NF"
      },
      "source": [
        "# Useful functions\n"
      ]
    },
    {
      "cell_type": "code",
      "execution_count": 8,
      "metadata": {},
      "outputs": [],
      "source": [
        "def append_to_results(results_path,your_result):\n",
        "    \"\"\"Add results to the score board. \n",
        "    your_Results neets to be a dictionary alraedy'\n",
        "    \"\"\"\n",
        "    if type(your_result) != dict:\n",
        "        print(\"your_result needs to be a dictionary!\")\n",
        "        return\n",
        "    \n",
        "    with open(results_path, 'r') as f:\n",
        "        data = json.load(f)\n",
        "    \n",
        "    data.update(your_result)\n",
        "\n",
        "    with open(results_path, 'w') as f:\n",
        "        json.dump(data, f)\n"
      ]
    },
    {
      "cell_type": "code",
      "execution_count": null,
      "metadata": {},
      "outputs": [],
      "source": []
    },
    {
      "attachments": {},
      "cell_type": "markdown",
      "metadata": {},
      "source": [
        "# SANDBOX"
      ]
    },
    {
      "cell_type": "code",
      "execution_count": 165,
      "metadata": {},
      "outputs": [
        {
          "data": {
            "text/plain": [
              "{'verbs': [{'verb': 'is',\n",
              "   'description': '[ARG1: This] [V: is] [ARG2: tasty]',\n",
              "   'tags': ['B-ARG1', 'B-V', 'B-ARG2']}],\n",
              " 'words': ['This', 'is', 'tasty']}"
            ]
          },
          "execution_count": 165,
          "metadata": {},
          "output_type": "execute_result"
        }
      ],
      "source": [
        "#copula\n",
        "pred=predictor_Bert.predict(\"This is tasty\")\n",
        "pred"
      ]
    },
    {
      "cell_type": "code",
      "execution_count": 166,
      "metadata": {},
      "outputs": [
        {
          "data": {
            "text/plain": [
              "{'verbs': [{'verb': 'was',\n",
              "   'description': 'There [V: was] [ARG1: sound] [ARGM-LOC: there]',\n",
              "   'tags': ['O', 'B-V', 'B-ARG1', 'B-ARGM-LOC']}],\n",
              " 'words': ['There', 'was', 'sound', 'there']}"
            ]
          },
          "execution_count": 166,
          "metadata": {},
          "output_type": "execute_result"
        }
      ],
      "source": [
        "#esistential\n",
        "pred=predictor_Bert.predict(\"There was sound there\")\n",
        "pred"
      ]
    },
    {
      "cell_type": "code",
      "execution_count": 96,
      "metadata": {},
      "outputs": [
        {
          "data": {
            "text/plain": [
              "{'verbs': [{'verb': 'am',\n",
              "   'description': 'I [V: am] cooking',\n",
              "   'tags': ['O', 'B-V', 'O']},\n",
              "  {'verb': 'cooking',\n",
              "   'description': '[ARG0: I] am [V: cooking]',\n",
              "   'tags': ['B-ARG0', 'O', 'B-V']}],\n",
              " 'words': ['I', 'am', 'cooking']}"
            ]
          },
          "execution_count": 96,
          "metadata": {},
          "output_type": "execute_result"
        }
      ],
      "source": [
        "#auxiliary\n",
        "pred=predictor_Bert.predict(\"I am cooking\")\n",
        "pred"
      ]
    },
    {
      "cell_type": "code",
      "execution_count": 99,
      "metadata": {},
      "outputs": [
        {
          "data": {
            "text/plain": [
              "{'verbs': [{'verb': 'is',\n",
              "   'description': 'There [V: is] [ARG1: a cat]',\n",
              "   'tags': ['O', 'B-V', 'B-ARG1', 'I-ARG1']}],\n",
              " 'words': ['There', 'is', 'a', 'cat']}"
            ]
          },
          "execution_count": 99,
          "metadata": {},
          "output_type": "execute_result"
        }
      ],
      "source": [
        "pred=predictor_Bert.predict(\"There is a cat\")\n",
        "pred"
      ]
    },
    {
      "cell_type": "code",
      "execution_count": null,
      "metadata": {},
      "outputs": [],
      "source": []
    },
    {
      "cell_type": "code",
      "execution_count": null,
      "metadata": {},
      "outputs": [],
      "source": [
        "pred=predictor_Bert.predict(\"Brand new test cook Kim sent over a report on her cooking of the shrimp dish.\")\n",
        "pred\n",
        "#for verb in pred['verbs']:\n",
        "    #print(verb['verb'],verb['description'],\"\\n\")"
      ]
    },
    {
      "cell_type": "code",
      "execution_count": 85,
      "metadata": {},
      "outputs": [
        {
          "name": "stdout",
          "output_type": "stream",
          "text": [
            "had === and I [V: had] to like clean the house and do the cooking and watch Sam \n",
            "\n",
            "clean === and [ARG0: I] had to [ARGM-DIS: like] [V: clean] [ARG1: the house] and do the cooking and watch Sam \n",
            "\n",
            "do === and [ARG0: I] had to [ARGM-DIS: like] clean the house and [V: do] [ARG1: the cooking] and watch Sam \n",
            "\n",
            "watch === and [ARG0: I] had to [ARGM-DIS: like] clean the house and do the cooking and [V: watch] [ARG1: Sam] \n",
            "\n"
          ]
        }
      ],
      "source": [
        "pred=predictor_Bert.predict(\"and I had to like clean the house and do the cooking and watch Sam\")\n",
        "pred\n",
        "for verb in pred['verbs']:\n",
        "    print(verb['verb'],\"===\",verb['description'],\"\\n\")"
      ]
    },
    {
      "cell_type": "code",
      "execution_count": 86,
      "metadata": {},
      "outputs": [
        {
          "name": "stdout",
          "output_type": "stream",
          "text": [
            "cooking === [ARG0: Twenty five trucks] capable of [V: cooking] [ARG1: food] were dispatched from other states . \n",
            "\n",
            "were === Twenty five trucks capable of cooking food [V: were] dispatched from other states . \n",
            "\n",
            "dispatched === [ARG1: Twenty five trucks capable of cooking food] were [V: dispatched] [ARGM-DIR: from other states] . \n",
            "\n"
          ]
        }
      ],
      "source": [
        "pred=predictor_Bert.predict(\"Twenty five trucks capable of cooking food were dispatched from other states .\")\n",
        "pred\n",
        "for verb in pred['verbs']:\n",
        "    print(verb['verb'],\"===\",verb['description'],\"\\n\")"
      ]
    },
    {
      "cell_type": "code",
      "execution_count": null,
      "metadata": {},
      "outputs": [],
      "source": []
    },
    {
      "cell_type": "code",
      "execution_count": 76,
      "metadata": {},
      "outputs": [
        {
          "data": {
            "text/plain": [
              "{'verbs': [], 'words': ['Alt', '!']}"
            ]
          },
          "execution_count": 76,
          "metadata": {},
          "output_type": "execute_result"
        }
      ],
      "source": [
        "pred=predictor_Bert.predict(\"Alt!\")\n",
        "pred"
      ]
    },
    {
      "cell_type": "code",
      "execution_count": 62,
      "metadata": {},
      "outputs": [
        {
          "data": {
            "text/plain": [
              "{'verbs': [{'verb': 'are',\n",
              "   'description': 'you [V: are] annoying me',\n",
              "   'tags': ['O', 'B-V', 'O', 'O']},\n",
              "  {'verb': 'annoying',\n",
              "   'description': '[ARG0: you] are [V: annoying] [ARG1: me]',\n",
              "   'tags': ['B-ARG0', 'O', 'B-V', 'B-ARG1']}],\n",
              " 'words': ['you', 'are', 'annoying', 'me']}"
            ]
          },
          "execution_count": 62,
          "metadata": {},
          "output_type": "execute_result"
        }
      ],
      "source": [
        "## nested sentences\n",
        "What u did was bad "
      ]
    },
    {
      "cell_type": "code",
      "execution_count": 33,
      "metadata": {
        "id": "zZTgGC3k-uzw"
      },
      "outputs": [
        {
          "data": {
            "text/plain": [
              "{'verbs': [{'verb': 'could',\n",
              "   'description': \"I [V: could] 've tried\",\n",
              "   'tags': ['O', 'B-V', 'O', 'O']},\n",
              "  {'verb': \"'ve\",\n",
              "   'description': \"I could [V: 've] tried\",\n",
              "   'tags': ['O', 'O', 'B-V', 'O']},\n",
              "  {'verb': 'tried',\n",
              "   'description': \"I [ARGM-MOD: could] 've [V: tried]\",\n",
              "   'tags': ['O', 'B-ARGM-MOD', 'O', 'B-V']}],\n",
              " 'words': ['I', 'could', \"'ve\", 'tried']}"
            ]
          },
          "execution_count": 33,
          "metadata": {},
          "output_type": "execute_result"
        }
      ],
      "source": [
        "pred=predictor_Bert.predict(\"I could've tried\")\n",
        "pred"
      ]
    },
    {
      "cell_type": "code",
      "execution_count": 27,
      "metadata": {},
      "outputs": [],
      "source": [
        "data=[[\"it's a wonderfull day\", 'it is a wonderfull day'],\n",
        "   [\"There's some pesto left\", 'There is some pesto left'],\n",
        "   ['They will leave the house', \"They'll leave the house\"],\n",
        "   ['That would be creazy', \"That'd be creazy\"],\n",
        "   ['we are here', \"we're here\"],\n",
        "   ['Mark had not see that coming', \"Mark hadn't see that coming\"],\n",
        "   ['She will be a great candidate', \"She'll be a great candidate\"],\n",
        "   ['Mary is not a nurse.', \"Mary isn't a nurse.\"],\n",
        "   [\"He's gone already\", 'He is gone already'],\n",
        "   ['I would like some tea', \"I'd like some tea\"],\n",
        "   ['I would say something to them', \"I'd say something to them\"],\n",
        "   ['I could not eat some food now', \"I couldn't eat some food now\"],\n",
        "   [\"We've decided to change house\", 'We have decided to change house'],\n",
        "   ['I must not lose my temper', \"I mustn't lose my temper\"]]"
      ]
    },
    {
      "cell_type": "code",
      "execution_count": 30,
      "metadata": {},
      "outputs": [
        {
          "name": "stdout",
          "output_type": "stream",
          "text": [
            "[\"it's a wonderfull day\", 'it is a wonderfull day']\n",
            "['it', \"'s\", 'a', 'wonderfull', 'day']\n",
            "[{'verb': 'is', 'description': '[ARG1: it] [V: is] [ARG2: a wonderfull day]', 'tags': ['B-ARG1', 'B-V', 'B-ARG2', 'I-ARG2', 'I-ARG2']}]\n",
            "\n",
            "[\"There's some pesto left\", 'There is some pesto left']\n",
            "['There', \"'s\", 'some', 'pesto', 'left']\n",
            "[{'verb': 'is', 'description': 'There [V: is] [ARG1: some pesto left]', 'tags': ['O', 'B-V', 'B-ARG1', 'I-ARG1', 'I-ARG1']}, {'verb': 'left', 'description': 'There is [ARG1: some pesto] [V: left]', 'tags': ['O', 'O', 'B-ARG1', 'I-ARG1', 'B-V']}]\n",
            "\n",
            "['They will leave the house', \"They'll leave the house\"]\n",
            "['They', 'will', 'leave', 'the', 'house']\n",
            "[{'verb': \"'ll\", 'description': \"They [V: 'll] leave the house\", 'tags': ['O', 'B-V', 'O', 'O', 'O']}, {'verb': 'leave', 'description': \"[ARG0: They] [ARGM-MOD: 'll] [V: leave] [ARG1: the house]\", 'tags': ['B-ARG0', 'B-ARGM-MOD', 'B-V', 'B-ARG1', 'I-ARG1']}]\n",
            "\n",
            "['That would be creazy', \"That'd be creazy\"]\n",
            "['That', 'would', 'be', 'creazy']\n",
            "[{'verb': \"'d\", 'description': \"That [V: 'd] be creazy\", 'tags': ['O', 'B-V', 'O', 'O']}, {'verb': 'be', 'description': \"[ARG1: That] [ARGM-MOD: 'd] [V: be] [ARG2: creazy]\", 'tags': ['B-ARG1', 'B-ARGM-MOD', 'B-V', 'B-ARG2']}]\n",
            "\n",
            "['we are here', \"we're here\"]\n",
            "['we', 'are', 'here']\n",
            "[{'verb': \"'re\", 'description': \"[ARG1: we] [V: 're] [ARG2: here]\", 'tags': ['B-ARG1', 'B-V', 'B-ARG2']}]\n",
            "\n",
            "['Mark had not see that coming', \"Mark hadn't see that coming\"]\n",
            "['Mark', 'had', 'not', 'see', 'that', 'coming']\n",
            "[{'verb': 'had', 'description': \"Mark [V: had] n't see that coming\", 'tags': ['O', 'B-V', 'O', 'O', 'O', 'O']}, {'verb': 'see', 'description': \"[ARG0: Mark] had [ARGM-NEG: n't] [V: see] [ARG1: that coming]\", 'tags': ['B-ARG0', 'O', 'B-ARGM-NEG', 'B-V', 'B-ARG1', 'I-ARG1']}, {'verb': 'coming', 'description': \"Mark had n't see [ARG1: that] [V: coming]\", 'tags': ['O', 'O', 'O', 'O', 'B-ARG1', 'B-V']}]\n",
            "\n",
            "['She will be a great candidate', \"She'll be a great candidate\"]\n",
            "['She', 'will', 'be', 'a', 'great', 'candidate']\n",
            "[{'verb': \"'ll\", 'description': \"She [V: 'll] be a great candidate\", 'tags': ['O', 'B-V', 'O', 'O', 'O', 'O']}, {'verb': 'be', 'description': \"[ARG1: She] [ARGM-MOD: 'll] [V: be] [ARG2: a great candidate]\", 'tags': ['B-ARG1', 'B-ARGM-MOD', 'B-V', 'B-ARG2', 'I-ARG2', 'I-ARG2']}]\n",
            "\n",
            "['Mary is not a nurse.', \"Mary isn't a nurse.\"]\n",
            "['Mary', 'is', 'not', 'a', 'nurse', '.']\n",
            "[{'verb': 'is', 'description': \"[ARG1: Mary] [V: is] [ARGM-NEG: n't] [ARG2: a nurse] .\", 'tags': ['B-ARG1', 'B-V', 'B-ARGM-NEG', 'B-ARG2', 'I-ARG2', 'O']}]\n",
            "\n",
            "[\"He's gone already\", 'He is gone already']\n",
            "['He', \"'s\", 'gone', 'already']\n",
            "[{'verb': 'is', 'description': 'He [V: is] gone already', 'tags': ['O', 'B-V', 'O', 'O']}, {'verb': 'gone', 'description': '[ARG1: He] is [V: gone] [ARGM-TMP: already]', 'tags': ['B-ARG1', 'O', 'B-V', 'B-ARGM-TMP']}]\n",
            "\n",
            "['I would like some tea', \"I'd like some tea\"]\n",
            "['I', 'would', 'like', 'some', 'tea']\n",
            "[{'verb': \"'d\", 'description': \"[ARG0: I] [V: 'd] like [ARG1: some tea]\", 'tags': ['B-ARG0', 'B-V', 'O', 'B-ARG1', 'I-ARG1']}, {'verb': 'like', 'description': \"[ARG0: I] [ARGM-MOD: 'd] [V: like] [ARG1: some tea]\", 'tags': ['B-ARG0', 'B-ARGM-MOD', 'B-V', 'B-ARG1', 'I-ARG1']}]\n",
            "\n",
            "['I would say something to them', \"I'd say something to them\"]\n",
            "['I', 'would', 'say', 'something', 'to', 'them']\n",
            "[{'verb': \"'d\", 'description': \"I [V: 'd] say something to them\", 'tags': ['O', 'B-V', 'O', 'O', 'O', 'O']}, {'verb': 'say', 'description': \"[ARG0: I] [ARGM-MOD: 'd] [V: say] [ARG1: something] [ARG2: to them]\", 'tags': ['B-ARG0', 'B-ARGM-MOD', 'B-V', 'B-ARG1', 'B-ARG2', 'I-ARG2']}]\n",
            "\n",
            "['I could not eat some food now', \"I couldn't eat some food now\"]\n",
            "['I', 'could', 'not', 'eat', 'some', 'food', 'now']\n",
            "[{'verb': 'could', 'description': \"I [V: could] n't eat some food now\", 'tags': ['O', 'B-V', 'O', 'O', 'O', 'O', 'O']}, {'verb': 'eat', 'description': \"[ARG0: I] [ARGM-MOD: could] [ARGM-NEG: n't] [V: eat] [ARG1: some food] [ARGM-TMP: now]\", 'tags': ['B-ARG0', 'B-ARGM-MOD', 'B-ARGM-NEG', 'B-V', 'B-ARG1', 'I-ARG1', 'B-ARGM-TMP']}]\n",
            "\n",
            "[\"We've decided to change house\", 'We have decided to change house']\n",
            "['We', \"'ve\", 'decided', 'to', 'change', 'house']\n",
            "[{'verb': 'have', 'description': 'We [V: have] decided to change house', 'tags': ['O', 'B-V', 'O', 'O', 'O', 'O']}, {'verb': 'decided', 'description': '[ARG0: We] have [V: decided] [ARG1: to change house]', 'tags': ['B-ARG0', 'O', 'B-V', 'B-ARG1', 'I-ARG1', 'I-ARG1']}, {'verb': 'change', 'description': '[ARG0: We] have decided to [V: change] [ARG1: house]', 'tags': ['B-ARG0', 'O', 'O', 'O', 'B-V', 'B-ARG1']}]\n",
            "\n",
            "['I must not lose my temper', \"I mustn't lose my temper\"]\n",
            "['I', 'must', 'not', 'lose', 'my', 'temper']\n",
            "[{'verb': 'must', 'description': \"I [V: must] n't lose my temper\", 'tags': ['O', 'B-V', 'O', 'O', 'O', 'O']}, {'verb': 'lose', 'description': \"[ARG0: I] [ARGM-MOD: must] [ARGM-NEG: n't] [V: lose] [ARG1: my temper]\", 'tags': ['B-ARG0', 'B-ARGM-MOD', 'B-ARGM-NEG', 'B-V', 'B-ARG1', 'I-ARG1']}]\n",
            "\n"
          ]
        }
      ],
      "source": [
        "for i in data: \n",
        "    i1,i2= i\n",
        "    print(i)\n",
        "    print(predictor_Bert.predict(i1)['words'])\n",
        "    print(predictor_Bert.predict(i2)['verbs'])\n",
        "    print()\n"
      ]
    },
    {
      "cell_type": "markdown",
      "metadata": {
        "id": "PnovTMLz8TqV"
      },
      "source": [
        "## LOOKING DATA (propBank)"
      ]
    },
    {
      "cell_type": "code",
      "execution_count": null,
      "metadata": {
        "id": "F-B5AOD_9c7z"
      },
      "outputs": [],
      "source": [
        "import json\n",
        "import random"
      ]
    },
    {
      "cell_type": "code",
      "execution_count": null,
      "metadata": {
        "id": "-Ib8Lgi28VjR"
      },
      "outputs": [],
      "source": [
        "f=open('data_train.jsonl')"
      ]
    },
    {
      "cell_type": "code",
      "execution_count": null,
      "metadata": {
        "id": "eh8W48b09b7n"
      },
      "outputs": [],
      "source": [
        "di=json.load(f)"
      ]
    },
    {
      "cell_type": "code",
      "execution_count": null,
      "metadata": {
        "colab": {
          "base_uri": "https://localhost:8080/"
        },
        "id": "VjlI9tbg9n8g",
        "outputId": "655a1a7a-fe77-4e89-8103-bcf5766ff290"
      },
      "outputs": [
        {
          "data": {
            "text/plain": [
              "40592"
            ]
          },
          "execution_count": 12,
          "metadata": {},
          "output_type": "execute_result"
        }
      ],
      "source": [
        "di = di[\"data\"]\n",
        "len(di)"
      ]
    },
    {
      "cell_type": "code",
      "execution_count": null,
      "metadata": {
        "colab": {
          "base_uri": "https://localhost:8080/"
        },
        "id": "i4aR817LIi6_",
        "outputId": "57796387-7d98-49b7-e97d-820aefc5731b"
      },
      "outputs": [],
      "source": []
    },
    {
      "cell_type": "code",
      "execution_count": null,
      "metadata": {
        "id": "rFVf0Vbu9sfb"
      },
      "outputs": [],
      "source": [
        "[(' '.join(i['seq_words']),i['BIO']) for i in di[0:6]]"
      ]
    },
    {
      "cell_type": "code",
      "execution_count": null,
      "metadata": {
        "id": "yBdSOZbEIHrd"
      },
      "outputs": [],
      "source": [
        "prediction=predictor.predict(\n",
        "    sentence=\"This killing of a respected cleric will be causing us trouble for years to come \"\n",
        ")\n",
        "prediction_lstm=predictor_bilstm.predict(\n",
        "    sentence=\"This killing of a respected cleric will be causing us trouble for years to come \"\n",
        ")"
      ]
    },
    {
      "cell_type": "code",
      "execution_count": null,
      "metadata": {
        "id": "K_B-vOKjSRCa"
      },
      "outputs": [],
      "source": [
        "prediction"
      ]
    },
    {
      "cell_type": "code",
      "execution_count": null,
      "metadata": {
        "id": "dB-0pko-SSsi"
      },
      "outputs": [],
      "source": [
        "prediction_lstm\n"
      ]
    },
    {
      "cell_type": "code",
      "execution_count": null,
      "metadata": {
        "id": "mHIdZjRYCJDa"
      },
      "outputs": [],
      "source": []
    },
    {
      "attachments": {},
      "cell_type": "markdown",
      "metadata": {
        "id": "pWslkmPkPFcy"
      },
      "source": [
        "# PREDICATE IDENTIFICATION"
      ]
    },
    {
      "cell_type": "code",
      "execution_count": 14,
      "metadata": {},
      "outputs": [],
      "source": [
        "#In this folder we have the data for the predicate classidication task. Change the path accordingly if files were moved.\n",
        "path=\"./Data/Predicate_Identification/\"\n",
        "results_path=f\"./results_{model}_Predicate_Identification.json\"\n",
        "## we initialize also the dictionary that will contain the results\n",
        "with open(results_path, 'w') as f:\n",
        "    json.dump({\"test\":\"failure_rate\"},f)"
      ]
    },
    {
      "cell_type": "code",
      "execution_count": null,
      "metadata": {},
      "outputs": [],
      "source": []
    },
    {
      "attachments": {},
      "cell_type": "markdown",
      "metadata": {
        "id": "PkrGLpJMKSwn"
      },
      "source": [
        "## VOCABULARY+POS"
      ]
    },
    {
      "cell_type": "code",
      "execution_count": 59,
      "metadata": {},
      "outputs": [],
      "source": [
        "from utils import *"
      ]
    },
    {
      "attachments": {},
      "cell_type": "markdown",
      "metadata": {
        "id": "cCOznqQ_N9-z"
      },
      "source": [
        "### Test for contractions"
      ]
    },
    {
      "cell_type": "code",
      "execution_count": 46,
      "metadata": {},
      "outputs": [],
      "source": [
        "data=json.load(open(path+\"contracted_sentences.json\"))"
      ]
    },
    {
      "cell_type": "code",
      "execution_count": 62,
      "metadata": {},
      "outputs": [
        {
          "ename": "NameError",
          "evalue": "name 'evaluate_PI_Contractions_INV' is not defined",
          "output_type": "error",
          "traceback": [
            "\u001b[0;31m---------------------------------------------------------------------------\u001b[0m",
            "\u001b[0;31mNameError\u001b[0m                                 Traceback (most recent call last)",
            "Cell \u001b[0;32mIn[62], line 1\u001b[0m\n\u001b[0;32m----> 1\u001b[0m failure_rate\u001b[39m=\u001b[39mevaluate_PI_Contractions_INV(predict_Bert,data)\n",
            "\u001b[0;31mNameError\u001b[0m: name 'evaluate_PI_Contractions_INV' is not defined"
          ]
        }
      ],
      "source": [
        "failure_rate=evaluate_PI_Contractions_INV(predict_Bert,data)"
      ]
    },
    {
      "cell_type": "code",
      "execution_count": 55,
      "metadata": {},
      "outputs": [
        {
          "data": {
            "text/plain": [
              "[]"
            ]
          },
          "execution_count": 55,
          "metadata": {},
          "output_type": "execute_result"
        }
      ],
      "source": [
        "pred=predictor_Bert.predict(\"tooooooooooooO\")\n",
        "get_identified_verbs(pred)"
      ]
    },
    {
      "attachments": {},
      "cell_type": "markdown",
      "metadata": {
        "id": "ldzmhpP_ODor"
      },
      "source": [
        "### Test for irregular inflections"
      ]
    },
    {
      "cell_type": "code",
      "execution_count": 63,
      "metadata": {},
      "outputs": [],
      "source": [
        "data=json.load(open(path+\"inflected_sentences.json\"))\n"
      ]
    },
    {
      "cell_type": "code",
      "execution_count": 16,
      "metadata": {},
      "outputs": [
        {
          "ename": "NameError",
          "evalue": "name 'data' is not defined",
          "output_type": "error",
          "traceback": [
            "\u001b[0;31m---------------------------------------------------------------------------\u001b[0m",
            "\u001b[0;31mNameError\u001b[0m                                 Traceback (most recent call last)",
            "Cell \u001b[0;32mIn[16], line 1\u001b[0m\n\u001b[0;32m----> 1\u001b[0m data\n",
            "\u001b[0;31mNameError\u001b[0m: name 'data' is not defined"
          ]
        }
      ],
      "source": [
        "data"
      ]
    },
    {
      "cell_type": "code",
      "execution_count": 65,
      "metadata": {},
      "outputs": [],
      "source": [
        "evaluate_"
      ]
    },
    {
      "attachments": {},
      "cell_type": "markdown",
      "metadata": {},
      "source": [
        "## ROBUTSTNESS"
      ]
    },
    {
      "cell_type": "code",
      "execution_count": null,
      "metadata": {},
      "outputs": [],
      "source": []
    },
    {
      "cell_type": "code",
      "execution_count": null,
      "metadata": {},
      "outputs": [],
      "source": []
    },
    {
      "attachments": {},
      "cell_type": "markdown",
      "metadata": {
        "id": "GIkns01FKdQd"
      },
      "source": [
        "## AMBIGUITY"
      ]
    },
    {
      "attachments": {},
      "cell_type": "markdown",
      "metadata": {
        "id": "McQzhKS4LCVk"
      },
      "source": [
        "### Experiment with polysemic verbs [POLISEMIC]"
      ]
    },
    {
      "cell_type": "code",
      "execution_count": 5,
      "metadata": {
        "colab": {
          "base_uri": "https://localhost:8080/"
        },
        "id": "37j2bwA3ipm6",
        "outputId": "f14e3a19-db36-42df-c068-3f451f7bd648"
      },
      "outputs": [
        {
          "name": "stdout",
          "output_type": "stream",
          "text": [
            "Tesiting Polysemic words behaviour (DIR) in Preicate Identification\n",
            "\n"
          ]
        },
        {
          "ename": "NameError",
          "evalue": "name 'json' is not defined",
          "output_type": "error",
          "traceback": [
            "\u001b[0;31m---------------------------------------------------------------------------\u001b[0m",
            "\u001b[0;31mNameError\u001b[0m                                 Traceback (most recent call last)",
            "Cell \u001b[0;32mIn[5], line 4\u001b[0m\n\u001b[1;32m      1\u001b[0m \u001b[39mprint\u001b[39m(\u001b[39m\"\u001b[39m\u001b[39mTesiting Polysemic words behaviour (DIR) in Preicate Identification\u001b[39m\u001b[39m\\n\u001b[39;00m\u001b[39m\"\u001b[39m)\n\u001b[1;32m      3\u001b[0m f \u001b[39m=\u001b[39m \u001b[39mopen\u001b[39m(path\u001b[39m+\u001b[39m\u001b[39m'\u001b[39m\u001b[39mpolysem_verbs_sentences.json\u001b[39m\u001b[39m'\u001b[39m)\n\u001b[0;32m----> 4\u001b[0m data \u001b[39m=\u001b[39m json\u001b[39m.\u001b[39mload(f)\n\u001b[1;32m      6\u001b[0m \u001b[39mprint\u001b[39m(\u001b[39m\"\u001b[39m\u001b[39mBart model:\u001b[39m\u001b[39m\"\u001b[39m)\n\u001b[1;32m      7\u001b[0m rate_Bart\u001b[39m=\u001b[39mevaluate_verbIdentification_DIR(predictor_Bart,data)\n",
            "\u001b[0;31mNameError\u001b[0m: name 'json' is not defined"
          ]
        }
      ],
      "source": [
        "print(\"Tesiting Polysemic words behaviour (DIR) in Preicate Identification\\n\")\n",
        "\n",
        "f = open(path+'polysem_verbs_sentences.json')\n",
        "data = json.load(f)\n",
        "\n",
        "print(\"Bart model:\")\n",
        "rate_Bart=evaluate_verbIdentification_DIR(predictor_Bart,data)\n",
        "print(f\"Failure rate {rate_Bart}\\n\")\n",
        "\n",
        "print(\"Bisltm model:\")\n",
        "rate_bilstm=evaluate_verbIdentification_DIR(predictor_Bilstm,data)\n",
        "print(f\"Failure rate {rate_bilstm}\\n\")"
      ]
    },
    {
      "cell_type": "code",
      "execution_count": null,
      "metadata": {
        "id": "BSwyMiOt-avk"
      },
      "outputs": [],
      "source": []
    },
    {
      "cell_type": "code",
      "execution_count": null,
      "metadata": {
        "colab": {
          "base_uri": "https://localhost:8080/",
          "height": 35
        },
        "id": "HdZS-7EtFRU6",
        "outputId": "79049044-4390-4233-9b18-5b320060f17f"
      },
      "outputs": [
        {
          "data": {
            "application/vnd.google.colaboratory.intrinsic+json": {
              "type": "string"
            },
            "text/plain": [
              "'I also had a pedicure and they cut my nails too short one of my big toes looks like it s getting infected .'"
            ]
          },
          "execution_count": 227,
          "metadata": {},
          "output_type": "execute_result"
        }
      ],
      "source": []
    },
    {
      "attachments": {},
      "cell_type": "markdown",
      "metadata": {
        "id": "dY-h4bawK2Ky"
      },
      "source": [
        "### Experiment with verbs being in different roles -ing"
      ]
    },
    {
      "cell_type": "code",
      "execution_count": null,
      "metadata": {},
      "outputs": [],
      "source": [
        "The writing of the section on aboriginal culture - the writing is ON PROPBANK | thw writing on the wall looks fresh\n",
        "\n",
        "\n",
        "when I was in Cyprus the heatARG1 was too annoying - Annoying is on PROPBANK\n"
      ]
    },
    {
      "cell_type": "code",
      "execution_count": null,
      "metadata": {
        "id": "nJhoe96__Q7l"
      },
      "outputs": [],
      "source": [
        "sentences = [    \"The writing on the wall was a warning of what was to come.\",    \"The painting of the sunset was breathtakingly beautiful.\",    \"The singing of the birds was a welcome sound in the morning.\",\"The singing of the birds was a welcome sound in the morning.\"    \"The reading of the will revealed some surprising information.\",    \"The dancing of the flames mesmerized the audience.\",    \"The running of the river was soothing to listen to.\",    \"The howling of the wind kept me awake at night.\",    \"The barking of the dog alerted us to the intruder.\",    \"The playing of the piano filled the room with music.\",    \"The cleaning of the house was a tedious chore.\",    \"The mowing of the lawn was a necessary task.\",    \"The washing of the dishes was a never-ending job.\",    \"The painting of the house was a weekend project.\",    \"The cooking of the meal took longer than expected.\",    \"The building of the bridge was a remarkable feat of engineering.\",    \"The driving of the car was a peaceful way to clear my mind.\",    \"The typing of the report was interrupted by a power outage.\",    \"The repairing of the bike took longer than anticipated.\",    \"The cutting of the cake was the highlight of the party.\",    \"The playing of the game was a fun way to spend the afternoon.\"]\n"
      ]
    },
    {
      "cell_type": "code",
      "execution_count": null,
      "metadata": {
        "id": "sXBzdViTCyiJ"
      },
      "outputs": [],
      "source": [
        "sentences = [    \"I have always enjoyed cooking, it is one of my favourite hobbies.\",    \"The protests that followed the killing of the priest were widespread.\",    \"The sound of the river running was soothing to listen to.\",    \"The information revealed in the reading of the will was surprising.\",    \"The audience was mesmerized by the dancing flames.\",    \"The sunset was breathtakingly beautiful in the painting.\",    \"The birds singing in the morning was a welcome sound.\",    \"The intruder was alerted by the barking of the dog.\",    \"The music filled the room with the playing of the piano.\",    \"The tedious chore of cleaning the house took all day.\",    \"The necessary task of mowing the lawn was finally finished.\",    \"The never-ending job of washing the dishes always seemed to pile up.\",    \"The remarkable feat of engineering was achieved in the building of the bridge.\",    \"The peaceful way to clear my mind was through driving the car.\",    \"The power outage interrupted the typing of the report.\",    \"The longer than anticipated repair of the bike was finally completed.\",    \"The highlight of the party was cutting the cake.\",    \"The fun way to spend the afternoon was playing the game.\",    \"The weekend project of painting the house was finally done.\",    \"The wind howling kept me awake at night.\",]\n"
      ]
    },
    {
      "cell_type": "code",
      "execution_count": null,
      "metadata": {},
      "outputs": [],
      "source": [
        "{\"seq_words\": [\"In\", \"Baghdad\", \"the\", \"fighting\", \"still\", \"continues\", \"in\", \"several\", \"areas\", \"mostly\", \"in\", \"Sadr\", \"city\", \"and\", \"Adhamiya\", \".\"], \"BIO\": [\"O\", \"ARGM-LOC\", \"O\", \"ARG1\", \"ARGM-TMP\", \"V\", \"O\", \"O\", \"ARGM-LOC\", \"O\", \"O\", \"O\", \"ARGM-LOC\", \"O\", \"O\", \"O\"], \"pred_sense\": [5, \"continue.01\"]},\n",
        "\t{\"seq_words\": [\"In\", \"Baghdad\", \"the\", \"fighting\", \"still\", \"continues\", \"in\", \"several\", \"areas\", \"mostly\", \"in\", \"Sadr\", \"city\", \"and\", \"Adhamiya\", \".\"], \"BIO\": [\"O\", \"O\", \"O\", \"V\", \"O\", \"O\", \"O\", \"O\", \"O\", \"O\", \"O\", \"O\", \"O\", \"O\", \"O\", \"O\"], \"pred_sense\": [3, \"fight.01\"]},\n",
        "\n",
        "\n",
        "    following\n",
        "    the ruling party\n",
        "    the highest ranking \n",
        "    the running time"
      ]
    },
    {
      "cell_type": "code",
      "execution_count": null,
      "metadata": {},
      "outputs": [],
      "source": []
    },
    {
      "cell_type": "code",
      "execution_count": 41,
      "metadata": {
        "id": "mM4vbfWKqDkQ"
      },
      "outputs": [],
      "source": [
        "\"\"\"\n",
        "can you create 5 example sentence where there is a verb not in the semantic role of the verb such as:\n",
        " \"cooking is one of my favourite hobbies\", or \"the killing of the priest sparked a lot of protests\" \n",
        "\"\"\"\n",
        "#se=[ \"The birds singing was a welcome sound in the morning.\", \"The birds's singing was a welcome sound in the morning.\", \"The singing of the birds was a welcome sound in the morning.\" ]\n",
        "\n",
        "se=[\"cooking is what I love\",\"I love cooking \",\"I love cooking in the morning\", \"I loved cooking with you\",\"I have always liked cooking\",\"cooking is a great hooby\",\"cooking vegetables is a great hobby\"]"
      ]
    },
    {
      "cell_type": "code",
      "execution_count": null,
      "metadata": {
        "colab": {
          "base_uri": "https://localhost:8080/"
        },
        "id": "yn7T5Q02qQNq",
        "outputId": "5fd2da92-1f5f-462f-df8f-234044f88e72"
      },
      "outputs": [
        {
          "name": "stdout",
          "output_type": "stream",
          "text": [
            "cooking is what I love\n",
            "['is', 'love']\n",
            "I love cooking \n",
            "['love', 'cooking']\n",
            "I love cooking in the morning\n",
            "['love', 'cooking']\n",
            "I loved cooking with you\n",
            "['loved', 'cooking']\n",
            "I have always liked cooking\n",
            "['have', 'liked', 'cooking']\n",
            "cooking is a great hooby\n",
            "['is']\n",
            "cooking vegetables is a great hobby\n",
            "['cooking', 'is']\n"
          ]
        }
      ],
      "source": [
        "for s in se:\n",
        "  print(s)\n",
        "  pred=predictor.predict(s)\n",
        "  \n",
        "  verbs=[x['verb'] for x in pred['verbs']]\n",
        "  #print(pred)\n",
        "  print(verbs)\n",
        "  #print(pred)"
      ]
    },
    {
      "cell_type": "code",
      "execution_count": null,
      "metadata": {
        "colab": {
          "base_uri": "https://localhost:8080/"
        },
        "id": "__TL3O2o_eDZ",
        "outputId": "6da14f21-aea9-44a2-e1b2-099d86d751cd"
      },
      "outputs": [
        {
          "name": "stdout",
          "output_type": "stream",
          "text": [
            "I have always enjoyed cooking, it is one of my favourite hobbies.\n",
            "['have', 'enjoyed', 'is']\n",
            "The protests that followed the killing of the priest were widespread.\n",
            "['followed', 'were']\n",
            "The sound of the river running was soothing to listen to.\n",
            "['running', 'was', 'soothing', 'listen']\n",
            "The information revealed in the reading of the will was surprising.\n",
            "['revealed', 'was']\n",
            "The audience was mesmerized by the dancing flames.\n",
            "['was', 'mesmerized']\n",
            "The sunset was breathtakingly beautiful in the painting.\n",
            "['was']\n",
            "The birds singing in the morning was a welcome sound.\n",
            "['singing', 'was']\n",
            "The intruder was alerted by the barking of the dog.\n",
            "['was', 'alerted']\n",
            "The music filled the room with the playing of the piano.\n",
            "['filled']\n",
            "The tedious chore of cleaning the house took all day.\n",
            "['cleaning', 'took']\n",
            "The necessary task of mowing the lawn was finally finished.\n",
            "['mowing', 'was', 'finished']\n",
            "The never-ending job of washing the dishes always seemed to pile up.\n",
            "['ending', 'washing', 'seemed', 'pile']\n",
            "The remarkable feat of engineering was achieved in the building of the bridge.\n",
            "['was', 'achieved']\n",
            "The peaceful way to clear my mind was through driving the car.\n",
            "['clear', 'was', 'driving']\n",
            "The power outage interrupted the typing of the report.\n",
            "['interrupted']\n",
            "The longer than anticipated repair of the bike was finally completed.\n",
            "['anticipated', 'was', 'completed']\n",
            "The highlight of the party was cutting the cake.\n",
            "['was', 'cutting']\n",
            "The fun way to spend the afternoon was playing the game.\n",
            "['spend', 'was', 'playing']\n",
            "The weekend project of painting the house was finally done.\n",
            "['painting', 'was', 'done']\n",
            "The wind howling kept me awake at night.\n",
            "['howling', 'kept']\n"
          ]
        }
      ],
      "source": [
        "for s in sentences:\n",
        "  print(s)\n",
        "  pred=predictor.predict(s)\n",
        "  verbs=[x['verb'] for x in pred['verbs']]\n",
        "  print(verbs)\n",
        "  #print(pred)"
      ]
    },
    {
      "cell_type": "code",
      "execution_count": null,
      "metadata": {
        "id": "Q1P59aW9_jtF"
      },
      "outputs": [],
      "source": [
        "prediction=predictor.predict(\n",
        "    sentence=\"I was writing a thesis\"\n",
        ")"
      ]
    },
    {
      "cell_type": "code",
      "execution_count": null,
      "metadata": {
        "colab": {
          "base_uri": "https://localhost:8080/"
        },
        "id": "O9t_2qBEBjVc",
        "outputId": "d55eb137-9e40-4a51-8e6f-d7985ff0deca"
      },
      "outputs": [
        {
          "data": {
            "text/plain": [
              "{'verbs': [{'verb': 'was',\n",
              "   'description': 'I [V: was] writing a thesis',\n",
              "   'tags': ['O', 'B-V', 'O', 'O', 'O']},\n",
              "  {'verb': 'writing',\n",
              "   'description': '[ARG0: I] was [V: writing] [ARG1: a thesis]',\n",
              "   'tags': ['B-ARG0', 'O', 'B-V', 'B-ARG1', 'I-ARG1']}],\n",
              " 'words': ['I', 'was', 'writing', 'a', 'thesis']}"
            ]
          },
          "execution_count": 19,
          "metadata": {},
          "output_type": "execute_result"
        }
      ],
      "source": [
        "prediction"
      ]
    },
    {
      "cell_type": "code",
      "execution_count": null,
      "metadata": {
        "id": "Mte_5-HjBkSU"
      },
      "outputs": [],
      "source": [
        "from nltk.corpus import propbank"
      ]
    },
    {
      "cell_type": "code",
      "execution_count": null,
      "metadata": {
        "colab": {
          "base_uri": "https://localhost:8080/"
        },
        "id": "8XsP-z8pWNWD",
        "outputId": "07a9e0a0-7e67-4f74-b45d-40c97b789410"
      },
      "outputs": [
        {
          "name": "stderr",
          "output_type": "stream",
          "text": [
            "[nltk_data] Downloading package propbank to /root/nltk_data...\n"
          ]
        },
        {
          "data": {
            "text/plain": [
              "True"
            ]
          },
          "execution_count": 25,
          "metadata": {},
          "output_type": "execute_result"
        }
      ],
      "source": []
    },
    {
      "cell_type": "code",
      "execution_count": null,
      "metadata": {
        "colab": {
          "base_uri": "https://localhost:8080/"
        },
        "id": "_ZL5X6HihG2C",
        "outputId": "ec1e5c3d-4d5c-4225-857d-d7044e574c32"
      },
      "outputs": [
        {
          "name": "stderr",
          "output_type": "stream",
          "text": [
            "[nltk_data] Downloading package treebank to /root/nltk_data...\n",
            "[nltk_data]   Unzipping corpora/treebank.zip.\n"
          ]
        },
        {
          "data": {
            "text/plain": [
              "True"
            ]
          },
          "execution_count": 57,
          "metadata": {},
          "output_type": "execute_result"
        }
      ],
      "source": [
        "nltk.download('treebank')"
      ]
    },
    {
      "cell_type": "code",
      "execution_count": null,
      "metadata": {
        "id": "ybhHXi-3WCju"
      },
      "outputs": [],
      "source": [
        "pb_instances = propbank.instances()"
      ]
    },
    {
      "cell_type": "code",
      "execution_count": null,
      "metadata": {
        "id": "NXc4_lpcWRdB"
      },
      "outputs": [],
      "source": [
        "inst=pb_instances[103]"
      ]
    },
    {
      "cell_type": "code",
      "execution_count": null,
      "metadata": {
        "id": "jbXQMPfdblYI"
      },
      "outputs": [],
      "source": [
        " import nltk.corpus.reader.propbank as pb"
      ]
    },
    {
      "cell_type": "code",
      "execution_count": null,
      "metadata": {
        "id": "_aj76Fy_d_NB"
      },
      "outputs": [],
      "source": [
        "turn_01 = propbank.roleset('turn.01')"
      ]
    },
    {
      "cell_type": "code",
      "execution_count": null,
      "metadata": {
        "colab": {
          "base_uri": "https://localhost:8080/"
        },
        "id": "-cDPYm9klfJi",
        "outputId": "a1115cbe-1ba2-4c88-998e-7fa7d3383c05"
      },
      "outputs": [
        {
          "name": "stdout",
          "output_type": "stream",
          "text": [
            "0 turner\n",
            "1 thing turning\n",
            "m direction, location\n"
          ]
        }
      ],
      "source": [
        "for role in turn_01.findall(\"roles/role\"):\n",
        "  print(role.attrib['n'], role.attrib['descr'])"
      ]
    },
    {
      "cell_type": "code",
      "execution_count": null,
      "metadata": {
        "id": "euVb-K_zl2E-"
      },
      "outputs": [],
      "source": []
    },
    {
      "cell_type": "code",
      "execution_count": null,
      "metadata": {
        "colab": {
          "base_uri": "https://localhost:8080/"
        },
        "id": "r21Er3JfWvY1",
        "outputId": "f44a317c-1fc3-4a33-9850-6c76d0d78c5a"
      },
      "outputs": [
        {
          "name": "stdout",
          "output_type": "stream",
          "text": [
            "The birds singing in the morning was a welcome sound.\n",
            "BERT\n",
            "['[ARG0: The birds] [V: singing] [ARGM-TMP: in the morning] was a welcome sound .', '[ARG1: The birds singing in the morning] [V: was] [ARG2: a welcome sound] .']\n",
            "Lstm\n",
            "['[ARG0: The birds] [V: singing] [ARGM-TMP: in the morning] was a welcome sound .', '[ARG1: The birds singing in the morning] [V: was] [ARG2: a welcome sound] .']\n",
            "\n",
            "\n",
            "\n",
            "The singing of birds in the morning was a welcome sound.\n",
            "BERT\n",
            "['[ARG1: The singing of birds in the morning] [V: was] [ARG2: a welcome sound] .']\n",
            "Lstm\n",
            "['[ARG1: The singing of birds in the morning] [V: was] [ARG2: a welcome sound] .']\n",
            "\n",
            "\n",
            "\n"
          ]
        }
      ],
      "source": [
        "sentences=[\"The birds singing in the morning was a welcome sound.\",\"The singing of birds in the morning was a welcome sound.\"]\n",
        "for s in sentences:\n",
        "  print(s)\n",
        "  predBert=predictor.predict(s)\n",
        "  predBilstm=predictor_bilstm.predict(s)\n",
        "  print(\"BERT\")\n",
        "  print([x['description'] for x in predBert['verbs']])\n",
        "\n",
        "  print(\"Lstm\")\n",
        "  print([x['description'] for x in predBilstm['verbs']])\n",
        "  \n",
        "  print(\"\\n\\n\")"
      ]
    },
    {
      "cell_type": "code",
      "execution_count": null,
      "metadata": {
        "colab": {
          "base_uri": "https://localhost:8080/"
        },
        "id": "9cK0PeYlXtO7",
        "outputId": "30ac96c7-dc93-4c91-f57b-2582d264e887"
      },
      "outputs": [
        {
          "name": "stdout",
          "output_type": "stream",
          "text": [
            "It's running low \n",
            "BERT\n",
            "[\"It [V: 's] running low\", \"[ARG0: It] 's [V: running] [ARGM-MNR: low]\"]\n",
            "Lstm\n",
            "[\"It [V: 's] running low\", \"[ARG1: It] 's [V: running] [ARG2: low]\"]\n",
            "\n",
            "\n",
            "\n",
            "It is running low\n",
            "BERT\n",
            "['It [V: is] running low', '[ARG1: It] is [V: running] [ARGM-MNR: low]']\n",
            "Lstm\n",
            "['[ARG1: It] [V: is] [ARG2: running low]', '[ARG1: It] is [V: running] [ARG2: low]']\n",
            "\n",
            "\n",
            "\n"
          ]
        }
      ],
      "source": [
        "sentences=[\"It's running low \",\"It is running low\"]\n",
        "for s in sentences:\n",
        "  print(s)\n",
        "  predBert=predictor.predict(s)\n",
        "  predBilstm=predictor_bilstm.predict(s)\n",
        "  print(\"BERT\")\n",
        "  print([x['description'] for x in predBert['verbs']])\n",
        "\n",
        "  print(\"Lstm\")\n",
        "  print([x['description'] for x in predBilstm['verbs']])\n",
        "  \n",
        "  print(\"\\n\\n\")"
      ]
    },
    {
      "cell_type": "code",
      "execution_count": null,
      "metadata": {
        "id": "TbhrP0sbBsVV"
      },
      "outputs": [],
      "source": []
    },
    {
      "attachments": {},
      "cell_type": "markdown",
      "metadata": {
        "id": "Su6lKFxWKnbO"
      },
      "source": [
        "## RARITY"
      ]
    },
    {
      "attachments": {},
      "cell_type": "markdown",
      "metadata": {
        "id": "2ybvS9k6Bsin"
      },
      "source": [
        "### Slang Verbs "
      ]
    },
    {
      "cell_type": "code",
      "execution_count": null,
      "metadata": {
        "colab": {
          "base_uri": "https://localhost:8080/"
        },
        "id": "OkL7nhKizW7o",
        "outputId": "6d12ad70-757c-4434-82c1-09f5b573b0f7"
      },
      "outputs": [
        {
          "data": {
            "text/plain": [
              "({'verbs': [{'verb': 'want',\n",
              "    'description': '[ARG0: I] [ARGM-ADV: really] [V: want] [ARG1: to do it]',\n",
              "    'tags': ['B-ARG0', 'B-ARGM-ADV', 'B-V', 'B-ARG1', 'I-ARG1', 'I-ARG1']},\n",
              "   {'verb': 'do',\n",
              "    'description': '[ARG0: I] really want to [V: do] [ARG1: it]',\n",
              "    'tags': ['B-ARG0', 'O', 'O', 'O', 'B-V', 'B-ARG1']}],\n",
              "  'words': ['I', 'really', 'want', 'to', 'do', 'it']},\n",
              " {'verbs': [{'verb': 'wanna',\n",
              "    'description': '[ARG0: I] [ARGM-ADV: really] [V: wanna] [ARG1: do it]',\n",
              "    'tags': ['B-ARG0', 'B-ARGM-ADV', 'B-V', 'B-ARG1', 'I-ARG1']},\n",
              "   {'verb': 'do',\n",
              "    'description': '[ARG0: I] really wanna [V: do] [ARG1: it]',\n",
              "    'tags': ['B-ARG0', 'O', 'O', 'B-V', 'B-ARG1']}],\n",
              "  'words': ['I', 'really', 'wanna', 'do', 'it']})"
            ]
          },
          "execution_count": 379,
          "metadata": {},
          "output_type": "execute_result"
        }
      ],
      "source": [
        "predictor_Bert.predict(\"I really want to do it\"),predictor_Bert.predict(\"I really wanna do it\")\n",
        "predictor_Bert.predict(\"I am gonna do it\"),predictor_Bert.predict(\"I am going to do it\")\n",
        "[gimmie - give me, ]"
      ]
    },
    {
      "cell_type": "code",
      "execution_count": null,
      "metadata": {
        "id": "eQD78ThtPb6W"
      },
      "outputs": [],
      "source": []
    },
    {
      "attachments": {},
      "cell_type": "markdown",
      "metadata": {
        "id": "nd619HruPdpp"
      },
      "source": [
        "### Modern verbs"
      ]
    },
    {
      "attachments": {},
      "cell_type": "markdown",
      "metadata": {},
      "source": [
        "### old verbs"
      ]
    },
    {
      "attachments": {},
      "cell_type": "markdown",
      "metadata": {
        "id": "pit7Ny7mvwL7"
      },
      "source": [
        "# AROUGMENTS CLASSIFICATION"
      ]
    },
    {
      "cell_type": "code",
      "execution_count": 9,
      "metadata": {},
      "outputs": [],
      "source": [
        "#In this folder we have the data for the predicate classidication task. Change the path accordingly if files were moved.\n",
        "path=\"./Data/Argument_classification/\"\n",
        "results_path=f\"./results_{model}_Argument_Classification.json\"\n",
        "## we initialize also the dictionary that will contain the results\n",
        "with open(results_path, 'w') as f:\n",
        "    json.dump({\"test\":\"failure_rate\"},f)"
      ]
    },
    {
      "cell_type": "code",
      "execution_count": 10,
      "metadata": {},
      "outputs": [],
      "source": [
        "\n",
        "def eval_predictor_INV(sentences,predictor,function):\n",
        "  \"\"\"\n",
        "  This function evaluates the predictor by using the function to validate the predictions.\n",
        "  function is the name a function that takes two predictions and returns a boolean\n",
        "  \"\"\"\n",
        "  fails=0\n",
        " \n",
        "  f = getattr(utils, function)\n",
        "  for pair in sentences:\n",
        "    \n",
        "    s1,s2=pair\n",
        "\n",
        "    pred1 = predictor.predict(s1)\n",
        "    pred2 = predictor.predict(s2) \n",
        "    \n",
        "    match=f(pred1,pred2,verbose=False)\n",
        "    \n",
        "    if not (match):\n",
        "      fails+=1\n",
        "\n",
        "  return (fails/len(sentences)*100)"
      ]
    },
    {
      "attachments": {},
      "cell_type": "markdown",
      "metadata": {
        "id": "VsPA8Ym1P-Qj"
      },
      "source": [
        "## VOCABULAIRTY+POS"
      ]
    },
    {
      "attachments": {},
      "cell_type": "markdown",
      "metadata": {
        "id": "xura9sS5eOrc"
      },
      "source": [
        "### Pronouns vs Entity"
      ]
    },
    {
      "cell_type": "code",
      "execution_count": 11,
      "metadata": {},
      "outputs": [
        {
          "name": "stdout",
          "output_type": "stream",
          "text": [
            "Rate of failure with :  37.5\n"
          ]
        }
      ],
      "source": [
        "with open(path+\"Pronouns_sents.json\",\"r\") as f:\n",
        "    sentences=json.load(f)\n",
        "\n",
        "sentences=list(sentences.items())\n",
        "\n",
        "failure_rate=eval_predictor_INV(sentences,predictor,\"validate_INV_allverbs_ARGset\")\n",
        "\n",
        "print(f\"Rate of failure with : \",failure_rate)\n",
        "\n",
        "append_to_results(results_path,{f\"Pronouns_sents\":failure_rate})\n"
      ]
    },
    {
      "attachments": {},
      "cell_type": "markdown",
      "metadata": {},
      "source": [
        "## TAXONOMY\n"
      ]
    },
    {
      "attachments": {},
      "cell_type": "markdown",
      "metadata": {},
      "source": []
    },
    {
      "cell_type": "code",
      "execution_count": 28,
      "metadata": {},
      "outputs": [
        {
          "data": {
            "text/plain": [
              "{'verbs': [{'verb': 'killed',\n",
              "   'description': '[ARG0: I] [V: killed] [ARG1: a rabbit] [ARG2: with a knife]',\n",
              "   'tags': ['B-ARG0',\n",
              "    'B-V',\n",
              "    'B-ARG1',\n",
              "    'I-ARG1',\n",
              "    'B-ARG2',\n",
              "    'I-ARG2',\n",
              "    'I-ARG2']}],\n",
              " 'words': ['I', 'killed', 'a', 'rabbit', 'with', 'a', 'knife']}"
            ]
          },
          "execution_count": 28,
          "metadata": {},
          "output_type": "execute_result"
        }
      ],
      "source": [
        "pred=predictor_Bert.predict(\"I killed a rabbit with a knife\")\n",
        "pred"
      ]
    },
    {
      "cell_type": "code",
      "execution_count": 40,
      "metadata": {},
      "outputs": [
        {
          "data": {
            "text/plain": [
              "{'verbs': [{'verb': 'eats',\n",
              "   'description': '[ARG0: Alice] [V: eats] [ARG1: a chicken] [ARGM-MNR: with a fork] .',\n",
              "   'tags': ['B-ARG0',\n",
              "    'B-V',\n",
              "    'B-ARG1',\n",
              "    'I-ARG1',\n",
              "    'B-ARGM-MNR',\n",
              "    'I-ARGM-MNR',\n",
              "    'I-ARGM-MNR',\n",
              "    'O']}],\n",
              " 'words': ['Alice', 'eats', 'a', 'chicken', 'with', 'a', 'fork', '.']}"
            ]
          },
          "execution_count": 40,
          "metadata": {},
          "output_type": "execute_result"
        }
      ],
      "source": [
        "pred=predictor_Bert.predict(\"Alice eats a chicken with a fork.\")\n",
        "pred"
      ]
    },
    {
      "cell_type": "code",
      "execution_count": 43,
      "metadata": {},
      "outputs": [
        {
          "name": "stdout",
          "output_type": "stream",
          "text": [
            "{'verbs': [{'verb': 'eats', 'description': '[ARG0: Lukas] [V: eats] [ARG1: a chicken with a feather] .', 'tags': ['B-ARG0', 'B-V', 'B-ARG1', 'I-ARG1', 'I-ARG1', 'I-ARG1', 'I-ARG1', 'O']}], 'words': ['Lukas', 'eats', 'a', 'chicken', 'with', 'a', 'feather', '.']}\n",
            "{'verbs': [{'verb': 'eats', 'description': '[ARG0: Lukas] [V: eats] [ARG1: a chicken] [ARGM-MNR: with a stick] .', 'tags': ['B-ARG0', 'B-V', 'B-ARG1', 'I-ARG1', 'B-ARGM-MNR', 'I-ARGM-MNR', 'I-ARGM-MNR', 'O']}], 'words': ['Lukas', 'eats', 'a', 'chicken', 'with', 'a', 'stick', '.']}\n"
          ]
        }
      ],
      "source": [
        "s=['Lukas eats a chicken with a feather.', 'Lukas eats a chicken with a stick.']\n",
        "for x in s:\n",
        "    pred=predictor_Bert.predict(x)\n",
        "    print(pred)"
      ]
    },
    {
      "cell_type": "code",
      "execution_count": 44,
      "metadata": {},
      "outputs": [
        {
          "name": "stdout",
          "output_type": "stream",
          "text": [
            "{'verbs': [{'verb': 'eats', 'description': '[ARG0: Lukas] [V: eats] [ARG1: a chicken] [ARGM-MNR: with hands] .', 'tags': ['B-ARG0', 'B-V', 'B-ARG1', 'I-ARG1', 'B-ARGM-MNR', 'I-ARGM-MNR', 'O']}], 'words': ['Lukas', 'eats', 'a', 'chicken', 'with', 'hands', '.']}\n",
            "{'verbs': [{'verb': 'eats', 'description': '[ARG0: Lukas] [V: eats] [ARG1: a chicken with olives] .', 'tags': ['B-ARG0', 'B-V', 'B-ARG1', 'I-ARG1', 'I-ARG1', 'I-ARG1', 'O']}], 'words': ['Lukas', 'eats', 'a', 'chicken', 'with', 'olives', '.']}\n"
          ]
        }
      ],
      "source": [
        "s=['Lukas eats a chicken with hands.', 'Lukas eats a chicken with olives.']\n",
        "for x in s:\n",
        "    pred=predictor_Bert.predict(x)\n",
        "    print(pred)"
      ]
    },
    {
      "cell_type": "code",
      "execution_count": 46,
      "metadata": {},
      "outputs": [
        {
          "name": "stdout",
          "output_type": "stream",
          "text": [
            "{'verbs': [{'verb': 'eats', 'description': '[ARG0: Lukas] [V: eats] [ARG1: a chicken] [ARG2: with tomatoes] .', 'tags': ['B-ARG0', 'B-V', 'B-ARG1', 'I-ARG1', 'B-ARG2', 'I-ARG2', 'O']}], 'words': ['Lukas', 'eats', 'a', 'chicken', 'with', 'tomatoes', '.']}\n",
            "{'verbs': [{'verb': 'eats', 'description': '[ARG0: Lukas] [V: eats] [ARG1: a chicken] [ARGM-MNR: with forks] .', 'tags': ['B-ARG0', 'B-V', 'B-ARG1', 'I-ARG1', 'B-ARGM-MNR', 'I-ARGM-MNR', 'O']}], 'words': ['Lukas', 'eats', 'a', 'chicken', 'with', 'forks', '.']}\n"
          ]
        }
      ],
      "source": [
        "s=['Lukas eats a chicken with tomatoes.', 'Lukas eats a chicken with forks.']\n",
        "for x in s:\n",
        "    pred=predictor_Bert.predict(x)\n",
        "    print(pred)"
      ]
    },
    {
      "cell_type": "code",
      "execution_count": 47,
      "metadata": {},
      "outputs": [
        {
          "name": "stdout",
          "output_type": "stream",
          "text": [
            "{'verbs': [{'verb': 'drink', 'description': '[ARG0: I] [V: drink] [ARG1: whisky] [ARGM-MNR: with Ice]', 'tags': ['B-ARG0', 'B-V', 'B-ARG1', 'B-ARGM-MNR', 'I-ARGM-MNR']}], 'words': ['I', 'drink', 'whisky', 'with', 'Ice']}\n",
            "{'verbs': [{'verb': 'drink', 'description': '[ARG0: I] [V: drink] [ARG1: wiskey] [ARGM-COM: with Jhon]', 'tags': ['B-ARG0', 'B-V', 'B-ARG1', 'B-ARGM-COM', 'I-ARGM-COM']}], 'words': ['I', 'drink', 'wiskey', 'with', 'Jhon']}\n"
          ]
        }
      ],
      "source": [
        "s=['I drink whisky with Ice', 'I drink wiskey with Jhon']\n",
        "for x in s:\n",
        "    pred=predictor_Bert.predict(x)\n",
        "    print(pred)"
      ]
    },
    {
      "cell_type": "code",
      "execution_count": 55,
      "metadata": {},
      "outputs": [
        {
          "name": "stdout",
          "output_type": "stream",
          "text": [
            "{'verbs': [{'verb': 'have', 'description': '[ARG0: I] [V: have] [ARG1: breakfast] [ARGM-MNR: with Coffee]', 'tags': ['B-ARG0', 'B-V', 'B-ARG1', 'B-ARGM-MNR', 'I-ARGM-MNR']}], 'words': ['I', 'have', 'breakfast', 'with', 'Coffee']}\n",
            "{'verbs': [{'verb': 'have', 'description': '[ARG0: I] [V: have] [ARG1: breakfast] [ARGM-COM: with Sunny]', 'tags': ['B-ARG0', 'B-V', 'B-ARG1', 'B-ARGM-COM', 'I-ARGM-COM']}], 'words': ['I', 'have', 'breakfast', 'with', 'Sunny']}\n"
          ]
        }
      ],
      "source": [
        "s=['I have breakfast with Coffee', 'I have breakfast with Sunny']\n",
        "for x in s:\n",
        "    pred=predictor_Bert.predict(x)\n",
        "    print(pred)"
      ]
    },
    {
      "cell_type": "code",
      "execution_count": 57,
      "metadata": {},
      "outputs": [
        {
          "name": "stdout",
          "output_type": "stream",
          "text": [
            "{'verbs': [{'verb': 'come', 'description': '[ARG1: I] [V: come] [ARGM-MNR: by bike]', 'tags': ['B-ARG1', 'B-V', 'B-ARGM-MNR', 'I-ARGM-MNR']}], 'words': ['I', 'come', 'by', 'bike']}\n",
            "{'verbs': [{'verb': 'come', 'description': '[ARG1: I] [V: come] [ARGM-TMP: by noon]', 'tags': ['B-ARG1', 'B-V', 'B-ARGM-TMP', 'I-ARGM-TMP']}], 'words': ['I', 'come', 'by', 'noon']}\n"
          ]
        }
      ],
      "source": [
        "s=['I come by bike', 'I come by noon']\n",
        "for x in s:\n",
        "    pred=predictor_Bert.predict(x)\n",
        "    print(pred)"
      ]
    },
    {
      "cell_type": "code",
      "execution_count": 59,
      "metadata": {},
      "outputs": [
        {
          "name": "stdout",
          "output_type": "stream",
          "text": [
            "{'verbs': [{'verb': 'saw', 'description': '[ARG0: Lukas] [V: saw] [ARG1: a man with a knife]', 'tags': ['B-ARG0', 'B-V', 'B-ARG1', 'I-ARG1', 'I-ARG1', 'I-ARG1', 'I-ARG1']}], 'words': ['Lukas', 'saw', 'a', 'man', 'with', 'a', 'knife']}\n",
            "{'verbs': [{'verb': 'saw', 'description': '[ARG0: Lukas] [V: saw] [ARG1: a man] [ARGM-MNR: with binoculars]', 'tags': ['B-ARG0', 'B-V', 'B-ARG1', 'I-ARG1', 'B-ARGM-MNR', 'I-ARGM-MNR']}], 'words': ['Lukas', 'saw', 'a', 'man', 'with', 'binoculars']}\n"
          ]
        }
      ],
      "source": [
        "s=['Lukas saw a man with a knife', 'Lukas saw a man with binoculars']\n",
        "for x in s:\n",
        "    pred=predictor_Bert.predict(x)\n",
        "    print(pred)"
      ]
    },
    {
      "cell_type": "code",
      "execution_count": 63,
      "metadata": {},
      "outputs": [
        {
          "name": "stdout",
          "output_type": "stream",
          "text": [
            "{'verbs': [{'verb': 'having', 'description': '[ARG0: Lukas] [V: having] [ARG1: a beer] [ARGM-COM: with a friend] .', 'tags': ['B-ARG0', 'B-V', 'B-ARG1', 'I-ARG1', 'B-ARGM-COM', 'I-ARGM-COM', 'I-ARGM-COM', 'O']}], 'words': ['Lukas', 'having', 'a', 'beer', 'with', 'a', 'friend', '.']}\n",
            "{'verbs': [{'verb': 'having', 'description': '[ARG0: Lukas] [V: having] [ARG1: a beer] [ARG2: with a lemon] .', 'tags': ['B-ARG0', 'B-V', 'B-ARG1', 'I-ARG1', 'B-ARG2', 'I-ARG2', 'I-ARG2', 'O']}], 'words': ['Lukas', 'having', 'a', 'beer', 'with', 'a', 'lemon', '.']}\n"
          ]
        }
      ],
      "source": [
        "s=[\"Lukas having a beer with a friend.\",\"Lukas having a beer with a lemon.\"]\n",
        "for x in s:\n",
        "    pred=predictor_Bert.predict(x)\n",
        "    print(pred)"
      ]
    },
    {
      "cell_type": "code",
      "execution_count": 64,
      "metadata": {},
      "outputs": [
        {
          "name": "stdout",
          "output_type": "stream",
          "text": [
            "{'verbs': [{'verb': 'helps', 'description': '[ARG0: Lukas] [V: helps] [ARG2: a man with a disability] .', 'tags': ['B-ARG0', 'B-V', 'B-ARG2', 'I-ARG2', 'I-ARG2', 'I-ARG2', 'I-ARG2', 'O']}], 'words': ['Lukas', 'helps', 'a', 'man', 'with', 'a', 'disability', '.']}\n",
            "{'verbs': [{'verb': 'helps', 'description': '[ARG0: Lukas] [V: helps] [ARG2: a man] [ARG1: with a task] .', 'tags': ['B-ARG0', 'B-V', 'B-ARG2', 'I-ARG2', 'B-ARG1', 'I-ARG1', 'I-ARG1', 'O']}], 'words': ['Lukas', 'helps', 'a', 'man', 'with', 'a', 'task', '.']}\n"
          ]
        }
      ],
      "source": [
        "s=[\"Lukas helps a man with a disability.\",\"Lukas helps a man with a task.\"]\n",
        "for x in s:\n",
        "    pred=predictor_Bert.predict(x)\n",
        "    print(pred)"
      ]
    },
    {
      "cell_type": "code",
      "execution_count": null,
      "metadata": {},
      "outputs": [],
      "source": []
    },
    {
      "attachments": {},
      "cell_type": "markdown",
      "metadata": {},
      "source": [
        "## NER"
      ]
    },
    {
      "attachments": {},
      "cell_type": "markdown",
      "metadata": {},
      "source": [
        "### Very Long Entities"
      ]
    },
    {
      "cell_type": "code",
      "execution_count": null,
      "metadata": {},
      "outputs": [],
      "source": []
    },
    {
      "cell_type": "code",
      "execution_count": null,
      "metadata": {},
      "outputs": [],
      "source": []
    },
    {
      "attachments": {},
      "cell_type": "markdown",
      "metadata": {
        "id": "djlQjIyAQIjV"
      },
      "source": [
        "## ROBUSTNESS"
      ]
    },
    {
      "attachments": {},
      "cell_type": "markdown",
      "metadata": {},
      "source": [
        "### Typos"
      ]
    },
    {
      "cell_type": "code",
      "execution_count": null,
      "metadata": {},
      "outputs": [
        {
          "name": "stdout",
          "output_type": "stream",
          "text": [
            "Rate of failure with 1 typos per sentence:  28.999999999999996\n",
            "Rate of failure with 2 typos per sentence:  49.0\n",
            "Rate of failure with 3 typos per sentence:  65.0\n",
            "Rate of failure with 4 typos per sentence:  76.0\n"
          ]
        }
      ],
      "source": [
        "for i in range(1,5):#becuase we have 4 files like that\n",
        "\n",
        "    with open(path+f\"sents_{i}_typos.json\", 'r') as f:\n",
        "        sentences = json.load(f)\n",
        "\n",
        "    sentences=list(sentences.items())\n",
        "\n",
        "    rate_typos_n=eval_predictor_INV(sentences,predictor,\"evaluate_INV_alltags\")\n",
        "\n",
        "    print(f\"Rate of failure with {i} typos per sentence: \",rate_typos_n)\n",
        "\n",
        "    append_to_results(results_path,{f\"sents_{i}_typos\":rate_typos_n})\n"
      ]
    },
    {
      "attachments": {},
      "cell_type": "markdown",
      "metadata": {},
      "source": [
        "## PARAPHRASING"
      ]
    },
    {
      "attachments": {},
      "cell_type": "markdown",
      "metadata": {
        "id": "vFvgduTVSxBn"
      },
      "source": [
        "### word orders "
      ]
    },
    {
      "cell_type": "code",
      "execution_count": null,
      "metadata": {
        "colab": {
          "base_uri": "https://localhost:8080/"
        },
        "id": "U0Lfw1_-zojf",
        "outputId": "bf88112c-f70b-4d18-b8c8-1824f7e2ee4d"
      },
      "outputs": [
        {
          "name": "stdout",
          "output_type": "stream",
          "text": [
            "the coach teaches to the team coordination\n",
            "['[ARG0: the coach] [V: teaches] [ARG2: to the team coordination]']\n",
            "\n",
            "\n",
            "\n",
            "The coach teaches coordination to the team\n",
            "['[ARG0: The coach] [V: teaches] [ARG1: coordination to the team]']\n",
            "\n",
            "\n",
            "\n"
          ]
        }
      ],
      "source": [
        "sentences=[\"the coach teaches to the team coordination\", \"The coach teaches coordination to the team\"]\n",
        "for s in sentences:\n",
        "  print(s)\n",
        "  pred=predictor.predict(s)\n",
        "  desc=[x['description'] for x in pred['verbs']]\n",
        "  #print(verbs)\n",
        "  print(desc)\n",
        "  print(\"\\n\\n\")"
      ]
    },
    {
      "cell_type": "code",
      "execution_count": null,
      "metadata": {
        "colab": {
          "base_uri": "https://localhost:8080/"
        },
        "id": "7INNZ1qHv-20",
        "outputId": "72ec3603-31e1-4cbe-cf5a-11afa201126f"
      },
      "outputs": [
        {
          "name": "stdout",
          "output_type": "stream",
          "text": [
            "I like that mark has not beeing able to reduce sigarets despite his mother dying of lung cancer\n",
            "['[ARG0: I] [V: like] [ARG1: that mark has not beeing able to reduce sigarets despite his mother dying of lung cancer]', 'I like that mark [V: has] not beeing able to reduce sigarets despite his mother dying of lung cancer', 'I like that [ARG1: mark] has [ARGM-NEG: not] [V: beeing] [ARGM-PRD: able to reduce sigarets] [ARGM-ADV: despite his mother dying of lung cancer]', 'I like that [ARG0: mark] has not beeing able to [V: reduce] [ARG1: sigarets] despite his mother dying of lung cancer', 'I like that mark has not beeing able to reduce sigarets despite [ARG1: his mother] [V: dying] [ARGM-CAU: of lung cancer]']\n",
            "\n",
            "\n",
            "\n"
          ]
        }
      ],
      "source": [
        "sentences=[\"I like that mark has not beeing able to reduce sigarets despite his mother dying of lung cancer\"]\n",
        "for s in sentences:\n",
        "  print(s)\n",
        "  pred=predictor.predict(s)\n",
        "  desc=[x['description'] for x in pred['verbs']]\n",
        "  #print(verbs)\n",
        "  print(desc)\n",
        "  print(\"\\n\\n\")"
      ]
    },
    {
      "cell_type": "code",
      "execution_count": null,
      "metadata": {
        "colab": {
          "base_uri": "https://localhost:8080/"
        },
        "id": "NlVLG_rfUp2b",
        "outputId": "c9d6e6e4-a487-4180-d82a-7612d589c1c1"
      },
      "outputs": [
        {
          "name": "stdout",
          "output_type": "stream",
          "text": [
            "I give to you kisses\n",
            "['[ARG0: I] [V: give] [ARG2: to you kisses]']\n",
            "\n",
            "\n",
            "\n",
            "I give kisses to you\n",
            "['[ARG0: I] [V: give] [ARG1: kisses] [ARG2: to you]']\n",
            "\n",
            "\n",
            "\n"
          ]
        }
      ],
      "source": [
        "sentences=[\"I give to you kisses\", \"I give kisses to you\"]\n",
        "for s in sentences:\n",
        "  print(s)\n",
        "  pred=predictor_bilstm.predict(s)\n",
        "  desc=[x['description'] for x in pred['verbs']]\n",
        "  #print(verbs)\n",
        "  print(desc)\n",
        "  print(\"\\n\\n\")"
      ]
    },
    {
      "cell_type": "code",
      "execution_count": null,
      "metadata": {
        "colab": {
          "base_uri": "https://localhost:8080/",
          "height": 255
        },
        "id": "vevXyNqhxD6B",
        "outputId": "1f087c75-c075-4831-f349-2dd07c78d9c8"
      },
      "outputs": [
        {
          "name": "stdout",
          "output_type": "stream",
          "text": [
            "you are stupid\n"
          ]
        },
        {
          "ename": "NameError",
          "evalue": "ignored",
          "output_type": "error",
          "traceback": [
            "\u001b[0;31m---------------------------------------------------------------------------\u001b[0m",
            "\u001b[0;31mNameError\u001b[0m                                 Traceback (most recent call last)",
            "\u001b[0;32m<ipython-input-196-af713bc03a2c>\u001b[0m in \u001b[0;36m<module>\u001b[0;34m\u001b[0m\n\u001b[1;32m      3\u001b[0m   \u001b[0mprint\u001b[0m\u001b[0;34m(\u001b[0m\u001b[0ms\u001b[0m\u001b[0;34m)\u001b[0m\u001b[0;34m\u001b[0m\u001b[0;34m\u001b[0m\u001b[0m\n\u001b[1;32m      4\u001b[0m \u001b[0;34m\u001b[0m\u001b[0m\n\u001b[0;32m----> 5\u001b[0;31m   \u001b[0mpred\u001b[0m\u001b[0;34m=\u001b[0m\u001b[0mpredictor_lstm\u001b[0m\u001b[0;34m.\u001b[0m\u001b[0mpredict\u001b[0m\u001b[0;34m(\u001b[0m\u001b[0ms\u001b[0m\u001b[0;34m)\u001b[0m\u001b[0;34m\u001b[0m\u001b[0;34m\u001b[0m\u001b[0m\n\u001b[0m\u001b[1;32m      6\u001b[0m   \u001b[0mprint\u001b[0m\u001b[0;34m(\u001b[0m\u001b[0mpred\u001b[0m\u001b[0;34m)\u001b[0m\u001b[0;34m\u001b[0m\u001b[0;34m\u001b[0m\u001b[0m\n\u001b[1;32m      7\u001b[0m   \u001b[0mdesc\u001b[0m\u001b[0;34m=\u001b[0m\u001b[0;34m[\u001b[0m\u001b[0mx\u001b[0m\u001b[0;34m[\u001b[0m\u001b[0;34m'description'\u001b[0m\u001b[0;34m]\u001b[0m \u001b[0;32mfor\u001b[0m \u001b[0mx\u001b[0m \u001b[0;32min\u001b[0m \u001b[0mpred\u001b[0m\u001b[0;34m[\u001b[0m\u001b[0;34m'verbs'\u001b[0m\u001b[0;34m]\u001b[0m\u001b[0;34m]\u001b[0m\u001b[0;34m\u001b[0m\u001b[0;34m\u001b[0m\u001b[0m\n",
            "\u001b[0;31mNameError\u001b[0m: name 'predictor_lstm' is not defined"
          ]
        }
      ],
      "source": [
        "sentences=[\"you are stupid\"]\n",
        "for s in sentences:\n",
        "  print(s)\n",
        "  \n",
        "  pred=predictor_lstm.predict(s)\n",
        "  print(pred)\n",
        "  desc=[x['description'] for x in pred['verbs']]\n",
        "  #print(verbs)\n",
        "  print(desc)\n",
        "  print(\"\\n\\n\")"
      ]
    },
    {
      "cell_type": "code",
      "execution_count": null,
      "metadata": {
        "colab": {
          "base_uri": "https://localhost:8080/"
        },
        "id": "HPMPU4PWxECn",
        "outputId": "18699ba6-9732-47dd-a0d1-27fd115a215b"
      },
      "outputs": [
        {
          "name": "stdout",
          "output_type": "stream",
          "text": [
            " looking eating kisses Robert at lunchtime in the park\n",
            "BERT\n",
            "['[V: looking] [ARG1: eating kisses Robert at lunchtime in the park]', 'looking [V: eating] [ARG1: kisses Robert] [ARGM-TMP: at lunchtime] [ARGM-LOC: in] [ARGM-TMP: the park]']\n",
            "Lstm\n",
            "['[V: looking] [ARG1: eating kisses Robert at lunchtime in the park]', 'looking [V: eating] [ARG1: kisses Robert at lunchtime] [ARGM-LOC: in the park]']\n",
            "\n",
            "\n",
            "\n"
          ]
        }
      ],
      "source": [
        "sentences=[\" looking eating kisses Robert at lunchtime in the park\"]\n",
        "for s in sentences:\n",
        "  print(s)\n",
        "  predBert=predictor.predict(s)\n",
        "  predBilstm=predictor_bilstm.predict(s)\n",
        "  print(\"BERT\")\n",
        "  print([x['description'] for x in predBert['verbs']])\n",
        "\n",
        "  print(\"Lstm\")\n",
        "  print([x['description'] for x in predBilstm['verbs']])\n",
        "  \n",
        "  print(\"\\n\\n\")"
      ]
    },
    {
      "cell_type": "code",
      "execution_count": null,
      "metadata": {
        "id": "2KNg_S8dxEFH"
      },
      "outputs": [],
      "source": []
    },
    {
      "cell_type": "code",
      "execution_count": null,
      "metadata": {
        "colab": {
          "base_uri": "https://localhost:8080/"
        },
        "id": "BnBI6DcKT1u-",
        "outputId": "74ff4d4e-b17e-4215-d3d7-4008d483b866"
      },
      "outputs": [
        {
          "name": "stdout",
          "output_type": "stream",
          "text": [
            "I give to you love\n",
            "['[ARG0: I] [V: give] [ARG2: to you love]', 'I give to [ARG0: you] [V: love]']\n",
            "\n",
            "\n",
            "\n",
            "I give love to you\n",
            "['[ARG0: I] [V: give] [ARG1: love] [ARG2: to you]']\n",
            "\n",
            "\n",
            "\n"
          ]
        }
      ],
      "source": [
        "sentences=[\"I give to you love\", \"I give love to you\"]\n",
        "for s in sentences:\n",
        "  print(s)\n",
        "  pred=predictor.predict(s)\n",
        "  desc=[x['description'] for x in pred['verbs']]\n",
        "  #print(verbs)\n",
        "  print(desc)\n",
        "  print(\"\\n\\n\")"
      ]
    },
    {
      "cell_type": "code",
      "execution_count": null,
      "metadata": {},
      "outputs": [],
      "source": []
    },
    {
      "attachments": {},
      "cell_type": "markdown",
      "metadata": {
        "id": "hGIRP7dVbw_W"
      },
      "source": [
        "### passive and actrive trasnformarion"
      ]
    },
    {
      "cell_type": "code",
      "execution_count": 15,
      "metadata": {},
      "outputs": [
        {
          "name": "stdout",
          "output_type": "stream",
          "text": [
            "Rate of failure with for INV activepassive  0.0\n"
          ]
        }
      ],
      "source": [
        "with open(path+\"activepassive_sentences.json\", 'r') as f:\n",
        "    sentences = json.load(f)\n",
        "\n",
        "sentences=list(sentences.items())\n",
        "\n",
        "rate=eval_predictor_INV(sentences,predictor,\"evaluate_INV_sameArgs\")\n",
        "\n",
        "print(f\"Rate of failure with for INV activepassive \",rate)\n",
        "\n",
        "append_to_results(results_path,{f\"activepassive_sents\":rate})\n"
      ]
    },
    {
      "cell_type": "code",
      "execution_count": 112,
      "metadata": {},
      "outputs": [],
      "source": []
    },
    {
      "cell_type": "code",
      "execution_count": 107,
      "metadata": {},
      "outputs": [],
      "source": []
    },
    {
      "cell_type": "code",
      "execution_count": null,
      "metadata": {},
      "outputs": [],
      "source": [
        "\n"
      ]
    },
    {
      "cell_type": "code",
      "execution_count": null,
      "metadata": {
        "id": "E9BFrspWcAwZ"
      },
      "outputs": [],
      "source": []
    },
    {
      "cell_type": "code",
      "execution_count": null,
      "metadata": {
        "id": "k4v_RIAwgvCx"
      },
      "outputs": [],
      "source": []
    },
    {
      "cell_type": "code",
      "execution_count": null,
      "metadata": {
        "id": "x-iCfkI5gzTi"
      },
      "outputs": [],
      "source": []
    },
    {
      "attachments": {},
      "cell_type": "markdown",
      "metadata": {
        "id": "zfvIn-8biqxc"
      },
      "source": [
        "### Questions phrasing\n",
        "Idea for testing is to take all the arguments from from the verb that is the same(not the auxialiry).\n",
        " All the arguments should be the same except for the verb."
      ]
    },
    {
      "cell_type": "code",
      "execution_count": 11,
      "metadata": {},
      "outputs": [],
      "source": [
        "a=[[\"She studied hard for the exam.\", \"Did she study hard for the exam?\"],\n",
        "[\"He is working from home today.\", \"Is he working from home today?\"],\n",
        "['You give the book to me.', 'Do you give the book to me?'],\n",
        "['They are going to the cinema.', 'Are they going to the cinema?'],\n",
        "['the dog is barking', 'is the dog barking?'],\n",
        "['We love pizza with spicy sauce.', 'Do we love pizza with spicy sauce?'],\n",
        "['Pelicans are flying over the lake.', 'Are pelicans flying over the lake?'],\n",
        "['The cat is sleeping on the sofa.', 'Is the cat sleeping on the sofa?'],\n",
        "['The dog is barking at the cat.', 'Is the dog barking at the cat?'],\n",
        "['In Moscow, it is snowing.', 'Is it snowing in Moscow?'],\n",
        "['There are a bunch of keys on the table.', 'Are there a bunch of keys on the table?'],\n",
        "['Some people like to eat insects.', 'Do some people like to eat insects?'],\n",
        "['I would feel bad if I were you.', 'Would I feel bad if I were you?'],\n",
        "['You have been to Paris before', 'Have you been to Paris before?']]\n"
      ]
    },
    {
      "cell_type": "code",
      "execution_count": 16,
      "metadata": {},
      "outputs": [],
      "source": []
    },
    {
      "cell_type": "code",
      "execution_count": 17,
      "metadata": {},
      "outputs": [
        {
          "name": "stdout",
          "output_type": "stream",
          "text": [
            "Rate of failure with for INV in question rephrasing task  0.0\n"
          ]
        }
      ],
      "source": [
        "with open(path+\"question_rephrase.json\", 'r') as f:\n",
        "    sentences = json.load(f)\n",
        "\n",
        "sentences=list(sentences.items())\n",
        "\n",
        "rate=eval_predictor_INV(sentences,predictor,\"evaluate_INV_sameArgs\")\n",
        "\n",
        "print(f\"Rate of failure with for INV in question rephrasing task \",rate)\n",
        "\n",
        "append_to_results(results_path,{f\"question_rephrase\":rate})"
      ]
    },
    {
      "cell_type": "code",
      "execution_count": 13,
      "metadata": {},
      "outputs": [
        {
          "name": "stdout",
          "output_type": "stream",
          "text": [
            "different arguments\n"
          ]
        },
        {
          "ename": "NameError",
          "evalue": "name 'exit' is not defined",
          "output_type": "error",
          "traceback": [
            "\u001b[0;31m---------------------------------------------------------------------------\u001b[0m",
            "\u001b[0;31mNameError\u001b[0m                                 Traceback (most recent call last)",
            "Cell \u001b[0;32mIn[13], line 3\u001b[0m\n\u001b[1;32m      1\u001b[0m \u001b[39m#sentences=list(sentences.items())\u001b[39;00m\n\u001b[0;32m----> 3\u001b[0m rate\u001b[39m=\u001b[39meval_predictor_INV(a,predictor,\u001b[39m\"\u001b[39;49m\u001b[39mevaluate_INV_activepassive\u001b[39;49m\u001b[39m\"\u001b[39;49m)\n\u001b[1;32m      5\u001b[0m \u001b[39mprint\u001b[39m(\u001b[39mf\u001b[39m\u001b[39m\"\u001b[39m\u001b[39mRate of failure with for INV activepassive \u001b[39m\u001b[39m\"\u001b[39m,rate)\n\u001b[1;32m      7\u001b[0m append_to_results(results_path,{\u001b[39mf\u001b[39m\u001b[39m\"\u001b[39m\u001b[39mactivepassive_sents\u001b[39m\u001b[39m\"\u001b[39m:rate})\n",
            "Cell \u001b[0;32mIn[9], line 16\u001b[0m, in \u001b[0;36meval_predictor_INV\u001b[0;34m(sentences, predictor, function)\u001b[0m\n\u001b[1;32m     13\u001b[0m pred1 \u001b[39m=\u001b[39m predictor\u001b[39m.\u001b[39mpredict(s1)\n\u001b[1;32m     14\u001b[0m pred2 \u001b[39m=\u001b[39m predictor\u001b[39m.\u001b[39mpredict(s2) \n\u001b[0;32m---> 16\u001b[0m match\u001b[39m=\u001b[39mf(pred1,pred2,verbose\u001b[39m=\u001b[39;49m\u001b[39mFalse\u001b[39;49;00m)\n\u001b[1;32m     18\u001b[0m \u001b[39mif\u001b[39;00m \u001b[39mnot\u001b[39;00m (match):\n\u001b[1;32m     19\u001b[0m   fails\u001b[39m+\u001b[39m\u001b[39m=\u001b[39m\u001b[39m1\u001b[39m\n",
            "File \u001b[0;32m~/Uni/advNLP/Exam/Challenging-SRL/utils.py:207\u001b[0m, in \u001b[0;36mevaluate_INV_activepassive\u001b[0;34m(preda, predp, verbose)\u001b[0m\n\u001b[1;32m    205\u001b[0m \u001b[39mif\u001b[39;00m da\u001b[39m.\u001b[39mkeys()\u001b[39m!=\u001b[39mdp\u001b[39m.\u001b[39mkeys():\n\u001b[1;32m    206\u001b[0m     \u001b[39mprint\u001b[39m(\u001b[39m\"\u001b[39m\u001b[39mdifferent arguments\u001b[39m\u001b[39m\"\u001b[39m)\n\u001b[0;32m--> 207\u001b[0m     exit()\n\u001b[1;32m    209\u001b[0m \u001b[39mfor\u001b[39;00m k \u001b[39min\u001b[39;00m da\u001b[39m.\u001b[39mkeys():\n\u001b[1;32m    211\u001b[0m     words1 \u001b[39m=\u001b[39m \u001b[39mset\u001b[39m(da[k]\u001b[39m.\u001b[39msplit())\n",
            "\u001b[0;31mNameError\u001b[0m: name 'exit' is not defined"
          ]
        }
      ],
      "source": [
        "#sentences=list(sentences.items())\n",
        "\n",
        "rate=eval_predictor_INV(a,predictor,\"evaluate_INV_activepassive\")\n",
        "\n",
        "print(f\"Rate of failure with for INV activepassive \",rate)\n",
        "\n",
        "append_to_results(results_path,{f\"activepassive_sents\":rate})\n"
      ]
    },
    {
      "attachments": {},
      "cell_type": "markdown",
      "metadata": {},
      "source": [
        "## Coreference STUDYING\n"
      ]
    },
    {
      "cell_type": "code",
      "execution_count": null,
      "metadata": {},
      "outputs": [],
      "source": [
        "\n",
        "pred1=predictor_Bert.predict(\"It annoys me the results of the election\")\n",
        "pred1\n",
        "\n",
        "\n",
        "pred=predictor_Bert.predict(\"It Is great the results of the election\")\n",
        "pred\n",
        "\n",
        "pred=predictor_Bert.predict(\"He was the one that did not want to go to the party\")\n",
        "for v in pred['verbs']:\n",
        "  print(v['description'])\n",
        "  \n",
        "\n",
        "pred=predictor_Bert.predict(\"she is the sister that likes milk\")\n",
        "for v in pred['verbs']:\n",
        "  print(v['description'])\n",
        "  \n",
        "\n",
        "relative_pronouns = {\n",
        "    \"who\": \"The person who stole my bike was caught by the police.\",\n",
        "    \"whom\": \"The woman whom I saw at the store was carrying a lot of groceries.\",\n",
        "    \"which\": \"The car which I rented for my vacation was very comfortable.\",\n",
        "    \"whose\": \"The man whose wallet was lost reported the incident to the authorities.\",\n",
        "    \"where\": \"The park where we had our picnic was very peaceful.\",\n",
        "    \"when\": \"The time when we first met is a very special memory for me.\",\n",
        "    \"that\": \"The book that I'm reading right now is very suspenseful.\",\n",
        "    \"whoever\": \"Whoever finishes first gets a prize.\",\n",
        "    \"whichever\": \"You can choose whichever movie you want to see.\",\n",
        "}\n",
        "for x in relative_pronouns:\n",
        "  print(x)\n",
        "  pred=predictor_Bert.predict(relative_pronouns[x])\n",
        "  for v in pred['verbs']:\n",
        "    print(v['description'])\n",
        "  \n",
        "pred=predictor_Bert.predict(\"The partner of the lady, who is very old, has exacly my t-shirt\")\n",
        "pred\n",
        "pred['verbs'][0]['description']\n",
        "\n",
        "pred=predictor_Bert.predict(\"The partner of the lady who is very old, has exacly my t-shirt\")\n",
        "pred\n",
        "pred['verbs'][0]['description']\n",
        "\n",
        "pred=predictor_Bert.predict(\"The partner of the lady who is very old has exacly my t-shirt\")\n",
        "pred\n",
        "pred['verbs'][0]['description']\n",
        "pred=predictor_Bert.predict(\"The cars in the shop which is expensive, are exacly what i dream\")\n",
        "pred\n",
        "pred['verbs'][0]['description']\n",
        "\n",
        "Ok so the idea is the coreference u dont need here becuase SRL is sentence based very much and for every predicate\n",
        "you have a sentence. So the coreference is not needed. But sometimes you have that in the same sentence."
      ]
    },
    {
      "cell_type": "code",
      "execution_count": 204,
      "metadata": {},
      "outputs": [
        {
          "data": {
            "text/plain": [
              "{'verbs': [{'verb': 'is',\n",
              "   'description': '[ARG1: It] [V: is] [ARG2: the key of Louis] and the car is also his',\n",
              "   'tags': ['B-ARG1',\n",
              "    'B-V',\n",
              "    'B-ARG2',\n",
              "    'I-ARG2',\n",
              "    'I-ARG2',\n",
              "    'I-ARG2',\n",
              "    'O',\n",
              "    'O',\n",
              "    'O',\n",
              "    'O',\n",
              "    'O',\n",
              "    'O']},\n",
              "  {'verb': 'is',\n",
              "   'description': 'It is the key of Louis and [ARG1: the car] [V: is] [ARGM-ADV: also] [ARG2: his]',\n",
              "   'tags': ['O',\n",
              "    'O',\n",
              "    'O',\n",
              "    'O',\n",
              "    'O',\n",
              "    'O',\n",
              "    'O',\n",
              "    'B-ARG1',\n",
              "    'I-ARG1',\n",
              "    'B-V',\n",
              "    'B-ARGM-ADV',\n",
              "    'B-ARG2']}],\n",
              " 'words': ['It',\n",
              "  'is',\n",
              "  'the',\n",
              "  'key',\n",
              "  'of',\n",
              "  'Louis',\n",
              "  'and',\n",
              "  'the',\n",
              "  'car',\n",
              "  'is',\n",
              "  'also',\n",
              "  'his']}"
            ]
          },
          "execution_count": 204,
          "metadata": {},
          "output_type": "execute_result"
        }
      ],
      "source": [
        "\n",
        "pred1=predictor_Bert.predict(\"It is the key of Louis and the car is also his\")\n",
        "pred1"
      ]
    },
    {
      "attachments": {},
      "cell_type": "markdown",
      "metadata": {
        "id": "XzSt0hAmQcYJ"
      },
      "source": [
        "## AMBIGUITY"
      ]
    },
    {
      "attachments": {},
      "cell_type": "markdown",
      "metadata": {
        "id": "88Z28UZUr6NW"
      },
      "source": [
        "#### PP -ambiguity\n",
        " "
      ]
    },
    {
      "cell_type": "code",
      "execution_count": null,
      "metadata": {
        "colab": {
          "base_uri": "https://localhost:8080/"
        },
        "id": "__UUhlKKi0II",
        "outputId": "df279aeb-590e-497c-9510-393de9163699"
      },
      "outputs": [
        {
          "name": "stdout",
          "output_type": "stream",
          "text": [
            "I went to the resturant by the Hutsin\n",
            "['[ARG0: I] [V: went] [ARG4: to the resturant by the Hutsin]']\n",
            "\n",
            "\n",
            "\n",
            "I went to the resturant by bike\n",
            "['[ARG0: I] [V: went] [ARG4: to the resturant] [ARGM-MNR: by bike]']\n",
            "\n",
            "\n",
            "\n"
          ]
        }
      ],
      "source": [
        "sentences=\"I went to the resturant by the Hutsin\", \"I went to the resturant by\"\n",
        "for s in sentences:\n",
        "  print(s)\n",
        "  pred=predictor.predict(s)\n",
        "  desc=[x['description'] for x in pred['verbs']]\n",
        "  #print(verbs)\n",
        "  print(desc)\n",
        "  print(\"\\n\\n\")"
      ]
    },
    {
      "cell_type": "code",
      "execution_count": null,
      "metadata": {
        "id": "fqHUwgoCr7OA"
      },
      "outputs": [],
      "source": [
        "[\"I fixed the car with a red logo\",\"I fixed the car with a wretch\"]\n",
        "[\"I bought a computer with GPU\",\" I bought a computer wit bitcoins\"]\n"
      ]
    },
    {
      "cell_type": "code",
      "execution_count": null,
      "metadata": {
        "id": "7i47oLC8qoSV"
      },
      "outputs": [],
      "source": []
    },
    {
      "cell_type": "markdown",
      "metadata": {
        "id": "XmfHHUH_qm0C"
      },
      "source": []
    },
    {
      "cell_type": "code",
      "execution_count": null,
      "metadata": {
        "id": "NaB7JX0uqlcL"
      },
      "outputs": [],
      "source": []
    },
    {
      "cell_type": "code",
      "execution_count": null,
      "metadata": {
        "id": "pyNb46UrRwK9"
      },
      "outputs": [],
      "source": []
    },
    {
      "cell_type": "code",
      "execution_count": null,
      "metadata": {
        "id": "r-sgdwntxYwk"
      },
      "outputs": [],
      "source": []
    },
    {
      "attachments": {},
      "cell_type": "markdown",
      "metadata": {
        "id": "18hqUeT2Yije"
      },
      "source": []
    },
    {
      "attachments": {},
      "cell_type": "markdown",
      "metadata": {
        "id": "AsWFgLOtBAOh"
      },
      "source": [
        "# PROBABLY NOT DOING THEM any mre\n",
        "\n",
        "\n",
        "\n"
      ]
    },
    {
      "cell_type": "code",
      "execution_count": 45,
      "metadata": {
        "id": "51L_HfZnk_NJ"
      },
      "outputs": [],
      "source": []
    },
    {
      "cell_type": "code",
      "execution_count": null,
      "metadata": {
        "id": "ZUa4DZGhqQvq"
      },
      "outputs": [],
      "source": []
    },
    {
      "attachments": {},
      "cell_type": "markdown",
      "metadata": {},
      "source": [
        "### Overlapping spans\n"
      ]
    },
    {
      "attachments": {},
      "cell_type": "markdown",
      "metadata": {
        "id": "qywAgrXmqR8S"
      },
      "source": [
        "### INCISI"
      ]
    },
    {
      "cell_type": "code",
      "execution_count": 194,
      "metadata": {
        "colab": {
          "base_uri": "https://localhost:8080/"
        },
        "id": "3NIVdwIEqTDI",
        "outputId": "d2fc01e9-3d77-4c96-ef0c-a1aa102d3f19"
      },
      "outputs": [
        {
          "name": "stdout",
          "output_type": "stream",
          "text": [
            "This, friend, is epic \n",
            "['[ARG1: This ,] [ARGM-DIS: friend] , [V: is] [ARG2: epic]']\n",
            "\n",
            "\n",
            "\n",
            "This friend is epic\n",
            "['[ARG1: This friend] [V: is] [ARG2: epic]']\n",
            "\n",
            "\n",
            "\n"
          ]
        }
      ],
      "source": [
        "sentences=[\"This, friend, is epic \",\"This friend is epic\"]\n",
        "for s in sentences:\n",
        "  print(s)\n",
        "  pred=predictor_Bert.predict(s)\n",
        "  desc=[x['description'] for x in pred['verbs']]\n",
        "  #print(verbs)\n",
        "  print(desc)\n",
        "  print(\"\\n\\n\")"
      ]
    },
    {
      "cell_type": "code",
      "execution_count": null,
      "metadata": {
        "id": "HFQzrpEHqajZ"
      },
      "outputs": [],
      "source": [
        "(I might stay, tonight, with you)"
      ]
    },
    {
      "attachments": {},
      "cell_type": "markdown",
      "metadata": {
        "id": "1qa_YDiogvoa"
      },
      "source": [
        "### DIfferent frames for labels recognition\n",
        "With mutiple verbs, argoument confusion or shiet"
      ]
    },
    {
      "cell_type": "code",
      "execution_count": null,
      "metadata": {
        "id": "_Rt77YCcYkfe"
      },
      "outputs": [],
      "source": []
    },
    {
      "attachments": {},
      "cell_type": "markdown",
      "metadata": {
        "id": "JoQIAH4WY2Kl"
      },
      "source": [
        "### Saxon genitive"
      ]
    },
    {
      "cell_type": "code",
      "execution_count": null,
      "metadata": {
        "id": "gqJO-kASY35h"
      },
      "outputs": [],
      "source": [
        "paired_sentences = [    [\"The president's decision to withdraw troops from the region caused controversy among military leaders.\",      \"The decision of the president to withdraw troops from the region caused controversy among military leaders.\"],\n",
        "    [\"The CEO's success in turning around the struggling company was due in large part to her innovative marketing strategies.\",      \"The success of the CEO in turning around the struggling company was due in large part to her innovative marketing strategies.\"],\n",
        "    [\"The director's vision for the film was not fully realized due to budget constraints and scheduling conflicts.\",      \"The vision of the director for the film was not fully realized due to budget constraints and scheduling conflicts.\"],\n",
        "    [\"The professor's lecture on the history of ancient Rome was attended by a packed auditorium of eager students.\",      \"The lecture on the history of ancient Rome of the professor was attended by a packed auditorium of eager students.\"],\n",
        "    [\"The artist's latest work, a sculpture made entirely of recycled materials, was featured in a prominent gallery exhibition.\",      \"The latest work of the artist, a sculpture made entirely of recycled materials, was featured in a prominent gallery exhibition.\"],\n",
        "    [\"The athlete's rigorous training regimen and strict diet led to her record-breaking performance at the championship.\",      \"The rigorous training regimen and strict diet of the athlete led to her record-breaking performance at the championship.\"],\n",
        "    [\"The author's use of symbolism and metaphor in her novel added depth and complexity to the story.\",      \"The use of symbolism and metaphor in her novel of the author added depth and complexity to the story.\"]\n",
        "]\n"
      ]
    },
    {
      "cell_type": "code",
      "execution_count": null,
      "metadata": {
        "id": "xA-tIuKeeFwl"
      },
      "outputs": [],
      "source": []
    },
    {
      "cell_type": "code",
      "execution_count": null,
      "metadata": {
        "id": "e3HiN4_geN9E"
      },
      "outputs": [],
      "source": []
    },
    {
      "attachments": {},
      "cell_type": "markdown",
      "metadata": {
        "id": "bZmRzaqwSkTM"
      },
      "source": [
        "### Intransitive verbs"
      ]
    },
    {
      "cell_type": "code",
      "execution_count": null,
      "metadata": {
        "id": "Dp9F9dxYSmzc"
      },
      "outputs": [],
      "source": [
        "sentences = ['The sun rises in the east.',\n",
        "             'He slept for 10 hours.',\n",
        "             'They danced all night.',\n",
        "             'The flowers bloomed in the spring.',\n",
        "             'The baby cried all night.',\n",
        "             'The cat meowed loudly.',\n",
        "             'The car stopped suddenly.',\n",
        "             'She ran around the park.',\n",
        "             'The plane took off at 9 am.',\n",
        "             'The wind blew fiercely.',\n",
        "             'The tree swayed in the wind.',\n",
        "             'The river flows downstream.',\n",
        "             'The coffee brewed in the pot.',\n",
        "             'The music played softly in the background.',\n",
        "             'The bird chirped early in the morning.',\n",
        "             'The children laughed and played.',\n",
        "             'The fire crackled in the fireplace.',\n",
        "             'The leaves fell from the trees.',\n",
        "             'The boat sailed across the ocean.',\n",
        "             'The train arrived at the station on time.']\n"
      ]
    },
    {
      "cell_type": "code",
      "execution_count": null,
      "metadata": {
        "colab": {
          "base_uri": "https://localhost:8080/"
        },
        "id": "1U47CiSLSsia",
        "outputId": "eba4faa3-5a89-48aa-a482-9a951d02eb1c"
      },
      "outputs": [
        {
          "name": "stdout",
          "output_type": "stream",
          "text": [
            "The sun rises in the east.\n",
            "['[ARG1: The sun] [V: rises] [ARGM-LOC: in the east] .']\n",
            "\n",
            "\n",
            "\n",
            "He slept for 10 hours.\n",
            "['[ARG0: He] [V: slept] [ARGM-TMP: for 10 hours] .']\n",
            "\n",
            "\n",
            "\n",
            "They danced all night.\n",
            "['[ARG0: They] [V: danced] [ARGM-TMP: all night] .']\n",
            "\n",
            "\n",
            "\n",
            "The flowers bloomed in the spring.\n",
            "['[ARG0: The flowers] [V: bloomed] [ARGM-TMP: in the spring] .']\n",
            "\n",
            "\n",
            "\n",
            "The baby cried all night.\n",
            "['[ARG0: The baby] [V: cried] [ARGM-TMP: all night] .']\n",
            "\n",
            "\n",
            "\n",
            "The cat meowed loudly.\n",
            "['[ARG0: The cat] [V: meowed] [ARGM-MNR: loudly] .']\n",
            "\n",
            "\n",
            "\n",
            "The car stopped suddenly.\n",
            "['[ARG1: The car] [V: stopped] [ARGM-MNR: suddenly] .']\n",
            "\n",
            "\n",
            "\n",
            "She ran around the park.\n",
            "['[ARG0: She] [V: ran] [ARGM-DIR: around the park] .']\n",
            "\n",
            "\n",
            "\n",
            "The plane took off at 9 am.\n",
            "['[ARG1: The plane] [V: took] off [ARGM-TMP: at 9 am] .']\n",
            "\n",
            "\n",
            "\n",
            "The wind blew fiercely.\n",
            "['[ARG1: The wind] [V: blew] [ARGM-MNR: fiercely] .']\n",
            "\n",
            "\n",
            "\n",
            "The tree swayed in the wind.\n",
            "['[ARG1: The tree] [V: swayed] [ARGM-LOC: in the wind] .']\n",
            "\n",
            "\n",
            "\n",
            "The river flows downstream.\n",
            "['[ARG1: The river] [V: flows] [ARGM-DIR: downstream] .']\n",
            "\n",
            "\n",
            "\n",
            "The coffee brewed in the pot.\n",
            "['[ARG1: The coffee] [V: brewed] [ARGM-LOC: in the pot] .']\n",
            "\n",
            "\n",
            "\n",
            "The music played softly in the background.\n",
            "['[ARG1: The music] [V: played] [ARGM-MNR: softly] [ARGM-LOC: in the background] .']\n",
            "\n",
            "\n",
            "\n",
            "The bird chirped early in the morning.\n",
            "['[ARG0: The bird] [V: chirped] [ARGM-TMP: early in the morning] .']\n",
            "\n",
            "\n",
            "\n",
            "The children laughed and played.\n",
            "['[ARG0: The children] [V: laughed] and played .', '[ARG0: The children] laughed and [V: played] .']\n",
            "\n",
            "\n",
            "\n",
            "The fire crackled in the fireplace.\n",
            "['[ARG0: The fire] [V: crackled] [ARGM-LOC: in the fireplace] .']\n",
            "\n",
            "\n",
            "\n",
            "The leaves fell from the trees.\n",
            "['[ARG1: The leaves] [V: fell] [ARG3: from the trees] .']\n",
            "\n",
            "\n",
            "\n",
            "The boat sailed across the ocean.\n",
            "['[ARG0: The boat] [V: sailed] [ARGM-DIR: across the ocean] .']\n",
            "\n",
            "\n",
            "\n",
            "The train arrived at the station on time.\n",
            "['[ARG1: The train] [V: arrived] [ARG4: at the station] [ARGM-TMP: on time] .']\n",
            "\n",
            "\n",
            "\n"
          ]
        }
      ],
      "source": [
        "for s in sentences:\n",
        "  print(s)\n",
        "  pred=predictor.predict(s)\n",
        "  desc=[x['description'] for x in pred['verbs']]\n",
        "  #print(verbs)\n",
        "  print(desc)\n",
        "  print(\"\\n\\n\")"
      ]
    },
    {
      "cell_type": "code",
      "execution_count": null,
      "metadata": {
        "id": "crDSij6dS3XA"
      },
      "outputs": [],
      "source": [
        "sentences = ['The snow fell gently from the sky.',\n",
        "             'She laughed uncontrollably at the joke.',\n",
        "             'The sun set over the horizon.',\n",
        "             'The children played happily in the park.',\n",
        "             'The fire burned brightly in the fireplace.',\n",
        "             'The wind howled outside the window.',\n",
        "             'The cake baked for an hour.',\n",
        "             'The door opened slowly.',\n",
        "             'The crowd cheered loudly at the concert.',\n",
        "             'The athlete ran around the track.',\n",
        "             'The tree grew tall and strong.',\n",
        "             'The river flowed peacefully.',\n",
        "             'The bird flew gracefully through the air.',\n",
        "             'The fish swam quickly in the water.',\n",
        "             'The dog barked loudly at the mailman.',\n",
        "             'The car drove smoothly down the road.',\n",
        "             'The plane flew high above the clouds.',\n",
        "             'The moon shone brightly in the sky.',\n",
        "             'The stars twinkled in the night sky.',\n",
        "             'The flowers swayed in the breeze.']\n"
      ]
    },
    {
      "cell_type": "code",
      "execution_count": null,
      "metadata": {
        "colab": {
          "base_uri": "https://localhost:8080/"
        },
        "id": "0W15h4WVZJFj",
        "outputId": "4af66d47-d0cc-4f15-9b9f-0afd4dbded95"
      },
      "outputs": [
        {
          "name": "stdout",
          "output_type": "stream",
          "text": [
            "The snow fell gently from the sky.\n",
            "['[ARG1: The snow] [V: fell] [ARGM-MNR: gently] [ARG3: from the sky] .']\n",
            "\n",
            "\n",
            "\n",
            "She laughed uncontrollably at the joke.\n",
            "['[ARG0: She] [V: laughed] [ARGM-MNR: uncontrollably] [ARG2: at the joke] .']\n",
            "\n",
            "\n",
            "\n",
            "The sun set over the horizon.\n",
            "['[ARG1: The sun] [V: set] [ARG2: over the horizon] .']\n",
            "\n",
            "\n",
            "\n",
            "The children played happily in the park.\n",
            "['[ARG0: The children] [V: played] [ARGM-MNR: happily] [ARGM-LOC: in the park] .']\n",
            "\n",
            "\n",
            "\n",
            "The fire burned brightly in the fireplace.\n",
            "['[ARG1: The fire] [V: burned] [ARGM-MNR: brightly] [ARGM-LOC: in the fireplace] .']\n",
            "\n",
            "\n",
            "\n",
            "The wind howled outside the window.\n",
            "['[ARG0: The wind] [V: howled] [ARGM-LOC: outside the window] .']\n",
            "\n",
            "\n",
            "\n",
            "The cake baked for an hour.\n",
            "['[ARG1: The cake] [V: baked] [ARGM-TMP: for an hour] .']\n",
            "\n",
            "\n",
            "\n",
            "The door opened slowly.\n",
            "['[ARG1: The door] [V: opened] [ARGM-MNR: slowly] .']\n",
            "\n",
            "\n",
            "\n",
            "The crowd cheered loudly at the concert.\n",
            "['[ARG0: The crowd] [V: cheered] [ARGM-MNR: loudly] [ARG1: at the concert] .']\n",
            "\n",
            "\n",
            "\n",
            "The athlete ran around the track.\n",
            "['[ARG0: The athlete] [V: ran] [ARGM-DIR: around the track] .']\n",
            "\n",
            "\n",
            "\n",
            "The tree grew tall and strong.\n",
            "['[ARG1: The tree] [V: grew] [ARGM-PRD: tall and strong] .']\n",
            "\n",
            "\n",
            "\n",
            "The river flowed peacefully.\n",
            "['[ARG1: The river] [V: flowed] [ARGM-MNR: peacefully] .']\n",
            "\n",
            "\n",
            "\n",
            "The bird flew gracefully through the air.\n",
            "['[ARG0: The bird] [V: flew] [ARGM-MNR: gracefully] [ARGM-DIR: through the air] .']\n",
            "\n",
            "\n",
            "\n",
            "The fish swam quickly in the water.\n",
            "[]\n",
            "\n",
            "\n",
            "\n",
            "The dog barked loudly at the mailman.\n",
            "['[ARG0: The dog] [V: barked] [ARGM-MNR: loudly] [ARG2: at the mailman] .']\n",
            "\n",
            "\n",
            "\n",
            "The car drove smoothly down the road.\n",
            "['[ARG0: The car] [V: drove] [ARGM-MNR: smoothly] [ARG1: down the road] .']\n",
            "\n",
            "\n",
            "\n",
            "The plane flew high above the clouds.\n",
            "['[ARG1: The plane] [V: flew] [ARGM-LOC: high above the clouds] .']\n",
            "\n",
            "\n",
            "\n",
            "The moon shone brightly in the sky.\n",
            "['[ARG1: The moon] [V: shone] [ARGM-MNR: brightly] [ARGM-LOC: in the sky] .']\n",
            "\n",
            "\n",
            "\n",
            "The stars twinkled in the night sky.\n",
            "['[ARG1: The stars] [V: twinkled] [ARGM-LOC: in the night sky] .']\n",
            "\n",
            "\n",
            "\n",
            "The flowers swayed in the breeze.\n",
            "['[ARG1: The flowers] [V: swayed] [ARGM-LOC: in the breeze] .']\n",
            "\n",
            "\n",
            "\n"
          ]
        }
      ],
      "source": [
        "for s in sentences:\n",
        "  print(s)\n",
        "  pred=predictor.predict(s)\n",
        "  desc=[x['description'] for x in pred['verbs']]\n",
        "  #print(verbs)\n",
        "  print(desc)\n",
        "  print(\"\\n\\n\")"
      ]
    },
    {
      "cell_type": "code",
      "execution_count": null,
      "metadata": {
        "colab": {
          "base_uri": "https://localhost:8080/"
        },
        "id": "fNLh24X7Z5zo",
        "outputId": "5e4fee14-f665-4f11-9c04-f26c35025ffc"
      },
      "outputs": [
        {
          "data": {
            "text/plain": [
              "{'verbs': [{'verb': 'keep',\n",
              "   'description': '[ARG0: Many people] [V: keep] [ARG1: falling for this CON - GAME that lower taxes on the rich benefits everyone] .',\n",
              "   'tags': ['B-ARG0',\n",
              "    'I-ARG0',\n",
              "    'B-V',\n",
              "    'B-ARG1',\n",
              "    'I-ARG1',\n",
              "    'I-ARG1',\n",
              "    'I-ARG1',\n",
              "    'I-ARG1',\n",
              "    'I-ARG1',\n",
              "    'I-ARG1',\n",
              "    'I-ARG1',\n",
              "    'I-ARG1',\n",
              "    'I-ARG1',\n",
              "    'I-ARG1',\n",
              "    'I-ARG1',\n",
              "    'I-ARG1',\n",
              "    'I-ARG1',\n",
              "    'O']},\n",
              "  {'verb': 'falling',\n",
              "   'description': '[ARG1: Many people] keep [V: falling] [ARGM-PRP: for this CON - GAME that lower taxes on the rich benefits everyone] .',\n",
              "   'tags': ['B-ARG1',\n",
              "    'I-ARG1',\n",
              "    'O',\n",
              "    'B-V',\n",
              "    'B-ARGM-PRP',\n",
              "    'I-ARGM-PRP',\n",
              "    'I-ARGM-PRP',\n",
              "    'I-ARGM-PRP',\n",
              "    'I-ARGM-PRP',\n",
              "    'I-ARGM-PRP',\n",
              "    'I-ARGM-PRP',\n",
              "    'I-ARGM-PRP',\n",
              "    'I-ARGM-PRP',\n",
              "    'I-ARGM-PRP',\n",
              "    'I-ARGM-PRP',\n",
              "    'I-ARGM-PRP',\n",
              "    'I-ARGM-PRP',\n",
              "    'O']}],\n",
              " 'words': ['Many',\n",
              "  'people',\n",
              "  'keep',\n",
              "  'falling',\n",
              "  'for',\n",
              "  'this',\n",
              "  'CON',\n",
              "  '-',\n",
              "  'GAME',\n",
              "  'that',\n",
              "  'lower',\n",
              "  'taxes',\n",
              "  'on',\n",
              "  'the',\n",
              "  'rich',\n",
              "  'benefits',\n",
              "  'everyone',\n",
              "  '.']}"
            ]
          },
          "execution_count": 161,
          "metadata": {},
          "output_type": "execute_result"
        }
      ],
      "source": [
        "sent=\"Many people keep falling for this CON - GAME that lower taxes on the rich benefits everyone . \"\n",
        "predictor.predict(sent)"
      ]
    },
    {
      "cell_type": "code",
      "execution_count": null,
      "metadata": {
        "colab": {
          "base_uri": "https://localhost:8080/"
        },
        "id": "zpYziEq6aAhf",
        "outputId": "bf89e4fd-b324-43fd-9fe2-22d18b2ec2e6"
      },
      "outputs": [
        {
          "data": {
            "text/plain": [
              "{'verbs': [{'verb': 'walked',\n",
              "   'description': '[ARG0: He] [V: walked] [ARG1: the dog] [ARGM-GOL: to the park and back] .',\n",
              "   'tags': ['B-ARG0',\n",
              "    'B-V',\n",
              "    'B-ARG1',\n",
              "    'I-ARG1',\n",
              "    'B-ARGM-GOL',\n",
              "    'I-ARGM-GOL',\n",
              "    'I-ARGM-GOL',\n",
              "    'I-ARGM-GOL',\n",
              "    'I-ARGM-GOL',\n",
              "    'O']}],\n",
              " 'words': ['He',\n",
              "  'walked',\n",
              "  'the',\n",
              "  'dog',\n",
              "  'to',\n",
              "  'the',\n",
              "  'park',\n",
              "  'and',\n",
              "  'back',\n",
              "  '.']}"
            ]
          },
          "execution_count": 163,
          "metadata": {},
          "output_type": "execute_result"
        }
      ],
      "source": [
        "predictor.predict(\"He walked the dog to the park and back.\")"
      ]
    },
    {
      "cell_type": "code",
      "execution_count": null,
      "metadata": {
        "colab": {
          "base_uri": "https://localhost:8080/"
        },
        "id": "NPbWPYbidmKY",
        "outputId": "426766eb-8c35-4be3-e22f-afe03b575d44"
      },
      "outputs": [
        {
          "data": {
            "text/plain": [
              "{'verbs': [{'verb': 'walked',\n",
              "   'description': '[ARG0: He] [V: walked] [ARGM-COM: with the dog] [ARGM-GOL: to the park and back] .',\n",
              "   'tags': ['B-ARG0',\n",
              "    'B-V',\n",
              "    'B-ARGM-COM',\n",
              "    'I-ARGM-COM',\n",
              "    'I-ARGM-COM',\n",
              "    'B-ARGM-GOL',\n",
              "    'I-ARGM-GOL',\n",
              "    'I-ARGM-GOL',\n",
              "    'I-ARGM-GOL',\n",
              "    'I-ARGM-GOL',\n",
              "    'O']}],\n",
              " 'words': ['He',\n",
              "  'walked',\n",
              "  'with',\n",
              "  'the',\n",
              "  'dog',\n",
              "  'to',\n",
              "  'the',\n",
              "  'park',\n",
              "  'and',\n",
              "  'back',\n",
              "  '.']}"
            ]
          },
          "execution_count": 164,
          "metadata": {},
          "output_type": "execute_result"
        }
      ],
      "source": [
        "predictor.predict(\"He walked with the dog to the park and back.\")"
      ]
    },
    {
      "cell_type": "code",
      "execution_count": null,
      "metadata": {
        "colab": {
          "base_uri": "https://localhost:8080/"
        },
        "id": "zyRX4rLYdzje",
        "outputId": "65eaa0f1-1bca-4953-e0f5-2ae227c50313"
      },
      "outputs": [
        {
          "data": {
            "text/plain": [
              "{'verbs': [{'verb': 'see',\n",
              "   'description': '[ARG0: I] [V: see] [ARG1: a man with a telescope under his arm]',\n",
              "   'tags': ['B-ARG0',\n",
              "    'B-V',\n",
              "    'B-ARG1',\n",
              "    'I-ARG1',\n",
              "    'I-ARG1',\n",
              "    'I-ARG1',\n",
              "    'I-ARG1',\n",
              "    'I-ARG1',\n",
              "    'I-ARG1',\n",
              "    'I-ARG1']}],\n",
              " 'words': ['I',\n",
              "  'see',\n",
              "  'a',\n",
              "  'man',\n",
              "  'with',\n",
              "  'a',\n",
              "  'telescope',\n",
              "  'under',\n",
              "  'his',\n",
              "  'arm']}"
            ]
          },
          "execution_count": 182,
          "metadata": {},
          "output_type": "execute_result"
        }
      ],
      "source": [
        "predictor.predict(\"I see a man with a telescope under his arm\")"
      ]
    },
    {
      "cell_type": "code",
      "execution_count": null,
      "metadata": {
        "id": "a9NCwD39fjDK"
      },
      "outputs": [],
      "source": []
    },
    {
      "cell_type": "code",
      "execution_count": null,
      "metadata": {
        "colab": {
          "base_uri": "https://localhost:8080/"
        },
        "id": "yKENZLQKew3c",
        "outputId": "1e0d7a08-8386-4948-a908-01544f0742bc"
      },
      "outputs": [
        {
          "data": {
            "text/plain": [
              "{'verbs': [{'verb': 'took',\n",
              "   'description': '[ARG0: The plane] [V: took] [ARG1: a large turn]',\n",
              "   'tags': ['B-ARG0', 'I-ARG0', 'B-V', 'B-ARG1', 'I-ARG1', 'I-ARG1']}],\n",
              " 'words': ['The', 'plane', 'took', 'a', 'large', 'turn']}"
            ]
          },
          "execution_count": 169,
          "metadata": {},
          "output_type": "execute_result"
        }
      ],
      "source": [
        "predictor.predict(\"The plane took a large turn\")"
      ]
    },
    {
      "attachments": {},
      "cell_type": "markdown",
      "metadata": {},
      "source": [
        "### Parenthetical Elements "
      ]
    }
  ],
  "metadata": {
    "colab": {
      "authorship_tag": "ABX9TyM6/gtRwphs5tZvfVtQ94Aw",
      "collapsed_sections": [
        "GIkns01FKdQd",
        "McQzhKS4LCVk",
        "dY-h4bawK2Ky",
        "2ybvS9k6Bsin",
        "XbQEiiaFLHtT",
        "xura9sS5eOrc",
        "djlQjIyAQIjV",
        "vFvgduTVSxBn",
        "XzSt0hAmQcYJ",
        "x2IbgB-XRuWQ",
        "qywAgrXmqR8S",
        "LzgT37FWxTPY",
        "JoQIAH4WY2Kl",
        "bZmRzaqwSkTM"
      ],
      "include_colab_link": true,
      "mount_file_id": "1j1qfHJIwReXyO57Aq4uu12y1pKIrYqHv",
      "provenance": [],
      "toc_visible": true
    },
    "gpuClass": "standard",
    "kernelspec": {
      "display_name": "nlpTaskKernel",
      "language": "python",
      "name": "nlptaskkernel"
    },
    "language_info": {
      "codemirror_mode": {
        "name": "ipython",
        "version": 3
      },
      "file_extension": ".py",
      "mimetype": "text/x-python",
      "name": "python",
      "nbconvert_exporter": "python",
      "pygments_lexer": "ipython3",
      "version": "3.10.9"
    }
  },
  "nbformat": 4,
  "nbformat_minor": 0
}
