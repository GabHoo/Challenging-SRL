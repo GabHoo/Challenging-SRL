{
  "cells": [
    {
      "cell_type": "markdown",
      "metadata": {
        "colab_type": "text",
        "id": "view-in-github"
      },
      "source": [
        "<a href=\"https://colab.research.google.com/github/GabHoo/Challenging-SRL/blob/main/Test_Models.ipynb\" target=\"_parent\"><img src=\"https://colab.research.google.com/assets/colab-badge.svg\" alt=\"Open In Colab\"/></a>"
      ]
    },
    {
      "cell_type": "code",
      "execution_count": 7,
      "metadata": {
        "id": "iDMzdKns-m8m"
      },
      "outputs": [
        {
          "data": {
            "text/plain": [
              "'\\npip install allennlp\\npip install allennlp-models\\npip install -U spaCy\\npip install checklist\\n'"
            ]
          },
          "execution_count": 7,
          "metadata": {},
          "output_type": "execute_result"
        }
      ],
      "source": [
        "\"\"\"\n",
        "pip install allennlp\n",
        "pip install allennlp-models\n",
        "pip install -U spaCy\n",
        "pip install checklist\n",
        "\"\"\""
      ]
    },
    {
      "cell_type": "code",
      "execution_count": 9,
      "metadata": {
        "colab": {
          "base_uri": "https://localhost:8080/",
          "height": 376
        },
        "id": "AYqkYlfyH6Gv",
        "outputId": "78d4089d-0160-4826-fac5-7fe6c6026b43"
      },
      "outputs": [],
      "source": [
        "from allennlp.predictors import Predictor\n",
        "import allennlp_models.tagging\n",
        "\n",
        "import json\n",
        "\n",
        "from utils import *"
      ]
    },
    {
      "cell_type": "code",
      "execution_count": 10,
      "metadata": {
        "colab": {
          "base_uri": "https://localhost:8080/"
        },
        "id": "6KpDs5JC-q8x",
        "outputId": "38f76788-80a6-42d3-ac59-3d8e524a62b9"
      },
      "outputs": [
        {
          "name": "stderr",
          "output_type": "stream",
          "text": [
            "Some weights of the model checkpoint at bert-base-uncased were not used when initializing BertModel: ['cls.seq_relationship.bias', 'cls.seq_relationship.weight', 'cls.predictions.decoder.weight', 'cls.predictions.transform.dense.bias', 'cls.predictions.transform.dense.weight', 'cls.predictions.transform.LayerNorm.bias', 'cls.predictions.bias', 'cls.predictions.transform.LayerNorm.weight']\n",
            "- This IS expected if you are initializing BertModel from the checkpoint of a model trained on another task or with another architecture (e.g. initializing a BertForSequenceClassification model from a BertForPreTraining model).\n",
            "- This IS NOT expected if you are initializing BertModel from the checkpoint of a model that you expect to be exactly identical (initializing a BertForSequenceClassification model from a BertForSequenceClassification model).\n",
            "/home/gabhoo/.local/lib/python3.10/site-packages/spacy/util.py:887: UserWarning: [W095] Model 'en_core_web_sm' (3.3.0) was trained with spaCy v3.3 and may not be 100% compatible with the current version (3.5.1). If you see errors or degraded performance, download a newer compatible model or retrain your custom model with the current spaCy version. For more details and available updates, run: python -m spacy validate\n",
            "  warnings.warn(warn_msg)\n"
          ]
        },
        {
          "data": {
            "text/html": [
              "<pre style=\"white-space:pre;overflow-x:auto;line-height:normal;font-family:Menlo,'DejaVu Sans Mono',consolas,'Courier New',monospace\"></pre>\n"
            ],
            "text/plain": [
              "\u001b[?25l"
            ]
          },
          "metadata": {},
          "output_type": "display_data"
        },
        {
          "data": {
            "application/vnd.jupyter.widget-view+json": {
              "model_id": "8429eda735a74dbdb856f8bf22dc25e3",
              "version_major": 2,
              "version_minor": 0
            },
            "text/plain": [
              "Output()"
            ]
          },
          "metadata": {},
          "output_type": "display_data"
        },
        {
          "data": {
            "text/html": [
              "<pre style=\"white-space:pre;overflow-x:auto;line-height:normal;font-family:Menlo,'DejaVu Sans Mono',consolas,'Courier New',monospace\">\n",
              "</pre>\n"
            ],
            "text/plain": [
              "\n",
              "\u001b[?25h"
            ]
          },
          "metadata": {},
          "output_type": "display_data"
        }
      ],
      "source": [
        "predictor_Bert = Predictor.from_path(\"https://storage.googleapis.com/allennlp-public-models/structured-prediction-srl-bert.2020.12.15.tar.gz\")\n",
        "\n",
        "predictor_Bilstm = Predictor.from_path(\"https://storage.googleapis.com/allennlp-public-models/openie-model.2020.03.26.tar.gz\")"
      ]
    },
    {
      "cell_type": "markdown",
      "metadata": {
        "id": "bqIKaBdxF1NF"
      },
      "source": [
        "#CREATING DATA SANDBOX"
      ]
    },
    {
      "cell_type": "code",
      "execution_count": 165,
      "metadata": {},
      "outputs": [
        {
          "data": {
            "text/plain": [
              "{'verbs': [{'verb': 'is',\n",
              "   'description': '[ARG1: This] [V: is] [ARG2: tasty]',\n",
              "   'tags': ['B-ARG1', 'B-V', 'B-ARG2']}],\n",
              " 'words': ['This', 'is', 'tasty']}"
            ]
          },
          "execution_count": 165,
          "metadata": {},
          "output_type": "execute_result"
        }
      ],
      "source": [
        "#copula\n",
        "pred=predictor_Bert.predict(\"This is tasty\")\n",
        "pred"
      ]
    },
    {
      "cell_type": "code",
      "execution_count": 166,
      "metadata": {},
      "outputs": [
        {
          "data": {
            "text/plain": [
              "{'verbs': [{'verb': 'was',\n",
              "   'description': 'There [V: was] [ARG1: sound] [ARGM-LOC: there]',\n",
              "   'tags': ['O', 'B-V', 'B-ARG1', 'B-ARGM-LOC']}],\n",
              " 'words': ['There', 'was', 'sound', 'there']}"
            ]
          },
          "execution_count": 166,
          "metadata": {},
          "output_type": "execute_result"
        }
      ],
      "source": [
        "#esistential\n",
        "pred=predictor_Bert.predict(\"There was sound there\")\n",
        "pred"
      ]
    },
    {
      "cell_type": "code",
      "execution_count": 96,
      "metadata": {},
      "outputs": [
        {
          "data": {
            "text/plain": [
              "{'verbs': [{'verb': 'am',\n",
              "   'description': 'I [V: am] cooking',\n",
              "   'tags': ['O', 'B-V', 'O']},\n",
              "  {'verb': 'cooking',\n",
              "   'description': '[ARG0: I] am [V: cooking]',\n",
              "   'tags': ['B-ARG0', 'O', 'B-V']}],\n",
              " 'words': ['I', 'am', 'cooking']}"
            ]
          },
          "execution_count": 96,
          "metadata": {},
          "output_type": "execute_result"
        }
      ],
      "source": [
        "#auxiliary\n",
        "pred=predictor_Bert.predict(\"I am cooking\")\n",
        "pred"
      ]
    },
    {
      "cell_type": "code",
      "execution_count": 99,
      "metadata": {},
      "outputs": [
        {
          "data": {
            "text/plain": [
              "{'verbs': [{'verb': 'is',\n",
              "   'description': 'There [V: is] [ARG1: a cat]',\n",
              "   'tags': ['O', 'B-V', 'B-ARG1', 'I-ARG1']}],\n",
              " 'words': ['There', 'is', 'a', 'cat']}"
            ]
          },
          "execution_count": 99,
          "metadata": {},
          "output_type": "execute_result"
        }
      ],
      "source": [
        "pred=predictor_Bert.predict(\"There is a cat\")\n",
        "pred"
      ]
    },
    {
      "cell_type": "code",
      "execution_count": null,
      "metadata": {},
      "outputs": [],
      "source": []
    },
    {
      "cell_type": "code",
      "execution_count": null,
      "metadata": {},
      "outputs": [],
      "source": [
        "pred=predictor_Bert.predict(\"Brand new test cook Kim sent over a report on her cooking of the shrimp dish.\")\n",
        "pred\n",
        "#for verb in pred['verbs']:\n",
        "    #print(verb['verb'],verb['description'],\"\\n\")"
      ]
    },
    {
      "cell_type": "code",
      "execution_count": 85,
      "metadata": {},
      "outputs": [
        {
          "name": "stdout",
          "output_type": "stream",
          "text": [
            "had === and I [V: had] to like clean the house and do the cooking and watch Sam \n",
            "\n",
            "clean === and [ARG0: I] had to [ARGM-DIS: like] [V: clean] [ARG1: the house] and do the cooking and watch Sam \n",
            "\n",
            "do === and [ARG0: I] had to [ARGM-DIS: like] clean the house and [V: do] [ARG1: the cooking] and watch Sam \n",
            "\n",
            "watch === and [ARG0: I] had to [ARGM-DIS: like] clean the house and do the cooking and [V: watch] [ARG1: Sam] \n",
            "\n"
          ]
        }
      ],
      "source": [
        "pred=predictor_Bert.predict(\"and I had to like clean the house and do the cooking and watch Sam\")\n",
        "pred\n",
        "for verb in pred['verbs']:\n",
        "    print(verb['verb'],\"===\",verb['description'],\"\\n\")"
      ]
    },
    {
      "cell_type": "code",
      "execution_count": 86,
      "metadata": {},
      "outputs": [
        {
          "name": "stdout",
          "output_type": "stream",
          "text": [
            "cooking === [ARG0: Twenty five trucks] capable of [V: cooking] [ARG1: food] were dispatched from other states . \n",
            "\n",
            "were === Twenty five trucks capable of cooking food [V: were] dispatched from other states . \n",
            "\n",
            "dispatched === [ARG1: Twenty five trucks capable of cooking food] were [V: dispatched] [ARGM-DIR: from other states] . \n",
            "\n"
          ]
        }
      ],
      "source": [
        "pred=predictor_Bert.predict(\"Twenty five trucks capable of cooking food were dispatched from other states .\")\n",
        "pred\n",
        "for verb in pred['verbs']:\n",
        "    print(verb['verb'],\"===\",verb['description'],\"\\n\")"
      ]
    },
    {
      "cell_type": "code",
      "execution_count": null,
      "metadata": {},
      "outputs": [],
      "source": []
    },
    {
      "cell_type": "code",
      "execution_count": 76,
      "metadata": {},
      "outputs": [
        {
          "data": {
            "text/plain": [
              "{'verbs': [], 'words': ['Alt', '!']}"
            ]
          },
          "execution_count": 76,
          "metadata": {},
          "output_type": "execute_result"
        }
      ],
      "source": [
        "pred=predictor_Bert.predict(\"Alt!\")\n",
        "pred"
      ]
    },
    {
      "cell_type": "code",
      "execution_count": 62,
      "metadata": {},
      "outputs": [
        {
          "data": {
            "text/plain": [
              "{'verbs': [{'verb': 'are',\n",
              "   'description': 'you [V: are] annoying me',\n",
              "   'tags': ['O', 'B-V', 'O', 'O']},\n",
              "  {'verb': 'annoying',\n",
              "   'description': '[ARG0: you] are [V: annoying] [ARG1: me]',\n",
              "   'tags': ['B-ARG0', 'O', 'B-V', 'B-ARG1']}],\n",
              " 'words': ['you', 'are', 'annoying', 'me']}"
            ]
          },
          "execution_count": 62,
          "metadata": {},
          "output_type": "execute_result"
        }
      ],
      "source": [
        "## nested sentences\n",
        "What u did was bad "
      ]
    },
    {
      "cell_type": "code",
      "execution_count": 65,
      "metadata": {
        "id": "zZTgGC3k-uzw"
      },
      "outputs": [
        {
          "data": {
            "text/plain": [
              "{'verbs': [{'verb': 'are',\n",
              "   'description': 'you [V: are] bothering',\n",
              "   'tags': ['O', 'B-V', 'O']},\n",
              "  {'verb': 'bothering',\n",
              "   'description': '[ARG0: you] are [V: bothering]',\n",
              "   'tags': ['B-ARG0', 'O', 'B-V']}],\n",
              " 'words': ['you', 'are', 'bothering']}"
            ]
          },
          "execution_count": 65,
          "metadata": {},
          "output_type": "execute_result"
        }
      ],
      "source": [
        "pred=predictor_Bert.predict(\"you are bothering\")\n",
        "pred"
      ]
    },
    {
      "cell_type": "markdown",
      "metadata": {
        "id": "PnovTMLz8TqV"
      },
      "source": [
        "## LOOKING DATA (propBank)"
      ]
    },
    {
      "cell_type": "code",
      "execution_count": null,
      "metadata": {
        "id": "F-B5AOD_9c7z"
      },
      "outputs": [],
      "source": [
        "import json\n",
        "import random"
      ]
    },
    {
      "cell_type": "code",
      "execution_count": null,
      "metadata": {
        "id": "-Ib8Lgi28VjR"
      },
      "outputs": [],
      "source": [
        "f=open('data_train.jsonl')"
      ]
    },
    {
      "cell_type": "code",
      "execution_count": null,
      "metadata": {
        "id": "eh8W48b09b7n"
      },
      "outputs": [],
      "source": [
        "di=json.load(f)"
      ]
    },
    {
      "cell_type": "code",
      "execution_count": null,
      "metadata": {
        "colab": {
          "base_uri": "https://localhost:8080/"
        },
        "id": "VjlI9tbg9n8g",
        "outputId": "655a1a7a-fe77-4e89-8103-bcf5766ff290"
      },
      "outputs": [
        {
          "data": {
            "text/plain": [
              "40592"
            ]
          },
          "execution_count": 12,
          "metadata": {},
          "output_type": "execute_result"
        }
      ],
      "source": [
        "di = di[\"data\"]\n",
        "len(di)"
      ]
    },
    {
      "cell_type": "code",
      "execution_count": null,
      "metadata": {
        "colab": {
          "base_uri": "https://localhost:8080/"
        },
        "id": "i4aR817LIi6_",
        "outputId": "57796387-7d98-49b7-e97d-820aefc5731b"
      },
      "outputs": [
        {
          "data": {
            "text/plain": [
              "[{'seq_words': ['[',\n",
              "   'This',\n",
              "   'killing',\n",
              "   'of',\n",
              "   'a',\n",
              "   'respected',\n",
              "   'cleric',\n",
              "   'will',\n",
              "   'be',\n",
              "   'causing',\n",
              "   'us',\n",
              "   'trouble',\n",
              "   'for',\n",
              "   'years',\n",
              "   'to',\n",
              "   'come',\n",
              "   '.',\n",
              "   ']'],\n",
              "  'BIO': ['O',\n",
              "   'O',\n",
              "   'O',\n",
              "   'O',\n",
              "   'O',\n",
              "   'O',\n",
              "   'O',\n",
              "   'O',\n",
              "   'O',\n",
              "   'O',\n",
              "   'O',\n",
              "   'O',\n",
              "   'O',\n",
              "   'ARG1',\n",
              "   'O',\n",
              "   'V',\n",
              "   'O',\n",
              "   'O'],\n",
              "  'pred_sense': [15, 'come.01']},\n",
              " {'seq_words': ['[',\n",
              "   'This',\n",
              "   'killing',\n",
              "   'of',\n",
              "   'a',\n",
              "   'respected',\n",
              "   'cleric',\n",
              "   'will',\n",
              "   'be',\n",
              "   'causing',\n",
              "   'us',\n",
              "   'trouble',\n",
              "   'for',\n",
              "   'years',\n",
              "   'to',\n",
              "   'come',\n",
              "   '.',\n",
              "   ']'],\n",
              "  'BIO': ['O',\n",
              "   'O',\n",
              "   'ARG0',\n",
              "   'O',\n",
              "   'O',\n",
              "   'O',\n",
              "   'O',\n",
              "   'ARGM-MOD',\n",
              "   'O',\n",
              "   'V',\n",
              "   'ARGM-GOL',\n",
              "   'ARG1',\n",
              "   'O',\n",
              "   'ARGM-TMP',\n",
              "   'O',\n",
              "   'O',\n",
              "   'O',\n",
              "   'O'],\n",
              "  'pred_sense': [9, 'cause.01']},\n",
              " {'seq_words': ['[',\n",
              "   'This',\n",
              "   'killing',\n",
              "   'of',\n",
              "   'a',\n",
              "   'respected',\n",
              "   'cleric',\n",
              "   'will',\n",
              "   'be',\n",
              "   'causing',\n",
              "   'us',\n",
              "   'trouble',\n",
              "   'for',\n",
              "   'years',\n",
              "   'to',\n",
              "   'come',\n",
              "   '.',\n",
              "   ']'],\n",
              "  'BIO': ['O',\n",
              "   'O',\n",
              "   'O',\n",
              "   'O',\n",
              "   'O',\n",
              "   'O',\n",
              "   'O',\n",
              "   'O',\n",
              "   'V',\n",
              "   'O',\n",
              "   'O',\n",
              "   'O',\n",
              "   'O',\n",
              "   'O',\n",
              "   'O',\n",
              "   'O',\n",
              "   'O',\n",
              "   'O'],\n",
              "  'pred_sense': [8, 'be.03']},\n",
              " {'seq_words': ['[',\n",
              "   'This',\n",
              "   'killing',\n",
              "   'of',\n",
              "   'a',\n",
              "   'respected',\n",
              "   'cleric',\n",
              "   'will',\n",
              "   'be',\n",
              "   'causing',\n",
              "   'us',\n",
              "   'trouble',\n",
              "   'for',\n",
              "   'years',\n",
              "   'to',\n",
              "   'come',\n",
              "   '.',\n",
              "   ']'],\n",
              "  'BIO': ['O',\n",
              "   'O',\n",
              "   'V',\n",
              "   'O',\n",
              "   'O',\n",
              "   'O',\n",
              "   'ARG1',\n",
              "   'O',\n",
              "   'O',\n",
              "   'O',\n",
              "   'O',\n",
              "   'O',\n",
              "   'O',\n",
              "   'O',\n",
              "   'O',\n",
              "   'O',\n",
              "   'O',\n",
              "   'O'],\n",
              "  'pred_sense': [2, 'kill.01']}]"
            ]
          },
          "execution_count": 51,
          "metadata": {},
          "output_type": "execute_result"
        }
      ],
      "source": []
    },
    {
      "cell_type": "code",
      "execution_count": null,
      "metadata": {
        "id": "rFVf0Vbu9sfb"
      },
      "outputs": [],
      "source": [
        "[(' '.join(i['seq_words']),i['BIO']) for i in di[0:6]]"
      ]
    },
    {
      "cell_type": "code",
      "execution_count": null,
      "metadata": {
        "id": "yBdSOZbEIHrd"
      },
      "outputs": [],
      "source": [
        "prediction=predictor.predict(\n",
        "    sentence=\"This killing of a respected cleric will be causing us trouble for years to come \"\n",
        ")\n",
        "prediction_lstm=predictor_bilstm.predict(\n",
        "    sentence=\"This killing of a respected cleric will be causing us trouble for years to come \"\n",
        ")"
      ]
    },
    {
      "cell_type": "code",
      "execution_count": null,
      "metadata": {
        "id": "K_B-vOKjSRCa"
      },
      "outputs": [],
      "source": [
        "prediction"
      ]
    },
    {
      "cell_type": "code",
      "execution_count": null,
      "metadata": {
        "id": "dB-0pko-SSsi"
      },
      "outputs": [],
      "source": [
        "prediction_lstm\n"
      ]
    },
    {
      "cell_type": "code",
      "execution_count": null,
      "metadata": {
        "id": "mHIdZjRYCJDa"
      },
      "outputs": [],
      "source": []
    },
    {
      "attachments": {},
      "cell_type": "markdown",
      "metadata": {
        "id": "pWslkmPkPFcy"
      },
      "source": [
        "# PREDICATE IDENTIFICATION"
      ]
    },
    {
      "cell_type": "code",
      "execution_count": 3,
      "metadata": {},
      "outputs": [],
      "source": [
        "path=\"./Data/Predicate_identification/\""
      ]
    },
    {
      "attachments": {},
      "cell_type": "markdown",
      "metadata": {
        "id": "PkrGLpJMKSwn"
      },
      "source": [
        "## VOCABULARY+POS"
      ]
    },
    {
      "attachments": {},
      "cell_type": "markdown",
      "metadata": {
        "id": "cCOznqQ_N9-z"
      },
      "source": [
        "### Test for contractions"
      ]
    },
    {
      "cell_type": "code",
      "execution_count": null,
      "metadata": {
        "colab": {
          "base_uri": "https://localhost:8080/",
          "height": 168
        },
        "id": "cSJKVvjWwhb5",
        "outputId": "ff57706f-67ee-4921-f2cd-3dfd866a675b"
      },
      "outputs": [
        {
          "ename": "NameError",
          "evalue": "ignored",
          "output_type": "error",
          "traceback": [
            "\u001b[0;31m---------------------------------------------------------------------------\u001b[0m",
            "\u001b[0;31mNameError\u001b[0m                                 Traceback (most recent call last)",
            "\u001b[0;32m<ipython-input-4-a5665a699fad>\u001b[0m in \u001b[0;36m<module>\u001b[0;34m\u001b[0m\n\u001b[0;32m----> 1\u001b[0;31m \u001b[0mfail_bilstm\u001b[0m\u001b[0;34m=\u001b[0m\u001b[0mevaluate_PI_INV_contractions\u001b[0m\u001b[0;34m(\u001b[0m\u001b[0mpredictor_Bilstm\u001b[0m\u001b[0;34m,\u001b[0m\u001b[0mdata\u001b[0m\u001b[0;34m)\u001b[0m\u001b[0;34m\u001b[0m\u001b[0;34m\u001b[0m\u001b[0m\n\u001b[0m",
            "\u001b[0;31mNameError\u001b[0m: name 'predictor_Bilstm' is not defined"
          ]
        }
      ],
      "source": [
        "\n",
        "fail_bilstm=evaluate_PI_INV_contractions(predictor_Bilstm,data)"
      ]
    },
    {
      "cell_type": "code",
      "execution_count": null,
      "metadata": {
        "id": "_XY_o4MtOC-D"
      },
      "outputs": [],
      "source": []
    },
    {
      "attachments": {},
      "cell_type": "markdown",
      "metadata": {
        "id": "ldzmhpP_ODor"
      },
      "source": [
        "### Test for irregular inflections"
      ]
    },
    {
      "cell_type": "code",
      "execution_count": null,
      "metadata": {},
      "outputs": [],
      "source": []
    },
    {
      "cell_type": "code",
      "execution_count": null,
      "metadata": {},
      "outputs": [],
      "source": []
    },
    {
      "attachments": {},
      "cell_type": "markdown",
      "metadata": {
        "id": "GIkns01FKdQd"
      },
      "source": [
        "## AMBIGUITY"
      ]
    },
    {
      "attachments": {},
      "cell_type": "markdown",
      "metadata": {
        "id": "McQzhKS4LCVk"
      },
      "source": [
        "### Experiment with polysemic verbs [POLISEMIC]"
      ]
    },
    {
      "cell_type": "code",
      "execution_count": 5,
      "metadata": {
        "colab": {
          "base_uri": "https://localhost:8080/"
        },
        "id": "37j2bwA3ipm6",
        "outputId": "f14e3a19-db36-42df-c068-3f451f7bd648"
      },
      "outputs": [
        {
          "name": "stdout",
          "output_type": "stream",
          "text": [
            "Tesiting Polysemic words behaviour (DIR) in Preicate Identification\n",
            "\n"
          ]
        },
        {
          "ename": "NameError",
          "evalue": "name 'json' is not defined",
          "output_type": "error",
          "traceback": [
            "\u001b[0;31m---------------------------------------------------------------------------\u001b[0m",
            "\u001b[0;31mNameError\u001b[0m                                 Traceback (most recent call last)",
            "Cell \u001b[0;32mIn[5], line 4\u001b[0m\n\u001b[1;32m      1\u001b[0m \u001b[39mprint\u001b[39m(\u001b[39m\"\u001b[39m\u001b[39mTesiting Polysemic words behaviour (DIR) in Preicate Identification\u001b[39m\u001b[39m\\n\u001b[39;00m\u001b[39m\"\u001b[39m)\n\u001b[1;32m      3\u001b[0m f \u001b[39m=\u001b[39m \u001b[39mopen\u001b[39m(path\u001b[39m+\u001b[39m\u001b[39m'\u001b[39m\u001b[39mpolysem_verbs_sentences.json\u001b[39m\u001b[39m'\u001b[39m)\n\u001b[0;32m----> 4\u001b[0m data \u001b[39m=\u001b[39m json\u001b[39m.\u001b[39mload(f)\n\u001b[1;32m      6\u001b[0m \u001b[39mprint\u001b[39m(\u001b[39m\"\u001b[39m\u001b[39mBart model:\u001b[39m\u001b[39m\"\u001b[39m)\n\u001b[1;32m      7\u001b[0m rate_Bart\u001b[39m=\u001b[39mevaluate_verbIdentification_DIR(predictor_Bart,data)\n",
            "\u001b[0;31mNameError\u001b[0m: name 'json' is not defined"
          ]
        }
      ],
      "source": [
        "print(\"Tesiting Polysemic words behaviour (DIR) in Preicate Identification\\n\")\n",
        "\n",
        "f = open(path+'polysem_verbs_sentences.json')\n",
        "data = json.load(f)\n",
        "\n",
        "print(\"Bart model:\")\n",
        "rate_Bart=evaluate_verbIdentification_DIR(predictor_Bart,data)\n",
        "print(f\"Failure rate {rate_Bart}\\n\")\n",
        "\n",
        "print(\"Bisltm model:\")\n",
        "rate_bilstm=evaluate_verbIdentification_DIR(predictor_Bilstm,data)\n",
        "print(f\"Failure rate {rate_bilstm}\\n\")"
      ]
    },
    {
      "cell_type": "code",
      "execution_count": null,
      "metadata": {
        "id": "BSwyMiOt-avk"
      },
      "outputs": [],
      "source": []
    },
    {
      "cell_type": "code",
      "execution_count": null,
      "metadata": {
        "colab": {
          "base_uri": "https://localhost:8080/",
          "height": 35
        },
        "id": "HdZS-7EtFRU6",
        "outputId": "79049044-4390-4233-9b18-5b320060f17f"
      },
      "outputs": [
        {
          "data": {
            "application/vnd.google.colaboratory.intrinsic+json": {
              "type": "string"
            },
            "text/plain": [
              "'I also had a pedicure and they cut my nails too short one of my big toes looks like it s getting infected .'"
            ]
          },
          "execution_count": 227,
          "metadata": {},
          "output_type": "execute_result"
        }
      ],
      "source": []
    },
    {
      "attachments": {},
      "cell_type": "markdown",
      "metadata": {
        "id": "dY-h4bawK2Ky"
      },
      "source": [
        "### Experiment with verbs being in different roles -ing"
      ]
    },
    {
      "cell_type": "code",
      "execution_count": null,
      "metadata": {
        "id": "nJhoe96__Q7l"
      },
      "outputs": [],
      "source": [
        "sentences = [    \"The writing on the wall was a warning of what was to come.\",    \"The painting of the sunset was breathtakingly beautiful.\",    \"The singing of the birds was a welcome sound in the morning.\",\"The singing of the birds was a welcome sound in the morning.\"    \"The reading of the will revealed some surprising information.\",    \"The dancing of the flames mesmerized the audience.\",    \"The running of the river was soothing to listen to.\",    \"The howling of the wind kept me awake at night.\",    \"The barking of the dog alerted us to the intruder.\",    \"The playing of the piano filled the room with music.\",    \"The cleaning of the house was a tedious chore.\",    \"The mowing of the lawn was a necessary task.\",    \"The washing of the dishes was a never-ending job.\",    \"The painting of the house was a weekend project.\",    \"The cooking of the meal took longer than expected.\",    \"The building of the bridge was a remarkable feat of engineering.\",    \"The driving of the car was a peaceful way to clear my mind.\",    \"The typing of the report was interrupted by a power outage.\",    \"The repairing of the bike took longer than anticipated.\",    \"The cutting of the cake was the highlight of the party.\",    \"The playing of the game was a fun way to spend the afternoon.\"]\n"
      ]
    },
    {
      "cell_type": "code",
      "execution_count": null,
      "metadata": {
        "id": "sXBzdViTCyiJ"
      },
      "outputs": [],
      "source": [
        "sentences = [    \"I have always enjoyed cooking, it is one of my favourite hobbies.\",    \"The protests that followed the killing of the priest were widespread.\",    \"The sound of the river running was soothing to listen to.\",    \"The information revealed in the reading of the will was surprising.\",    \"The audience was mesmerized by the dancing flames.\",    \"The sunset was breathtakingly beautiful in the painting.\",    \"The birds singing in the morning was a welcome sound.\",    \"The intruder was alerted by the barking of the dog.\",    \"The music filled the room with the playing of the piano.\",    \"The tedious chore of cleaning the house took all day.\",    \"The necessary task of mowing the lawn was finally finished.\",    \"The never-ending job of washing the dishes always seemed to pile up.\",    \"The remarkable feat of engineering was achieved in the building of the bridge.\",    \"The peaceful way to clear my mind was through driving the car.\",    \"The power outage interrupted the typing of the report.\",    \"The longer than anticipated repair of the bike was finally completed.\",    \"The highlight of the party was cutting the cake.\",    \"The fun way to spend the afternoon was playing the game.\",    \"The weekend project of painting the house was finally done.\",    \"The wind howling kept me awake at night.\",]\n"
      ]
    },
    {
      "cell_type": "code",
      "execution_count": null,
      "metadata": {},
      "outputs": [],
      "source": []
    },
    {
      "cell_type": "code",
      "execution_count": 41,
      "metadata": {
        "id": "mM4vbfWKqDkQ"
      },
      "outputs": [],
      "source": [
        "\"\"\"\n",
        "can you create 5 example sentence where there is a verb not in the semantic role of the verb such as:\n",
        " \"cooking is one of my favourite hobbies\", or \"the killing of the priest sparked a lot of protests\" \n",
        "\"\"\"\n",
        "#se=[ \"The birds singing was a welcome sound in the morning.\", \"The birds's singing was a welcome sound in the morning.\", \"The singing of the birds was a welcome sound in the morning.\" ]\n",
        "\n",
        "se=[\"cooking is what I love\",\"I love cooking \",\"I love cooking in the morning\", \"I loved cooking with you\",\"I have always liked cooking\",\"cooking is a great hooby\",\"cooking vegetables is a great hobby\"]"
      ]
    },
    {
      "cell_type": "code",
      "execution_count": null,
      "metadata": {
        "colab": {
          "base_uri": "https://localhost:8080/"
        },
        "id": "yn7T5Q02qQNq",
        "outputId": "5fd2da92-1f5f-462f-df8f-234044f88e72"
      },
      "outputs": [
        {
          "name": "stdout",
          "output_type": "stream",
          "text": [
            "cooking is what I love\n",
            "['is', 'love']\n",
            "I love cooking \n",
            "['love', 'cooking']\n",
            "I love cooking in the morning\n",
            "['love', 'cooking']\n",
            "I loved cooking with you\n",
            "['loved', 'cooking']\n",
            "I have always liked cooking\n",
            "['have', 'liked', 'cooking']\n",
            "cooking is a great hooby\n",
            "['is']\n",
            "cooking vegetables is a great hobby\n",
            "['cooking', 'is']\n"
          ]
        }
      ],
      "source": [
        "for s in se:\n",
        "  print(s)\n",
        "  pred=predictor.predict(s)\n",
        "  \n",
        "  verbs=[x['verb'] for x in pred['verbs']]\n",
        "  #print(pred)\n",
        "  print(verbs)\n",
        "  #print(pred)"
      ]
    },
    {
      "cell_type": "code",
      "execution_count": null,
      "metadata": {
        "colab": {
          "base_uri": "https://localhost:8080/"
        },
        "id": "__TL3O2o_eDZ",
        "outputId": "6da14f21-aea9-44a2-e1b2-099d86d751cd"
      },
      "outputs": [
        {
          "name": "stdout",
          "output_type": "stream",
          "text": [
            "I have always enjoyed cooking, it is one of my favourite hobbies.\n",
            "['have', 'enjoyed', 'is']\n",
            "The protests that followed the killing of the priest were widespread.\n",
            "['followed', 'were']\n",
            "The sound of the river running was soothing to listen to.\n",
            "['running', 'was', 'soothing', 'listen']\n",
            "The information revealed in the reading of the will was surprising.\n",
            "['revealed', 'was']\n",
            "The audience was mesmerized by the dancing flames.\n",
            "['was', 'mesmerized']\n",
            "The sunset was breathtakingly beautiful in the painting.\n",
            "['was']\n",
            "The birds singing in the morning was a welcome sound.\n",
            "['singing', 'was']\n",
            "The intruder was alerted by the barking of the dog.\n",
            "['was', 'alerted']\n",
            "The music filled the room with the playing of the piano.\n",
            "['filled']\n",
            "The tedious chore of cleaning the house took all day.\n",
            "['cleaning', 'took']\n",
            "The necessary task of mowing the lawn was finally finished.\n",
            "['mowing', 'was', 'finished']\n",
            "The never-ending job of washing the dishes always seemed to pile up.\n",
            "['ending', 'washing', 'seemed', 'pile']\n",
            "The remarkable feat of engineering was achieved in the building of the bridge.\n",
            "['was', 'achieved']\n",
            "The peaceful way to clear my mind was through driving the car.\n",
            "['clear', 'was', 'driving']\n",
            "The power outage interrupted the typing of the report.\n",
            "['interrupted']\n",
            "The longer than anticipated repair of the bike was finally completed.\n",
            "['anticipated', 'was', 'completed']\n",
            "The highlight of the party was cutting the cake.\n",
            "['was', 'cutting']\n",
            "The fun way to spend the afternoon was playing the game.\n",
            "['spend', 'was', 'playing']\n",
            "The weekend project of painting the house was finally done.\n",
            "['painting', 'was', 'done']\n",
            "The wind howling kept me awake at night.\n",
            "['howling', 'kept']\n"
          ]
        }
      ],
      "source": [
        "for s in sentences:\n",
        "  print(s)\n",
        "  pred=predictor.predict(s)\n",
        "  verbs=[x['verb'] for x in pred['verbs']]\n",
        "  print(verbs)\n",
        "  #print(pred)"
      ]
    },
    {
      "cell_type": "code",
      "execution_count": null,
      "metadata": {
        "id": "Q1P59aW9_jtF"
      },
      "outputs": [],
      "source": [
        "prediction=predictor.predict(\n",
        "    sentence=\"I was writing a thesis\"\n",
        ")"
      ]
    },
    {
      "cell_type": "code",
      "execution_count": null,
      "metadata": {
        "colab": {
          "base_uri": "https://localhost:8080/"
        },
        "id": "O9t_2qBEBjVc",
        "outputId": "d55eb137-9e40-4a51-8e6f-d7985ff0deca"
      },
      "outputs": [
        {
          "data": {
            "text/plain": [
              "{'verbs': [{'verb': 'was',\n",
              "   'description': 'I [V: was] writing a thesis',\n",
              "   'tags': ['O', 'B-V', 'O', 'O', 'O']},\n",
              "  {'verb': 'writing',\n",
              "   'description': '[ARG0: I] was [V: writing] [ARG1: a thesis]',\n",
              "   'tags': ['B-ARG0', 'O', 'B-V', 'B-ARG1', 'I-ARG1']}],\n",
              " 'words': ['I', 'was', 'writing', 'a', 'thesis']}"
            ]
          },
          "execution_count": 19,
          "metadata": {},
          "output_type": "execute_result"
        }
      ],
      "source": [
        "prediction"
      ]
    },
    {
      "cell_type": "code",
      "execution_count": null,
      "metadata": {
        "id": "Mte_5-HjBkSU"
      },
      "outputs": [],
      "source": [
        "from nltk.corpus import propbank"
      ]
    },
    {
      "cell_type": "code",
      "execution_count": null,
      "metadata": {
        "colab": {
          "base_uri": "https://localhost:8080/"
        },
        "id": "8XsP-z8pWNWD",
        "outputId": "07a9e0a0-7e67-4f74-b45d-40c97b789410"
      },
      "outputs": [
        {
          "name": "stderr",
          "output_type": "stream",
          "text": [
            "[nltk_data] Downloading package propbank to /root/nltk_data...\n"
          ]
        },
        {
          "data": {
            "text/plain": [
              "True"
            ]
          },
          "execution_count": 25,
          "metadata": {},
          "output_type": "execute_result"
        }
      ],
      "source": []
    },
    {
      "cell_type": "code",
      "execution_count": null,
      "metadata": {
        "colab": {
          "base_uri": "https://localhost:8080/"
        },
        "id": "_ZL5X6HihG2C",
        "outputId": "ec1e5c3d-4d5c-4225-857d-d7044e574c32"
      },
      "outputs": [
        {
          "name": "stderr",
          "output_type": "stream",
          "text": [
            "[nltk_data] Downloading package treebank to /root/nltk_data...\n",
            "[nltk_data]   Unzipping corpora/treebank.zip.\n"
          ]
        },
        {
          "data": {
            "text/plain": [
              "True"
            ]
          },
          "execution_count": 57,
          "metadata": {},
          "output_type": "execute_result"
        }
      ],
      "source": [
        "nltk.download('treebank')"
      ]
    },
    {
      "cell_type": "code",
      "execution_count": null,
      "metadata": {
        "id": "ybhHXi-3WCju"
      },
      "outputs": [],
      "source": [
        "pb_instances = propbank.instances()"
      ]
    },
    {
      "cell_type": "code",
      "execution_count": null,
      "metadata": {
        "id": "NXc4_lpcWRdB"
      },
      "outputs": [],
      "source": [
        "inst=pb_instances[103]"
      ]
    },
    {
      "cell_type": "code",
      "execution_count": null,
      "metadata": {
        "id": "jbXQMPfdblYI"
      },
      "outputs": [],
      "source": [
        " import nltk.corpus.reader.propbank as pb"
      ]
    },
    {
      "cell_type": "code",
      "execution_count": null,
      "metadata": {
        "id": "_aj76Fy_d_NB"
      },
      "outputs": [],
      "source": [
        "turn_01 = propbank.roleset('turn.01')"
      ]
    },
    {
      "cell_type": "code",
      "execution_count": null,
      "metadata": {
        "colab": {
          "base_uri": "https://localhost:8080/"
        },
        "id": "-cDPYm9klfJi",
        "outputId": "a1115cbe-1ba2-4c88-998e-7fa7d3383c05"
      },
      "outputs": [
        {
          "name": "stdout",
          "output_type": "stream",
          "text": [
            "0 turner\n",
            "1 thing turning\n",
            "m direction, location\n"
          ]
        }
      ],
      "source": [
        "for role in turn_01.findall(\"roles/role\"):\n",
        "  print(role.attrib['n'], role.attrib['descr'])"
      ]
    },
    {
      "cell_type": "code",
      "execution_count": null,
      "metadata": {
        "id": "euVb-K_zl2E-"
      },
      "outputs": [],
      "source": []
    },
    {
      "cell_type": "code",
      "execution_count": null,
      "metadata": {
        "colab": {
          "base_uri": "https://localhost:8080/"
        },
        "id": "r21Er3JfWvY1",
        "outputId": "f44a317c-1fc3-4a33-9850-6c76d0d78c5a"
      },
      "outputs": [
        {
          "name": "stdout",
          "output_type": "stream",
          "text": [
            "The birds singing in the morning was a welcome sound.\n",
            "BERT\n",
            "['[ARG0: The birds] [V: singing] [ARGM-TMP: in the morning] was a welcome sound .', '[ARG1: The birds singing in the morning] [V: was] [ARG2: a welcome sound] .']\n",
            "Lstm\n",
            "['[ARG0: The birds] [V: singing] [ARGM-TMP: in the morning] was a welcome sound .', '[ARG1: The birds singing in the morning] [V: was] [ARG2: a welcome sound] .']\n",
            "\n",
            "\n",
            "\n",
            "The singing of birds in the morning was a welcome sound.\n",
            "BERT\n",
            "['[ARG1: The singing of birds in the morning] [V: was] [ARG2: a welcome sound] .']\n",
            "Lstm\n",
            "['[ARG1: The singing of birds in the morning] [V: was] [ARG2: a welcome sound] .']\n",
            "\n",
            "\n",
            "\n"
          ]
        }
      ],
      "source": [
        "sentences=[\"The birds singing in the morning was a welcome sound.\",\"The singing of birds in the morning was a welcome sound.\"]\n",
        "for s in sentences:\n",
        "  print(s)\n",
        "  predBert=predictor.predict(s)\n",
        "  predBilstm=predictor_bilstm.predict(s)\n",
        "  print(\"BERT\")\n",
        "  print([x['description'] for x in predBert['verbs']])\n",
        "\n",
        "  print(\"Lstm\")\n",
        "  print([x['description'] for x in predBilstm['verbs']])\n",
        "  \n",
        "  print(\"\\n\\n\")"
      ]
    },
    {
      "cell_type": "code",
      "execution_count": null,
      "metadata": {
        "colab": {
          "base_uri": "https://localhost:8080/"
        },
        "id": "9cK0PeYlXtO7",
        "outputId": "30ac96c7-dc93-4c91-f57b-2582d264e887"
      },
      "outputs": [
        {
          "name": "stdout",
          "output_type": "stream",
          "text": [
            "It's running low \n",
            "BERT\n",
            "[\"It [V: 's] running low\", \"[ARG0: It] 's [V: running] [ARGM-MNR: low]\"]\n",
            "Lstm\n",
            "[\"It [V: 's] running low\", \"[ARG1: It] 's [V: running] [ARG2: low]\"]\n",
            "\n",
            "\n",
            "\n",
            "It is running low\n",
            "BERT\n",
            "['It [V: is] running low', '[ARG1: It] is [V: running] [ARGM-MNR: low]']\n",
            "Lstm\n",
            "['[ARG1: It] [V: is] [ARG2: running low]', '[ARG1: It] is [V: running] [ARG2: low]']\n",
            "\n",
            "\n",
            "\n"
          ]
        }
      ],
      "source": [
        "sentences=[\"It's running low \",\"It is running low\"]\n",
        "for s in sentences:\n",
        "  print(s)\n",
        "  predBert=predictor.predict(s)\n",
        "  predBilstm=predictor_bilstm.predict(s)\n",
        "  print(\"BERT\")\n",
        "  print([x['description'] for x in predBert['verbs']])\n",
        "\n",
        "  print(\"Lstm\")\n",
        "  print([x['description'] for x in predBilstm['verbs']])\n",
        "  \n",
        "  print(\"\\n\\n\")"
      ]
    },
    {
      "cell_type": "code",
      "execution_count": null,
      "metadata": {
        "id": "TbhrP0sbBsVV"
      },
      "outputs": [],
      "source": []
    },
    {
      "attachments": {},
      "cell_type": "markdown",
      "metadata": {
        "id": "Su6lKFxWKnbO"
      },
      "source": [
        "## RARITY"
      ]
    },
    {
      "attachments": {},
      "cell_type": "markdown",
      "metadata": {
        "id": "2ybvS9k6Bsin"
      },
      "source": [
        "### Slang Verbs "
      ]
    },
    {
      "cell_type": "code",
      "execution_count": null,
      "metadata": {
        "colab": {
          "base_uri": "https://localhost:8080/"
        },
        "id": "OkL7nhKizW7o",
        "outputId": "6d12ad70-757c-4434-82c1-09f5b573b0f7"
      },
      "outputs": [
        {
          "data": {
            "text/plain": [
              "({'verbs': [{'verb': 'want',\n",
              "    'description': '[ARG0: I] [ARGM-ADV: really] [V: want] [ARG1: to do it]',\n",
              "    'tags': ['B-ARG0', 'B-ARGM-ADV', 'B-V', 'B-ARG1', 'I-ARG1', 'I-ARG1']},\n",
              "   {'verb': 'do',\n",
              "    'description': '[ARG0: I] really want to [V: do] [ARG1: it]',\n",
              "    'tags': ['B-ARG0', 'O', 'O', 'O', 'B-V', 'B-ARG1']}],\n",
              "  'words': ['I', 'really', 'want', 'to', 'do', 'it']},\n",
              " {'verbs': [{'verb': 'wanna',\n",
              "    'description': '[ARG0: I] [ARGM-ADV: really] [V: wanna] [ARG1: do it]',\n",
              "    'tags': ['B-ARG0', 'B-ARGM-ADV', 'B-V', 'B-ARG1', 'I-ARG1']},\n",
              "   {'verb': 'do',\n",
              "    'description': '[ARG0: I] really wanna [V: do] [ARG1: it]',\n",
              "    'tags': ['B-ARG0', 'O', 'O', 'B-V', 'B-ARG1']}],\n",
              "  'words': ['I', 'really', 'wanna', 'do', 'it']})"
            ]
          },
          "execution_count": 379,
          "metadata": {},
          "output_type": "execute_result"
        }
      ],
      "source": [
        "predictor_Bert.predict(\"I really want to do it\"),predictor_Bert.predict(\"I really wanna do it\")\n",
        "predictor_Bert.predict(\"I am gonna do it\"),predictor_Bert.predict(\"I am going to do it\")\n",
        "[gimmie - give me, ]"
      ]
    },
    {
      "cell_type": "code",
      "execution_count": null,
      "metadata": {
        "id": "eQD78ThtPb6W"
      },
      "outputs": [],
      "source": []
    },
    {
      "attachments": {},
      "cell_type": "markdown",
      "metadata": {
        "id": "nd619HruPdpp"
      },
      "source": [
        "### Modern verbs"
      ]
    },
    {
      "attachments": {},
      "cell_type": "markdown",
      "metadata": {},
      "source": [
        "### old verbs"
      ]
    },
    {
      "attachments": {},
      "cell_type": "markdown",
      "metadata": {
        "id": "pit7Ny7mvwL7"
      },
      "source": [
        "# AROUGMENTS CLASSIFICATION"
      ]
    },
    {
      "attachments": {},
      "cell_type": "markdown",
      "metadata": {
        "id": "VsPA8Ym1P-Qj"
      },
      "source": [
        "## VOCABULAIRTY+POS"
      ]
    },
    {
      "attachments": {},
      "cell_type": "markdown",
      "metadata": {
        "id": "xura9sS5eOrc"
      },
      "source": [
        "### Pronouns vs Entity"
      ]
    },
    {
      "cell_type": "code",
      "execution_count": null,
      "metadata": {
        "id": "VMRIdzljt98l"
      },
      "outputs": [],
      "source": [
        "def make_tag_list(v): #v=pred['verb'][i]\n",
        "  matches=re.findall(r'\\[(.*?)\\]', v['description'])\n",
        "  tags=[x.split(\":\")[0] for x in matches]\n",
        "  return tags"
      ]
    },
    {
      "cell_type": "code",
      "execution_count": null,
      "metadata": {
        "id": "5aG2Z8HulkiW"
      },
      "outputs": [],
      "source": [
        "def validate_INV_alltags(pred1,pred2):\n",
        "  #assert pred1['words']==pred2['words'],f\"ERROR, Comparing two different sentences\"\n",
        "  if len(pred1['verbs'])!=len(pred2['verbs']):\n",
        "    print(\"not the same predicates were found \")\n",
        "    print(pred1['words'],pred2['words'])\n",
        "    print([x['verb'] for x in pred1['verbs']],[x['verb'] for x in pred2['verbs']],\"\\n\")\n",
        "    return False\n",
        "\n",
        "  for v in zip(pred1['verbs'],pred2['verbs']): \n",
        "      v1,v2=v\n",
        "      \n",
        "      if v1['verb']!=v2['verb']:\n",
        "        print(\"missmatch in verb identification \\n,v1['verb'] and v2['verb']\\n\")\n",
        "        return False\n",
        "      \n",
        "      tag1=make_tag_list(v1)\n",
        "\n",
        "      tag2=make_tag_list(v2)\n",
        "\n",
        "      #if v1['tags']!=v2['tags']:\n",
        "      if tag1!=tag2:\n",
        "        print(f\"missmatch for tags of verb {v1['verb']}\\n{v1['description']}\\n{v2['description']}\\n\")\n",
        "        return False\n",
        "\n",
        "      continue\n",
        "  return True"
      ]
    },
    {
      "cell_type": "code",
      "execution_count": null,
      "metadata": {
        "id": "7xCaxonyeRQ7"
      },
      "outputs": [],
      "source": [
        "sentences=[    [        \"The cat sat on the mat.\",         \"It sat on the mat.\"    ], \n",
        "    [        \"John gave Mary the book.\",         \"He gave her the book.\"    ], \n",
        "    [        \"The sun rises in the east.\",         \"It rises in the east.\"    ],\n",
        "    [        \"The dog chased the cat and caught her.\",         \"It chased her and caught her.\"    ],\n",
        "    [        \"The students submitted their homework on time.\",         \"They submitted it on time.\"    ],\n",
        "    [        \"The cake was baked by my mom.\",         \"It was baked by her.\"    ],\n",
        "    [        \"The company hired a new employee.\",         \"It hired them.\"    ],\n",
        "    [        \"The baby cried and his mother picked him up.\",         \"It cried and she picked it up.\"    ],\n",
        "    [        \"The train arrived at the station late.\",         \"It arrived at the station late.\"    ],\n",
        "    [        \"The tree was blown over by the wind.\",         \"It was blown over by it.\"    ],\n",
        "    [        \"The waiter brought the food to the table.\",         \"He brought it to the table.\"    ],\n",
        "    [        \"The doctor examined the patient and prescribed medication.\",         \"They examined them and prescribed it.\"    ],\n",
        "    [        \"The children played in the park all day.\",         \"They played in it all day.\"    ],\n",
        "    [        \"The author wrote a best-selling novel.\",         \"They wrote a best-selling novel.\"    ],\n",
        "    [        \"The car hit the tree and damaged it.\",         \"It hit it and damaged it.\"    ],\n",
        "    [        \"The teacher graded the tests and returned them to the students.\",         \"They graded them and returned them to them.\"    ],\n",
        "    [        \"The phone rang and the receptionist answered it.\",         \"It rang and they answered it.\"    ],\n",
        "    [        \"The chef prepared the meal and served it to the customers.\",         \"They prepared it and served it to them.\"    ],\n",
        "    [        \"The athlete broke the world record.\",         \"They broke it.\"    ],\n",
        "    [        \"The artist painted a beautiful portrait.\",         \"They painted a beautiful portrait.\"    ]\n",
        "]\n"
      ]
    },
    {
      "cell_type": "code",
      "execution_count": null,
      "metadata": {
        "colab": {
          "base_uri": "https://localhost:8080/",
          "height": 921
        },
        "id": "CU5NPwo_fmD6",
        "outputId": "47dc3907-0cee-4bd8-d3c0-604fdec1bd2a"
      },
      "outputs": [],
      "source": [
        "for p in sentences:\n",
        "  \n",
        "  active,passive=p\n",
        "\n",
        "  print(\"BERT\")\n",
        "  predBert_a = predictor.predict(active)\n",
        "  predBert_p = predictor.predict(passive) \n",
        "  \n",
        "  print([x['description'] for x in predBert_a['verbs']])\n",
        "  print([x['description'] for x in predBert_p['verbs']])\n",
        "  print(\"\\n\")\n",
        "\n",
        "print(\"\\n\\n\")\n",
        "for p in sentences:\n",
        "\n",
        "  active,passive=p\n",
        "\n",
        "  print(\"Lstm\")\n",
        "  predBilstm_a=predictor_bilstm.predict(active)\n",
        "  predBilstm_p=predictor_bilstm.predict(passive)\n",
        "  print([x['description'] for x in predBilstm_a['verbs']])\n",
        "  print([x['description'] for x in predBilstm_p['verbs']])\n",
        "  print(\"\\n\\n\")\n",
        "\n"
      ]
    },
    {
      "cell_type": "code",
      "execution_count": null,
      "metadata": {
        "id": "81mk_wPWfuEr"
      },
      "outputs": [],
      "source": [
        "sentences=[    [        \"The doctor prescribed medication for the patient's headache.\",         \"They prescribed it for their headache.\"    ],\n",
        "    [        \"The company's CEO announced a new product launch during the conference.\",         \"They announced it during the conference.\"    ],\n",
        "    [        \"The teacher explained the complex math problem to the students in detail.\",         \"They explained it to them in detail.\"    ],\n",
        "    [        \"The committee reviewed the proposal and made several recommendations for improvement.\",         \"They reviewed it and made several recommendations for improvement.\"    ],\n",
        "    [        \"The company hired a new employee with extensive experience in the field.\",         \"It hired them with extensive experience in the field.\"    ],\n",
        "    [        \"The chef used fresh herbs and spices to add flavor to the dish.\",         \"They used them to add flavor to it.\"    ],\n",
        "    [        \"The lawyer defended his client against the false allegations.\",         \"They defended them against them.\"    ],\n",
        "    [        \"The student completed the research project and submitted it before the deadline.\",         \"They completed it and submitted it before it.\"    ],\n",
        "    [        \"The artist created a stunning sculpture using a variety of materials.\",         \"They created it using a variety of materials.\"    ],\n",
        "    [        \"The scientist conducted a series of experiments to test the hypothesis.\",         \"They conducted them to test it.\"    ],\n",
        "    [        \"The athlete trained for months before competing in the Olympic Games.\",         \"They trained for months before competing in them.\"    ],\n",
        "    [        \"The architect designed the building to be energy efficient and environmentally friendly.\",         \"They designed it to be energy efficient and environmentally friendly.\"    ],\n",
        "    [        \"The writer crafted a compelling storyline with well-developed characters.\",         \"They crafted it with them.\"    ],\n",
        "    [        \"The company's marketing team created a new advertising campaign to promote the product.\",         \"They created it to promote it.\"    ],\n",
        "    [        \"The nurse administered the medication to the patient and monitored their condition.\",         \"They administered it to them and monitored their condition.\"    ],\n",
        "    [        \"The technician repaired the computer and installed new software.\",         \"They repaired it and installed it.\"    ],\n",
        "    [        \"The musician composed a beautiful melody that moved the audience to tears.\",         \"They composed it and moved them to tears.\"    ],\n",
        "    [        \"The sales team negotiated a deal with the client and closed the sale.\",         \"They negotiated it with them and closed it.\"    ],\n",
        "    [        \"The construction crew built a new bridge to improve traffic flow.\",         \"They built it to improve it.\"    ],\n",
        "    [        \"The therapist helped the patient develop coping mechanisms to manage their anxiety.\",         \"They helped them develop them to manage it.\"    ]\n",
        "]\n"
      ]
    },
    {
      "cell_type": "code",
      "execution_count": null,
      "metadata": {
        "colab": {
          "base_uri": "https://localhost:8080/",
          "height": 260
        },
        "id": "VP_IAmBshpKP",
        "outputId": "5e916211-6480-497f-dfce-601409c00f54"
      },
      "outputs": [
        {
          "name": "stdout",
          "output_type": "stream",
          "text": [
            "missmatch for tags of verb blown\n",
            "[ARG1: The tree] was [V: blown] [ARGM-DIR: over] [ARG0: by the wind] .\n",
            "[ARG1: It] was [V: blown] over [ARG0: by it] .\n",
            "\n",
            "not the same predicates were found \n",
            "['The', 'doctor', 'examined', 'the', 'patient', 'and', 'prescribed', 'medication', '.'] ['They', 'examined', 'them', 'and', 'prescribed', 'it', '.']\n",
            "['examined'] ['examined', 'prescribed'] \n",
            "\n",
            "not the same predicates were found \n",
            "['The', 'phone', 'rang', 'and', 'the', 'receptionist', 'answered', 'it', '.'] ['It', 'rang', 'and', 'they', 'answered', 'it', '.']\n",
            "['answered'] ['rang', 'answered'] \n",
            "\n"
          ]
        },
        {
          "data": {
            "application/vnd.google.colaboratory.intrinsic+json": {
              "type": "string"
            },
            "text/plain": [
              "'\\nprint(\"\\n\\n\")\\nfor p in sentences:\\n\\n  active,passive=p\\n\\n  print(\"Lstm\")\\n  predBilstm_a=predictor_bilstm.predict(active)\\n  predBilstm_p=predictor_bilstm.predict(passive)\\n  print([x[\\'description\\'] for x in predBilstm_a[\\'verbs\\']])\\n  print([x[\\'description\\'] for x in predBilstm_p[\\'verbs\\']])\\n  print(\"\\n\\n\")\\n'"
            ]
          },
          "execution_count": 185,
          "metadata": {},
          "output_type": "execute_result"
        }
      ],
      "source": [
        "def eval_INV_proNounes_entities(sentences,predictor):\n",
        "  fails=0\n",
        "  for p in sentences:\n",
        "    \n",
        "    ent,pronoun=p\n",
        "\n",
        "    predBert_e = predictor.predict(ent)\n",
        "    predBert_p = predictor.predict(pronoun) \n",
        "    \n",
        "    #print([x['description'] for x in predBert_e['verbs']])\n",
        "    #print([x['description'] for x in predBert_p['verbs']])\n",
        "\n",
        "    if not (validate_INV_alltags(predBert_e,predBert_p)):\n",
        "      \n",
        "      fails+=1\n",
        "\n",
        "  return (fails/len(sentences)*100)\n",
        "\n",
        "bert_failure=eval_INV_proNounes_entities(sentences,predictor)\n",
        "print()\n",
        "\"\"\"\n",
        "print(\"\\n\\n\")\n",
        "for p in sentences:\n",
        "\n",
        "  active,passive=p\n",
        "\n",
        "  print(\"Lstm\")\n",
        "  predBilstm_a=predictor_bilstm.predict(active)\n",
        "  predBilstm_p=predictor_bilstm.predict(passive)\n",
        "  print([x['description'] for x in predBilstm_a['verbs']])\n",
        "  print([x['description'] for x in predBilstm_p['verbs']])\n",
        "  print(\"\\n\\n\")\n",
        "\"\"\""
      ]
    },
    {
      "cell_type": "code",
      "execution_count": null,
      "metadata": {
        "id": "D2vlv4lfihd-"
      },
      "outputs": [],
      "source": [
        "pred1=predictor.predict(\"The athletes trained for months before competing\")\n",
        "pred2=predictor.predict(\"They trained for  months before competing\")"
      ]
    },
    {
      "cell_type": "code",
      "execution_count": null,
      "metadata": {
        "id": "gULbW_w2pISE"
      },
      "outputs": [],
      "source": [
        "pred1=predictor.predict(\"They eat an apple\")\n",
        "pred2=predictor_bilstm.predict(\"They eat an apple\")"
      ]
    },
    {
      "cell_type": "code",
      "execution_count": null,
      "metadata": {
        "id": "MiyCvTrs1cAa"
      },
      "outputs": [],
      "source": [
        "a1= \"The baby cried and his mother picked him up.\" \n",
        "a2= \"It cried and she picked it up.\" \n",
        "pred1=predictor.predict(a1)\n",
        "pred2=predictor.predict(a2)"
      ]
    },
    {
      "cell_type": "code",
      "execution_count": null,
      "metadata": {
        "colab": {
          "base_uri": "https://localhost:8080/"
        },
        "id": "yV-CBKjIlu3g",
        "outputId": "4db287e7-7e93-4b44-c7fb-7f85590e80db"
      },
      "outputs": [
        {
          "data": {
            "text/plain": [
              "({'verbs': [{'verb': 'cried',\n",
              "    'description': '[ARG0: The baby] [V: cried] and his mother picked him up .',\n",
              "    'tags': ['B-ARG0', 'I-ARG0', 'B-V', 'O', 'O', 'O', 'O', 'O', 'O', 'O']},\n",
              "   {'verb': 'picked',\n",
              "    'description': 'The baby cried and [ARG0: his mother] [V: picked] [ARG1: him] up .',\n",
              "    'tags': ['O',\n",
              "     'O',\n",
              "     'O',\n",
              "     'O',\n",
              "     'B-ARG0',\n",
              "     'I-ARG0',\n",
              "     'B-V',\n",
              "     'B-ARG1',\n",
              "     'O',\n",
              "     'O']}],\n",
              "  'words': ['The',\n",
              "   'baby',\n",
              "   'cried',\n",
              "   'and',\n",
              "   'his',\n",
              "   'mother',\n",
              "   'picked',\n",
              "   'him',\n",
              "   'up',\n",
              "   '.']},\n",
              " {'verbs': [{'verb': 'cried',\n",
              "    'description': '[ARG0: It] [V: cried] and she picked it up .',\n",
              "    'tags': ['B-ARG0', 'B-V', 'O', 'O', 'O', 'O', 'O', 'O']},\n",
              "   {'verb': 'picked',\n",
              "    'description': 'It cried and [ARG0: she] [V: picked] [ARG1: it] up .',\n",
              "    'tags': ['O', 'O', 'O', 'B-ARG0', 'B-V', 'B-ARG1', 'O', 'O']}],\n",
              "  'words': ['It', 'cried', 'and', 'she', 'picked', 'it', 'up', '.']})"
            ]
          },
          "execution_count": 130,
          "metadata": {},
          "output_type": "execute_result"
        }
      ],
      "source": [
        "pred1,pred2"
      ]
    },
    {
      "cell_type": "code",
      "execution_count": null,
      "metadata": {
        "colab": {
          "base_uri": "https://localhost:8080/",
          "height": 35
        },
        "id": "bihKD-eQ2xmZ",
        "outputId": "ae288f4a-1101-4d67-ab4c-4ef8b83f0e99"
      },
      "outputs": [
        {
          "data": {
            "application/vnd.google.colaboratory.intrinsic+json": {
              "type": "string"
            },
            "text/plain": [
              "'[ARG0: The baby] [V: cried] and his mother picked him up .'"
            ]
          },
          "execution_count": 137,
          "metadata": {},
          "output_type": "execute_result"
        }
      ],
      "source": []
    },
    {
      "cell_type": "code",
      "execution_count": null,
      "metadata": {
        "colab": {
          "base_uri": "https://localhost:8080/"
        },
        "id": "OpTUmJTQ2T2_",
        "outputId": "f8530527-9c1d-43f6-e658-f48ea55ba56a"
      },
      "outputs": [
        {
          "data": {
            "text/plain": [
              "['ARG0: The baby', 'V: cried']"
            ]
          },
          "execution_count": 138,
          "metadata": {},
          "output_type": "execute_result"
        }
      ],
      "source": [
        "import re\n",
        "text=pred1['verbs'][0]['description']\n",
        "matches = re.findall(r'\\[(.*?)\\]', text)\n",
        "matches"
      ]
    },
    {
      "cell_type": "code",
      "execution_count": null,
      "metadata": {
        "id": "1NYgPCyxyYGp"
      },
      "outputs": [],
      "source": [
        "def make_tag_list(v): #v=pred['verb'][i]\n",
        "  matches=re.findall(r'\\[(.*?)\\]', v['description'])\n",
        "  tags=[x.split(\":\")[0] for x in matches]\n",
        "  return tags"
      ]
    },
    {
      "cell_type": "code",
      "execution_count": null,
      "metadata": {
        "colab": {
          "base_uri": "https://localhost:8080/"
        },
        "id": "EYnilslT3Ufi",
        "outputId": "7cab99d7-ed41-4e86-ce8c-4b7238d31cd8"
      },
      "outputs": [
        {
          "data": {
            "text/plain": [
              "['ARG0', 'V']"
            ]
          },
          "execution_count": 142,
          "metadata": {},
          "output_type": "execute_result"
        }
      ],
      "source": [
        "make_tag_list(pred1['verbs'][0])"
      ]
    },
    {
      "cell_type": "code",
      "execution_count": null,
      "metadata": {},
      "outputs": [],
      "source": []
    },
    {
      "cell_type": "code",
      "execution_count": null,
      "metadata": {},
      "outputs": [],
      "source": []
    },
    {
      "attachments": {},
      "cell_type": "markdown",
      "metadata": {},
      "source": [
        "## TAXONOMY\n"
      ]
    },
    {
      "attachments": {},
      "cell_type": "markdown",
      "metadata": {},
      "source": [
        "whicky Ice jhon with"
      ]
    },
    {
      "cell_type": "code",
      "execution_count": null,
      "metadata": {},
      "outputs": [],
      "source": []
    },
    {
      "attachments": {},
      "cell_type": "markdown",
      "metadata": {},
      "source": [
        "## NER"
      ]
    },
    {
      "cell_type": "code",
      "execution_count": null,
      "metadata": {},
      "outputs": [],
      "source": []
    },
    {
      "cell_type": "code",
      "execution_count": null,
      "metadata": {},
      "outputs": [],
      "source": []
    },
    {
      "attachments": {},
      "cell_type": "markdown",
      "metadata": {},
      "source": [
        "### Abbreviations"
      ]
    },
    {
      "attachments": {},
      "cell_type": "markdown",
      "metadata": {},
      "source": [
        "### Very Long Entities"
      ]
    },
    {
      "attachments": {},
      "cell_type": "markdown",
      "metadata": {
        "id": "djlQjIyAQIjV"
      },
      "source": [
        "## ROBUSTNESS"
      ]
    },
    {
      "cell_type": "code",
      "execution_count": null,
      "metadata": {},
      "outputs": [],
      "source": []
    },
    {
      "attachments": {},
      "cell_type": "markdown",
      "metadata": {},
      "source": [
        "## PARAPHRASING"
      ]
    },
    {
      "attachments": {},
      "cell_type": "markdown",
      "metadata": {
        "id": "vFvgduTVSxBn"
      },
      "source": [
        "### word orders "
      ]
    },
    {
      "cell_type": "code",
      "execution_count": null,
      "metadata": {
        "colab": {
          "base_uri": "https://localhost:8080/"
        },
        "id": "U0Lfw1_-zojf",
        "outputId": "bf88112c-f70b-4d18-b8c8-1824f7e2ee4d"
      },
      "outputs": [
        {
          "name": "stdout",
          "output_type": "stream",
          "text": [
            "the coach teaches to the team coordination\n",
            "['[ARG0: the coach] [V: teaches] [ARG2: to the team coordination]']\n",
            "\n",
            "\n",
            "\n",
            "The coach teaches coordination to the team\n",
            "['[ARG0: The coach] [V: teaches] [ARG1: coordination to the team]']\n",
            "\n",
            "\n",
            "\n"
          ]
        }
      ],
      "source": [
        "sentences=[\"the coach teaches to the team coordination\", \"The coach teaches coordination to the team\"]\n",
        "for s in sentences:\n",
        "  print(s)\n",
        "  pred=predictor.predict(s)\n",
        "  desc=[x['description'] for x in pred['verbs']]\n",
        "  #print(verbs)\n",
        "  print(desc)\n",
        "  print(\"\\n\\n\")"
      ]
    },
    {
      "cell_type": "code",
      "execution_count": null,
      "metadata": {
        "colab": {
          "base_uri": "https://localhost:8080/"
        },
        "id": "7INNZ1qHv-20",
        "outputId": "72ec3603-31e1-4cbe-cf5a-11afa201126f"
      },
      "outputs": [
        {
          "name": "stdout",
          "output_type": "stream",
          "text": [
            "I like that mark has not beeing able to reduce sigarets despite his mother dying of lung cancer\n",
            "['[ARG0: I] [V: like] [ARG1: that mark has not beeing able to reduce sigarets despite his mother dying of lung cancer]', 'I like that mark [V: has] not beeing able to reduce sigarets despite his mother dying of lung cancer', 'I like that [ARG1: mark] has [ARGM-NEG: not] [V: beeing] [ARGM-PRD: able to reduce sigarets] [ARGM-ADV: despite his mother dying of lung cancer]', 'I like that [ARG0: mark] has not beeing able to [V: reduce] [ARG1: sigarets] despite his mother dying of lung cancer', 'I like that mark has not beeing able to reduce sigarets despite [ARG1: his mother] [V: dying] [ARGM-CAU: of lung cancer]']\n",
            "\n",
            "\n",
            "\n"
          ]
        }
      ],
      "source": [
        "sentences=[\"I like that mark has not beeing able to reduce sigarets despite his mother dying of lung cancer\"]\n",
        "for s in sentences:\n",
        "  print(s)\n",
        "  pred=predictor.predict(s)\n",
        "  desc=[x['description'] for x in pred['verbs']]\n",
        "  #print(verbs)\n",
        "  print(desc)\n",
        "  print(\"\\n\\n\")"
      ]
    },
    {
      "cell_type": "code",
      "execution_count": null,
      "metadata": {
        "colab": {
          "base_uri": "https://localhost:8080/"
        },
        "id": "NlVLG_rfUp2b",
        "outputId": "c9d6e6e4-a487-4180-d82a-7612d589c1c1"
      },
      "outputs": [
        {
          "name": "stdout",
          "output_type": "stream",
          "text": [
            "I give to you kisses\n",
            "['[ARG0: I] [V: give] [ARG2: to you kisses]']\n",
            "\n",
            "\n",
            "\n",
            "I give kisses to you\n",
            "['[ARG0: I] [V: give] [ARG1: kisses] [ARG2: to you]']\n",
            "\n",
            "\n",
            "\n"
          ]
        }
      ],
      "source": [
        "sentences=[\"I give to you kisses\", \"I give kisses to you\"]\n",
        "for s in sentences:\n",
        "  print(s)\n",
        "  pred=predictor_bilstm.predict(s)\n",
        "  desc=[x['description'] for x in pred['verbs']]\n",
        "  #print(verbs)\n",
        "  print(desc)\n",
        "  print(\"\\n\\n\")"
      ]
    },
    {
      "cell_type": "code",
      "execution_count": null,
      "metadata": {
        "colab": {
          "base_uri": "https://localhost:8080/",
          "height": 255
        },
        "id": "vevXyNqhxD6B",
        "outputId": "1f087c75-c075-4831-f349-2dd07c78d9c8"
      },
      "outputs": [
        {
          "name": "stdout",
          "output_type": "stream",
          "text": [
            "you are stupid\n"
          ]
        },
        {
          "ename": "NameError",
          "evalue": "ignored",
          "output_type": "error",
          "traceback": [
            "\u001b[0;31m---------------------------------------------------------------------------\u001b[0m",
            "\u001b[0;31mNameError\u001b[0m                                 Traceback (most recent call last)",
            "\u001b[0;32m<ipython-input-196-af713bc03a2c>\u001b[0m in \u001b[0;36m<module>\u001b[0;34m\u001b[0m\n\u001b[1;32m      3\u001b[0m   \u001b[0mprint\u001b[0m\u001b[0;34m(\u001b[0m\u001b[0ms\u001b[0m\u001b[0;34m)\u001b[0m\u001b[0;34m\u001b[0m\u001b[0;34m\u001b[0m\u001b[0m\n\u001b[1;32m      4\u001b[0m \u001b[0;34m\u001b[0m\u001b[0m\n\u001b[0;32m----> 5\u001b[0;31m   \u001b[0mpred\u001b[0m\u001b[0;34m=\u001b[0m\u001b[0mpredictor_lstm\u001b[0m\u001b[0;34m.\u001b[0m\u001b[0mpredict\u001b[0m\u001b[0;34m(\u001b[0m\u001b[0ms\u001b[0m\u001b[0;34m)\u001b[0m\u001b[0;34m\u001b[0m\u001b[0;34m\u001b[0m\u001b[0m\n\u001b[0m\u001b[1;32m      6\u001b[0m   \u001b[0mprint\u001b[0m\u001b[0;34m(\u001b[0m\u001b[0mpred\u001b[0m\u001b[0;34m)\u001b[0m\u001b[0;34m\u001b[0m\u001b[0;34m\u001b[0m\u001b[0m\n\u001b[1;32m      7\u001b[0m   \u001b[0mdesc\u001b[0m\u001b[0;34m=\u001b[0m\u001b[0;34m[\u001b[0m\u001b[0mx\u001b[0m\u001b[0;34m[\u001b[0m\u001b[0;34m'description'\u001b[0m\u001b[0;34m]\u001b[0m \u001b[0;32mfor\u001b[0m \u001b[0mx\u001b[0m \u001b[0;32min\u001b[0m \u001b[0mpred\u001b[0m\u001b[0;34m[\u001b[0m\u001b[0;34m'verbs'\u001b[0m\u001b[0;34m]\u001b[0m\u001b[0;34m]\u001b[0m\u001b[0;34m\u001b[0m\u001b[0;34m\u001b[0m\u001b[0m\n",
            "\u001b[0;31mNameError\u001b[0m: name 'predictor_lstm' is not defined"
          ]
        }
      ],
      "source": [
        "sentences=[\"you are stupid\"]\n",
        "for s in sentences:\n",
        "  print(s)\n",
        "  \n",
        "  pred=predictor_lstm.predict(s)\n",
        "  print(pred)\n",
        "  desc=[x['description'] for x in pred['verbs']]\n",
        "  #print(verbs)\n",
        "  print(desc)\n",
        "  print(\"\\n\\n\")"
      ]
    },
    {
      "cell_type": "code",
      "execution_count": null,
      "metadata": {
        "colab": {
          "base_uri": "https://localhost:8080/"
        },
        "id": "HPMPU4PWxECn",
        "outputId": "18699ba6-9732-47dd-a0d1-27fd115a215b"
      },
      "outputs": [
        {
          "name": "stdout",
          "output_type": "stream",
          "text": [
            " looking eating kisses Robert at lunchtime in the park\n",
            "BERT\n",
            "['[V: looking] [ARG1: eating kisses Robert at lunchtime in the park]', 'looking [V: eating] [ARG1: kisses Robert] [ARGM-TMP: at lunchtime] [ARGM-LOC: in] [ARGM-TMP: the park]']\n",
            "Lstm\n",
            "['[V: looking] [ARG1: eating kisses Robert at lunchtime in the park]', 'looking [V: eating] [ARG1: kisses Robert at lunchtime] [ARGM-LOC: in the park]']\n",
            "\n",
            "\n",
            "\n"
          ]
        }
      ],
      "source": [
        "sentences=[\" looking eating kisses Robert at lunchtime in the park\"]\n",
        "for s in sentences:\n",
        "  print(s)\n",
        "  predBert=predictor.predict(s)\n",
        "  predBilstm=predictor_bilstm.predict(s)\n",
        "  print(\"BERT\")\n",
        "  print([x['description'] for x in predBert['verbs']])\n",
        "\n",
        "  print(\"Lstm\")\n",
        "  print([x['description'] for x in predBilstm['verbs']])\n",
        "  \n",
        "  print(\"\\n\\n\")"
      ]
    },
    {
      "cell_type": "code",
      "execution_count": null,
      "metadata": {
        "id": "2KNg_S8dxEFH"
      },
      "outputs": [],
      "source": []
    },
    {
      "cell_type": "code",
      "execution_count": null,
      "metadata": {
        "colab": {
          "base_uri": "https://localhost:8080/"
        },
        "id": "BnBI6DcKT1u-",
        "outputId": "74ff4d4e-b17e-4215-d3d7-4008d483b866"
      },
      "outputs": [
        {
          "name": "stdout",
          "output_type": "stream",
          "text": [
            "I give to you love\n",
            "['[ARG0: I] [V: give] [ARG2: to you love]', 'I give to [ARG0: you] [V: love]']\n",
            "\n",
            "\n",
            "\n",
            "I give love to you\n",
            "['[ARG0: I] [V: give] [ARG1: love] [ARG2: to you]']\n",
            "\n",
            "\n",
            "\n"
          ]
        }
      ],
      "source": [
        "sentences=[\"I give to you love\", \"I give love to you\"]\n",
        "for s in sentences:\n",
        "  print(s)\n",
        "  pred=predictor.predict(s)\n",
        "  desc=[x['description'] for x in pred['verbs']]\n",
        "  #print(verbs)\n",
        "  print(desc)\n",
        "  print(\"\\n\\n\")"
      ]
    },
    {
      "attachments": {},
      "cell_type": "markdown",
      "metadata": {
        "id": "hGIRP7dVbw_W"
      },
      "source": [
        "### passive and actrive trasnformarion"
      ]
    },
    {
      "cell_type": "code",
      "execution_count": null,
      "metadata": {
        "id": "YX3CtSK1IAcB"
      },
      "outputs": [],
      "source": [
        "paired_sentences = [    ['The teacher graded the exams.', 'The exams were graded by the teacher.'],\n",
        "    ['The company launched a new product.', 'A new product was launched by the company.'],\n",
        "    ['The chef prepared the meal.', 'The meal was prepared by the chef.'],\n",
        "    ['The storm destroyed the house.', 'The house was destroyed by the storm.'],\n",
        "    ['The doctor cured the patient.', 'The patient was cured by the doctor.'],\n",
        "    ['The police caught the thief.', 'The thief was caught by the police.'],\n",
        "    ['The singer performed the song.', 'The song was performed by the singer.'],\n",
        "    ['The painter created a masterpiece.', 'A masterpiece was created by the painter.'],\n",
        "    ['The company awarded the contract.', 'The contract was awarded by the company.'],\n",
        "    ['The author wrote the book.', 'The book was written by the author.'],\n",
        "    ['The team won the game.', 'The game was won by the team.'],\n",
        "    ['The chef cooked the meal.', 'The meal was cooked by the chef.'],\n",
        "    ['The audience applauded the performer.', 'The performer was applauded by the audience.'],\n",
        "    ['The company hired a new employee.', 'A new employee was hired by the company.'],\n",
        "    ['The artist painted the portrait.', 'The portrait was painted by the artist.'],\n",
        "    ['The company produced a new film.', 'A new film was produced by the company.'],\n",
        "    ['The doctor performed the surgery.', 'The surgery was performed by the doctor.'],\n",
        "    ['The company launched a marketing campaign.', 'A marketing campaign was launched by the company.'],\n",
        "    ['The waiter served the meal.', 'The meal was served by the waiter.'],\n",
        "    ['The engineer designed the building.', 'The building was designed by the engineer.']\n",
        "]\n"
      ]
    },
    {
      "cell_type": "code",
      "execution_count": null,
      "metadata": {
        "colab": {
          "base_uri": "https://localhost:8080/"
        },
        "id": "Kh110yNucZ91",
        "outputId": "c8a2a145-3470-42b9-d0c4-c7b29c582b1a"
      },
      "outputs": [
        {
          "name": "stdout",
          "output_type": "stream",
          "text": [
            "BERT\n",
            "['[ARG0: The teacher] [V: graded] [ARG1: the exams] .']\n",
            "['The exams [V: were] graded by the teacher .', '[ARG1: The exams] were [V: graded] [ARG0: by the teacher] .']\n",
            "\n",
            "\n",
            "Lstm\n",
            "['[ARG0: The teacher] [V: graded] [ARG1: the exams] .']\n",
            "['The exams [V: were] graded by the teacher .', '[ARG2: The exams] were [V: graded] [ARG0: by the teacher] .']\n",
            "\n",
            "\n",
            "\n",
            "\n",
            "\n",
            "\n",
            "BERT\n",
            "['[ARG0: The company] [V: launched] [ARG1: a new product] .']\n",
            "['A new product [V: was] launched by the company .', '[ARG1: A new product] was [V: launched] [ARG0: by the company] .']\n",
            "\n",
            "\n",
            "Lstm\n",
            "['[ARG0: The company] [V: launched] [ARG1: a new product] .']\n",
            "['A new product [V: was] launched by the company .', '[ARG1: A new product] was [V: launched] [ARG0: by the company] .']\n",
            "\n",
            "\n",
            "\n",
            "\n",
            "\n",
            "\n",
            "BERT\n",
            "['[ARG0: The chef] [V: prepared] [ARG1: the meal] .']\n",
            "['The meal [V: was] prepared by the chef .', '[ARG1: The meal] was [V: prepared] [ARG0: by the chef] .']\n",
            "\n",
            "\n",
            "Lstm\n",
            "['[ARG0: The chef] [V: prepared] [ARG1: the meal] .']\n",
            "['The meal [V: was] prepared by the chef .', '[ARG1: The meal] was [V: prepared] [ARG0: by the chef] .']\n",
            "\n",
            "\n",
            "\n",
            "\n",
            "\n",
            "\n",
            "BERT\n",
            "['[ARG0: The storm] [V: destroyed] [ARG1: the house] .']\n",
            "['The house [V: was] destroyed by the storm .', '[ARG1: The house] was [V: destroyed] [ARG0: by the storm] .']\n",
            "\n",
            "\n",
            "Lstm\n",
            "['[ARG0: The storm] [V: destroyed] [ARG1: the house] .']\n",
            "['The house [V: was] destroyed by the storm .', '[ARG1: The house] was [V: destroyed] [ARG0: by the storm] .']\n",
            "\n",
            "\n",
            "\n",
            "\n",
            "\n",
            "\n",
            "BERT\n",
            "['[ARG0: The doctor] [V: cured] [ARG1: the patient] .']\n",
            "['The patient [V: was] cured by the doctor .', '[ARG1: The patient] was [V: cured] [ARG0: by the doctor] .']\n",
            "\n",
            "\n",
            "Lstm\n",
            "['[ARG0: The doctor] [V: cured] [ARG1: the patient] .']\n",
            "['The patient [V: was] cured by the doctor .', '[ARG1: The patient] was [V: cured] [ARG0: by the doctor] .']\n",
            "\n",
            "\n",
            "\n",
            "\n",
            "\n",
            "\n",
            "BERT\n",
            "['[ARG0: The police] [V: caught] [ARG1: the thief] .']\n",
            "['The thief [V: was] caught by the police .', '[ARG1: The thief] was [V: caught] [ARG0: by the police] .']\n",
            "\n",
            "\n",
            "Lstm\n",
            "['[ARG0: The police] [V: caught] [ARG1: the thief] .']\n",
            "['The thief [V: was] caught by the police .', '[ARG1: The thief] was [V: caught] [ARG0: by the police] .']\n",
            "\n",
            "\n",
            "\n",
            "\n",
            "\n",
            "\n",
            "BERT\n",
            "['[ARG0: The singer] [V: performed] [ARG1: the song] .']\n",
            "['The song [V: was] performed by the singer .', '[ARG1: The song] was [V: performed] [ARG0: by the singer] .']\n",
            "\n",
            "\n",
            "Lstm\n",
            "['[ARG0: The singer] [V: performed] [ARG1: the song] .']\n",
            "['The song [V: was] performed by the singer .', '[ARG1: The song] was [V: performed] [ARG0: by the singer] .']\n",
            "\n",
            "\n",
            "\n",
            "\n",
            "\n",
            "\n",
            "BERT\n",
            "['[ARG0: The painter] [V: created] [ARG1: a masterpiece] .']\n",
            "['A masterpiece [V: was] created by the painter .', '[ARG1: A masterpiece] was [V: created] [ARG0: by the painter] .']\n",
            "\n",
            "\n",
            "Lstm\n",
            "['[ARG0: The painter] [V: created] [ARG1: a masterpiece] .']\n",
            "['A masterpiece [V: was] created by the painter .', '[ARG1: A masterpiece] was [V: created] [ARG0: by the painter] .']\n",
            "\n",
            "\n",
            "\n",
            "\n",
            "\n",
            "\n",
            "BERT\n",
            "['[ARG0: The company] [V: awarded] [ARG1: the contract] .']\n",
            "['The contract [V: was] awarded by the company .', '[ARG1: The contract] was [V: awarded] [ARG0: by the company] .']\n",
            "\n",
            "\n",
            "Lstm\n",
            "['[ARG0: The company] [V: awarded] [ARG1: the contract] .']\n",
            "['The contract [V: was] awarded by the company .', '[ARG1: The contract] was [V: awarded] [ARG0: by the company] .']\n",
            "\n",
            "\n",
            "\n",
            "\n",
            "\n",
            "\n",
            "BERT\n",
            "['[ARG0: The author] [V: wrote] [ARG1: the book] .']\n",
            "['The book [V: was] written by the author .', '[ARG1: The book] was [V: written] [ARG0: by the author] .']\n",
            "\n",
            "\n",
            "Lstm\n",
            "['[ARG0: The author] [V: wrote] [ARG1: the book] .']\n",
            "['The book [V: was] written by the author .', '[ARG1: The book] was [V: written] [ARG0: by the author] .']\n",
            "\n",
            "\n",
            "\n",
            "\n",
            "\n",
            "\n",
            "BERT\n",
            "['[ARG0: The team] [V: won] [ARG1: the game] .']\n",
            "['The game [V: was] won by the team .', '[ARG1: The game] was [V: won] [ARG0: by the team] .']\n",
            "\n",
            "\n",
            "Lstm\n",
            "['[ARG0: The team] [V: won] [ARG1: the game] .']\n",
            "['The game [V: was] won by the team .', '[ARG1: The game] was [V: won] [ARG0: by the team] .']\n",
            "\n",
            "\n",
            "\n",
            "\n",
            "\n",
            "\n",
            "BERT\n",
            "['[ARG0: The chef] [V: cooked] [ARG1: the meal] .']\n",
            "['The meal [V: was] cooked by the chef .', '[ARG1: The meal] was [V: cooked] [ARG0: by the chef] .']\n",
            "\n",
            "\n",
            "Lstm\n",
            "['[ARG0: The chef] [V: cooked] [ARG1: the meal] .']\n",
            "['The meal [V: was] cooked by the chef .', '[ARG1: The meal] was [V: cooked] [ARG0: by the chef] .']\n",
            "\n",
            "\n",
            "\n",
            "\n",
            "\n",
            "\n",
            "BERT\n",
            "['[ARG0: The audience] [V: applauded] [ARG1: the performer] .']\n",
            "['The performer [V: was] applauded by the audience .', '[ARG1: The performer] was [V: applauded] [ARG0: by the audience] .']\n",
            "\n",
            "\n",
            "Lstm\n",
            "['[ARG0: The audience] [V: applauded] [ARG1: the performer] .']\n",
            "['The performer [V: was] applauded by the audience .', '[ARG1: The performer] was [V: applauded] [ARG0: by the audience] .']\n",
            "\n",
            "\n",
            "\n",
            "\n",
            "\n",
            "\n",
            "BERT\n",
            "['[ARG0: The company] [V: hired] [ARG1: a new employee] .']\n",
            "['A new employee [V: was] hired by the company .', '[ARG1: A new employee] was [V: hired] [ARG0: by the company] .']\n",
            "\n",
            "\n",
            "Lstm\n",
            "['[ARG0: The company] [V: hired] [ARG1: a new employee] .']\n",
            "['A new employee [V: was] hired by the company .', '[ARG1: A new employee] was [V: hired] [ARG0: by the company] .']\n",
            "\n",
            "\n",
            "\n",
            "\n",
            "\n",
            "\n",
            "BERT\n",
            "['[ARG0: The artist] [V: painted] [ARG1: the portrait] .']\n",
            "['The portrait [V: was] painted by the artist .', '[ARG1: The portrait] was [V: painted] [ARG0: by the artist] .']\n",
            "\n",
            "\n",
            "Lstm\n",
            "['[ARG0: The artist] [V: painted] [ARG1: the portrait] .']\n",
            "['The portrait [V: was] painted by the artist .', '[ARG1: The portrait] was [V: painted] [ARG0: by the artist] .']\n",
            "\n",
            "\n",
            "\n",
            "\n",
            "\n",
            "\n",
            "BERT\n",
            "['[ARG0: The company] [V: produced] [ARG1: a new film] .']\n",
            "['A new film [V: was] produced by the company .', '[ARG1: A new film] was [V: produced] [ARG0: by the company] .']\n",
            "\n",
            "\n",
            "Lstm\n",
            "['[ARG0: The company] [V: produced] [ARG1: a new film] .']\n",
            "['A new film [V: was] produced by the company .', '[ARG1: A new film] was [V: produced] [ARG0: by the company] .']\n",
            "\n",
            "\n",
            "\n",
            "\n",
            "\n",
            "\n",
            "BERT\n",
            "['[ARG0: The doctor] [V: performed] [ARG1: the surgery] .']\n",
            "['The surgery [V: was] performed by the doctor .', '[ARG1: The surgery] was [V: performed] [ARG0: by the doctor] .']\n",
            "\n",
            "\n",
            "Lstm\n",
            "['[ARG0: The doctor] [V: performed] [ARG1: the surgery] .']\n",
            "['The surgery [V: was] performed by the doctor .', '[ARG1: The surgery] was [V: performed] [ARG0: by the doctor] .']\n",
            "\n",
            "\n",
            "\n",
            "\n",
            "\n",
            "\n",
            "BERT\n",
            "['[ARG0: The company] [V: launched] [ARG1: a marketing campaign] .']\n",
            "['A marketing campaign [V: was] launched by the company .', '[ARG1: A marketing campaign] was [V: launched] [ARG0: by the company] .']\n",
            "\n",
            "\n",
            "Lstm\n",
            "['[ARG0: The company] [V: launched] [ARG1: a marketing campaign] .']\n",
            "['A marketing campaign [V: was] launched by the company .', '[ARG1: A marketing campaign] was [V: launched] [ARG0: by the company] .']\n",
            "\n",
            "\n",
            "\n",
            "\n",
            "\n",
            "\n",
            "BERT\n",
            "['[ARG0: The waiter] [V: served] [ARG1: the meal] .']\n",
            "['The meal [V: was] served by the waiter .', '[ARG1: The meal] was [V: served] [ARG0: by the waiter] .']\n",
            "\n",
            "\n",
            "Lstm\n",
            "['[ARG0: The waiter] [V: served] [ARG1: the meal] .']\n",
            "['The meal [V: was] served by the waiter .', '[ARG2: The meal] was [V: served] [ARG0: by the waiter] .']\n",
            "\n",
            "\n",
            "\n",
            "\n",
            "\n",
            "\n",
            "BERT\n",
            "['[ARG0: The engineer] [V: designed] [ARG1: the building] .']\n",
            "['The building [V: was] designed by the engineer .', '[ARG1: The building] was [V: designed] [ARG0: by the engineer] .']\n",
            "\n",
            "\n",
            "Lstm\n",
            "['[ARG0: The engineer] [V: designed] [ARG1: the building] .']\n",
            "['The building [V: was] designed by the engineer .', '[ARG1: The building] was [V: designed] [ARG0: by the engineer] .']\n",
            "\n",
            "\n",
            "\n",
            "\n",
            "\n",
            "\n"
          ]
        }
      ],
      "source": [
        "for p in paired_sentences:\n",
        "  \n",
        "  active,passive=p\n",
        "\n",
        "  print(\"BERT\")\n",
        "  predBert_a = predictor.predict(active)\n",
        "  predBert_p = predictor.predict(passive) \n",
        "  \n",
        "  print([x['description'] for x in predBert_a['verbs']])\n",
        "  print([x['description'] for x in predBert_p['verbs']])\n",
        "  print(\"\\n\")\n",
        "\n",
        "  print(\"Lstm\")\n",
        "  predBilstm_a=predictor_bilstm.predict(active)\n",
        "  predBilstm_p=predictor_bilstm.predict(passive)\n",
        "  print([x['description'] for x in predBilstm_a['verbs']])\n",
        "  print([x['description'] for x in predBilstm_p['verbs']])\n",
        "  print(\"\\n\\n\")\n",
        "\n",
        "\n",
        "  print(\"\\n\\n\")"
      ]
    },
    {
      "cell_type": "code",
      "execution_count": null,
      "metadata": {
        "id": "E_bMFSiSNA0N"
      },
      "outputs": [],
      "source": [
        "paired_sentences = [\n",
        "    ['The consultant recommended that the board approve the merger.', 'It was recommended by the consultant that the merger be approved by the board.'],\n",
        "    ['The coach trained the team on proper technique and strategy.', 'The team was trained on proper technique and strategy by the coach.'],\n",
        "    ['The lawyer defended her client against charges of fraud and embezzlement.', 'The client was defended against charges of fraud and embezzlement by the lawyer.']\n",
        "]\n"
      ]
    },
    {
      "cell_type": "code",
      "execution_count": null,
      "metadata": {
        "colab": {
          "base_uri": "https://localhost:8080/"
        },
        "id": "bpS50bOCbyzf",
        "outputId": "edb48149-8c07-4c09-fc4f-a6d81e4c1287"
      },
      "outputs": [
        {
          "name": "stdout",
          "output_type": "stream",
          "text": [
            "BERT\n",
            "['[ARG0: The consultant] [V: recommended] [ARG1: that the board approve the merger] .', 'The consultant recommended that [ARG0: the board] [V: approve] [ARG1: the merger] .']\n",
            "['It [V: was] recommended by the consultant that the merger be approved by the board .', 'It was [V: recommended] [ARG0: by the consultant] [ARG1: that the merger be approved by the board] .', 'It was recommended by the consultant that the merger [V: be] approved by the board .', 'It was recommended by the consultant that [ARG1: the merger] be [V: approved] [ARG0: by the board] .']\n",
            "\n",
            "\n",
            "Lstm\n",
            "['[ARG0: The consultant] [V: recommended] [ARG1: that the board approve the merger] .', 'The consultant recommended that [ARG0: the board] [V: approve] [ARG1: the merger] .']\n",
            "['It [V: was] recommended by the consultant that the merger be approved by the board .', '[ARG1: It] was [V: recommended] [ARG0: by the consultant] [ARG2: that the merger be approved by the board] .', 'It was recommended by the consultant that the merger [V: be] approved by the board .', 'It was recommended by the consultant that [ARG1: the merger] be [V: approved] [ARG0: by the board] .']\n",
            "\n",
            "\n",
            "\n",
            "\n",
            "\n",
            "\n",
            "BERT\n",
            "['[ARG0: The coach] [V: trained] [ARG2: the team] [ARG1: on proper technique and strategy] .']\n",
            "['The team [V: was] trained on proper technique and strategy by the coach .', '[ARG2: The team] was [V: trained] [ARG1: on proper technique and strategy] [ARG0: by the coach] .']\n",
            "\n",
            "\n",
            "Lstm\n",
            "['[ARG0: The coach] [V: trained] [ARG2: the team] [ARG1: on proper technique and strategy] .']\n",
            "['The team [V: was] trained on proper technique and strategy by the coach .', '[ARG2: The team] was [V: trained] [ARG1: on proper technique and strategy by the coach] .']\n",
            "\n",
            "\n",
            "\n",
            "\n",
            "\n",
            "\n",
            "BERT\n",
            "['[ARG0: The lawyer] [V: defended] [ARG1: her client] [ARGM-ADV: against charges of fraud and embezzlement] .']\n",
            "['The client [V: was] defended against charges of fraud and embezzlement by the lawyer .', '[ARG1: The client] was [V: defended] [ARGM-ADV: against charges of fraud and embezzlement] [ARG0: by the lawyer] .']\n",
            "\n",
            "\n",
            "Lstm\n",
            "['[ARG0: The lawyer] [V: defended] [ARG1: her client] [ARG1: against charges of fraud and embezzlement] .']\n",
            "['The client [V: was] defended against charges of fraud and embezzlement by the lawyer .', '[ARG2: The client] was [V: defended] [ARG1: against charges of fraud and embezzlement by the lawyer] .']\n",
            "\n",
            "\n",
            "\n",
            "\n",
            "\n",
            "\n"
          ]
        }
      ],
      "source": [
        "for p in paired_sentences:\n",
        "  \n",
        "  active,passive=p\n",
        "\n",
        "  print(\"BERT\")\n",
        "  predBert_a = predictor.predict(active)\n",
        "  predBert_p = predictor.predict(passive) \n",
        "  \n",
        "  print([x['description'] for x in predBert_a['verbs']])\n",
        "  print([x['description'] for x in predBert_p['verbs']])\n",
        "  print(\"\\n\")\n",
        "\n",
        "  print(\"Lstm\")\n",
        "  predBilstm_a=predictor_bilstm.predict(active)\n",
        "  predBilstm_p=predictor_bilstm.predict(passive)\n",
        "  print([x['description'] for x in predBilstm_a['verbs']])\n",
        "  print([x['description'] for x in predBilstm_p['verbs']])\n",
        "  print(\"\\n\\n\")\n",
        "\n",
        "\n",
        "  print(\"\\n\\n\")"
      ]
    },
    {
      "cell_type": "code",
      "execution_count": null,
      "metadata": {
        "id": "E9BFrspWcAwZ"
      },
      "outputs": [],
      "source": []
    },
    {
      "cell_type": "code",
      "execution_count": null,
      "metadata": {
        "colab": {
          "base_uri": "https://localhost:8080/"
        },
        "id": "UckDnB4DgsUa",
        "outputId": "c0488ac4-9cb7-47b8-cc51-22ebf9c80ccc"
      },
      "outputs": [
        {
          "name": "stdout",
          "output_type": "stream",
          "text": [
            "the coach teaches the team a new schema\n",
            "['[ARG0: the coach] [V: teaches] [ARG2: the team] [ARG1: a new schema]']\n",
            "\n",
            "\n",
            "\n",
            "The coach teaches a new schema to the team\n",
            "['[ARG0: The coach] [V: teaches] [ARG1: a new schema] [ARG2: to the team]']\n",
            "\n",
            "\n",
            "\n"
          ]
        }
      ],
      "source": []
    },
    {
      "cell_type": "code",
      "execution_count": null,
      "metadata": {
        "id": "k4v_RIAwgvCx"
      },
      "outputs": [],
      "source": []
    },
    {
      "cell_type": "code",
      "execution_count": null,
      "metadata": {
        "id": "x-iCfkI5gzTi"
      },
      "outputs": [],
      "source": []
    },
    {
      "attachments": {},
      "cell_type": "markdown",
      "metadata": {
        "id": "zfvIn-8biqxc"
      },
      "source": [
        "### Direct speech"
      ]
    },
    {
      "attachments": {},
      "cell_type": "markdown",
      "metadata": {},
      "source": [
        "### Question parahrased"
      ]
    },
    {
      "attachments": {},
      "cell_type": "markdown",
      "metadata": {},
      "source": [
        "## Coreference STUDYING\n"
      ]
    },
    {
      "cell_type": "code",
      "execution_count": null,
      "metadata": {},
      "outputs": [],
      "source": [
        "\n",
        "pred1=predictor_Bert.predict(\"It annoys me the results of the election\")\n",
        "pred1\n",
        "\n",
        "\n",
        "pred=predictor_Bert.predict(\"It Is great the results of the election\")\n",
        "pred\n",
        "\n",
        "pred=predictor_Bert.predict(\"He was the one that did not want to go to the party\")\n",
        "for v in pred['verbs']:\n",
        "  print(v['description'])\n",
        "  \n",
        "\n",
        "pred=predictor_Bert.predict(\"she is the sister that likes milk\")\n",
        "for v in pred['verbs']:\n",
        "  print(v['description'])\n",
        "  \n",
        "\n",
        "relative_pronouns = {\n",
        "    \"who\": \"The person who stole my bike was caught by the police.\",\n",
        "    \"whom\": \"The woman whom I saw at the store was carrying a lot of groceries.\",\n",
        "    \"which\": \"The car which I rented for my vacation was very comfortable.\",\n",
        "    \"whose\": \"The man whose wallet was lost reported the incident to the authorities.\",\n",
        "    \"where\": \"The park where we had our picnic was very peaceful.\",\n",
        "    \"when\": \"The time when we first met is a very special memory for me.\",\n",
        "    \"that\": \"The book that I'm reading right now is very suspenseful.\",\n",
        "    \"whoever\": \"Whoever finishes first gets a prize.\",\n",
        "    \"whichever\": \"You can choose whichever movie you want to see.\",\n",
        "}\n",
        "for x in relative_pronouns:\n",
        "  print(x)\n",
        "  pred=predictor_Bert.predict(relative_pronouns[x])\n",
        "  for v in pred['verbs']:\n",
        "    print(v['description'])\n",
        "  \n",
        "pred=predictor_Bert.predict(\"The partner of the lady, who is very old, has exacly my t-shirt\")\n",
        "pred\n",
        "pred['verbs'][0]['description']\n",
        "\n",
        "pred=predictor_Bert.predict(\"The partner of the lady who is very old, has exacly my t-shirt\")\n",
        "pred\n",
        "pred['verbs'][0]['description']\n",
        "\n",
        "pred=predictor_Bert.predict(\"The partner of the lady who is very old has exacly my t-shirt\")\n",
        "pred\n",
        "pred['verbs'][0]['description']\n",
        "pred=predictor_Bert.predict(\"The cars in the shop which is expensive, are exacly what i dream\")\n",
        "pred\n",
        "pred['verbs'][0]['description']\n",
        "\n",
        "Ok so the idea is the coreference u dont need here becuase SRL is sentence based very much and for every predicate\n",
        "you have a sentence. So the coreference is not needed. But sometimes you have that in the same sentence."
      ]
    },
    {
      "cell_type": "code",
      "execution_count": 204,
      "metadata": {},
      "outputs": [
        {
          "data": {
            "text/plain": [
              "{'verbs': [{'verb': 'is',\n",
              "   'description': '[ARG1: It] [V: is] [ARG2: the key of Louis] and the car is also his',\n",
              "   'tags': ['B-ARG1',\n",
              "    'B-V',\n",
              "    'B-ARG2',\n",
              "    'I-ARG2',\n",
              "    'I-ARG2',\n",
              "    'I-ARG2',\n",
              "    'O',\n",
              "    'O',\n",
              "    'O',\n",
              "    'O',\n",
              "    'O',\n",
              "    'O']},\n",
              "  {'verb': 'is',\n",
              "   'description': 'It is the key of Louis and [ARG1: the car] [V: is] [ARGM-ADV: also] [ARG2: his]',\n",
              "   'tags': ['O',\n",
              "    'O',\n",
              "    'O',\n",
              "    'O',\n",
              "    'O',\n",
              "    'O',\n",
              "    'O',\n",
              "    'B-ARG1',\n",
              "    'I-ARG1',\n",
              "    'B-V',\n",
              "    'B-ARGM-ADV',\n",
              "    'B-ARG2']}],\n",
              " 'words': ['It',\n",
              "  'is',\n",
              "  'the',\n",
              "  'key',\n",
              "  'of',\n",
              "  'Louis',\n",
              "  'and',\n",
              "  'the',\n",
              "  'car',\n",
              "  'is',\n",
              "  'also',\n",
              "  'his']}"
            ]
          },
          "execution_count": 204,
          "metadata": {},
          "output_type": "execute_result"
        }
      ],
      "source": [
        "\n",
        "pred1=predictor_Bert.predict(\"It is the key of Louis and the car is also his\")\n",
        "pred1"
      ]
    },
    {
      "attachments": {},
      "cell_type": "markdown",
      "metadata": {
        "id": "XzSt0hAmQcYJ"
      },
      "source": [
        "## AMBIGUITY"
      ]
    },
    {
      "attachments": {},
      "cell_type": "markdown",
      "metadata": {
        "id": "88Z28UZUr6NW"
      },
      "source": [
        "#### PP -ambiguity\n",
        " "
      ]
    },
    {
      "cell_type": "code",
      "execution_count": null,
      "metadata": {
        "colab": {
          "base_uri": "https://localhost:8080/"
        },
        "id": "__UUhlKKi0II",
        "outputId": "df279aeb-590e-497c-9510-393de9163699"
      },
      "outputs": [
        {
          "name": "stdout",
          "output_type": "stream",
          "text": [
            "I went to the resturant by the Hutsin\n",
            "['[ARG0: I] [V: went] [ARG4: to the resturant by the Hutsin]']\n",
            "\n",
            "\n",
            "\n",
            "I went to the resturant by bike\n",
            "['[ARG0: I] [V: went] [ARG4: to the resturant] [ARGM-MNR: by bike]']\n",
            "\n",
            "\n",
            "\n"
          ]
        }
      ],
      "source": [
        "sentences=\"I went to the resturant by the Hutsin\", \"I went to the resturant by\"\n",
        "for s in sentences:\n",
        "  print(s)\n",
        "  pred=predictor.predict(s)\n",
        "  desc=[x['description'] for x in pred['verbs']]\n",
        "  #print(verbs)\n",
        "  print(desc)\n",
        "  print(\"\\n\\n\")"
      ]
    },
    {
      "cell_type": "code",
      "execution_count": null,
      "metadata": {
        "id": "fqHUwgoCr7OA"
      },
      "outputs": [],
      "source": [
        "[\"I fixed the car with a red logo\",\"I fixed the car with a wretch\"]\n",
        "[\"I bought a computer with GPU\",\" I bought a computer wit bitcoins\"]\n"
      ]
    },
    {
      "cell_type": "code",
      "execution_count": null,
      "metadata": {
        "id": "7i47oLC8qoSV"
      },
      "outputs": [],
      "source": []
    },
    {
      "cell_type": "markdown",
      "metadata": {
        "id": "XmfHHUH_qm0C"
      },
      "source": []
    },
    {
      "cell_type": "code",
      "execution_count": null,
      "metadata": {
        "id": "NaB7JX0uqlcL"
      },
      "outputs": [],
      "source": []
    },
    {
      "cell_type": "code",
      "execution_count": null,
      "metadata": {
        "id": "pyNb46UrRwK9"
      },
      "outputs": [],
      "source": []
    },
    {
      "cell_type": "code",
      "execution_count": null,
      "metadata": {
        "id": "r-sgdwntxYwk"
      },
      "outputs": [],
      "source": []
    },
    {
      "attachments": {},
      "cell_type": "markdown",
      "metadata": {
        "id": "18hqUeT2Yije"
      },
      "source": []
    },
    {
      "attachments": {},
      "cell_type": "markdown",
      "metadata": {
        "id": "AsWFgLOtBAOh"
      },
      "source": [
        "# PROBABLY NOT DOING THEM any mre\n",
        "\n",
        "\n",
        "\n"
      ]
    },
    {
      "cell_type": "code",
      "execution_count": 45,
      "metadata": {
        "id": "51L_HfZnk_NJ"
      },
      "outputs": [],
      "source": []
    },
    {
      "cell_type": "code",
      "execution_count": null,
      "metadata": {
        "id": "ZUa4DZGhqQvq"
      },
      "outputs": [],
      "source": []
    },
    {
      "attachments": {},
      "cell_type": "markdown",
      "metadata": {},
      "source": [
        "### Overlapping spans\n"
      ]
    },
    {
      "attachments": {},
      "cell_type": "markdown",
      "metadata": {
        "id": "qywAgrXmqR8S"
      },
      "source": [
        "### INCISI"
      ]
    },
    {
      "cell_type": "code",
      "execution_count": 194,
      "metadata": {
        "colab": {
          "base_uri": "https://localhost:8080/"
        },
        "id": "3NIVdwIEqTDI",
        "outputId": "d2fc01e9-3d77-4c96-ef0c-a1aa102d3f19"
      },
      "outputs": [
        {
          "name": "stdout",
          "output_type": "stream",
          "text": [
            "This, friend, is epic \n",
            "['[ARG1: This ,] [ARGM-DIS: friend] , [V: is] [ARG2: epic]']\n",
            "\n",
            "\n",
            "\n",
            "This friend is epic\n",
            "['[ARG1: This friend] [V: is] [ARG2: epic]']\n",
            "\n",
            "\n",
            "\n"
          ]
        }
      ],
      "source": [
        "sentences=[\"This, friend, is epic \",\"This friend is epic\"]\n",
        "for s in sentences:\n",
        "  print(s)\n",
        "  pred=predictor_Bert.predict(s)\n",
        "  desc=[x['description'] for x in pred['verbs']]\n",
        "  #print(verbs)\n",
        "  print(desc)\n",
        "  print(\"\\n\\n\")"
      ]
    },
    {
      "cell_type": "code",
      "execution_count": null,
      "metadata": {
        "id": "HFQzrpEHqajZ"
      },
      "outputs": [],
      "source": [
        "(I might stay, tonight, with you)"
      ]
    },
    {
      "attachments": {},
      "cell_type": "markdown",
      "metadata": {
        "id": "1qa_YDiogvoa"
      },
      "source": [
        "### DIfferent frames for labels recognition\n",
        "With mutiple verbs, argoument confusion or shiet"
      ]
    },
    {
      "cell_type": "code",
      "execution_count": null,
      "metadata": {
        "id": "_Rt77YCcYkfe"
      },
      "outputs": [],
      "source": []
    },
    {
      "attachments": {},
      "cell_type": "markdown",
      "metadata": {
        "id": "JoQIAH4WY2Kl"
      },
      "source": [
        "### Saxon genitive"
      ]
    },
    {
      "cell_type": "code",
      "execution_count": null,
      "metadata": {
        "id": "gqJO-kASY35h"
      },
      "outputs": [],
      "source": [
        "paired_sentences = [    [\"The president's decision to withdraw troops from the region caused controversy among military leaders.\",      \"The decision of the president to withdraw troops from the region caused controversy among military leaders.\"],\n",
        "    [\"The CEO's success in turning around the struggling company was due in large part to her innovative marketing strategies.\",      \"The success of the CEO in turning around the struggling company was due in large part to her innovative marketing strategies.\"],\n",
        "    [\"The director's vision for the film was not fully realized due to budget constraints and scheduling conflicts.\",      \"The vision of the director for the film was not fully realized due to budget constraints and scheduling conflicts.\"],\n",
        "    [\"The professor's lecture on the history of ancient Rome was attended by a packed auditorium of eager students.\",      \"The lecture on the history of ancient Rome of the professor was attended by a packed auditorium of eager students.\"],\n",
        "    [\"The artist's latest work, a sculpture made entirely of recycled materials, was featured in a prominent gallery exhibition.\",      \"The latest work of the artist, a sculpture made entirely of recycled materials, was featured in a prominent gallery exhibition.\"],\n",
        "    [\"The athlete's rigorous training regimen and strict diet led to her record-breaking performance at the championship.\",      \"The rigorous training regimen and strict diet of the athlete led to her record-breaking performance at the championship.\"],\n",
        "    [\"The author's use of symbolism and metaphor in her novel added depth and complexity to the story.\",      \"The use of symbolism and metaphor in her novel of the author added depth and complexity to the story.\"]\n",
        "]\n"
      ]
    },
    {
      "cell_type": "code",
      "execution_count": null,
      "metadata": {
        "id": "xA-tIuKeeFwl"
      },
      "outputs": [],
      "source": []
    },
    {
      "cell_type": "code",
      "execution_count": null,
      "metadata": {
        "id": "e3HiN4_geN9E"
      },
      "outputs": [],
      "source": []
    },
    {
      "attachments": {},
      "cell_type": "markdown",
      "metadata": {
        "id": "bZmRzaqwSkTM"
      },
      "source": [
        "### Intransitive verbs"
      ]
    },
    {
      "cell_type": "code",
      "execution_count": null,
      "metadata": {
        "id": "Dp9F9dxYSmzc"
      },
      "outputs": [],
      "source": [
        "sentences = ['The sun rises in the east.',\n",
        "             'He slept for 10 hours.',\n",
        "             'They danced all night.',\n",
        "             'The flowers bloomed in the spring.',\n",
        "             'The baby cried all night.',\n",
        "             'The cat meowed loudly.',\n",
        "             'The car stopped suddenly.',\n",
        "             'She ran around the park.',\n",
        "             'The plane took off at 9 am.',\n",
        "             'The wind blew fiercely.',\n",
        "             'The tree swayed in the wind.',\n",
        "             'The river flows downstream.',\n",
        "             'The coffee brewed in the pot.',\n",
        "             'The music played softly in the background.',\n",
        "             'The bird chirped early in the morning.',\n",
        "             'The children laughed and played.',\n",
        "             'The fire crackled in the fireplace.',\n",
        "             'The leaves fell from the trees.',\n",
        "             'The boat sailed across the ocean.',\n",
        "             'The train arrived at the station on time.']\n"
      ]
    },
    {
      "cell_type": "code",
      "execution_count": null,
      "metadata": {
        "colab": {
          "base_uri": "https://localhost:8080/"
        },
        "id": "1U47CiSLSsia",
        "outputId": "eba4faa3-5a89-48aa-a482-9a951d02eb1c"
      },
      "outputs": [
        {
          "name": "stdout",
          "output_type": "stream",
          "text": [
            "The sun rises in the east.\n",
            "['[ARG1: The sun] [V: rises] [ARGM-LOC: in the east] .']\n",
            "\n",
            "\n",
            "\n",
            "He slept for 10 hours.\n",
            "['[ARG0: He] [V: slept] [ARGM-TMP: for 10 hours] .']\n",
            "\n",
            "\n",
            "\n",
            "They danced all night.\n",
            "['[ARG0: They] [V: danced] [ARGM-TMP: all night] .']\n",
            "\n",
            "\n",
            "\n",
            "The flowers bloomed in the spring.\n",
            "['[ARG0: The flowers] [V: bloomed] [ARGM-TMP: in the spring] .']\n",
            "\n",
            "\n",
            "\n",
            "The baby cried all night.\n",
            "['[ARG0: The baby] [V: cried] [ARGM-TMP: all night] .']\n",
            "\n",
            "\n",
            "\n",
            "The cat meowed loudly.\n",
            "['[ARG0: The cat] [V: meowed] [ARGM-MNR: loudly] .']\n",
            "\n",
            "\n",
            "\n",
            "The car stopped suddenly.\n",
            "['[ARG1: The car] [V: stopped] [ARGM-MNR: suddenly] .']\n",
            "\n",
            "\n",
            "\n",
            "She ran around the park.\n",
            "['[ARG0: She] [V: ran] [ARGM-DIR: around the park] .']\n",
            "\n",
            "\n",
            "\n",
            "The plane took off at 9 am.\n",
            "['[ARG1: The plane] [V: took] off [ARGM-TMP: at 9 am] .']\n",
            "\n",
            "\n",
            "\n",
            "The wind blew fiercely.\n",
            "['[ARG1: The wind] [V: blew] [ARGM-MNR: fiercely] .']\n",
            "\n",
            "\n",
            "\n",
            "The tree swayed in the wind.\n",
            "['[ARG1: The tree] [V: swayed] [ARGM-LOC: in the wind] .']\n",
            "\n",
            "\n",
            "\n",
            "The river flows downstream.\n",
            "['[ARG1: The river] [V: flows] [ARGM-DIR: downstream] .']\n",
            "\n",
            "\n",
            "\n",
            "The coffee brewed in the pot.\n",
            "['[ARG1: The coffee] [V: brewed] [ARGM-LOC: in the pot] .']\n",
            "\n",
            "\n",
            "\n",
            "The music played softly in the background.\n",
            "['[ARG1: The music] [V: played] [ARGM-MNR: softly] [ARGM-LOC: in the background] .']\n",
            "\n",
            "\n",
            "\n",
            "The bird chirped early in the morning.\n",
            "['[ARG0: The bird] [V: chirped] [ARGM-TMP: early in the morning] .']\n",
            "\n",
            "\n",
            "\n",
            "The children laughed and played.\n",
            "['[ARG0: The children] [V: laughed] and played .', '[ARG0: The children] laughed and [V: played] .']\n",
            "\n",
            "\n",
            "\n",
            "The fire crackled in the fireplace.\n",
            "['[ARG0: The fire] [V: crackled] [ARGM-LOC: in the fireplace] .']\n",
            "\n",
            "\n",
            "\n",
            "The leaves fell from the trees.\n",
            "['[ARG1: The leaves] [V: fell] [ARG3: from the trees] .']\n",
            "\n",
            "\n",
            "\n",
            "The boat sailed across the ocean.\n",
            "['[ARG0: The boat] [V: sailed] [ARGM-DIR: across the ocean] .']\n",
            "\n",
            "\n",
            "\n",
            "The train arrived at the station on time.\n",
            "['[ARG1: The train] [V: arrived] [ARG4: at the station] [ARGM-TMP: on time] .']\n",
            "\n",
            "\n",
            "\n"
          ]
        }
      ],
      "source": [
        "for s in sentences:\n",
        "  print(s)\n",
        "  pred=predictor.predict(s)\n",
        "  desc=[x['description'] for x in pred['verbs']]\n",
        "  #print(verbs)\n",
        "  print(desc)\n",
        "  print(\"\\n\\n\")"
      ]
    },
    {
      "cell_type": "code",
      "execution_count": null,
      "metadata": {
        "id": "crDSij6dS3XA"
      },
      "outputs": [],
      "source": [
        "sentences = ['The snow fell gently from the sky.',\n",
        "             'She laughed uncontrollably at the joke.',\n",
        "             'The sun set over the horizon.',\n",
        "             'The children played happily in the park.',\n",
        "             'The fire burned brightly in the fireplace.',\n",
        "             'The wind howled outside the window.',\n",
        "             'The cake baked for an hour.',\n",
        "             'The door opened slowly.',\n",
        "             'The crowd cheered loudly at the concert.',\n",
        "             'The athlete ran around the track.',\n",
        "             'The tree grew tall and strong.',\n",
        "             'The river flowed peacefully.',\n",
        "             'The bird flew gracefully through the air.',\n",
        "             'The fish swam quickly in the water.',\n",
        "             'The dog barked loudly at the mailman.',\n",
        "             'The car drove smoothly down the road.',\n",
        "             'The plane flew high above the clouds.',\n",
        "             'The moon shone brightly in the sky.',\n",
        "             'The stars twinkled in the night sky.',\n",
        "             'The flowers swayed in the breeze.']\n"
      ]
    },
    {
      "cell_type": "code",
      "execution_count": null,
      "metadata": {
        "colab": {
          "base_uri": "https://localhost:8080/"
        },
        "id": "0W15h4WVZJFj",
        "outputId": "4af66d47-d0cc-4f15-9b9f-0afd4dbded95"
      },
      "outputs": [
        {
          "name": "stdout",
          "output_type": "stream",
          "text": [
            "The snow fell gently from the sky.\n",
            "['[ARG1: The snow] [V: fell] [ARGM-MNR: gently] [ARG3: from the sky] .']\n",
            "\n",
            "\n",
            "\n",
            "She laughed uncontrollably at the joke.\n",
            "['[ARG0: She] [V: laughed] [ARGM-MNR: uncontrollably] [ARG2: at the joke] .']\n",
            "\n",
            "\n",
            "\n",
            "The sun set over the horizon.\n",
            "['[ARG1: The sun] [V: set] [ARG2: over the horizon] .']\n",
            "\n",
            "\n",
            "\n",
            "The children played happily in the park.\n",
            "['[ARG0: The children] [V: played] [ARGM-MNR: happily] [ARGM-LOC: in the park] .']\n",
            "\n",
            "\n",
            "\n",
            "The fire burned brightly in the fireplace.\n",
            "['[ARG1: The fire] [V: burned] [ARGM-MNR: brightly] [ARGM-LOC: in the fireplace] .']\n",
            "\n",
            "\n",
            "\n",
            "The wind howled outside the window.\n",
            "['[ARG0: The wind] [V: howled] [ARGM-LOC: outside the window] .']\n",
            "\n",
            "\n",
            "\n",
            "The cake baked for an hour.\n",
            "['[ARG1: The cake] [V: baked] [ARGM-TMP: for an hour] .']\n",
            "\n",
            "\n",
            "\n",
            "The door opened slowly.\n",
            "['[ARG1: The door] [V: opened] [ARGM-MNR: slowly] .']\n",
            "\n",
            "\n",
            "\n",
            "The crowd cheered loudly at the concert.\n",
            "['[ARG0: The crowd] [V: cheered] [ARGM-MNR: loudly] [ARG1: at the concert] .']\n",
            "\n",
            "\n",
            "\n",
            "The athlete ran around the track.\n",
            "['[ARG0: The athlete] [V: ran] [ARGM-DIR: around the track] .']\n",
            "\n",
            "\n",
            "\n",
            "The tree grew tall and strong.\n",
            "['[ARG1: The tree] [V: grew] [ARGM-PRD: tall and strong] .']\n",
            "\n",
            "\n",
            "\n",
            "The river flowed peacefully.\n",
            "['[ARG1: The river] [V: flowed] [ARGM-MNR: peacefully] .']\n",
            "\n",
            "\n",
            "\n",
            "The bird flew gracefully through the air.\n",
            "['[ARG0: The bird] [V: flew] [ARGM-MNR: gracefully] [ARGM-DIR: through the air] .']\n",
            "\n",
            "\n",
            "\n",
            "The fish swam quickly in the water.\n",
            "[]\n",
            "\n",
            "\n",
            "\n",
            "The dog barked loudly at the mailman.\n",
            "['[ARG0: The dog] [V: barked] [ARGM-MNR: loudly] [ARG2: at the mailman] .']\n",
            "\n",
            "\n",
            "\n",
            "The car drove smoothly down the road.\n",
            "['[ARG0: The car] [V: drove] [ARGM-MNR: smoothly] [ARG1: down the road] .']\n",
            "\n",
            "\n",
            "\n",
            "The plane flew high above the clouds.\n",
            "['[ARG1: The plane] [V: flew] [ARGM-LOC: high above the clouds] .']\n",
            "\n",
            "\n",
            "\n",
            "The moon shone brightly in the sky.\n",
            "['[ARG1: The moon] [V: shone] [ARGM-MNR: brightly] [ARGM-LOC: in the sky] .']\n",
            "\n",
            "\n",
            "\n",
            "The stars twinkled in the night sky.\n",
            "['[ARG1: The stars] [V: twinkled] [ARGM-LOC: in the night sky] .']\n",
            "\n",
            "\n",
            "\n",
            "The flowers swayed in the breeze.\n",
            "['[ARG1: The flowers] [V: swayed] [ARGM-LOC: in the breeze] .']\n",
            "\n",
            "\n",
            "\n"
          ]
        }
      ],
      "source": [
        "for s in sentences:\n",
        "  print(s)\n",
        "  pred=predictor.predict(s)\n",
        "  desc=[x['description'] for x in pred['verbs']]\n",
        "  #print(verbs)\n",
        "  print(desc)\n",
        "  print(\"\\n\\n\")"
      ]
    },
    {
      "cell_type": "code",
      "execution_count": null,
      "metadata": {
        "colab": {
          "base_uri": "https://localhost:8080/"
        },
        "id": "fNLh24X7Z5zo",
        "outputId": "5e4fee14-f665-4f11-9c04-f26c35025ffc"
      },
      "outputs": [
        {
          "data": {
            "text/plain": [
              "{'verbs': [{'verb': 'keep',\n",
              "   'description': '[ARG0: Many people] [V: keep] [ARG1: falling for this CON - GAME that lower taxes on the rich benefits everyone] .',\n",
              "   'tags': ['B-ARG0',\n",
              "    'I-ARG0',\n",
              "    'B-V',\n",
              "    'B-ARG1',\n",
              "    'I-ARG1',\n",
              "    'I-ARG1',\n",
              "    'I-ARG1',\n",
              "    'I-ARG1',\n",
              "    'I-ARG1',\n",
              "    'I-ARG1',\n",
              "    'I-ARG1',\n",
              "    'I-ARG1',\n",
              "    'I-ARG1',\n",
              "    'I-ARG1',\n",
              "    'I-ARG1',\n",
              "    'I-ARG1',\n",
              "    'I-ARG1',\n",
              "    'O']},\n",
              "  {'verb': 'falling',\n",
              "   'description': '[ARG1: Many people] keep [V: falling] [ARGM-PRP: for this CON - GAME that lower taxes on the rich benefits everyone] .',\n",
              "   'tags': ['B-ARG1',\n",
              "    'I-ARG1',\n",
              "    'O',\n",
              "    'B-V',\n",
              "    'B-ARGM-PRP',\n",
              "    'I-ARGM-PRP',\n",
              "    'I-ARGM-PRP',\n",
              "    'I-ARGM-PRP',\n",
              "    'I-ARGM-PRP',\n",
              "    'I-ARGM-PRP',\n",
              "    'I-ARGM-PRP',\n",
              "    'I-ARGM-PRP',\n",
              "    'I-ARGM-PRP',\n",
              "    'I-ARGM-PRP',\n",
              "    'I-ARGM-PRP',\n",
              "    'I-ARGM-PRP',\n",
              "    'I-ARGM-PRP',\n",
              "    'O']}],\n",
              " 'words': ['Many',\n",
              "  'people',\n",
              "  'keep',\n",
              "  'falling',\n",
              "  'for',\n",
              "  'this',\n",
              "  'CON',\n",
              "  '-',\n",
              "  'GAME',\n",
              "  'that',\n",
              "  'lower',\n",
              "  'taxes',\n",
              "  'on',\n",
              "  'the',\n",
              "  'rich',\n",
              "  'benefits',\n",
              "  'everyone',\n",
              "  '.']}"
            ]
          },
          "execution_count": 161,
          "metadata": {},
          "output_type": "execute_result"
        }
      ],
      "source": [
        "sent=\"Many people keep falling for this CON - GAME that lower taxes on the rich benefits everyone . \"\n",
        "predictor.predict(sent)"
      ]
    },
    {
      "cell_type": "code",
      "execution_count": null,
      "metadata": {
        "colab": {
          "base_uri": "https://localhost:8080/"
        },
        "id": "zpYziEq6aAhf",
        "outputId": "bf89e4fd-b324-43fd-9fe2-22d18b2ec2e6"
      },
      "outputs": [
        {
          "data": {
            "text/plain": [
              "{'verbs': [{'verb': 'walked',\n",
              "   'description': '[ARG0: He] [V: walked] [ARG1: the dog] [ARGM-GOL: to the park and back] .',\n",
              "   'tags': ['B-ARG0',\n",
              "    'B-V',\n",
              "    'B-ARG1',\n",
              "    'I-ARG1',\n",
              "    'B-ARGM-GOL',\n",
              "    'I-ARGM-GOL',\n",
              "    'I-ARGM-GOL',\n",
              "    'I-ARGM-GOL',\n",
              "    'I-ARGM-GOL',\n",
              "    'O']}],\n",
              " 'words': ['He',\n",
              "  'walked',\n",
              "  'the',\n",
              "  'dog',\n",
              "  'to',\n",
              "  'the',\n",
              "  'park',\n",
              "  'and',\n",
              "  'back',\n",
              "  '.']}"
            ]
          },
          "execution_count": 163,
          "metadata": {},
          "output_type": "execute_result"
        }
      ],
      "source": [
        "predictor.predict(\"He walked the dog to the park and back.\")"
      ]
    },
    {
      "cell_type": "code",
      "execution_count": null,
      "metadata": {
        "colab": {
          "base_uri": "https://localhost:8080/"
        },
        "id": "NPbWPYbidmKY",
        "outputId": "426766eb-8c35-4be3-e22f-afe03b575d44"
      },
      "outputs": [
        {
          "data": {
            "text/plain": [
              "{'verbs': [{'verb': 'walked',\n",
              "   'description': '[ARG0: He] [V: walked] [ARGM-COM: with the dog] [ARGM-GOL: to the park and back] .',\n",
              "   'tags': ['B-ARG0',\n",
              "    'B-V',\n",
              "    'B-ARGM-COM',\n",
              "    'I-ARGM-COM',\n",
              "    'I-ARGM-COM',\n",
              "    'B-ARGM-GOL',\n",
              "    'I-ARGM-GOL',\n",
              "    'I-ARGM-GOL',\n",
              "    'I-ARGM-GOL',\n",
              "    'I-ARGM-GOL',\n",
              "    'O']}],\n",
              " 'words': ['He',\n",
              "  'walked',\n",
              "  'with',\n",
              "  'the',\n",
              "  'dog',\n",
              "  'to',\n",
              "  'the',\n",
              "  'park',\n",
              "  'and',\n",
              "  'back',\n",
              "  '.']}"
            ]
          },
          "execution_count": 164,
          "metadata": {},
          "output_type": "execute_result"
        }
      ],
      "source": [
        "predictor.predict(\"He walked with the dog to the park and back.\")"
      ]
    },
    {
      "cell_type": "code",
      "execution_count": null,
      "metadata": {
        "colab": {
          "base_uri": "https://localhost:8080/"
        },
        "id": "zyRX4rLYdzje",
        "outputId": "65eaa0f1-1bca-4953-e0f5-2ae227c50313"
      },
      "outputs": [
        {
          "data": {
            "text/plain": [
              "{'verbs': [{'verb': 'see',\n",
              "   'description': '[ARG0: I] [V: see] [ARG1: a man with a telescope under his arm]',\n",
              "   'tags': ['B-ARG0',\n",
              "    'B-V',\n",
              "    'B-ARG1',\n",
              "    'I-ARG1',\n",
              "    'I-ARG1',\n",
              "    'I-ARG1',\n",
              "    'I-ARG1',\n",
              "    'I-ARG1',\n",
              "    'I-ARG1',\n",
              "    'I-ARG1']}],\n",
              " 'words': ['I',\n",
              "  'see',\n",
              "  'a',\n",
              "  'man',\n",
              "  'with',\n",
              "  'a',\n",
              "  'telescope',\n",
              "  'under',\n",
              "  'his',\n",
              "  'arm']}"
            ]
          },
          "execution_count": 182,
          "metadata": {},
          "output_type": "execute_result"
        }
      ],
      "source": [
        "predictor.predict(\"I see a man with a telescope under his arm\")"
      ]
    },
    {
      "cell_type": "code",
      "execution_count": null,
      "metadata": {
        "id": "a9NCwD39fjDK"
      },
      "outputs": [],
      "source": []
    },
    {
      "cell_type": "code",
      "execution_count": null,
      "metadata": {
        "colab": {
          "base_uri": "https://localhost:8080/"
        },
        "id": "yKENZLQKew3c",
        "outputId": "1e0d7a08-8386-4948-a908-01544f0742bc"
      },
      "outputs": [
        {
          "data": {
            "text/plain": [
              "{'verbs': [{'verb': 'took',\n",
              "   'description': '[ARG0: The plane] [V: took] [ARG1: a large turn]',\n",
              "   'tags': ['B-ARG0', 'I-ARG0', 'B-V', 'B-ARG1', 'I-ARG1', 'I-ARG1']}],\n",
              " 'words': ['The', 'plane', 'took', 'a', 'large', 'turn']}"
            ]
          },
          "execution_count": 169,
          "metadata": {},
          "output_type": "execute_result"
        }
      ],
      "source": [
        "predictor.predict(\"The plane took a large turn\")"
      ]
    },
    {
      "attachments": {},
      "cell_type": "markdown",
      "metadata": {},
      "source": [
        "### Parenthetical Elements "
      ]
    }
  ],
  "metadata": {
    "colab": {
      "authorship_tag": "ABX9TyM6/gtRwphs5tZvfVtQ94Aw",
      "collapsed_sections": [
        "GIkns01FKdQd",
        "McQzhKS4LCVk",
        "dY-h4bawK2Ky",
        "2ybvS9k6Bsin",
        "XbQEiiaFLHtT",
        "xura9sS5eOrc",
        "djlQjIyAQIjV",
        "vFvgduTVSxBn",
        "XzSt0hAmQcYJ",
        "x2IbgB-XRuWQ",
        "qywAgrXmqR8S",
        "LzgT37FWxTPY",
        "JoQIAH4WY2Kl",
        "bZmRzaqwSkTM"
      ],
      "include_colab_link": true,
      "mount_file_id": "1j1qfHJIwReXyO57Aq4uu12y1pKIrYqHv",
      "provenance": [],
      "toc_visible": true
    },
    "gpuClass": "standard",
    "kernelspec": {
      "display_name": "nlpTaskKernel",
      "language": "python",
      "name": "nlptaskkernel"
    },
    "language_info": {
      "codemirror_mode": {
        "name": "ipython",
        "version": 3
      },
      "file_extension": ".py",
      "mimetype": "text/x-python",
      "name": "python",
      "nbconvert_exporter": "python",
      "pygments_lexer": "ipython3",
      "version": "3.10.9"
    }
  },
  "nbformat": 4,
  "nbformat_minor": 0
}
