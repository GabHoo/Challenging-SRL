{
  "nbformat": 4,
  "nbformat_minor": 0,
  "metadata": {
    "colab": {
      "provenance": [],
      "toc_visible": true,
      "collapsed_sections": [
        "GIkns01FKdQd",
        "McQzhKS4LCVk",
        "dY-h4bawK2Ky",
        "2ybvS9k6Bsin",
        "XbQEiiaFLHtT",
        "xura9sS5eOrc",
        "djlQjIyAQIjV",
        "vFvgduTVSxBn",
        "XzSt0hAmQcYJ",
        "x2IbgB-XRuWQ",
        "qywAgrXmqR8S",
        "LzgT37FWxTPY",
        "JoQIAH4WY2Kl",
        "bZmRzaqwSkTM"
      ],
      "mount_file_id": "1j1qfHJIwReXyO57Aq4uu12y1pKIrYqHv",
      "authorship_tag": "ABX9TyM6/gtRwphs5tZvfVtQ94Aw",
      "include_colab_link": true
    },
    "kernelspec": {
      "name": "python3",
      "display_name": "Python 3"
    },
    "language_info": {
      "name": "python"
    },
    "gpuClass": "standard"
  },
  "cells": [
    {
      "cell_type": "markdown",
      "metadata": {
        "id": "view-in-github",
        "colab_type": "text"
      },
      "source": [
        "<a href=\"https://colab.research.google.com/github/GabHoo/Challenging-SRL/blob/main/Allen_nlp.ipynb\" target=\"_parent\"><img src=\"https://colab.research.google.com/assets/colab-badge.svg\" alt=\"Open In Colab\"/></a>"
      ]
    },
    {
      "cell_type": "code",
      "execution_count": null,
      "metadata": {
        "id": "iDMzdKns-m8m"
      },
      "outputs": [],
      "source": [
        "pip install allennlp\n",
        "pip install allennlp-models\n",
        "pip install -U spaCy\n",
        "pip install checklist\n"
      ]
    },
    {
      "cell_type": "code",
      "source": [
        "from allennlp.predictors import Predictor\n",
        "import allennlp_models.tagging\n",
        "\n",
        "import json\n",
        "\n",
        "from google.colab import drive\n",
        "drive.mount('/content/gdrive/')\n",
        "\n",
        "!cp gdrive/MyDrive/Challenging-SRL/utils.py .\n",
        "from utils import *"
      ],
      "metadata": {
        "id": "AYqkYlfyH6Gv",
        "colab": {
          "base_uri": "https://localhost:8080/",
          "height": 376
        },
        "outputId": "78d4089d-0160-4826-fac5-7fe6c6026b43"
      },
      "execution_count": null,
      "outputs": [
        {
          "output_type": "error",
          "ename": "ModuleNotFoundError",
          "evalue": "ignored",
          "traceback": [
            "\u001b[0;31m---------------------------------------------------------------------------\u001b[0m",
            "\u001b[0;31mModuleNotFoundError\u001b[0m                       Traceback (most recent call last)",
            "\u001b[0;32m<ipython-input-6-17825e82f2d1>\u001b[0m in \u001b[0;36m<module>\u001b[0;34m\u001b[0m\n\u001b[0;32m----> 1\u001b[0;31m \u001b[0;32mfrom\u001b[0m \u001b[0mallennlp\u001b[0m\u001b[0;34m.\u001b[0m\u001b[0mpredictors\u001b[0m \u001b[0;32mimport\u001b[0m \u001b[0mPredictor\u001b[0m\u001b[0;34m\u001b[0m\u001b[0;34m\u001b[0m\u001b[0m\n\u001b[0m\u001b[1;32m      2\u001b[0m \u001b[0;32mimport\u001b[0m \u001b[0mallennlp_models\u001b[0m\u001b[0;34m.\u001b[0m\u001b[0mtagging\u001b[0m\u001b[0;34m\u001b[0m\u001b[0;34m\u001b[0m\u001b[0m\n\u001b[1;32m      3\u001b[0m \u001b[0;34m\u001b[0m\u001b[0m\n\u001b[1;32m      4\u001b[0m \u001b[0;32mimport\u001b[0m \u001b[0mjson\u001b[0m\u001b[0;34m\u001b[0m\u001b[0;34m\u001b[0m\u001b[0m\n\u001b[1;32m      5\u001b[0m \u001b[0;34m\u001b[0m\u001b[0m\n",
            "\u001b[0;31mModuleNotFoundError\u001b[0m: No module named 'allennlp'",
            "",
            "\u001b[0;31m---------------------------------------------------------------------------\u001b[0;32m\nNOTE: If your import is failing due to a missing package, you can\nmanually install dependencies using either !pip or !apt.\n\nTo view examples of installing some common dependencies, click the\n\"Open Examples\" button below.\n\u001b[0;31m---------------------------------------------------------------------------\u001b[0m\n"
          ],
          "errorDetails": {
            "actions": [
              {
                "action": "open_url",
                "actionText": "Open Examples",
                "url": "/notebooks/snippets/importing_libraries.ipynb"
              }
            ]
          }
        }
      ]
    },
    {
      "cell_type": "code",
      "source": [
        "predictor_Bert = Predictor.from_path(\"https://storage.googleapis.com/allennlp-public-models/structured-prediction-srl-bert.2020.12.15.tar.gz\")\n",
        "\n",
        "predictor_Bilstm = Predictor.from_path(\"https://storage.googleapis.com/allennlp-public-models/openie-model.2020.03.26.tar.gz\")"
      ],
      "metadata": {
        "id": "6KpDs5JC-q8x",
        "colab": {
          "base_uri": "https://localhost:8080/"
        },
        "outputId": "38f76788-80a6-42d3-ac59-3d8e524a62b9"
      },
      "execution_count": null,
      "outputs": [
        {
          "output_type": "stream",
          "name": "stderr",
          "text": [
            "Some weights of the model checkpoint at bert-base-uncased were not used when initializing BertModel: ['cls.predictions.transform.LayerNorm.bias', 'cls.seq_relationship.bias', 'cls.predictions.decoder.weight', 'cls.predictions.transform.LayerNorm.weight', 'cls.predictions.transform.dense.weight', 'cls.predictions.transform.dense.bias', 'cls.predictions.bias', 'cls.seq_relationship.weight']\n",
            "- This IS expected if you are initializing BertModel from the checkpoint of a model trained on another task or with another architecture (e.g. initializing a BertForSequenceClassification model from a BertForPreTraining model).\n",
            "- This IS NOT expected if you are initializing BertModel from the checkpoint of a model that you expect to be exactly identical (initializing a BertForSequenceClassification model from a BertForSequenceClassification model).\n"
          ]
        }
      ]
    },
    {
      "cell_type": "markdown",
      "source": [
        "#CREATING DATA SANDBOX"
      ],
      "metadata": {
        "id": "bqIKaBdxF1NF"
      }
    },
    {
      "cell_type": "code",
      "source": [
        "import checklist\n",
        "from checklist.editor import Editor\n",
        "import numpy as np\n",
        "from checklist.perturb import Perturb"
      ],
      "metadata": {
        "id": "iz_bXCGfA5rm"
      },
      "execution_count": null,
      "outputs": []
    },
    {
      "cell_type": "code",
      "source": [],
      "metadata": {
        "id": "nAIfohtyjEoT"
      },
      "execution_count": null,
      "outputs": []
    },
    {
      "cell_type": "code",
      "source": [
        "editor = Editor()\n"
      ],
      "metadata": {
        "id": "OY8tqgmjuJFA"
      },
      "execution_count": null,
      "outputs": []
    },
    {
      "cell_type": "code",
      "source": [
        "ret = editor.template('This is a {adj} movie.', adj=['good', 'great', 'awesome', 'excellent'])\n",
        "\n",
        "ret.data"
      ],
      "metadata": {
        "colab": {
          "base_uri": "https://localhost:8080/"
        },
        "id": "dIqCW-wxucb_",
        "outputId": "a226610a-9c3c-4740-f6d6-e83e9f3d385a"
      },
      "execution_count": null,
      "outputs": [
        {
          "output_type": "execute_result",
          "data": {
            "text/plain": [
              "['This is a good movie.',\n",
              " 'This is a great movie.',\n",
              " 'This is a awesome movie.',\n",
              " 'This is a excellent movie.']"
            ]
          },
          "metadata": {},
          "execution_count": 203
        }
      ]
    },
    {
      "cell_type": "markdown",
      "source": [
        "###Creation semi manual of the contraction data test\n",
        "Checklist will contract or expand the sentence. Here are some initial predicates that can be subjected to this phenomena"
      ],
      "metadata": {
        "id": "4MQHvKkhMsGi"
      }
    },
    {
      "cell_type": "code",
      "source": [
        "data = ['it\\'s a wonderfull day',\n",
        "        \"There's some pesto left\",\n",
        "        \"I shoud have tried that as well\",#!\n",
        "        \"They will leave the house\",\n",
        "        \"That would be creazy\",\n",
        "        \"we are here\",\n",
        "        'Mark had not see that coming',\n",
        "        'She will be a great candidate',\n",
        "        'Mary is not a nurse.',\n",
        "        'He\\'s gone already',\n",
        "        \"I would like some tea\",\n",
        "         \"I would say something to them\",\n",
        "        \"I could not eat some food now\",\n",
        "        'We\\'ve decided to change house']"
      ],
      "metadata": {
        "id": "mbADyyoYJ1Ia"
      },
      "execution_count": null,
      "outputs": []
    },
    {
      "cell_type": "code",
      "source": [
        "ret = Perturb.perturb(data, Perturb.contractions,keep_original=True)"
      ],
      "metadata": {
        "id": "-qHBc_41Gtxq"
      },
      "execution_count": null,
      "outputs": []
    },
    {
      "cell_type": "code",
      "source": [
        "ret.data #save into a file"
      ],
      "metadata": {
        "colab": {
          "base_uri": "https://localhost:8080/"
        },
        "id": "ALamSgQ6HWmT",
        "outputId": "1527d7b1-7dea-4eaa-ff37-9df26911606d"
      },
      "execution_count": null,
      "outputs": [
        {
          "output_type": "execute_result",
          "data": {
            "text/plain": [
              "[[\"it's a wonderfull day\", 'it is a wonderfull day'],\n",
              " [\"There's some pesto left\", 'There is some pesto left'],\n",
              " ['They will leave the house', \"They'll leave the house\"],\n",
              " ['That would be creazy', \"That'd be creazy\"],\n",
              " ['we are here', \"we're here\"],\n",
              " ['Mark had not see that coming', \"Mark hadn't see that coming\"],\n",
              " ['She will be a great candidate', \"She'll be a great candidate\"],\n",
              " ['Mary is not a nurse.', \"Mary isn't a nurse.\"],\n",
              " [\"He's gone already\", 'He is gone already'],\n",
              " ['I would like some tea', \"I'd like some tea\"],\n",
              " ['I would say something to them', \"I'd say something to them\"],\n",
              " ['I could not eat some food now', \"I couldn't eat some food now\"],\n",
              " [\"We've decided to change house\", 'We have decided to change house']]"
            ]
          },
          "metadata": {},
          "execution_count": 404
        }
      ]
    },
    {
      "cell_type": "code",
      "source": [
        "def evaluate_PI_INV_contractions(predictor,data):\n",
        "  \"\"\"This function returns a failure rate (percentage) that represents how many coupled sentnece \n",
        "  presents inconsitnency in their tags of a contracted predicate. The idea is that contracting a verb should not cause any changes! \n",
        "  Matching is done as following: tags need to be exactly the same thus the perturbation does not have to introduce\n",
        "  any more (or less) token or change the arguments. This checks only fits very few purposes.\n",
        "  :predictor\n",
        "  :data is a list of lists where the nested lists are couple of sentence to be compared\"\"\"\n",
        "  fail=0\n",
        "  for s in sentences:\n",
        "    s1,s2=s\n",
        "    pred1=predictor.predict(s1)\n",
        "    pred2=predictor.predict(s2)\n",
        "\n",
        "    v1=get_identified_verbs(pred1)\n",
        "    v2=get_identified_verbs(pred2)\n",
        "    \n",
        "    if len(v1)!=len(v2):\n",
        "      print(f\"Failure in {s1} | {s2}\")\n",
        "      print(f\"Different number of verbs found: {v1=} against {v2=}\")\n",
        "      fail+=1\n",
        "      continue\n",
        "    \n",
        "    for v1,v2 in zip(pred1['verbs'],pred2['verbs']):\n",
        "      if v1['verb']!=v2['verb']: #we only compare the verbs that are not matching exactly (aka the contracted vs original)\n",
        "         if v1['tags']!=v2['tags']:\n",
        "           fail+=1\n",
        "           print(f\"Failure in {s1} | {s2}\")\n",
        "           print(f\"The alteration of verb {v1['verb']}/{v2['verb']} lead to a different labeling:\\n\")\n",
        "           print(v1)\n",
        "           print(v2)\n",
        "           break\n",
        "      \n",
        "  return fail/len(data)*100\n"
      ],
      "metadata": {
        "id": "zZTgGC3k-uzw"
      },
      "execution_count": null,
      "outputs": []
    },
    {
      "cell_type": "markdown",
      "source": [
        "## LOOKING DATA (propBank)"
      ],
      "metadata": {
        "id": "PnovTMLz8TqV"
      }
    },
    {
      "cell_type": "code",
      "source": [
        "import json\n",
        "import random"
      ],
      "metadata": {
        "id": "F-B5AOD_9c7z"
      },
      "execution_count": null,
      "outputs": []
    },
    {
      "cell_type": "code",
      "source": [
        "f=open('data_train.jsonl')"
      ],
      "metadata": {
        "id": "-Ib8Lgi28VjR"
      },
      "execution_count": null,
      "outputs": []
    },
    {
      "cell_type": "code",
      "source": [
        "di=json.load(f)"
      ],
      "metadata": {
        "id": "eh8W48b09b7n"
      },
      "execution_count": null,
      "outputs": []
    },
    {
      "cell_type": "code",
      "source": [
        "di = di[\"data\"]\n",
        "len(di)"
      ],
      "metadata": {
        "colab": {
          "base_uri": "https://localhost:8080/"
        },
        "id": "VjlI9tbg9n8g",
        "outputId": "655a1a7a-fe77-4e89-8103-bcf5766ff290"
      },
      "execution_count": null,
      "outputs": [
        {
          "output_type": "execute_result",
          "data": {
            "text/plain": [
              "40592"
            ]
          },
          "metadata": {},
          "execution_count": 12
        }
      ]
    },
    {
      "cell_type": "code",
      "source": [],
      "metadata": {
        "colab": {
          "base_uri": "https://localhost:8080/"
        },
        "id": "i4aR817LIi6_",
        "outputId": "57796387-7d98-49b7-e97d-820aefc5731b"
      },
      "execution_count": null,
      "outputs": [
        {
          "output_type": "execute_result",
          "data": {
            "text/plain": [
              "[{'seq_words': ['[',\n",
              "   'This',\n",
              "   'killing',\n",
              "   'of',\n",
              "   'a',\n",
              "   'respected',\n",
              "   'cleric',\n",
              "   'will',\n",
              "   'be',\n",
              "   'causing',\n",
              "   'us',\n",
              "   'trouble',\n",
              "   'for',\n",
              "   'years',\n",
              "   'to',\n",
              "   'come',\n",
              "   '.',\n",
              "   ']'],\n",
              "  'BIO': ['O',\n",
              "   'O',\n",
              "   'O',\n",
              "   'O',\n",
              "   'O',\n",
              "   'O',\n",
              "   'O',\n",
              "   'O',\n",
              "   'O',\n",
              "   'O',\n",
              "   'O',\n",
              "   'O',\n",
              "   'O',\n",
              "   'ARG1',\n",
              "   'O',\n",
              "   'V',\n",
              "   'O',\n",
              "   'O'],\n",
              "  'pred_sense': [15, 'come.01']},\n",
              " {'seq_words': ['[',\n",
              "   'This',\n",
              "   'killing',\n",
              "   'of',\n",
              "   'a',\n",
              "   'respected',\n",
              "   'cleric',\n",
              "   'will',\n",
              "   'be',\n",
              "   'causing',\n",
              "   'us',\n",
              "   'trouble',\n",
              "   'for',\n",
              "   'years',\n",
              "   'to',\n",
              "   'come',\n",
              "   '.',\n",
              "   ']'],\n",
              "  'BIO': ['O',\n",
              "   'O',\n",
              "   'ARG0',\n",
              "   'O',\n",
              "   'O',\n",
              "   'O',\n",
              "   'O',\n",
              "   'ARGM-MOD',\n",
              "   'O',\n",
              "   'V',\n",
              "   'ARGM-GOL',\n",
              "   'ARG1',\n",
              "   'O',\n",
              "   'ARGM-TMP',\n",
              "   'O',\n",
              "   'O',\n",
              "   'O',\n",
              "   'O'],\n",
              "  'pred_sense': [9, 'cause.01']},\n",
              " {'seq_words': ['[',\n",
              "   'This',\n",
              "   'killing',\n",
              "   'of',\n",
              "   'a',\n",
              "   'respected',\n",
              "   'cleric',\n",
              "   'will',\n",
              "   'be',\n",
              "   'causing',\n",
              "   'us',\n",
              "   'trouble',\n",
              "   'for',\n",
              "   'years',\n",
              "   'to',\n",
              "   'come',\n",
              "   '.',\n",
              "   ']'],\n",
              "  'BIO': ['O',\n",
              "   'O',\n",
              "   'O',\n",
              "   'O',\n",
              "   'O',\n",
              "   'O',\n",
              "   'O',\n",
              "   'O',\n",
              "   'V',\n",
              "   'O',\n",
              "   'O',\n",
              "   'O',\n",
              "   'O',\n",
              "   'O',\n",
              "   'O',\n",
              "   'O',\n",
              "   'O',\n",
              "   'O'],\n",
              "  'pred_sense': [8, 'be.03']},\n",
              " {'seq_words': ['[',\n",
              "   'This',\n",
              "   'killing',\n",
              "   'of',\n",
              "   'a',\n",
              "   'respected',\n",
              "   'cleric',\n",
              "   'will',\n",
              "   'be',\n",
              "   'causing',\n",
              "   'us',\n",
              "   'trouble',\n",
              "   'for',\n",
              "   'years',\n",
              "   'to',\n",
              "   'come',\n",
              "   '.',\n",
              "   ']'],\n",
              "  'BIO': ['O',\n",
              "   'O',\n",
              "   'V',\n",
              "   'O',\n",
              "   'O',\n",
              "   'O',\n",
              "   'ARG1',\n",
              "   'O',\n",
              "   'O',\n",
              "   'O',\n",
              "   'O',\n",
              "   'O',\n",
              "   'O',\n",
              "   'O',\n",
              "   'O',\n",
              "   'O',\n",
              "   'O',\n",
              "   'O'],\n",
              "  'pred_sense': [2, 'kill.01']}]"
            ]
          },
          "metadata": {},
          "execution_count": 51
        }
      ]
    },
    {
      "cell_type": "code",
      "source": [
        "[(' '.join(i['seq_words']),i['BIO']) for i in di[0:6]]"
      ],
      "metadata": {
        "id": "rFVf0Vbu9sfb"
      },
      "execution_count": null,
      "outputs": []
    },
    {
      "cell_type": "code",
      "source": [
        "prediction=predictor.predict(\n",
        "    sentence=\"This killing of a respected cleric will be causing us trouble for years to come \"\n",
        ")\n",
        "prediction_lstm=predictor_bilstm.predict(\n",
        "    sentence=\"This killing of a respected cleric will be causing us trouble for years to come \"\n",
        ")"
      ],
      "metadata": {
        "id": "yBdSOZbEIHrd"
      },
      "execution_count": null,
      "outputs": []
    },
    {
      "cell_type": "code",
      "source": [
        "prediction"
      ],
      "metadata": {
        "id": "K_B-vOKjSRCa"
      },
      "execution_count": null,
      "outputs": []
    },
    {
      "cell_type": "code",
      "source": [
        "prediction_lstm\n"
      ],
      "metadata": {
        "id": "dB-0pko-SSsi"
      },
      "execution_count": null,
      "outputs": []
    },
    {
      "cell_type": "code",
      "source": [],
      "metadata": {
        "id": "mHIdZjRYCJDa"
      },
      "execution_count": null,
      "outputs": []
    },
    {
      "cell_type": "markdown",
      "source": [
        "#PREDICATE IDENTIFICATION"
      ],
      "metadata": {
        "id": "pWslkmPkPFcy"
      }
    },
    {
      "cell_type": "markdown",
      "source": [
        "##VOCABULARY"
      ],
      "metadata": {
        "id": "PkrGLpJMKSwn"
      }
    },
    {
      "cell_type": "markdown",
      "source": [
        "###Test for contractions"
      ],
      "metadata": {
        "id": "cCOznqQ_N9-z"
      }
    },
    {
      "cell_type": "code",
      "source": [
        "fail_bilstm=evaluate_PI_INV_contractions(predictor_Bilstm,data)"
      ],
      "metadata": {
        "colab": {
          "base_uri": "https://localhost:8080/",
          "height": 168
        },
        "id": "cSJKVvjWwhb5",
        "outputId": "ff57706f-67ee-4921-f2cd-3dfd866a675b"
      },
      "execution_count": null,
      "outputs": [
        {
          "output_type": "error",
          "ename": "NameError",
          "evalue": "ignored",
          "traceback": [
            "\u001b[0;31m---------------------------------------------------------------------------\u001b[0m",
            "\u001b[0;31mNameError\u001b[0m                                 Traceback (most recent call last)",
            "\u001b[0;32m<ipython-input-4-a5665a699fad>\u001b[0m in \u001b[0;36m<module>\u001b[0;34m\u001b[0m\n\u001b[0;32m----> 1\u001b[0;31m \u001b[0mfail_bilstm\u001b[0m\u001b[0;34m=\u001b[0m\u001b[0mevaluate_PI_INV_contractions\u001b[0m\u001b[0;34m(\u001b[0m\u001b[0mpredictor_Bilstm\u001b[0m\u001b[0;34m,\u001b[0m\u001b[0mdata\u001b[0m\u001b[0;34m)\u001b[0m\u001b[0;34m\u001b[0m\u001b[0;34m\u001b[0m\u001b[0m\n\u001b[0m",
            "\u001b[0;31mNameError\u001b[0m: name 'predictor_Bilstm' is not defined"
          ]
        }
      ]
    },
    {
      "cell_type": "markdown",
      "source": [
        "**bold text**##Abrreviation"
      ],
      "metadata": {
        "id": "zcsWv6LQdZj-"
      }
    },
    {
      "cell_type": "code",
      "source": [],
      "metadata": {
        "id": "_XY_o4MtOC-D"
      },
      "execution_count": null,
      "outputs": []
    },
    {
      "cell_type": "markdown",
      "source": [
        "###Test for irregular inflections"
      ],
      "metadata": {
        "id": "ldzmhpP_ODor"
      }
    },
    {
      "cell_type": "markdown",
      "source": [
        "##AMBIGUITY"
      ],
      "metadata": {
        "id": "GIkns01FKdQd"
      }
    },
    {
      "cell_type": "markdown",
      "source": [
        "###Experiment with words potentially be verbs [POLISEMIC]"
      ],
      "metadata": {
        "id": "McQzhKS4LCVk"
      }
    },
    {
      "cell_type": "code",
      "source": [
        "print(\"Tesiting Polysemic words behaviour (DIR) in Preicate Identification\\n\")\n",
        "\n",
        "f = open('/content/gdrive/MyDrive/Challenging-SRL/polysem_verbs_DIR.json')\n",
        "data = json.load(f)\n",
        "\n",
        "print(\"Bart model:\")\n",
        "rate_Bart=evaluate_verbIdentification_DIR(predictor_Bart,data)\n",
        "print(f\"Failure rate {rate_Bart}\\n\")\n",
        "\n",
        "print(\"Bisltm model:\")\n",
        "rate_bilstm=evaluate_verbIdentification_DIR(predictor_Bilstm,data)\n",
        "print(f\"Failure rate {rate_bilstm}\\n\")"
      ],
      "metadata": {
        "colab": {
          "base_uri": "https://localhost:8080/"
        },
        "id": "37j2bwA3ipm6",
        "outputId": "f14e3a19-db36-42df-c068-3f451f7bd648"
      },
      "execution_count": null,
      "outputs": [
        {
          "output_type": "stream",
          "name": "stdout",
          "text": [
            "Tesiting Polysemic words behaviour (DIR) in Preicate Identification\n",
            "\n",
            "Bart model:\n",
            "Failed for: [I always turn left at the stop sign.],[She left her phone at home.]. left in both did NOT chage the predicate identification\n",
            "['turn', 'left'] ['left']\n",
            "\n",
            "\n",
            "Failed for: [I need help as soon as possible],[Food is a vital need]. need in both did NOT chage the predicate identification\n",
            "['need'] ['is']\n",
            "\n",
            "\n",
            "Failure rate 6.666666666666667\n",
            "\n",
            "Bisltm model:\n",
            "Failed for: [I always turn left at the stop sign.],[She left her phone at home.]. left in both did NOT chage the predicate identification\n",
            "['turn', 'left'] ['left']\n",
            "\n",
            "\n",
            "Failed for: [I need help as soon as possible],[Food is a vital need]. need in both did NOT chage the predicate identification\n",
            "['need'] ['is']\n",
            "\n",
            "\n",
            "Failure rate 6.666666666666667\n",
            "\n"
          ]
        }
      ]
    },
    {
      "cell_type": "code",
      "source": [],
      "metadata": {
        "id": "BSwyMiOt-avk"
      },
      "execution_count": null,
      "outputs": []
    },
    {
      "cell_type": "code",
      "source": [],
      "metadata": {
        "colab": {
          "base_uri": "https://localhost:8080/",
          "height": 35
        },
        "id": "HdZS-7EtFRU6",
        "outputId": "79049044-4390-4233-9b18-5b320060f17f"
      },
      "execution_count": null,
      "outputs": [
        {
          "output_type": "execute_result",
          "data": {
            "text/plain": [
              "'I also had a pedicure and they cut my nails too short one of my big toes looks like it s getting infected .'"
            ],
            "application/vnd.google.colaboratory.intrinsic+json": {
              "type": "string"
            }
          },
          "metadata": {},
          "execution_count": 227
        }
      ]
    },
    {
      "cell_type": "markdown",
      "source": [
        "###Experiment with verbs being in different roles -ing"
      ],
      "metadata": {
        "id": "dY-h4bawK2Ky"
      }
    },
    {
      "cell_type": "code",
      "source": [
        "sentences = [    \"The writing on the wall was a warning of what was to come.\",    \"The painting of the sunset was breathtakingly beautiful.\",    \"The singing of the birds was a welcome sound in the morning.\",\"The singing of the birds was a welcome sound in the morning.\"    \"The reading of the will revealed some surprising information.\",    \"The dancing of the flames mesmerized the audience.\",    \"The running of the river was soothing to listen to.\",    \"The howling of the wind kept me awake at night.\",    \"The barking of the dog alerted us to the intruder.\",    \"The playing of the piano filled the room with music.\",    \"The cleaning of the house was a tedious chore.\",    \"The mowing of the lawn was a necessary task.\",    \"The washing of the dishes was a never-ending job.\",    \"The painting of the house was a weekend project.\",    \"The cooking of the meal took longer than expected.\",    \"The building of the bridge was a remarkable feat of engineering.\",    \"The driving of the car was a peaceful way to clear my mind.\",    \"The typing of the report was interrupted by a power outage.\",    \"The repairing of the bike took longer than anticipated.\",    \"The cutting of the cake was the highlight of the party.\",    \"The playing of the game was a fun way to spend the afternoon.\"]\n"
      ],
      "metadata": {
        "id": "nJhoe96__Q7l"
      },
      "execution_count": null,
      "outputs": []
    },
    {
      "cell_type": "code",
      "source": [
        "sentences = [    \"I have always enjoyed cooking, it is one of my favourite hobbies.\",    \"The protests that followed the killing of the priest were widespread.\",    \"The sound of the river running was soothing to listen to.\",    \"The information revealed in the reading of the will was surprising.\",    \"The audience was mesmerized by the dancing flames.\",    \"The sunset was breathtakingly beautiful in the painting.\",    \"The birds singing in the morning was a welcome sound.\",    \"The intruder was alerted by the barking of the dog.\",    \"The music filled the room with the playing of the piano.\",    \"The tedious chore of cleaning the house took all day.\",    \"The necessary task of mowing the lawn was finally finished.\",    \"The never-ending job of washing the dishes always seemed to pile up.\",    \"The remarkable feat of engineering was achieved in the building of the bridge.\",    \"The peaceful way to clear my mind was through driving the car.\",    \"The power outage interrupted the typing of the report.\",    \"The longer than anticipated repair of the bike was finally completed.\",    \"The highlight of the party was cutting the cake.\",    \"The fun way to spend the afternoon was playing the game.\",    \"The weekend project of painting the house was finally done.\",    \"The wind howling kept me awake at night.\",]\n"
      ],
      "metadata": {
        "id": "sXBzdViTCyiJ"
      },
      "execution_count": null,
      "outputs": []
    },
    {
      "cell_type": "markdown",
      "source": [
        "can you create 5 example sentence where there is a verb not in the semantic role of the verb such as: \"cooking is one of my favourite hobbies\", or \"the killing of the priest sparked a lot of protests\"\n"
      ],
      "metadata": {
        "id": "WC6DKTjHPo4Y"
      }
    },
    {
      "cell_type": "code",
      "source": [
        "#se=[ \"The birds singing was a welcome sound in the morning.\", \"The birds's singing was a welcome sound in the morning.\", \"The singing of the birds was a welcome sound in the morning.\" ]\n",
        "\n",
        "se=[\"cooking is what I love\",\"I love cooking \",\"I love cooking in the morning\", \"I loved cooking with you\",\"I have always liked cooking\",\"cooking is a great hooby\",\"cooking vegetables is a great hobby\"]"
      ],
      "metadata": {
        "id": "mM4vbfWKqDkQ"
      },
      "execution_count": null,
      "outputs": []
    },
    {
      "cell_type": "code",
      "source": [
        "for s in se:\n",
        "  print(s)\n",
        "  pred=predictor.predict(s)\n",
        "  \n",
        "  verbs=[x['verb'] for x in pred['verbs']]\n",
        "  #print(pred)\n",
        "  print(verbs)\n",
        "  #print(pred)"
      ],
      "metadata": {
        "colab": {
          "base_uri": "https://localhost:8080/"
        },
        "id": "yn7T5Q02qQNq",
        "outputId": "5fd2da92-1f5f-462f-df8f-234044f88e72"
      },
      "execution_count": null,
      "outputs": [
        {
          "output_type": "stream",
          "name": "stdout",
          "text": [
            "cooking is what I love\n",
            "['is', 'love']\n",
            "I love cooking \n",
            "['love', 'cooking']\n",
            "I love cooking in the morning\n",
            "['love', 'cooking']\n",
            "I loved cooking with you\n",
            "['loved', 'cooking']\n",
            "I have always liked cooking\n",
            "['have', 'liked', 'cooking']\n",
            "cooking is a great hooby\n",
            "['is']\n",
            "cooking vegetables is a great hobby\n",
            "['cooking', 'is']\n"
          ]
        }
      ]
    },
    {
      "cell_type": "code",
      "source": [
        "for s in sentences:\n",
        "  print(s)\n",
        "  pred=predictor.predict(s)\n",
        "  verbs=[x['verb'] for x in pred['verbs']]\n",
        "  print(verbs)\n",
        "  #print(pred)"
      ],
      "metadata": {
        "colab": {
          "base_uri": "https://localhost:8080/"
        },
        "id": "__TL3O2o_eDZ",
        "outputId": "6da14f21-aea9-44a2-e1b2-099d86d751cd"
      },
      "execution_count": null,
      "outputs": [
        {
          "output_type": "stream",
          "name": "stdout",
          "text": [
            "I have always enjoyed cooking, it is one of my favourite hobbies.\n",
            "['have', 'enjoyed', 'is']\n",
            "The protests that followed the killing of the priest were widespread.\n",
            "['followed', 'were']\n",
            "The sound of the river running was soothing to listen to.\n",
            "['running', 'was', 'soothing', 'listen']\n",
            "The information revealed in the reading of the will was surprising.\n",
            "['revealed', 'was']\n",
            "The audience was mesmerized by the dancing flames.\n",
            "['was', 'mesmerized']\n",
            "The sunset was breathtakingly beautiful in the painting.\n",
            "['was']\n",
            "The birds singing in the morning was a welcome sound.\n",
            "['singing', 'was']\n",
            "The intruder was alerted by the barking of the dog.\n",
            "['was', 'alerted']\n",
            "The music filled the room with the playing of the piano.\n",
            "['filled']\n",
            "The tedious chore of cleaning the house took all day.\n",
            "['cleaning', 'took']\n",
            "The necessary task of mowing the lawn was finally finished.\n",
            "['mowing', 'was', 'finished']\n",
            "The never-ending job of washing the dishes always seemed to pile up.\n",
            "['ending', 'washing', 'seemed', 'pile']\n",
            "The remarkable feat of engineering was achieved in the building of the bridge.\n",
            "['was', 'achieved']\n",
            "The peaceful way to clear my mind was through driving the car.\n",
            "['clear', 'was', 'driving']\n",
            "The power outage interrupted the typing of the report.\n",
            "['interrupted']\n",
            "The longer than anticipated repair of the bike was finally completed.\n",
            "['anticipated', 'was', 'completed']\n",
            "The highlight of the party was cutting the cake.\n",
            "['was', 'cutting']\n",
            "The fun way to spend the afternoon was playing the game.\n",
            "['spend', 'was', 'playing']\n",
            "The weekend project of painting the house was finally done.\n",
            "['painting', 'was', 'done']\n",
            "The wind howling kept me awake at night.\n",
            "['howling', 'kept']\n"
          ]
        }
      ]
    },
    {
      "cell_type": "code",
      "source": [
        "prediction=predictor.predict(\n",
        "    sentence=\"I was writing a thesis\"\n",
        ")"
      ],
      "metadata": {
        "id": "Q1P59aW9_jtF"
      },
      "execution_count": null,
      "outputs": []
    },
    {
      "cell_type": "code",
      "source": [
        "prediction"
      ],
      "metadata": {
        "colab": {
          "base_uri": "https://localhost:8080/"
        },
        "id": "O9t_2qBEBjVc",
        "outputId": "d55eb137-9e40-4a51-8e6f-d7985ff0deca"
      },
      "execution_count": null,
      "outputs": [
        {
          "output_type": "execute_result",
          "data": {
            "text/plain": [
              "{'verbs': [{'verb': 'was',\n",
              "   'description': 'I [V: was] writing a thesis',\n",
              "   'tags': ['O', 'B-V', 'O', 'O', 'O']},\n",
              "  {'verb': 'writing',\n",
              "   'description': '[ARG0: I] was [V: writing] [ARG1: a thesis]',\n",
              "   'tags': ['B-ARG0', 'O', 'B-V', 'B-ARG1', 'I-ARG1']}],\n",
              " 'words': ['I', 'was', 'writing', 'a', 'thesis']}"
            ]
          },
          "metadata": {},
          "execution_count": 19
        }
      ]
    },
    {
      "cell_type": "code",
      "source": [
        "from nltk.corpus import propbank"
      ],
      "metadata": {
        "id": "Mte_5-HjBkSU"
      },
      "execution_count": null,
      "outputs": []
    },
    {
      "cell_type": "code",
      "source": [
        "nltk.download('propbank')"
      ],
      "metadata": {
        "colab": {
          "base_uri": "https://localhost:8080/"
        },
        "id": "8XsP-z8pWNWD",
        "outputId": "07a9e0a0-7e67-4f74-b45d-40c97b789410"
      },
      "execution_count": null,
      "outputs": [
        {
          "output_type": "stream",
          "name": "stderr",
          "text": [
            "[nltk_data] Downloading package propbank to /root/nltk_data...\n"
          ]
        },
        {
          "output_type": "execute_result",
          "data": {
            "text/plain": [
              "True"
            ]
          },
          "metadata": {},
          "execution_count": 25
        }
      ]
    },
    {
      "cell_type": "code",
      "source": [
        "nltk.download('treebank')"
      ],
      "metadata": {
        "colab": {
          "base_uri": "https://localhost:8080/"
        },
        "id": "_ZL5X6HihG2C",
        "outputId": "ec1e5c3d-4d5c-4225-857d-d7044e574c32"
      },
      "execution_count": null,
      "outputs": [
        {
          "output_type": "stream",
          "name": "stderr",
          "text": [
            "[nltk_data] Downloading package treebank to /root/nltk_data...\n",
            "[nltk_data]   Unzipping corpora/treebank.zip.\n"
          ]
        },
        {
          "output_type": "execute_result",
          "data": {
            "text/plain": [
              "True"
            ]
          },
          "metadata": {},
          "execution_count": 57
        }
      ]
    },
    {
      "cell_type": "code",
      "source": [
        "pb_instances = propbank.instances()"
      ],
      "metadata": {
        "id": "ybhHXi-3WCju"
      },
      "execution_count": null,
      "outputs": []
    },
    {
      "cell_type": "code",
      "source": [
        "inst=pb_instances[103]"
      ],
      "metadata": {
        "id": "NXc4_lpcWRdB"
      },
      "execution_count": null,
      "outputs": []
    },
    {
      "cell_type": "code",
      "source": [
        " import nltk.corpus.reader.propbank as pb"
      ],
      "metadata": {
        "id": "jbXQMPfdblYI"
      },
      "execution_count": null,
      "outputs": []
    },
    {
      "cell_type": "code",
      "source": [
        "turn_01 = propbank.roleset('turn.01')"
      ],
      "metadata": {
        "id": "_aj76Fy_d_NB"
      },
      "execution_count": null,
      "outputs": []
    },
    {
      "cell_type": "code",
      "source": [
        "for role in turn_01.findall(\"roles/role\"):\n",
        "  print(role.attrib['n'], role.attrib['descr'])"
      ],
      "metadata": {
        "colab": {
          "base_uri": "https://localhost:8080/"
        },
        "id": "-cDPYm9klfJi",
        "outputId": "a1115cbe-1ba2-4c88-998e-7fa7d3383c05"
      },
      "execution_count": null,
      "outputs": [
        {
          "output_type": "stream",
          "name": "stdout",
          "text": [
            "0 turner\n",
            "1 thing turning\n",
            "m direction, location\n"
          ]
        }
      ]
    },
    {
      "cell_type": "code",
      "source": [],
      "metadata": {
        "id": "euVb-K_zl2E-"
      },
      "execution_count": null,
      "outputs": []
    },
    {
      "cell_type": "code",
      "source": [
        "sentences=[\"The birds singing in the morning was a welcome sound.\",\"The singing of birds in the morning was a welcome sound.\"]\n",
        "for s in sentences:\n",
        "  print(s)\n",
        "  predBert=predictor.predict(s)\n",
        "  predBilstm=predictor_bilstm.predict(s)\n",
        "  print(\"BERT\")\n",
        "  print([x['description'] for x in predBert['verbs']])\n",
        "\n",
        "  print(\"Lstm\")\n",
        "  print([x['description'] for x in predBilstm['verbs']])\n",
        "  \n",
        "  print(\"\\n\\n\")"
      ],
      "metadata": {
        "colab": {
          "base_uri": "https://localhost:8080/"
        },
        "id": "r21Er3JfWvY1",
        "outputId": "f44a317c-1fc3-4a33-9850-6c76d0d78c5a"
      },
      "execution_count": null,
      "outputs": [
        {
          "output_type": "stream",
          "name": "stdout",
          "text": [
            "The birds singing in the morning was a welcome sound.\n",
            "BERT\n",
            "['[ARG0: The birds] [V: singing] [ARGM-TMP: in the morning] was a welcome sound .', '[ARG1: The birds singing in the morning] [V: was] [ARG2: a welcome sound] .']\n",
            "Lstm\n",
            "['[ARG0: The birds] [V: singing] [ARGM-TMP: in the morning] was a welcome sound .', '[ARG1: The birds singing in the morning] [V: was] [ARG2: a welcome sound] .']\n",
            "\n",
            "\n",
            "\n",
            "The singing of birds in the morning was a welcome sound.\n",
            "BERT\n",
            "['[ARG1: The singing of birds in the morning] [V: was] [ARG2: a welcome sound] .']\n",
            "Lstm\n",
            "['[ARG1: The singing of birds in the morning] [V: was] [ARG2: a welcome sound] .']\n",
            "\n",
            "\n",
            "\n"
          ]
        }
      ]
    },
    {
      "cell_type": "code",
      "source": [
        "sentences=[\"It's running low \",\"It is running low\"]\n",
        "for s in sentences:\n",
        "  print(s)\n",
        "  predBert=predictor.predict(s)\n",
        "  predBilstm=predictor_bilstm.predict(s)\n",
        "  print(\"BERT\")\n",
        "  print([x['description'] for x in predBert['verbs']])\n",
        "\n",
        "  print(\"Lstm\")\n",
        "  print([x['description'] for x in predBilstm['verbs']])\n",
        "  \n",
        "  print(\"\\n\\n\")"
      ],
      "metadata": {
        "colab": {
          "base_uri": "https://localhost:8080/"
        },
        "id": "9cK0PeYlXtO7",
        "outputId": "30ac96c7-dc93-4c91-f57b-2582d264e887"
      },
      "execution_count": null,
      "outputs": [
        {
          "output_type": "stream",
          "name": "stdout",
          "text": [
            "It's running low \n",
            "BERT\n",
            "[\"It [V: 's] running low\", \"[ARG0: It] 's [V: running] [ARGM-MNR: low]\"]\n",
            "Lstm\n",
            "[\"It [V: 's] running low\", \"[ARG1: It] 's [V: running] [ARG2: low]\"]\n",
            "\n",
            "\n",
            "\n",
            "It is running low\n",
            "BERT\n",
            "['It [V: is] running low', '[ARG1: It] is [V: running] [ARGM-MNR: low]']\n",
            "Lstm\n",
            "['[ARG1: It] [V: is] [ARG2: running low]', '[ARG1: It] is [V: running] [ARG2: low]']\n",
            "\n",
            "\n",
            "\n"
          ]
        }
      ]
    },
    {
      "cell_type": "code",
      "source": [],
      "metadata": {
        "id": "TbhrP0sbBsVV"
      },
      "execution_count": null,
      "outputs": []
    },
    {
      "cell_type": "markdown",
      "source": [
        "**bold text**#FOR ARGOUMENT CLASSIFICATION"
      ],
      "metadata": {
        "id": "QtJVGP1wRSVM"
      }
    },
    {
      "cell_type": "markdown",
      "source": [
        "##**RARITY** or LOW SHOT "
      ],
      "metadata": {
        "id": "Su6lKFxWKnbO"
      }
    },
    {
      "cell_type": "markdown",
      "source": [
        "###SLANG VEBRS"
      ],
      "metadata": {
        "id": "2ybvS9k6Bsin"
      }
    },
    {
      "cell_type": "code",
      "source": [
        "predictor_Bert.predict(\"I really want to do it\"),predictor_Bert.predict(\"I really wanna do it\")\n",
        "predictor_Bert.predict(\"I am gonna do it\"),predictor_Bert.predict(\"I am going to do it\")\n",
        "[gimmie - give me, ]"
      ],
      "metadata": {
        "colab": {
          "base_uri": "https://localhost:8080/"
        },
        "id": "OkL7nhKizW7o",
        "outputId": "6d12ad70-757c-4434-82c1-09f5b573b0f7"
      },
      "execution_count": null,
      "outputs": [
        {
          "output_type": "execute_result",
          "data": {
            "text/plain": [
              "({'verbs': [{'verb': 'want',\n",
              "    'description': '[ARG0: I] [ARGM-ADV: really] [V: want] [ARG1: to do it]',\n",
              "    'tags': ['B-ARG0', 'B-ARGM-ADV', 'B-V', 'B-ARG1', 'I-ARG1', 'I-ARG1']},\n",
              "   {'verb': 'do',\n",
              "    'description': '[ARG0: I] really want to [V: do] [ARG1: it]',\n",
              "    'tags': ['B-ARG0', 'O', 'O', 'O', 'B-V', 'B-ARG1']}],\n",
              "  'words': ['I', 'really', 'want', 'to', 'do', 'it']},\n",
              " {'verbs': [{'verb': 'wanna',\n",
              "    'description': '[ARG0: I] [ARGM-ADV: really] [V: wanna] [ARG1: do it]',\n",
              "    'tags': ['B-ARG0', 'B-ARGM-ADV', 'B-V', 'B-ARG1', 'I-ARG1']},\n",
              "   {'verb': 'do',\n",
              "    'description': '[ARG0: I] really wanna [V: do] [ARG1: it]',\n",
              "    'tags': ['B-ARG0', 'O', 'O', 'B-V', 'B-ARG1']}],\n",
              "  'words': ['I', 'really', 'wanna', 'do', 'it']})"
            ]
          },
          "metadata": {},
          "execution_count": 379
        }
      ]
    },
    {
      "cell_type": "code",
      "source": [],
      "metadata": {
        "id": "eQD78ThtPb6W"
      },
      "execution_count": null,
      "outputs": []
    },
    {
      "cell_type": "markdown",
      "source": [
        "### MODERN VERBS"
      ],
      "metadata": {
        "id": "nd619HruPdpp"
      }
    },
    {
      "cell_type": "markdown",
      "source": [
        "#AROUGMENTS CLASSIFICATION"
      ],
      "metadata": {
        "id": "pit7Ny7mvwL7"
      }
    },
    {
      "cell_type": "markdown",
      "source": [
        "##VOCABULAIRTY+POS"
      ],
      "metadata": {
        "id": "VsPA8Ym1P-Qj"
      }
    },
    {
      "cell_type": "markdown",
      "source": [
        "###Enrtity flipping"
      ],
      "metadata": {
        "id": "XbQEiiaFLHtT"
      }
    },
    {
      "cell_type": "code",
      "source": [
        "sent1 = \"I drink some whisky with Jhon \"\n",
        "sent2 = \"I drink some whisky with ice \""
      ],
      "metadata": {
        "id": "Pk9-RkgovyVa"
      },
      "execution_count": null,
      "outputs": []
    },
    {
      "cell_type": "code",
      "source": [
        "pred1=predictor.predict(\n",
        "    sentence=sent1\n",
        ")\n",
        "pred2=predictor.predict(\n",
        "    sentence=sent2\n",
        ")"
      ],
      "metadata": {
        "id": "RnJHzEM1wHUB"
      },
      "execution_count": null,
      "outputs": []
    },
    {
      "cell_type": "code",
      "source": [
        "pred1"
      ],
      "metadata": {
        "colab": {
          "base_uri": "https://localhost:8080/"
        },
        "id": "73N0-K4qwSEI",
        "outputId": "3d5dd849-9d7f-4d85-d060-da796ece4686"
      },
      "execution_count": null,
      "outputs": [
        {
          "output_type": "execute_result",
          "data": {
            "text/plain": [
              "{'verbs': [{'verb': 'drink',\n",
              "   'description': '[ARG0: I] [V: drink] [ARG1: some whisky] [ARGM-COM: with Jhon]',\n",
              "   'tags': ['B-ARG0', 'B-V', 'B-ARG1', 'I-ARG1', 'B-ARGM-COM', 'I-ARGM-COM']}],\n",
              " 'words': ['I', 'drink', 'some', 'whisky', 'with', 'Jhon']}"
            ]
          },
          "metadata": {},
          "execution_count": 90
        }
      ]
    },
    {
      "cell_type": "code",
      "source": [
        "pred2"
      ],
      "metadata": {
        "colab": {
          "base_uri": "https://localhost:8080/"
        },
        "id": "VbvHC8eUwSiI",
        "outputId": "827a46ce-e462-4bf4-d987-aafd307d8ad9"
      },
      "execution_count": null,
      "outputs": [
        {
          "output_type": "execute_result",
          "data": {
            "text/plain": [
              "{'verbs': [{'verb': 'drink',\n",
              "   'description': '[ARG0: I] [V: drink] [ARG1: some whisky] [ARGM-MNR: with ice]',\n",
              "   'tags': ['B-ARG0', 'B-V', 'B-ARG1', 'I-ARG1', 'B-ARGM-MNR', 'I-ARGM-MNR']}],\n",
              " 'words': ['I', 'drink', 'some', 'whisky', 'with', 'ice']}"
            ]
          },
          "metadata": {},
          "execution_count": 91
        }
      ]
    },
    {
      "cell_type": "markdown",
      "source": [
        "###Pronouns vs Entity"
      ],
      "metadata": {
        "id": "xura9sS5eOrc"
      }
    },
    {
      "cell_type": "code",
      "source": [],
      "metadata": {
        "id": "ZhguCgQ1xIah"
      },
      "execution_count": null,
      "outputs": []
    },
    {
      "cell_type": "code",
      "source": [
        "def make_tag_list(v): #v=pred['verb'][i]\n",
        "  matches=re.findall(r'\\[(.*?)\\]', v['description'])\n",
        "  tags=[x.split(\":\")[0] for x in matches]\n",
        "  return tags"
      ],
      "metadata": {
        "id": "VMRIdzljt98l"
      },
      "execution_count": null,
      "outputs": []
    },
    {
      "cell_type": "code",
      "source": [
        "def validate_INV_alltags(pred1,pred2):\n",
        "  #assert pred1['words']==pred2['words'],f\"ERROR, Comparing two different sentences\"\n",
        "  if len(pred1['verbs'])!=len(pred2['verbs']):\n",
        "    print(\"not the same predicates were found \")\n",
        "    print(pred1['words'],pred2['words'])\n",
        "    print([x['verb'] for x in pred1['verbs']],[x['verb'] for x in pred2['verbs']],\"\\n\")\n",
        "    return False\n",
        "\n",
        "  for v in zip(pred1['verbs'],pred2['verbs']): \n",
        "      v1,v2=v\n",
        "      \n",
        "      if v1['verb']!=v2['verb']:\n",
        "        print(\"missmatch in verb identification \\n,v1['verb'] and v2['verb']\\n\")\n",
        "        return False\n",
        "      \n",
        "      tag1=make_tag_list(v1)\n",
        "\n",
        "      tag2=make_tag_list(v2)\n",
        "\n",
        "      #if v1['tags']!=v2['tags']:\n",
        "      if tag1!=tag2:\n",
        "        print(f\"missmatch for tags of verb {v1['verb']}\\n{v1['description']}\\n{v2['description']}\\n\")\n",
        "        return False\n",
        "\n",
        "      continue\n",
        "  return True"
      ],
      "metadata": {
        "id": "5aG2Z8HulkiW"
      },
      "execution_count": null,
      "outputs": []
    },
    {
      "cell_type": "code",
      "source": [
        "sentences=[    [        \"The cat sat on the mat.\",         \"It sat on the mat.\"    ], \n",
        "    [        \"John gave Mary the book.\",         \"He gave her the book.\"    ], \n",
        "    [        \"The sun rises in the east.\",         \"It rises in the east.\"    ],\n",
        "    [        \"The dog chased the cat and caught her.\",         \"It chased her and caught her.\"    ],\n",
        "    [        \"The students submitted their homework on time.\",         \"They submitted it on time.\"    ],\n",
        "    [        \"The cake was baked by my mom.\",         \"It was baked by her.\"    ],\n",
        "    [        \"The company hired a new employee.\",         \"It hired them.\"    ],\n",
        "    [        \"The baby cried and his mother picked him up.\",         \"It cried and she picked it up.\"    ],\n",
        "    [        \"The train arrived at the station late.\",         \"It arrived at the station late.\"    ],\n",
        "    [        \"The tree was blown over by the wind.\",         \"It was blown over by it.\"    ],\n",
        "    [        \"The waiter brought the food to the table.\",         \"He brought it to the table.\"    ],\n",
        "    [        \"The doctor examined the patient and prescribed medication.\",         \"They examined them and prescribed it.\"    ],\n",
        "    [        \"The children played in the park all day.\",         \"They played in it all day.\"    ],\n",
        "    [        \"The author wrote a best-selling novel.\",         \"They wrote a best-selling novel.\"    ],\n",
        "    [        \"The car hit the tree and damaged it.\",         \"It hit it and damaged it.\"    ],\n",
        "    [        \"The teacher graded the tests and returned them to the students.\",         \"They graded them and returned them to them.\"    ],\n",
        "    [        \"The phone rang and the receptionist answered it.\",         \"It rang and they answered it.\"    ],\n",
        "    [        \"The chef prepared the meal and served it to the customers.\",         \"They prepared it and served it to them.\"    ],\n",
        "    [        \"The athlete broke the world record.\",         \"They broke it.\"    ],\n",
        "    [        \"The artist painted a beautiful portrait.\",         \"They painted a beautiful portrait.\"    ]\n",
        "]\n"
      ],
      "metadata": {
        "id": "7xCaxonyeRQ7"
      },
      "execution_count": null,
      "outputs": []
    },
    {
      "cell_type": "code",
      "source": [
        "for p in sentences:\n",
        "  \n",
        "  active,passive=p\n",
        "\n",
        "  print(\"BERT\")\n",
        "  predBert_a = predictor.predict(active)\n",
        "  predBert_p = predictor.predict(passive) \n",
        "  \n",
        "  print([x['description'] for x in predBert_a['verbs']])\n",
        "  print([x['description'] for x in predBert_p['verbs']])\n",
        "  print(\"\\n\")\n",
        "\n",
        "print(\"\\n\\n\")\n",
        "for p in sentences:\n",
        "\n",
        "  active,passive=p\n",
        "\n",
        "  print(\"Lstm\")\n",
        "  predBilstm_a=predictor_bilstm.predict(active)\n",
        "  predBilstm_p=predictor_bilstm.predict(passive)\n",
        "  print([x['description'] for x in predBilstm_a['verbs']])\n",
        "  print([x['description'] for x in predBilstm_p['verbs']])\n",
        "  print(\"\\n\\n\")\n",
        "\n"
      ],
      "metadata": {
        "colab": {
          "base_uri": "https://localhost:8080/",
          "height": 921
        },
        "id": "CU5NPwo_fmD6",
        "outputId": "47dc3907-0cee-4bd8-d3c0-604fdec1bd2a"
      },
      "execution_count": null,
      "outputs": [
        {
          "output_type": "stream",
          "name": "stdout",
          "text": [
            "BERT\n",
            "['[ARG1: The cat] [V: sat] [ARG2: on the mat] .']\n",
            "['[ARG1: It] [V: sat] [ARG2: on the mat] .']\n",
            "\n",
            "\n",
            "BERT\n",
            "['[ARG0: John] [V: gave] [ARG2: Mary] [ARG1: the book] .']\n",
            "['[ARG0: He] [V: gave] [ARG2: her] [ARG1: the book] .']\n",
            "\n",
            "\n",
            "BERT\n",
            "['[ARG1: The sun] [V: rises] [ARGM-LOC: in the east] .']\n",
            "['[ARG1: It] [V: rises] [ARGM-LOC: in the east] .']\n",
            "\n",
            "\n",
            "BERT\n",
            "['[ARG0: The dog] [V: chased] [ARG1: the cat] and caught her .', '[ARG0: The dog] chased the cat and [V: caught] [ARG1: her] .']\n",
            "['[ARG0: It] [V: chased] [ARG1: her] and caught her .', '[ARG0: It] chased her and [V: caught] [ARG1: her] .']\n",
            "\n",
            "\n",
            "BERT\n",
            "['[ARG0: The students] [V: submitted] [ARG1: their homework] [ARGM-TMP: on time] .']\n",
            "['[ARG0: They] [V: submitted] [ARG1: it] [ARGM-TMP: on time] .']\n",
            "\n",
            "\n",
            "BERT\n",
            "['The cake [V: was] baked by my mom .', '[ARG1: The cake] was [V: baked] [ARG0: by my mom] .']\n",
            "['It [V: was] baked by her .', '[ARG1: It] was [V: baked] [ARG0: by her] .']\n",
            "\n",
            "\n",
            "BERT\n"
          ]
        },
        {
          "output_type": "error",
          "ename": "KeyboardInterrupt",
          "evalue": "ignored",
          "traceback": [
            "\u001b[0;31m---------------------------------------------------------------------------\u001b[0m",
            "\u001b[0;31mKeyboardInterrupt\u001b[0m                         Traceback (most recent call last)",
            "\u001b[0;32m<ipython-input-184-d5fadf0766e2>\u001b[0m in \u001b[0;36m<module>\u001b[0;34m\u001b[0m\n\u001b[1;32m      4\u001b[0m \u001b[0;34m\u001b[0m\u001b[0m\n\u001b[1;32m      5\u001b[0m   \u001b[0mprint\u001b[0m\u001b[0;34m(\u001b[0m\u001b[0;34m\"BERT\"\u001b[0m\u001b[0;34m)\u001b[0m\u001b[0;34m\u001b[0m\u001b[0;34m\u001b[0m\u001b[0m\n\u001b[0;32m----> 6\u001b[0;31m   \u001b[0mpredBert_a\u001b[0m \u001b[0;34m=\u001b[0m \u001b[0mpredictor\u001b[0m\u001b[0;34m.\u001b[0m\u001b[0mpredict\u001b[0m\u001b[0;34m(\u001b[0m\u001b[0mactive\u001b[0m\u001b[0;34m)\u001b[0m\u001b[0;34m\u001b[0m\u001b[0;34m\u001b[0m\u001b[0m\n\u001b[0m\u001b[1;32m      7\u001b[0m   \u001b[0mpredBert_p\u001b[0m \u001b[0;34m=\u001b[0m \u001b[0mpredictor\u001b[0m\u001b[0;34m.\u001b[0m\u001b[0mpredict\u001b[0m\u001b[0;34m(\u001b[0m\u001b[0mpassive\u001b[0m\u001b[0;34m)\u001b[0m\u001b[0;34m\u001b[0m\u001b[0;34m\u001b[0m\u001b[0m\n\u001b[1;32m      8\u001b[0m \u001b[0;34m\u001b[0m\u001b[0m\n",
            "\u001b[0;32m/usr/local/lib/python3.9/dist-packages/allennlp_models/structured_prediction/predictors/srl.py\u001b[0m in \u001b[0;36mpredict\u001b[0;34m(self, sentence)\u001b[0m\n\u001b[1;32m     48\u001b[0m         \u001b[0mA\u001b[0m \u001b[0mdictionary\u001b[0m \u001b[0mrepresentation\u001b[0m \u001b[0mof\u001b[0m \u001b[0mthe\u001b[0m \u001b[0msemantic\u001b[0m \u001b[0mroles\u001b[0m \u001b[0;32min\u001b[0m \u001b[0mthe\u001b[0m \u001b[0msentence\u001b[0m\u001b[0;34m.\u001b[0m\u001b[0;34m\u001b[0m\u001b[0;34m\u001b[0m\u001b[0m\n\u001b[1;32m     49\u001b[0m         \"\"\"\n\u001b[0;32m---> 50\u001b[0;31m         \u001b[0;32mreturn\u001b[0m \u001b[0mself\u001b[0m\u001b[0;34m.\u001b[0m\u001b[0mpredict_json\u001b[0m\u001b[0;34m(\u001b[0m\u001b[0;34m{\u001b[0m\u001b[0;34m\"sentence\"\u001b[0m\u001b[0;34m:\u001b[0m \u001b[0msentence\u001b[0m\u001b[0;34m}\u001b[0m\u001b[0;34m)\u001b[0m\u001b[0;34m\u001b[0m\u001b[0;34m\u001b[0m\u001b[0m\n\u001b[0m\u001b[1;32m     51\u001b[0m \u001b[0;34m\u001b[0m\u001b[0m\n\u001b[1;32m     52\u001b[0m     \u001b[0;32mdef\u001b[0m \u001b[0mpredict_tokenized\u001b[0m\u001b[0;34m(\u001b[0m\u001b[0mself\u001b[0m\u001b[0;34m,\u001b[0m \u001b[0mtokenized_sentence\u001b[0m\u001b[0;34m:\u001b[0m \u001b[0mList\u001b[0m\u001b[0;34m[\u001b[0m\u001b[0mstr\u001b[0m\u001b[0;34m]\u001b[0m\u001b[0;34m)\u001b[0m \u001b[0;34m->\u001b[0m \u001b[0mJsonDict\u001b[0m\u001b[0;34m:\u001b[0m\u001b[0;34m\u001b[0m\u001b[0;34m\u001b[0m\u001b[0m\n",
            "\u001b[0;32m/usr/local/lib/python3.9/dist-packages/allennlp_models/structured_prediction/predictors/srl.py\u001b[0m in \u001b[0;36mpredict_json\u001b[0;34m(self, inputs)\u001b[0m\n\u001b[1;32m    249\u001b[0m             \u001b[0;32mreturn\u001b[0m \u001b[0msanitize\u001b[0m\u001b[0;34m(\u001b[0m\u001b[0;34m{\u001b[0m\u001b[0;34m\"verbs\"\u001b[0m\u001b[0;34m:\u001b[0m \u001b[0;34m[\u001b[0m\u001b[0;34m]\u001b[0m\u001b[0;34m,\u001b[0m \u001b[0;34m\"words\"\u001b[0m\u001b[0;34m:\u001b[0m \u001b[0mself\u001b[0m\u001b[0;34m.\u001b[0m\u001b[0m_tokenizer\u001b[0m\u001b[0;34m.\u001b[0m\u001b[0mtokenize\u001b[0m\u001b[0;34m(\u001b[0m\u001b[0minputs\u001b[0m\u001b[0;34m[\u001b[0m\u001b[0;34m\"sentence\"\u001b[0m\u001b[0;34m]\u001b[0m\u001b[0;34m)\u001b[0m\u001b[0;34m}\u001b[0m\u001b[0;34m)\u001b[0m\u001b[0;34m\u001b[0m\u001b[0;34m\u001b[0m\u001b[0m\n\u001b[1;32m    250\u001b[0m \u001b[0;34m\u001b[0m\u001b[0m\n\u001b[0;32m--> 251\u001b[0;31m         \u001b[0;32mreturn\u001b[0m \u001b[0mself\u001b[0m\u001b[0;34m.\u001b[0m\u001b[0mpredict_instances\u001b[0m\u001b[0;34m(\u001b[0m\u001b[0minstances\u001b[0m\u001b[0;34m)\u001b[0m\u001b[0;34m\u001b[0m\u001b[0;34m\u001b[0m\u001b[0m\n\u001b[0m",
            "\u001b[0;32m/usr/local/lib/python3.9/dist-packages/allennlp_models/structured_prediction/predictors/srl.py\u001b[0m in \u001b[0;36mpredict_instances\u001b[0;34m(self, instances)\u001b[0m\n\u001b[1;32m    218\u001b[0m \u001b[0;34m\u001b[0m\u001b[0m\n\u001b[1;32m    219\u001b[0m     \u001b[0;32mdef\u001b[0m \u001b[0mpredict_instances\u001b[0m\u001b[0;34m(\u001b[0m\u001b[0mself\u001b[0m\u001b[0;34m,\u001b[0m \u001b[0minstances\u001b[0m\u001b[0;34m:\u001b[0m \u001b[0mList\u001b[0m\u001b[0;34m[\u001b[0m\u001b[0mInstance\u001b[0m\u001b[0;34m]\u001b[0m\u001b[0;34m)\u001b[0m \u001b[0;34m->\u001b[0m \u001b[0mJsonDict\u001b[0m\u001b[0;34m:\u001b[0m\u001b[0;34m\u001b[0m\u001b[0;34m\u001b[0m\u001b[0m\n\u001b[0;32m--> 220\u001b[0;31m         \u001b[0moutputs\u001b[0m \u001b[0;34m=\u001b[0m \u001b[0mself\u001b[0m\u001b[0;34m.\u001b[0m\u001b[0m_model\u001b[0m\u001b[0;34m.\u001b[0m\u001b[0mforward_on_instances\u001b[0m\u001b[0;34m(\u001b[0m\u001b[0minstances\u001b[0m\u001b[0;34m)\u001b[0m\u001b[0;34m\u001b[0m\u001b[0;34m\u001b[0m\u001b[0m\n\u001b[0m\u001b[1;32m    221\u001b[0m \u001b[0;34m\u001b[0m\u001b[0m\n\u001b[1;32m    222\u001b[0m         \u001b[0mresults\u001b[0m \u001b[0;34m=\u001b[0m \u001b[0;34m{\u001b[0m\u001b[0;34m\"verbs\"\u001b[0m\u001b[0;34m:\u001b[0m \u001b[0;34m[\u001b[0m\u001b[0;34m]\u001b[0m\u001b[0;34m,\u001b[0m \u001b[0;34m\"words\"\u001b[0m\u001b[0;34m:\u001b[0m \u001b[0moutputs\u001b[0m\u001b[0;34m[\u001b[0m\u001b[0;36m0\u001b[0m\u001b[0;34m]\u001b[0m\u001b[0;34m[\u001b[0m\u001b[0;34m\"words\"\u001b[0m\u001b[0;34m]\u001b[0m\u001b[0;34m}\u001b[0m\u001b[0;34m\u001b[0m\u001b[0;34m\u001b[0m\u001b[0m\n",
            "\u001b[0;32m/usr/local/lib/python3.9/dist-packages/allennlp/models/model.py\u001b[0m in \u001b[0;36mforward_on_instances\u001b[0;34m(self, instances)\u001b[0m\n\u001b[1;32m    215\u001b[0m             \u001b[0mdataset\u001b[0m\u001b[0;34m.\u001b[0m\u001b[0mindex_instances\u001b[0m\u001b[0;34m(\u001b[0m\u001b[0mself\u001b[0m\u001b[0;34m.\u001b[0m\u001b[0mvocab\u001b[0m\u001b[0;34m)\u001b[0m\u001b[0;34m\u001b[0m\u001b[0;34m\u001b[0m\u001b[0m\n\u001b[1;32m    216\u001b[0m             \u001b[0mmodel_input\u001b[0m \u001b[0;34m=\u001b[0m \u001b[0mutil\u001b[0m\u001b[0;34m.\u001b[0m\u001b[0mmove_to_device\u001b[0m\u001b[0;34m(\u001b[0m\u001b[0mdataset\u001b[0m\u001b[0;34m.\u001b[0m\u001b[0mas_tensor_dict\u001b[0m\u001b[0;34m(\u001b[0m\u001b[0;34m)\u001b[0m\u001b[0;34m,\u001b[0m \u001b[0mcuda_device\u001b[0m\u001b[0;34m)\u001b[0m\u001b[0;34m\u001b[0m\u001b[0;34m\u001b[0m\u001b[0m\n\u001b[0;32m--> 217\u001b[0;31m             \u001b[0moutputs\u001b[0m \u001b[0;34m=\u001b[0m \u001b[0mself\u001b[0m\u001b[0;34m.\u001b[0m\u001b[0mmake_output_human_readable\u001b[0m\u001b[0;34m(\u001b[0m\u001b[0mself\u001b[0m\u001b[0;34m(\u001b[0m\u001b[0;34m**\u001b[0m\u001b[0mmodel_input\u001b[0m\u001b[0;34m)\u001b[0m\u001b[0;34m)\u001b[0m\u001b[0;34m\u001b[0m\u001b[0;34m\u001b[0m\u001b[0m\n\u001b[0m\u001b[1;32m    218\u001b[0m \u001b[0;34m\u001b[0m\u001b[0m\n\u001b[1;32m    219\u001b[0m             instance_separated_output: List[Dict[str, numpy.ndarray]] = [\n",
            "\u001b[0;32m/usr/local/lib/python3.9/dist-packages/torch/nn/modules/module.py\u001b[0m in \u001b[0;36m_call_impl\u001b[0;34m(self, *input, **kwargs)\u001b[0m\n\u001b[1;32m   1128\u001b[0m         if not (self._backward_hooks or self._forward_hooks or self._forward_pre_hooks or _global_backward_hooks\n\u001b[1;32m   1129\u001b[0m                 or _global_forward_hooks or _global_forward_pre_hooks):\n\u001b[0;32m-> 1130\u001b[0;31m             \u001b[0;32mreturn\u001b[0m \u001b[0mforward_call\u001b[0m\u001b[0;34m(\u001b[0m\u001b[0;34m*\u001b[0m\u001b[0minput\u001b[0m\u001b[0;34m,\u001b[0m \u001b[0;34m**\u001b[0m\u001b[0mkwargs\u001b[0m\u001b[0;34m)\u001b[0m\u001b[0;34m\u001b[0m\u001b[0;34m\u001b[0m\u001b[0m\n\u001b[0m\u001b[1;32m   1131\u001b[0m         \u001b[0;31m# Do not call functions when jit is used\u001b[0m\u001b[0;34m\u001b[0m\u001b[0;34m\u001b[0m\u001b[0m\n\u001b[1;32m   1132\u001b[0m         \u001b[0mfull_backward_hooks\u001b[0m\u001b[0;34m,\u001b[0m \u001b[0mnon_full_backward_hooks\u001b[0m \u001b[0;34m=\u001b[0m \u001b[0;34m[\u001b[0m\u001b[0;34m]\u001b[0m\u001b[0;34m,\u001b[0m \u001b[0;34m[\u001b[0m\u001b[0;34m]\u001b[0m\u001b[0;34m\u001b[0m\u001b[0;34m\u001b[0m\u001b[0m\n",
            "\u001b[0;32m/usr/local/lib/python3.9/dist-packages/allennlp_models/structured_prediction/models/srl_bert.py\u001b[0m in \u001b[0;36mforward\u001b[0;34m(self, tokens, verb_indicator, metadata, tags)\u001b[0m\n\u001b[1;32m    139\u001b[0m         \"\"\"\n\u001b[1;32m    140\u001b[0m         \u001b[0mmask\u001b[0m \u001b[0;34m=\u001b[0m \u001b[0mget_text_field_mask\u001b[0m\u001b[0;34m(\u001b[0m\u001b[0mtokens\u001b[0m\u001b[0;34m)\u001b[0m\u001b[0;34m\u001b[0m\u001b[0;34m\u001b[0m\u001b[0m\n\u001b[0;32m--> 141\u001b[0;31m         bert_embeddings, _ = self.bert_model(\n\u001b[0m\u001b[1;32m    142\u001b[0m             \u001b[0minput_ids\u001b[0m\u001b[0;34m=\u001b[0m\u001b[0mutil\u001b[0m\u001b[0;34m.\u001b[0m\u001b[0mget_token_ids_from_text_field_tensors\u001b[0m\u001b[0;34m(\u001b[0m\u001b[0mtokens\u001b[0m\u001b[0;34m)\u001b[0m\u001b[0;34m,\u001b[0m\u001b[0;34m\u001b[0m\u001b[0;34m\u001b[0m\u001b[0m\n\u001b[1;32m    143\u001b[0m             \u001b[0mtoken_type_ids\u001b[0m\u001b[0;34m=\u001b[0m\u001b[0mverb_indicator\u001b[0m\u001b[0;34m,\u001b[0m\u001b[0;34m\u001b[0m\u001b[0;34m\u001b[0m\u001b[0m\n",
            "\u001b[0;32m/usr/local/lib/python3.9/dist-packages/torch/nn/modules/module.py\u001b[0m in \u001b[0;36m_call_impl\u001b[0;34m(self, *input, **kwargs)\u001b[0m\n\u001b[1;32m   1128\u001b[0m         if not (self._backward_hooks or self._forward_hooks or self._forward_pre_hooks or _global_backward_hooks\n\u001b[1;32m   1129\u001b[0m                 or _global_forward_hooks or _global_forward_pre_hooks):\n\u001b[0;32m-> 1130\u001b[0;31m             \u001b[0;32mreturn\u001b[0m \u001b[0mforward_call\u001b[0m\u001b[0;34m(\u001b[0m\u001b[0;34m*\u001b[0m\u001b[0minput\u001b[0m\u001b[0;34m,\u001b[0m \u001b[0;34m**\u001b[0m\u001b[0mkwargs\u001b[0m\u001b[0;34m)\u001b[0m\u001b[0;34m\u001b[0m\u001b[0;34m\u001b[0m\u001b[0m\n\u001b[0m\u001b[1;32m   1131\u001b[0m         \u001b[0;31m# Do not call functions when jit is used\u001b[0m\u001b[0;34m\u001b[0m\u001b[0;34m\u001b[0m\u001b[0m\n\u001b[1;32m   1132\u001b[0m         \u001b[0mfull_backward_hooks\u001b[0m\u001b[0;34m,\u001b[0m \u001b[0mnon_full_backward_hooks\u001b[0m \u001b[0;34m=\u001b[0m \u001b[0;34m[\u001b[0m\u001b[0;34m]\u001b[0m\u001b[0;34m,\u001b[0m \u001b[0;34m[\u001b[0m\u001b[0;34m]\u001b[0m\u001b[0;34m\u001b[0m\u001b[0;34m\u001b[0m\u001b[0m\n",
            "\u001b[0;32m/usr/local/lib/python3.9/dist-packages/transformers/models/bert/modeling_bert.py\u001b[0m in \u001b[0;36mforward\u001b[0;34m(self, input_ids, attention_mask, token_type_ids, position_ids, head_mask, inputs_embeds, encoder_hidden_states, encoder_attention_mask, past_key_values, use_cache, output_attentions, output_hidden_states, return_dict)\u001b[0m\n\u001b[1;32m   1016\u001b[0m             \u001b[0mpast_key_values_length\u001b[0m\u001b[0;34m=\u001b[0m\u001b[0mpast_key_values_length\u001b[0m\u001b[0;34m,\u001b[0m\u001b[0;34m\u001b[0m\u001b[0;34m\u001b[0m\u001b[0m\n\u001b[1;32m   1017\u001b[0m         )\n\u001b[0;32m-> 1018\u001b[0;31m         encoder_outputs = self.encoder(\n\u001b[0m\u001b[1;32m   1019\u001b[0m             \u001b[0membedding_output\u001b[0m\u001b[0;34m,\u001b[0m\u001b[0;34m\u001b[0m\u001b[0;34m\u001b[0m\u001b[0m\n\u001b[1;32m   1020\u001b[0m             \u001b[0mattention_mask\u001b[0m\u001b[0;34m=\u001b[0m\u001b[0mextended_attention_mask\u001b[0m\u001b[0;34m,\u001b[0m\u001b[0;34m\u001b[0m\u001b[0;34m\u001b[0m\u001b[0m\n",
            "\u001b[0;32m/usr/local/lib/python3.9/dist-packages/torch/nn/modules/module.py\u001b[0m in \u001b[0;36m_call_impl\u001b[0;34m(self, *input, **kwargs)\u001b[0m\n\u001b[1;32m   1128\u001b[0m         if not (self._backward_hooks or self._forward_hooks or self._forward_pre_hooks or _global_backward_hooks\n\u001b[1;32m   1129\u001b[0m                 or _global_forward_hooks or _global_forward_pre_hooks):\n\u001b[0;32m-> 1130\u001b[0;31m             \u001b[0;32mreturn\u001b[0m \u001b[0mforward_call\u001b[0m\u001b[0;34m(\u001b[0m\u001b[0;34m*\u001b[0m\u001b[0minput\u001b[0m\u001b[0;34m,\u001b[0m \u001b[0;34m**\u001b[0m\u001b[0mkwargs\u001b[0m\u001b[0;34m)\u001b[0m\u001b[0;34m\u001b[0m\u001b[0;34m\u001b[0m\u001b[0m\n\u001b[0m\u001b[1;32m   1131\u001b[0m         \u001b[0;31m# Do not call functions when jit is used\u001b[0m\u001b[0;34m\u001b[0m\u001b[0;34m\u001b[0m\u001b[0m\n\u001b[1;32m   1132\u001b[0m         \u001b[0mfull_backward_hooks\u001b[0m\u001b[0;34m,\u001b[0m \u001b[0mnon_full_backward_hooks\u001b[0m \u001b[0;34m=\u001b[0m \u001b[0;34m[\u001b[0m\u001b[0;34m]\u001b[0m\u001b[0;34m,\u001b[0m \u001b[0;34m[\u001b[0m\u001b[0;34m]\u001b[0m\u001b[0;34m\u001b[0m\u001b[0;34m\u001b[0m\u001b[0m\n",
            "\u001b[0;32m/usr/local/lib/python3.9/dist-packages/transformers/models/bert/modeling_bert.py\u001b[0m in \u001b[0;36mforward\u001b[0;34m(self, hidden_states, attention_mask, head_mask, encoder_hidden_states, encoder_attention_mask, past_key_values, use_cache, output_attentions, output_hidden_states, return_dict)\u001b[0m\n\u001b[1;32m    605\u001b[0m                 )\n\u001b[1;32m    606\u001b[0m             \u001b[0;32melse\u001b[0m\u001b[0;34m:\u001b[0m\u001b[0;34m\u001b[0m\u001b[0;34m\u001b[0m\u001b[0m\n\u001b[0;32m--> 607\u001b[0;31m                 layer_outputs = layer_module(\n\u001b[0m\u001b[1;32m    608\u001b[0m                     \u001b[0mhidden_states\u001b[0m\u001b[0;34m,\u001b[0m\u001b[0;34m\u001b[0m\u001b[0;34m\u001b[0m\u001b[0m\n\u001b[1;32m    609\u001b[0m                     \u001b[0mattention_mask\u001b[0m\u001b[0;34m,\u001b[0m\u001b[0;34m\u001b[0m\u001b[0;34m\u001b[0m\u001b[0m\n",
            "\u001b[0;32m/usr/local/lib/python3.9/dist-packages/torch/nn/modules/module.py\u001b[0m in \u001b[0;36m_call_impl\u001b[0;34m(self, *input, **kwargs)\u001b[0m\n\u001b[1;32m   1128\u001b[0m         if not (self._backward_hooks or self._forward_hooks or self._forward_pre_hooks or _global_backward_hooks\n\u001b[1;32m   1129\u001b[0m                 or _global_forward_hooks or _global_forward_pre_hooks):\n\u001b[0;32m-> 1130\u001b[0;31m             \u001b[0;32mreturn\u001b[0m \u001b[0mforward_call\u001b[0m\u001b[0;34m(\u001b[0m\u001b[0;34m*\u001b[0m\u001b[0minput\u001b[0m\u001b[0;34m,\u001b[0m \u001b[0;34m**\u001b[0m\u001b[0mkwargs\u001b[0m\u001b[0;34m)\u001b[0m\u001b[0;34m\u001b[0m\u001b[0;34m\u001b[0m\u001b[0m\n\u001b[0m\u001b[1;32m   1131\u001b[0m         \u001b[0;31m# Do not call functions when jit is used\u001b[0m\u001b[0;34m\u001b[0m\u001b[0;34m\u001b[0m\u001b[0m\n\u001b[1;32m   1132\u001b[0m         \u001b[0mfull_backward_hooks\u001b[0m\u001b[0;34m,\u001b[0m \u001b[0mnon_full_backward_hooks\u001b[0m \u001b[0;34m=\u001b[0m \u001b[0;34m[\u001b[0m\u001b[0;34m]\u001b[0m\u001b[0;34m,\u001b[0m \u001b[0;34m[\u001b[0m\u001b[0;34m]\u001b[0m\u001b[0;34m\u001b[0m\u001b[0;34m\u001b[0m\u001b[0m\n",
            "\u001b[0;32m/usr/local/lib/python3.9/dist-packages/transformers/models/bert/modeling_bert.py\u001b[0m in \u001b[0;36mforward\u001b[0;34m(self, hidden_states, attention_mask, head_mask, encoder_hidden_states, encoder_attention_mask, past_key_value, output_attentions)\u001b[0m\n\u001b[1;32m    533\u001b[0m             \u001b[0mpresent_key_value\u001b[0m \u001b[0;34m=\u001b[0m \u001b[0mpresent_key_value\u001b[0m \u001b[0;34m+\u001b[0m \u001b[0mcross_attn_present_key_value\u001b[0m\u001b[0;34m\u001b[0m\u001b[0;34m\u001b[0m\u001b[0m\n\u001b[1;32m    534\u001b[0m \u001b[0;34m\u001b[0m\u001b[0m\n\u001b[0;32m--> 535\u001b[0;31m         layer_output = apply_chunking_to_forward(\n\u001b[0m\u001b[1;32m    536\u001b[0m             \u001b[0mself\u001b[0m\u001b[0;34m.\u001b[0m\u001b[0mfeed_forward_chunk\u001b[0m\u001b[0;34m,\u001b[0m \u001b[0mself\u001b[0m\u001b[0;34m.\u001b[0m\u001b[0mchunk_size_feed_forward\u001b[0m\u001b[0;34m,\u001b[0m \u001b[0mself\u001b[0m\u001b[0;34m.\u001b[0m\u001b[0mseq_len_dim\u001b[0m\u001b[0;34m,\u001b[0m \u001b[0mattention_output\u001b[0m\u001b[0;34m\u001b[0m\u001b[0;34m\u001b[0m\u001b[0m\n\u001b[1;32m    537\u001b[0m         )\n",
            "\u001b[0;32m/usr/local/lib/python3.9/dist-packages/transformers/pytorch_utils.py\u001b[0m in \u001b[0;36mapply_chunking_to_forward\u001b[0;34m(forward_fn, chunk_size, chunk_dim, *input_tensors)\u001b[0m\n\u001b[1;32m    239\u001b[0m         \u001b[0;32mreturn\u001b[0m \u001b[0mtorch\u001b[0m\u001b[0;34m.\u001b[0m\u001b[0mcat\u001b[0m\u001b[0;34m(\u001b[0m\u001b[0moutput_chunks\u001b[0m\u001b[0;34m,\u001b[0m \u001b[0mdim\u001b[0m\u001b[0;34m=\u001b[0m\u001b[0mchunk_dim\u001b[0m\u001b[0;34m)\u001b[0m\u001b[0;34m\u001b[0m\u001b[0;34m\u001b[0m\u001b[0m\n\u001b[1;32m    240\u001b[0m \u001b[0;34m\u001b[0m\u001b[0m\n\u001b[0;32m--> 241\u001b[0;31m     \u001b[0;32mreturn\u001b[0m \u001b[0mforward_fn\u001b[0m\u001b[0;34m(\u001b[0m\u001b[0;34m*\u001b[0m\u001b[0minput_tensors\u001b[0m\u001b[0;34m)\u001b[0m\u001b[0;34m\u001b[0m\u001b[0;34m\u001b[0m\u001b[0m\n\u001b[0m\u001b[1;32m    242\u001b[0m \u001b[0;34m\u001b[0m\u001b[0m\n\u001b[1;32m    243\u001b[0m \u001b[0;34m\u001b[0m\u001b[0m\n",
            "\u001b[0;32m/usr/local/lib/python3.9/dist-packages/transformers/models/bert/modeling_bert.py\u001b[0m in \u001b[0;36mfeed_forward_chunk\u001b[0;34m(self, attention_output)\u001b[0m\n\u001b[1;32m    545\u001b[0m \u001b[0;34m\u001b[0m\u001b[0m\n\u001b[1;32m    546\u001b[0m     \u001b[0;32mdef\u001b[0m \u001b[0mfeed_forward_chunk\u001b[0m\u001b[0;34m(\u001b[0m\u001b[0mself\u001b[0m\u001b[0;34m,\u001b[0m \u001b[0mattention_output\u001b[0m\u001b[0;34m)\u001b[0m\u001b[0;34m:\u001b[0m\u001b[0;34m\u001b[0m\u001b[0;34m\u001b[0m\u001b[0m\n\u001b[0;32m--> 547\u001b[0;31m         \u001b[0mintermediate_output\u001b[0m \u001b[0;34m=\u001b[0m \u001b[0mself\u001b[0m\u001b[0;34m.\u001b[0m\u001b[0mintermediate\u001b[0m\u001b[0;34m(\u001b[0m\u001b[0mattention_output\u001b[0m\u001b[0;34m)\u001b[0m\u001b[0;34m\u001b[0m\u001b[0;34m\u001b[0m\u001b[0m\n\u001b[0m\u001b[1;32m    548\u001b[0m         \u001b[0mlayer_output\u001b[0m \u001b[0;34m=\u001b[0m \u001b[0mself\u001b[0m\u001b[0;34m.\u001b[0m\u001b[0moutput\u001b[0m\u001b[0;34m(\u001b[0m\u001b[0mintermediate_output\u001b[0m\u001b[0;34m,\u001b[0m \u001b[0mattention_output\u001b[0m\u001b[0;34m)\u001b[0m\u001b[0;34m\u001b[0m\u001b[0;34m\u001b[0m\u001b[0m\n\u001b[1;32m    549\u001b[0m         \u001b[0;32mreturn\u001b[0m \u001b[0mlayer_output\u001b[0m\u001b[0;34m\u001b[0m\u001b[0;34m\u001b[0m\u001b[0m\n",
            "\u001b[0;32m/usr/local/lib/python3.9/dist-packages/torch/nn/modules/module.py\u001b[0m in \u001b[0;36m_call_impl\u001b[0;34m(self, *input, **kwargs)\u001b[0m\n\u001b[1;32m   1128\u001b[0m         if not (self._backward_hooks or self._forward_hooks or self._forward_pre_hooks or _global_backward_hooks\n\u001b[1;32m   1129\u001b[0m                 or _global_forward_hooks or _global_forward_pre_hooks):\n\u001b[0;32m-> 1130\u001b[0;31m             \u001b[0;32mreturn\u001b[0m \u001b[0mforward_call\u001b[0m\u001b[0;34m(\u001b[0m\u001b[0;34m*\u001b[0m\u001b[0minput\u001b[0m\u001b[0;34m,\u001b[0m \u001b[0;34m**\u001b[0m\u001b[0mkwargs\u001b[0m\u001b[0;34m)\u001b[0m\u001b[0;34m\u001b[0m\u001b[0;34m\u001b[0m\u001b[0m\n\u001b[0m\u001b[1;32m   1131\u001b[0m         \u001b[0;31m# Do not call functions when jit is used\u001b[0m\u001b[0;34m\u001b[0m\u001b[0;34m\u001b[0m\u001b[0m\n\u001b[1;32m   1132\u001b[0m         \u001b[0mfull_backward_hooks\u001b[0m\u001b[0;34m,\u001b[0m \u001b[0mnon_full_backward_hooks\u001b[0m \u001b[0;34m=\u001b[0m \u001b[0;34m[\u001b[0m\u001b[0;34m]\u001b[0m\u001b[0;34m,\u001b[0m \u001b[0;34m[\u001b[0m\u001b[0;34m]\u001b[0m\u001b[0;34m\u001b[0m\u001b[0;34m\u001b[0m\u001b[0m\n",
            "\u001b[0;32m/usr/local/lib/python3.9/dist-packages/transformers/models/bert/modeling_bert.py\u001b[0m in \u001b[0;36mforward\u001b[0;34m(self, hidden_states)\u001b[0m\n\u001b[1;32m    445\u001b[0m \u001b[0;34m\u001b[0m\u001b[0m\n\u001b[1;32m    446\u001b[0m     \u001b[0;32mdef\u001b[0m \u001b[0mforward\u001b[0m\u001b[0;34m(\u001b[0m\u001b[0mself\u001b[0m\u001b[0;34m,\u001b[0m \u001b[0mhidden_states\u001b[0m\u001b[0;34m:\u001b[0m \u001b[0mtorch\u001b[0m\u001b[0;34m.\u001b[0m\u001b[0mTensor\u001b[0m\u001b[0;34m)\u001b[0m \u001b[0;34m->\u001b[0m \u001b[0mtorch\u001b[0m\u001b[0;34m.\u001b[0m\u001b[0mTensor\u001b[0m\u001b[0;34m:\u001b[0m\u001b[0;34m\u001b[0m\u001b[0;34m\u001b[0m\u001b[0m\n\u001b[0;32m--> 447\u001b[0;31m         \u001b[0mhidden_states\u001b[0m \u001b[0;34m=\u001b[0m \u001b[0mself\u001b[0m\u001b[0;34m.\u001b[0m\u001b[0mdense\u001b[0m\u001b[0;34m(\u001b[0m\u001b[0mhidden_states\u001b[0m\u001b[0;34m)\u001b[0m\u001b[0;34m\u001b[0m\u001b[0;34m\u001b[0m\u001b[0m\n\u001b[0m\u001b[1;32m    448\u001b[0m         \u001b[0mhidden_states\u001b[0m \u001b[0;34m=\u001b[0m \u001b[0mself\u001b[0m\u001b[0;34m.\u001b[0m\u001b[0mintermediate_act_fn\u001b[0m\u001b[0;34m(\u001b[0m\u001b[0mhidden_states\u001b[0m\u001b[0;34m)\u001b[0m\u001b[0;34m\u001b[0m\u001b[0;34m\u001b[0m\u001b[0m\n\u001b[1;32m    449\u001b[0m         \u001b[0;32mreturn\u001b[0m \u001b[0mhidden_states\u001b[0m\u001b[0;34m\u001b[0m\u001b[0;34m\u001b[0m\u001b[0m\n",
            "\u001b[0;32m/usr/local/lib/python3.9/dist-packages/torch/nn/modules/module.py\u001b[0m in \u001b[0;36m_call_impl\u001b[0;34m(self, *input, **kwargs)\u001b[0m\n\u001b[1;32m   1128\u001b[0m         if not (self._backward_hooks or self._forward_hooks or self._forward_pre_hooks or _global_backward_hooks\n\u001b[1;32m   1129\u001b[0m                 or _global_forward_hooks or _global_forward_pre_hooks):\n\u001b[0;32m-> 1130\u001b[0;31m             \u001b[0;32mreturn\u001b[0m \u001b[0mforward_call\u001b[0m\u001b[0;34m(\u001b[0m\u001b[0;34m*\u001b[0m\u001b[0minput\u001b[0m\u001b[0;34m,\u001b[0m \u001b[0;34m**\u001b[0m\u001b[0mkwargs\u001b[0m\u001b[0;34m)\u001b[0m\u001b[0;34m\u001b[0m\u001b[0;34m\u001b[0m\u001b[0m\n\u001b[0m\u001b[1;32m   1131\u001b[0m         \u001b[0;31m# Do not call functions when jit is used\u001b[0m\u001b[0;34m\u001b[0m\u001b[0;34m\u001b[0m\u001b[0m\n\u001b[1;32m   1132\u001b[0m         \u001b[0mfull_backward_hooks\u001b[0m\u001b[0;34m,\u001b[0m \u001b[0mnon_full_backward_hooks\u001b[0m \u001b[0;34m=\u001b[0m \u001b[0;34m[\u001b[0m\u001b[0;34m]\u001b[0m\u001b[0;34m,\u001b[0m \u001b[0;34m[\u001b[0m\u001b[0;34m]\u001b[0m\u001b[0;34m\u001b[0m\u001b[0;34m\u001b[0m\u001b[0m\n",
            "\u001b[0;32m/usr/local/lib/python3.9/dist-packages/torch/nn/modules/linear.py\u001b[0m in \u001b[0;36mforward\u001b[0;34m(self, input)\u001b[0m\n\u001b[1;32m    112\u001b[0m \u001b[0;34m\u001b[0m\u001b[0m\n\u001b[1;32m    113\u001b[0m     \u001b[0;32mdef\u001b[0m \u001b[0mforward\u001b[0m\u001b[0;34m(\u001b[0m\u001b[0mself\u001b[0m\u001b[0;34m,\u001b[0m \u001b[0minput\u001b[0m\u001b[0;34m:\u001b[0m \u001b[0mTensor\u001b[0m\u001b[0;34m)\u001b[0m \u001b[0;34m->\u001b[0m \u001b[0mTensor\u001b[0m\u001b[0;34m:\u001b[0m\u001b[0;34m\u001b[0m\u001b[0;34m\u001b[0m\u001b[0m\n\u001b[0;32m--> 114\u001b[0;31m         \u001b[0;32mreturn\u001b[0m \u001b[0mF\u001b[0m\u001b[0;34m.\u001b[0m\u001b[0mlinear\u001b[0m\u001b[0;34m(\u001b[0m\u001b[0minput\u001b[0m\u001b[0;34m,\u001b[0m \u001b[0mself\u001b[0m\u001b[0;34m.\u001b[0m\u001b[0mweight\u001b[0m\u001b[0;34m,\u001b[0m \u001b[0mself\u001b[0m\u001b[0;34m.\u001b[0m\u001b[0mbias\u001b[0m\u001b[0;34m)\u001b[0m\u001b[0;34m\u001b[0m\u001b[0;34m\u001b[0m\u001b[0m\n\u001b[0m\u001b[1;32m    115\u001b[0m \u001b[0;34m\u001b[0m\u001b[0m\n\u001b[1;32m    116\u001b[0m     \u001b[0;32mdef\u001b[0m \u001b[0mextra_repr\u001b[0m\u001b[0;34m(\u001b[0m\u001b[0mself\u001b[0m\u001b[0;34m)\u001b[0m \u001b[0;34m->\u001b[0m \u001b[0mstr\u001b[0m\u001b[0;34m:\u001b[0m\u001b[0;34m\u001b[0m\u001b[0;34m\u001b[0m\u001b[0m\n",
            "\u001b[0;31mKeyboardInterrupt\u001b[0m: "
          ]
        }
      ]
    },
    {
      "cell_type": "code",
      "source": [
        "sentences=[    [        \"The doctor prescribed medication for the patient's headache.\",         \"They prescribed it for their headache.\"    ],\n",
        "    [        \"The company's CEO announced a new product launch during the conference.\",         \"They announced it during the conference.\"    ],\n",
        "    [        \"The teacher explained the complex math problem to the students in detail.\",         \"They explained it to them in detail.\"    ],\n",
        "    [        \"The committee reviewed the proposal and made several recommendations for improvement.\",         \"They reviewed it and made several recommendations for improvement.\"    ],\n",
        "    [        \"The company hired a new employee with extensive experience in the field.\",         \"It hired them with extensive experience in the field.\"    ],\n",
        "    [        \"The chef used fresh herbs and spices to add flavor to the dish.\",         \"They used them to add flavor to it.\"    ],\n",
        "    [        \"The lawyer defended his client against the false allegations.\",         \"They defended them against them.\"    ],\n",
        "    [        \"The student completed the research project and submitted it before the deadline.\",         \"They completed it and submitted it before it.\"    ],\n",
        "    [        \"The artist created a stunning sculpture using a variety of materials.\",         \"They created it using a variety of materials.\"    ],\n",
        "    [        \"The scientist conducted a series of experiments to test the hypothesis.\",         \"They conducted them to test it.\"    ],\n",
        "    [        \"The athlete trained for months before competing in the Olympic Games.\",         \"They trained for months before competing in them.\"    ],\n",
        "    [        \"The architect designed the building to be energy efficient and environmentally friendly.\",         \"They designed it to be energy efficient and environmentally friendly.\"    ],\n",
        "    [        \"The writer crafted a compelling storyline with well-developed characters.\",         \"They crafted it with them.\"    ],\n",
        "    [        \"The company's marketing team created a new advertising campaign to promote the product.\",         \"They created it to promote it.\"    ],\n",
        "    [        \"The nurse administered the medication to the patient and monitored their condition.\",         \"They administered it to them and monitored their condition.\"    ],\n",
        "    [        \"The technician repaired the computer and installed new software.\",         \"They repaired it and installed it.\"    ],\n",
        "    [        \"The musician composed a beautiful melody that moved the audience to tears.\",         \"They composed it and moved them to tears.\"    ],\n",
        "    [        \"The sales team negotiated a deal with the client and closed the sale.\",         \"They negotiated it with them and closed it.\"    ],\n",
        "    [        \"The construction crew built a new bridge to improve traffic flow.\",         \"They built it to improve it.\"    ],\n",
        "    [        \"The therapist helped the patient develop coping mechanisms to manage their anxiety.\",         \"They helped them develop them to manage it.\"    ]\n",
        "]\n"
      ],
      "metadata": {
        "id": "81mk_wPWfuEr"
      },
      "execution_count": null,
      "outputs": []
    },
    {
      "cell_type": "code",
      "source": [
        "def eval_INV_proNounes_entities(sentences,predictor):\n",
        "  fails=0\n",
        "  for p in sentences:\n",
        "    \n",
        "    ent,pronoun=p\n",
        "\n",
        "    predBert_e = predictor.predict(ent)\n",
        "    predBert_p = predictor.predict(pronoun) \n",
        "    \n",
        "    #print([x['description'] for x in predBert_e['verbs']])\n",
        "    #print([x['description'] for x in predBert_p['verbs']])\n",
        "\n",
        "    if not (validate_INV_alltags(predBert_e,predBert_p)):\n",
        "      \n",
        "      fails+=1\n",
        "\n",
        "  return (fails/len(sentences)*100)\n",
        "\n",
        "bert_failure=eval_INV_proNounes_entities(sentences,predictor)\n",
        "print()\n",
        "\"\"\"\n",
        "print(\"\\n\\n\")\n",
        "for p in sentences:\n",
        "\n",
        "  active,passive=p\n",
        "\n",
        "  print(\"Lstm\")\n",
        "  predBilstm_a=predictor_bilstm.predict(active)\n",
        "  predBilstm_p=predictor_bilstm.predict(passive)\n",
        "  print([x['description'] for x in predBilstm_a['verbs']])\n",
        "  print([x['description'] for x in predBilstm_p['verbs']])\n",
        "  print(\"\\n\\n\")\n",
        "\"\"\""
      ],
      "metadata": {
        "colab": {
          "base_uri": "https://localhost:8080/",
          "height": 260
        },
        "id": "VP_IAmBshpKP",
        "outputId": "5e916211-6480-497f-dfce-601409c00f54"
      },
      "execution_count": null,
      "outputs": [
        {
          "output_type": "stream",
          "name": "stdout",
          "text": [
            "missmatch for tags of verb blown\n",
            "[ARG1: The tree] was [V: blown] [ARGM-DIR: over] [ARG0: by the wind] .\n",
            "[ARG1: It] was [V: blown] over [ARG0: by it] .\n",
            "\n",
            "not the same predicates were found \n",
            "['The', 'doctor', 'examined', 'the', 'patient', 'and', 'prescribed', 'medication', '.'] ['They', 'examined', 'them', 'and', 'prescribed', 'it', '.']\n",
            "['examined'] ['examined', 'prescribed'] \n",
            "\n",
            "not the same predicates were found \n",
            "['The', 'phone', 'rang', 'and', 'the', 'receptionist', 'answered', 'it', '.'] ['It', 'rang', 'and', 'they', 'answered', 'it', '.']\n",
            "['answered'] ['rang', 'answered'] \n",
            "\n"
          ]
        },
        {
          "output_type": "execute_result",
          "data": {
            "text/plain": [
              "'\\nprint(\"\\n\\n\")\\nfor p in sentences:\\n\\n  active,passive=p\\n\\n  print(\"Lstm\")\\n  predBilstm_a=predictor_bilstm.predict(active)\\n  predBilstm_p=predictor_bilstm.predict(passive)\\n  print([x[\\'description\\'] for x in predBilstm_a[\\'verbs\\']])\\n  print([x[\\'description\\'] for x in predBilstm_p[\\'verbs\\']])\\n  print(\"\\n\\n\")\\n'"
            ],
            "application/vnd.google.colaboratory.intrinsic+json": {
              "type": "string"
            }
          },
          "metadata": {},
          "execution_count": 185
        }
      ]
    },
    {
      "cell_type": "code",
      "source": [
        "bert_failure\n"
      ],
      "metadata": {
        "colab": {
          "base_uri": "https://localhost:8080/"
        },
        "id": "rvrHT7WT8WvT",
        "outputId": "ea705172-355e-4813-9d9f-51e3142b51fd"
      },
      "execution_count": null,
      "outputs": [
        {
          "output_type": "execute_result",
          "data": {
            "text/plain": [
              "15.0"
            ]
          },
          "metadata": {},
          "execution_count": 186
        }
      ]
    },
    {
      "cell_type": "code",
      "source": [],
      "metadata": {
        "colab": {
          "base_uri": "https://localhost:8080/"
        },
        "id": "jEQkVw4N694A",
        "outputId": "2c4cac2b-0074-4ab5-94ca-e68db6491712"
      },
      "execution_count": null,
      "outputs": [
        {
          "output_type": "execute_result",
          "data": {
            "text/plain": [
              "3"
            ]
          },
          "metadata": {},
          "execution_count": 161
        }
      ]
    },
    {
      "cell_type": "code",
      "source": [
        "pred1=predictor.predict(\"The athletes trained for months before competing\")\n",
        "pred2=predictor.predict(\"They trained for  months before competing\")"
      ],
      "metadata": {
        "id": "D2vlv4lfihd-"
      },
      "execution_count": null,
      "outputs": []
    },
    {
      "cell_type": "code",
      "source": [
        "pred1=predictor.predict(\"They eat an apple\")\n",
        "pred2=predictor_bilstm.predict(\"They eat an apple\")"
      ],
      "metadata": {
        "id": "gULbW_w2pISE"
      },
      "execution_count": null,
      "outputs": []
    },
    {
      "cell_type": "code",
      "source": [
        "a1= \"The baby cried and his mother picked him up.\" \n",
        "a2= \"It cried and she picked it up.\" \n",
        "pred1=predictor.predict(a1)\n",
        "pred2=predictor.predict(a2)"
      ],
      "metadata": {
        "id": "MiyCvTrs1cAa"
      },
      "execution_count": null,
      "outputs": []
    },
    {
      "cell_type": "code",
      "source": [
        "pred1,pred2"
      ],
      "metadata": {
        "colab": {
          "base_uri": "https://localhost:8080/"
        },
        "id": "yV-CBKjIlu3g",
        "outputId": "4db287e7-7e93-4b44-c7fb-7f85590e80db"
      },
      "execution_count": null,
      "outputs": [
        {
          "output_type": "execute_result",
          "data": {
            "text/plain": [
              "({'verbs': [{'verb': 'cried',\n",
              "    'description': '[ARG0: The baby] [V: cried] and his mother picked him up .',\n",
              "    'tags': ['B-ARG0', 'I-ARG0', 'B-V', 'O', 'O', 'O', 'O', 'O', 'O', 'O']},\n",
              "   {'verb': 'picked',\n",
              "    'description': 'The baby cried and [ARG0: his mother] [V: picked] [ARG1: him] up .',\n",
              "    'tags': ['O',\n",
              "     'O',\n",
              "     'O',\n",
              "     'O',\n",
              "     'B-ARG0',\n",
              "     'I-ARG0',\n",
              "     'B-V',\n",
              "     'B-ARG1',\n",
              "     'O',\n",
              "     'O']}],\n",
              "  'words': ['The',\n",
              "   'baby',\n",
              "   'cried',\n",
              "   'and',\n",
              "   'his',\n",
              "   'mother',\n",
              "   'picked',\n",
              "   'him',\n",
              "   'up',\n",
              "   '.']},\n",
              " {'verbs': [{'verb': 'cried',\n",
              "    'description': '[ARG0: It] [V: cried] and she picked it up .',\n",
              "    'tags': ['B-ARG0', 'B-V', 'O', 'O', 'O', 'O', 'O', 'O']},\n",
              "   {'verb': 'picked',\n",
              "    'description': 'It cried and [ARG0: she] [V: picked] [ARG1: it] up .',\n",
              "    'tags': ['O', 'O', 'O', 'B-ARG0', 'B-V', 'B-ARG1', 'O', 'O']}],\n",
              "  'words': ['It', 'cried', 'and', 'she', 'picked', 'it', 'up', '.']})"
            ]
          },
          "metadata": {},
          "execution_count": 130
        }
      ]
    },
    {
      "cell_type": "code",
      "source": [],
      "metadata": {
        "colab": {
          "base_uri": "https://localhost:8080/",
          "height": 35
        },
        "id": "bihKD-eQ2xmZ",
        "outputId": "ae288f4a-1101-4d67-ab4c-4ef8b83f0e99"
      },
      "execution_count": null,
      "outputs": [
        {
          "output_type": "execute_result",
          "data": {
            "text/plain": [
              "'[ARG0: The baby] [V: cried] and his mother picked him up .'"
            ],
            "application/vnd.google.colaboratory.intrinsic+json": {
              "type": "string"
            }
          },
          "metadata": {},
          "execution_count": 137
        }
      ]
    },
    {
      "cell_type": "code",
      "source": [
        "import re\n",
        "text=pred1['verbs'][0]['description']\n",
        "matches = re.findall(r'\\[(.*?)\\]', text)\n",
        "matches"
      ],
      "metadata": {
        "colab": {
          "base_uri": "https://localhost:8080/"
        },
        "id": "OpTUmJTQ2T2_",
        "outputId": "f8530527-9c1d-43f6-e658-f48ea55ba56a"
      },
      "execution_count": null,
      "outputs": [
        {
          "output_type": "execute_result",
          "data": {
            "text/plain": [
              "['ARG0: The baby', 'V: cried']"
            ]
          },
          "metadata": {},
          "execution_count": 138
        }
      ]
    },
    {
      "cell_type": "code",
      "source": [
        "def make_tag_list(v): #v=pred['verb'][i]\n",
        "  matches=re.findall(r'\\[(.*?)\\]', v['description'])\n",
        "  tags=[x.split(\":\")[0] for x in matches]\n",
        "  return tags"
      ],
      "metadata": {
        "id": "1NYgPCyxyYGp"
      },
      "execution_count": null,
      "outputs": []
    },
    {
      "cell_type": "code",
      "source": [
        "make_tag_list(pred1['verbs'][0])"
      ],
      "metadata": {
        "colab": {
          "base_uri": "https://localhost:8080/"
        },
        "id": "EYnilslT3Ufi",
        "outputId": "7cab99d7-ed41-4e86-ce8c-4b7238d31cd8"
      },
      "execution_count": null,
      "outputs": [
        {
          "output_type": "execute_result",
          "data": {
            "text/plain": [
              "['ARG0', 'V']"
            ]
          },
          "metadata": {},
          "execution_count": 142
        }
      ]
    },
    {
      "cell_type": "code",
      "source": [],
      "metadata": {
        "id": "GcRNd_mq3agp"
      },
      "execution_count": null,
      "outputs": []
    },
    {
      "cell_type": "code",
      "source": [],
      "metadata": {
        "id": "lff6X3HPA7tl"
      },
      "execution_count": null,
      "outputs": []
    },
    {
      "cell_type": "markdown",
      "source": [
        "##Robustness"
      ],
      "metadata": {
        "id": "djlQjIyAQIjV"
      }
    },
    {
      "cell_type": "markdown",
      "source": [
        "###word orders [overlapping spans]\n"
      ],
      "metadata": {
        "id": "vFvgduTVSxBn"
      }
    },
    {
      "cell_type": "code",
      "source": [
        "sentences=[\"the coach teaches to the team coordination\", \"The coach teaches coordination to the team\"]\n",
        "for s in sentences:\n",
        "  print(s)\n",
        "  pred=predictor.predict(s)\n",
        "  desc=[x['description'] for x in pred['verbs']]\n",
        "  #print(verbs)\n",
        "  print(desc)\n",
        "  print(\"\\n\\n\")"
      ],
      "metadata": {
        "colab": {
          "base_uri": "https://localhost:8080/"
        },
        "id": "U0Lfw1_-zojf",
        "outputId": "bf88112c-f70b-4d18-b8c8-1824f7e2ee4d"
      },
      "execution_count": null,
      "outputs": [
        {
          "output_type": "stream",
          "name": "stdout",
          "text": [
            "the coach teaches to the team coordination\n",
            "['[ARG0: the coach] [V: teaches] [ARG2: to the team coordination]']\n",
            "\n",
            "\n",
            "\n",
            "The coach teaches coordination to the team\n",
            "['[ARG0: The coach] [V: teaches] [ARG1: coordination to the team]']\n",
            "\n",
            "\n",
            "\n"
          ]
        }
      ]
    },
    {
      "cell_type": "code",
      "source": [
        "sentences=[\"I like that mark has not beeing able to reduce sigarets despite his mother dying of lung cancer\"]\n",
        "for s in sentences:\n",
        "  print(s)\n",
        "  pred=predictor.predict(s)\n",
        "  desc=[x['description'] for x in pred['verbs']]\n",
        "  #print(verbs)\n",
        "  print(desc)\n",
        "  print(\"\\n\\n\")"
      ],
      "metadata": {
        "colab": {
          "base_uri": "https://localhost:8080/"
        },
        "id": "7INNZ1qHv-20",
        "outputId": "72ec3603-31e1-4cbe-cf5a-11afa201126f"
      },
      "execution_count": null,
      "outputs": [
        {
          "output_type": "stream",
          "name": "stdout",
          "text": [
            "I like that mark has not beeing able to reduce sigarets despite his mother dying of lung cancer\n",
            "['[ARG0: I] [V: like] [ARG1: that mark has not beeing able to reduce sigarets despite his mother dying of lung cancer]', 'I like that mark [V: has] not beeing able to reduce sigarets despite his mother dying of lung cancer', 'I like that [ARG1: mark] has [ARGM-NEG: not] [V: beeing] [ARGM-PRD: able to reduce sigarets] [ARGM-ADV: despite his mother dying of lung cancer]', 'I like that [ARG0: mark] has not beeing able to [V: reduce] [ARG1: sigarets] despite his mother dying of lung cancer', 'I like that mark has not beeing able to reduce sigarets despite [ARG1: his mother] [V: dying] [ARGM-CAU: of lung cancer]']\n",
            "\n",
            "\n",
            "\n"
          ]
        }
      ]
    },
    {
      "cell_type": "code",
      "source": [
        "sentences=[\"I give to you kisses\", \"I give kisses to you\"]\n",
        "for s in sentences:\n",
        "  print(s)\n",
        "  pred=predictor_bilstm.predict(s)\n",
        "  desc=[x['description'] for x in pred['verbs']]\n",
        "  #print(verbs)\n",
        "  print(desc)\n",
        "  print(\"\\n\\n\")"
      ],
      "metadata": {
        "colab": {
          "base_uri": "https://localhost:8080/"
        },
        "id": "NlVLG_rfUp2b",
        "outputId": "c9d6e6e4-a487-4180-d82a-7612d589c1c1"
      },
      "execution_count": null,
      "outputs": [
        {
          "output_type": "stream",
          "name": "stdout",
          "text": [
            "I give to you kisses\n",
            "['[ARG0: I] [V: give] [ARG2: to you kisses]']\n",
            "\n",
            "\n",
            "\n",
            "I give kisses to you\n",
            "['[ARG0: I] [V: give] [ARG1: kisses] [ARG2: to you]']\n",
            "\n",
            "\n",
            "\n"
          ]
        }
      ]
    },
    {
      "cell_type": "code",
      "source": [
        "sentences=[\"you are stupid\"]\n",
        "for s in sentences:\n",
        "  print(s)\n",
        "  \n",
        "  pred=predictor_lstm.predict(s)\n",
        "  print(pred)\n",
        "  desc=[x['description'] for x in pred['verbs']]\n",
        "  #print(verbs)\n",
        "  print(desc)\n",
        "  print(\"\\n\\n\")"
      ],
      "metadata": {
        "colab": {
          "base_uri": "https://localhost:8080/",
          "height": 255
        },
        "id": "vevXyNqhxD6B",
        "outputId": "1f087c75-c075-4831-f349-2dd07c78d9c8"
      },
      "execution_count": null,
      "outputs": [
        {
          "output_type": "stream",
          "name": "stdout",
          "text": [
            "you are stupid\n"
          ]
        },
        {
          "output_type": "error",
          "ename": "NameError",
          "evalue": "ignored",
          "traceback": [
            "\u001b[0;31m---------------------------------------------------------------------------\u001b[0m",
            "\u001b[0;31mNameError\u001b[0m                                 Traceback (most recent call last)",
            "\u001b[0;32m<ipython-input-196-af713bc03a2c>\u001b[0m in \u001b[0;36m<module>\u001b[0;34m\u001b[0m\n\u001b[1;32m      3\u001b[0m   \u001b[0mprint\u001b[0m\u001b[0;34m(\u001b[0m\u001b[0ms\u001b[0m\u001b[0;34m)\u001b[0m\u001b[0;34m\u001b[0m\u001b[0;34m\u001b[0m\u001b[0m\n\u001b[1;32m      4\u001b[0m \u001b[0;34m\u001b[0m\u001b[0m\n\u001b[0;32m----> 5\u001b[0;31m   \u001b[0mpred\u001b[0m\u001b[0;34m=\u001b[0m\u001b[0mpredictor_lstm\u001b[0m\u001b[0;34m.\u001b[0m\u001b[0mpredict\u001b[0m\u001b[0;34m(\u001b[0m\u001b[0ms\u001b[0m\u001b[0;34m)\u001b[0m\u001b[0;34m\u001b[0m\u001b[0;34m\u001b[0m\u001b[0m\n\u001b[0m\u001b[1;32m      6\u001b[0m   \u001b[0mprint\u001b[0m\u001b[0;34m(\u001b[0m\u001b[0mpred\u001b[0m\u001b[0;34m)\u001b[0m\u001b[0;34m\u001b[0m\u001b[0;34m\u001b[0m\u001b[0m\n\u001b[1;32m      7\u001b[0m   \u001b[0mdesc\u001b[0m\u001b[0;34m=\u001b[0m\u001b[0;34m[\u001b[0m\u001b[0mx\u001b[0m\u001b[0;34m[\u001b[0m\u001b[0;34m'description'\u001b[0m\u001b[0;34m]\u001b[0m \u001b[0;32mfor\u001b[0m \u001b[0mx\u001b[0m \u001b[0;32min\u001b[0m \u001b[0mpred\u001b[0m\u001b[0;34m[\u001b[0m\u001b[0;34m'verbs'\u001b[0m\u001b[0;34m]\u001b[0m\u001b[0;34m]\u001b[0m\u001b[0;34m\u001b[0m\u001b[0;34m\u001b[0m\u001b[0m\n",
            "\u001b[0;31mNameError\u001b[0m: name 'predictor_lstm' is not defined"
          ]
        }
      ]
    },
    {
      "cell_type": "code",
      "source": [
        "sentences=[\" looking eating kisses Robert at lunchtime in the park\"]\n",
        "for s in sentences:\n",
        "  print(s)\n",
        "  predBert=predictor.predict(s)\n",
        "  predBilstm=predictor_bilstm.predict(s)\n",
        "  print(\"BERT\")\n",
        "  print([x['description'] for x in predBert['verbs']])\n",
        "\n",
        "  print(\"Lstm\")\n",
        "  print([x['description'] for x in predBilstm['verbs']])\n",
        "  \n",
        "  print(\"\\n\\n\")"
      ],
      "metadata": {
        "colab": {
          "base_uri": "https://localhost:8080/"
        },
        "id": "HPMPU4PWxECn",
        "outputId": "18699ba6-9732-47dd-a0d1-27fd115a215b"
      },
      "execution_count": null,
      "outputs": [
        {
          "output_type": "stream",
          "name": "stdout",
          "text": [
            " looking eating kisses Robert at lunchtime in the park\n",
            "BERT\n",
            "['[V: looking] [ARG1: eating kisses Robert at lunchtime in the park]', 'looking [V: eating] [ARG1: kisses Robert] [ARGM-TMP: at lunchtime] [ARGM-LOC: in] [ARGM-TMP: the park]']\n",
            "Lstm\n",
            "['[V: looking] [ARG1: eating kisses Robert at lunchtime in the park]', 'looking [V: eating] [ARG1: kisses Robert at lunchtime] [ARGM-LOC: in the park]']\n",
            "\n",
            "\n",
            "\n"
          ]
        }
      ]
    },
    {
      "cell_type": "code",
      "source": [],
      "metadata": {
        "id": "2KNg_S8dxEFH"
      },
      "execution_count": null,
      "outputs": []
    },
    {
      "cell_type": "code",
      "source": [],
      "metadata": {
        "id": "DnnS114NxR6P"
      },
      "execution_count": null,
      "outputs": []
    },
    {
      "cell_type": "code",
      "source": [
        "##"
      ],
      "metadata": {
        "id": "1VCarBZ1xSIQ"
      },
      "execution_count": null,
      "outputs": []
    },
    {
      "cell_type": "code",
      "source": [],
      "metadata": {
        "id": "l_JtEeN3v7cW"
      },
      "execution_count": null,
      "outputs": []
    },
    {
      "cell_type": "code",
      "source": [
        "sentences=[\"I give to you love\", \"I give love to you\"]\n",
        "for s in sentences:\n",
        "  print(s)\n",
        "  pred=predictor.predict(s)\n",
        "  desc=[x['description'] for x in pred['verbs']]\n",
        "  #print(verbs)\n",
        "  print(desc)\n",
        "  print(\"\\n\\n\")"
      ],
      "metadata": {
        "colab": {
          "base_uri": "https://localhost:8080/"
        },
        "id": "BnBI6DcKT1u-",
        "outputId": "74ff4d4e-b17e-4215-d3d7-4008d483b866"
      },
      "execution_count": null,
      "outputs": [
        {
          "output_type": "stream",
          "name": "stdout",
          "text": [
            "I give to you love\n",
            "['[ARG0: I] [V: give] [ARG2: to you love]', 'I give to [ARG0: you] [V: love]']\n",
            "\n",
            "\n",
            "\n",
            "I give love to you\n",
            "['[ARG0: I] [V: give] [ARG1: love] [ARG2: to you]']\n",
            "\n",
            "\n",
            "\n"
          ]
        }
      ]
    },
    {
      "cell_type": "markdown",
      "source": [
        "###passive and actrive trasnformarion"
      ],
      "metadata": {
        "id": "hGIRP7dVbw_W"
      }
    },
    {
      "cell_type": "code",
      "source": [
        "paired_sentences = [    ['The teacher graded the exams.', 'The exams were graded by the teacher.'],\n",
        "    ['The company launched a new product.', 'A new product was launched by the company.'],\n",
        "    ['The chef prepared the meal.', 'The meal was prepared by the chef.'],\n",
        "    ['The storm destroyed the house.', 'The house was destroyed by the storm.'],\n",
        "    ['The doctor cured the patient.', 'The patient was cured by the doctor.'],\n",
        "    ['The police caught the thief.', 'The thief was caught by the police.'],\n",
        "    ['The singer performed the song.', 'The song was performed by the singer.'],\n",
        "    ['The painter created a masterpiece.', 'A masterpiece was created by the painter.'],\n",
        "    ['The company awarded the contract.', 'The contract was awarded by the company.'],\n",
        "    ['The author wrote the book.', 'The book was written by the author.'],\n",
        "    ['The team won the game.', 'The game was won by the team.'],\n",
        "    ['The chef cooked the meal.', 'The meal was cooked by the chef.'],\n",
        "    ['The audience applauded the performer.', 'The performer was applauded by the audience.'],\n",
        "    ['The company hired a new employee.', 'A new employee was hired by the company.'],\n",
        "    ['The artist painted the portrait.', 'The portrait was painted by the artist.'],\n",
        "    ['The company produced a new film.', 'A new film was produced by the company.'],\n",
        "    ['The doctor performed the surgery.', 'The surgery was performed by the doctor.'],\n",
        "    ['The company launched a marketing campaign.', 'A marketing campaign was launched by the company.'],\n",
        "    ['The waiter served the meal.', 'The meal was served by the waiter.'],\n",
        "    ['The engineer designed the building.', 'The building was designed by the engineer.']\n",
        "]\n"
      ],
      "metadata": {
        "id": "YX3CtSK1IAcB"
      },
      "execution_count": null,
      "outputs": []
    },
    {
      "cell_type": "code",
      "source": [
        "for p in paired_sentences:\n",
        "  \n",
        "  active,passive=p\n",
        "\n",
        "  print(\"BERT\")\n",
        "  predBert_a = predictor.predict(active)\n",
        "  predBert_p = predictor.predict(passive) \n",
        "  \n",
        "  print([x['description'] for x in predBert_a['verbs']])\n",
        "  print([x['description'] for x in predBert_p['verbs']])\n",
        "  print(\"\\n\")\n",
        "\n",
        "  print(\"Lstm\")\n",
        "  predBilstm_a=predictor_bilstm.predict(active)\n",
        "  predBilstm_p=predictor_bilstm.predict(passive)\n",
        "  print([x['description'] for x in predBilstm_a['verbs']])\n",
        "  print([x['description'] for x in predBilstm_p['verbs']])\n",
        "  print(\"\\n\\n\")\n",
        "\n",
        "\n",
        "  print(\"\\n\\n\")"
      ],
      "metadata": {
        "colab": {
          "base_uri": "https://localhost:8080/"
        },
        "id": "Kh110yNucZ91",
        "outputId": "c8a2a145-3470-42b9-d0c4-c7b29c582b1a"
      },
      "execution_count": null,
      "outputs": [
        {
          "output_type": "stream",
          "name": "stdout",
          "text": [
            "BERT\n",
            "['[ARG0: The teacher] [V: graded] [ARG1: the exams] .']\n",
            "['The exams [V: were] graded by the teacher .', '[ARG1: The exams] were [V: graded] [ARG0: by the teacher] .']\n",
            "\n",
            "\n",
            "Lstm\n",
            "['[ARG0: The teacher] [V: graded] [ARG1: the exams] .']\n",
            "['The exams [V: were] graded by the teacher .', '[ARG2: The exams] were [V: graded] [ARG0: by the teacher] .']\n",
            "\n",
            "\n",
            "\n",
            "\n",
            "\n",
            "\n",
            "BERT\n",
            "['[ARG0: The company] [V: launched] [ARG1: a new product] .']\n",
            "['A new product [V: was] launched by the company .', '[ARG1: A new product] was [V: launched] [ARG0: by the company] .']\n",
            "\n",
            "\n",
            "Lstm\n",
            "['[ARG0: The company] [V: launched] [ARG1: a new product] .']\n",
            "['A new product [V: was] launched by the company .', '[ARG1: A new product] was [V: launched] [ARG0: by the company] .']\n",
            "\n",
            "\n",
            "\n",
            "\n",
            "\n",
            "\n",
            "BERT\n",
            "['[ARG0: The chef] [V: prepared] [ARG1: the meal] .']\n",
            "['The meal [V: was] prepared by the chef .', '[ARG1: The meal] was [V: prepared] [ARG0: by the chef] .']\n",
            "\n",
            "\n",
            "Lstm\n",
            "['[ARG0: The chef] [V: prepared] [ARG1: the meal] .']\n",
            "['The meal [V: was] prepared by the chef .', '[ARG1: The meal] was [V: prepared] [ARG0: by the chef] .']\n",
            "\n",
            "\n",
            "\n",
            "\n",
            "\n",
            "\n",
            "BERT\n",
            "['[ARG0: The storm] [V: destroyed] [ARG1: the house] .']\n",
            "['The house [V: was] destroyed by the storm .', '[ARG1: The house] was [V: destroyed] [ARG0: by the storm] .']\n",
            "\n",
            "\n",
            "Lstm\n",
            "['[ARG0: The storm] [V: destroyed] [ARG1: the house] .']\n",
            "['The house [V: was] destroyed by the storm .', '[ARG1: The house] was [V: destroyed] [ARG0: by the storm] .']\n",
            "\n",
            "\n",
            "\n",
            "\n",
            "\n",
            "\n",
            "BERT\n",
            "['[ARG0: The doctor] [V: cured] [ARG1: the patient] .']\n",
            "['The patient [V: was] cured by the doctor .', '[ARG1: The patient] was [V: cured] [ARG0: by the doctor] .']\n",
            "\n",
            "\n",
            "Lstm\n",
            "['[ARG0: The doctor] [V: cured] [ARG1: the patient] .']\n",
            "['The patient [V: was] cured by the doctor .', '[ARG1: The patient] was [V: cured] [ARG0: by the doctor] .']\n",
            "\n",
            "\n",
            "\n",
            "\n",
            "\n",
            "\n",
            "BERT\n",
            "['[ARG0: The police] [V: caught] [ARG1: the thief] .']\n",
            "['The thief [V: was] caught by the police .', '[ARG1: The thief] was [V: caught] [ARG0: by the police] .']\n",
            "\n",
            "\n",
            "Lstm\n",
            "['[ARG0: The police] [V: caught] [ARG1: the thief] .']\n",
            "['The thief [V: was] caught by the police .', '[ARG1: The thief] was [V: caught] [ARG0: by the police] .']\n",
            "\n",
            "\n",
            "\n",
            "\n",
            "\n",
            "\n",
            "BERT\n",
            "['[ARG0: The singer] [V: performed] [ARG1: the song] .']\n",
            "['The song [V: was] performed by the singer .', '[ARG1: The song] was [V: performed] [ARG0: by the singer] .']\n",
            "\n",
            "\n",
            "Lstm\n",
            "['[ARG0: The singer] [V: performed] [ARG1: the song] .']\n",
            "['The song [V: was] performed by the singer .', '[ARG1: The song] was [V: performed] [ARG0: by the singer] .']\n",
            "\n",
            "\n",
            "\n",
            "\n",
            "\n",
            "\n",
            "BERT\n",
            "['[ARG0: The painter] [V: created] [ARG1: a masterpiece] .']\n",
            "['A masterpiece [V: was] created by the painter .', '[ARG1: A masterpiece] was [V: created] [ARG0: by the painter] .']\n",
            "\n",
            "\n",
            "Lstm\n",
            "['[ARG0: The painter] [V: created] [ARG1: a masterpiece] .']\n",
            "['A masterpiece [V: was] created by the painter .', '[ARG1: A masterpiece] was [V: created] [ARG0: by the painter] .']\n",
            "\n",
            "\n",
            "\n",
            "\n",
            "\n",
            "\n",
            "BERT\n",
            "['[ARG0: The company] [V: awarded] [ARG1: the contract] .']\n",
            "['The contract [V: was] awarded by the company .', '[ARG1: The contract] was [V: awarded] [ARG0: by the company] .']\n",
            "\n",
            "\n",
            "Lstm\n",
            "['[ARG0: The company] [V: awarded] [ARG1: the contract] .']\n",
            "['The contract [V: was] awarded by the company .', '[ARG1: The contract] was [V: awarded] [ARG0: by the company] .']\n",
            "\n",
            "\n",
            "\n",
            "\n",
            "\n",
            "\n",
            "BERT\n",
            "['[ARG0: The author] [V: wrote] [ARG1: the book] .']\n",
            "['The book [V: was] written by the author .', '[ARG1: The book] was [V: written] [ARG0: by the author] .']\n",
            "\n",
            "\n",
            "Lstm\n",
            "['[ARG0: The author] [V: wrote] [ARG1: the book] .']\n",
            "['The book [V: was] written by the author .', '[ARG1: The book] was [V: written] [ARG0: by the author] .']\n",
            "\n",
            "\n",
            "\n",
            "\n",
            "\n",
            "\n",
            "BERT\n",
            "['[ARG0: The team] [V: won] [ARG1: the game] .']\n",
            "['The game [V: was] won by the team .', '[ARG1: The game] was [V: won] [ARG0: by the team] .']\n",
            "\n",
            "\n",
            "Lstm\n",
            "['[ARG0: The team] [V: won] [ARG1: the game] .']\n",
            "['The game [V: was] won by the team .', '[ARG1: The game] was [V: won] [ARG0: by the team] .']\n",
            "\n",
            "\n",
            "\n",
            "\n",
            "\n",
            "\n",
            "BERT\n",
            "['[ARG0: The chef] [V: cooked] [ARG1: the meal] .']\n",
            "['The meal [V: was] cooked by the chef .', '[ARG1: The meal] was [V: cooked] [ARG0: by the chef] .']\n",
            "\n",
            "\n",
            "Lstm\n",
            "['[ARG0: The chef] [V: cooked] [ARG1: the meal] .']\n",
            "['The meal [V: was] cooked by the chef .', '[ARG1: The meal] was [V: cooked] [ARG0: by the chef] .']\n",
            "\n",
            "\n",
            "\n",
            "\n",
            "\n",
            "\n",
            "BERT\n",
            "['[ARG0: The audience] [V: applauded] [ARG1: the performer] .']\n",
            "['The performer [V: was] applauded by the audience .', '[ARG1: The performer] was [V: applauded] [ARG0: by the audience] .']\n",
            "\n",
            "\n",
            "Lstm\n",
            "['[ARG0: The audience] [V: applauded] [ARG1: the performer] .']\n",
            "['The performer [V: was] applauded by the audience .', '[ARG1: The performer] was [V: applauded] [ARG0: by the audience] .']\n",
            "\n",
            "\n",
            "\n",
            "\n",
            "\n",
            "\n",
            "BERT\n",
            "['[ARG0: The company] [V: hired] [ARG1: a new employee] .']\n",
            "['A new employee [V: was] hired by the company .', '[ARG1: A new employee] was [V: hired] [ARG0: by the company] .']\n",
            "\n",
            "\n",
            "Lstm\n",
            "['[ARG0: The company] [V: hired] [ARG1: a new employee] .']\n",
            "['A new employee [V: was] hired by the company .', '[ARG1: A new employee] was [V: hired] [ARG0: by the company] .']\n",
            "\n",
            "\n",
            "\n",
            "\n",
            "\n",
            "\n",
            "BERT\n",
            "['[ARG0: The artist] [V: painted] [ARG1: the portrait] .']\n",
            "['The portrait [V: was] painted by the artist .', '[ARG1: The portrait] was [V: painted] [ARG0: by the artist] .']\n",
            "\n",
            "\n",
            "Lstm\n",
            "['[ARG0: The artist] [V: painted] [ARG1: the portrait] .']\n",
            "['The portrait [V: was] painted by the artist .', '[ARG1: The portrait] was [V: painted] [ARG0: by the artist] .']\n",
            "\n",
            "\n",
            "\n",
            "\n",
            "\n",
            "\n",
            "BERT\n",
            "['[ARG0: The company] [V: produced] [ARG1: a new film] .']\n",
            "['A new film [V: was] produced by the company .', '[ARG1: A new film] was [V: produced] [ARG0: by the company] .']\n",
            "\n",
            "\n",
            "Lstm\n",
            "['[ARG0: The company] [V: produced] [ARG1: a new film] .']\n",
            "['A new film [V: was] produced by the company .', '[ARG1: A new film] was [V: produced] [ARG0: by the company] .']\n",
            "\n",
            "\n",
            "\n",
            "\n",
            "\n",
            "\n",
            "BERT\n",
            "['[ARG0: The doctor] [V: performed] [ARG1: the surgery] .']\n",
            "['The surgery [V: was] performed by the doctor .', '[ARG1: The surgery] was [V: performed] [ARG0: by the doctor] .']\n",
            "\n",
            "\n",
            "Lstm\n",
            "['[ARG0: The doctor] [V: performed] [ARG1: the surgery] .']\n",
            "['The surgery [V: was] performed by the doctor .', '[ARG1: The surgery] was [V: performed] [ARG0: by the doctor] .']\n",
            "\n",
            "\n",
            "\n",
            "\n",
            "\n",
            "\n",
            "BERT\n",
            "['[ARG0: The company] [V: launched] [ARG1: a marketing campaign] .']\n",
            "['A marketing campaign [V: was] launched by the company .', '[ARG1: A marketing campaign] was [V: launched] [ARG0: by the company] .']\n",
            "\n",
            "\n",
            "Lstm\n",
            "['[ARG0: The company] [V: launched] [ARG1: a marketing campaign] .']\n",
            "['A marketing campaign [V: was] launched by the company .', '[ARG1: A marketing campaign] was [V: launched] [ARG0: by the company] .']\n",
            "\n",
            "\n",
            "\n",
            "\n",
            "\n",
            "\n",
            "BERT\n",
            "['[ARG0: The waiter] [V: served] [ARG1: the meal] .']\n",
            "['The meal [V: was] served by the waiter .', '[ARG1: The meal] was [V: served] [ARG0: by the waiter] .']\n",
            "\n",
            "\n",
            "Lstm\n",
            "['[ARG0: The waiter] [V: served] [ARG1: the meal] .']\n",
            "['The meal [V: was] served by the waiter .', '[ARG2: The meal] was [V: served] [ARG0: by the waiter] .']\n",
            "\n",
            "\n",
            "\n",
            "\n",
            "\n",
            "\n",
            "BERT\n",
            "['[ARG0: The engineer] [V: designed] [ARG1: the building] .']\n",
            "['The building [V: was] designed by the engineer .', '[ARG1: The building] was [V: designed] [ARG0: by the engineer] .']\n",
            "\n",
            "\n",
            "Lstm\n",
            "['[ARG0: The engineer] [V: designed] [ARG1: the building] .']\n",
            "['The building [V: was] designed by the engineer .', '[ARG1: The building] was [V: designed] [ARG0: by the engineer] .']\n",
            "\n",
            "\n",
            "\n",
            "\n",
            "\n",
            "\n"
          ]
        }
      ]
    },
    {
      "cell_type": "code",
      "source": [
        "paired_sentences = [\n",
        "    ['The consultant recommended that the board approve the merger.', 'It was recommended by the consultant that the merger be approved by the board.'],\n",
        "    ['The coach trained the team on proper technique and strategy.', 'The team was trained on proper technique and strategy by the coach.'],\n",
        "    ['The lawyer defended her client against charges of fraud and embezzlement.', 'The client was defended against charges of fraud and embezzlement by the lawyer.']\n",
        "]\n"
      ],
      "metadata": {
        "id": "E_bMFSiSNA0N"
      },
      "execution_count": null,
      "outputs": []
    },
    {
      "cell_type": "code",
      "source": [
        "for p in paired_sentences:\n",
        "  \n",
        "  active,passive=p\n",
        "\n",
        "  print(\"BERT\")\n",
        "  predBert_a = predictor.predict(active)\n",
        "  predBert_p = predictor.predict(passive) \n",
        "  \n",
        "  print([x['description'] for x in predBert_a['verbs']])\n",
        "  print([x['description'] for x in predBert_p['verbs']])\n",
        "  print(\"\\n\")\n",
        "\n",
        "  print(\"Lstm\")\n",
        "  predBilstm_a=predictor_bilstm.predict(active)\n",
        "  predBilstm_p=predictor_bilstm.predict(passive)\n",
        "  print([x['description'] for x in predBilstm_a['verbs']])\n",
        "  print([x['description'] for x in predBilstm_p['verbs']])\n",
        "  print(\"\\n\\n\")\n",
        "\n",
        "\n",
        "  print(\"\\n\\n\")"
      ],
      "metadata": {
        "colab": {
          "base_uri": "https://localhost:8080/"
        },
        "id": "bpS50bOCbyzf",
        "outputId": "edb48149-8c07-4c09-fc4f-a6d81e4c1287"
      },
      "execution_count": null,
      "outputs": [
        {
          "output_type": "stream",
          "name": "stdout",
          "text": [
            "BERT\n",
            "['[ARG0: The consultant] [V: recommended] [ARG1: that the board approve the merger] .', 'The consultant recommended that [ARG0: the board] [V: approve] [ARG1: the merger] .']\n",
            "['It [V: was] recommended by the consultant that the merger be approved by the board .', 'It was [V: recommended] [ARG0: by the consultant] [ARG1: that the merger be approved by the board] .', 'It was recommended by the consultant that the merger [V: be] approved by the board .', 'It was recommended by the consultant that [ARG1: the merger] be [V: approved] [ARG0: by the board] .']\n",
            "\n",
            "\n",
            "Lstm\n",
            "['[ARG0: The consultant] [V: recommended] [ARG1: that the board approve the merger] .', 'The consultant recommended that [ARG0: the board] [V: approve] [ARG1: the merger] .']\n",
            "['It [V: was] recommended by the consultant that the merger be approved by the board .', '[ARG1: It] was [V: recommended] [ARG0: by the consultant] [ARG2: that the merger be approved by the board] .', 'It was recommended by the consultant that the merger [V: be] approved by the board .', 'It was recommended by the consultant that [ARG1: the merger] be [V: approved] [ARG0: by the board] .']\n",
            "\n",
            "\n",
            "\n",
            "\n",
            "\n",
            "\n",
            "BERT\n",
            "['[ARG0: The coach] [V: trained] [ARG2: the team] [ARG1: on proper technique and strategy] .']\n",
            "['The team [V: was] trained on proper technique and strategy by the coach .', '[ARG2: The team] was [V: trained] [ARG1: on proper technique and strategy] [ARG0: by the coach] .']\n",
            "\n",
            "\n",
            "Lstm\n",
            "['[ARG0: The coach] [V: trained] [ARG2: the team] [ARG1: on proper technique and strategy] .']\n",
            "['The team [V: was] trained on proper technique and strategy by the coach .', '[ARG2: The team] was [V: trained] [ARG1: on proper technique and strategy by the coach] .']\n",
            "\n",
            "\n",
            "\n",
            "\n",
            "\n",
            "\n",
            "BERT\n",
            "['[ARG0: The lawyer] [V: defended] [ARG1: her client] [ARGM-ADV: against charges of fraud and embezzlement] .']\n",
            "['The client [V: was] defended against charges of fraud and embezzlement by the lawyer .', '[ARG1: The client] was [V: defended] [ARGM-ADV: against charges of fraud and embezzlement] [ARG0: by the lawyer] .']\n",
            "\n",
            "\n",
            "Lstm\n",
            "['[ARG0: The lawyer] [V: defended] [ARG1: her client] [ARG1: against charges of fraud and embezzlement] .']\n",
            "['The client [V: was] defended against charges of fraud and embezzlement by the lawyer .', '[ARG2: The client] was [V: defended] [ARG1: against charges of fraud and embezzlement by the lawyer] .']\n",
            "\n",
            "\n",
            "\n",
            "\n",
            "\n",
            "\n"
          ]
        }
      ]
    },
    {
      "cell_type": "code",
      "source": [],
      "metadata": {
        "id": "E9BFrspWcAwZ"
      },
      "execution_count": null,
      "outputs": []
    },
    {
      "cell_type": "code",
      "source": [],
      "metadata": {
        "colab": {
          "base_uri": "https://localhost:8080/"
        },
        "id": "UckDnB4DgsUa",
        "outputId": "c0488ac4-9cb7-47b8-cc51-22ebf9c80ccc"
      },
      "execution_count": null,
      "outputs": [
        {
          "output_type": "stream",
          "name": "stdout",
          "text": [
            "the coach teaches the team a new schema\n",
            "['[ARG0: the coach] [V: teaches] [ARG2: the team] [ARG1: a new schema]']\n",
            "\n",
            "\n",
            "\n",
            "The coach teaches a new schema to the team\n",
            "['[ARG0: The coach] [V: teaches] [ARG1: a new schema] [ARG2: to the team]']\n",
            "\n",
            "\n",
            "\n"
          ]
        }
      ]
    },
    {
      "cell_type": "code",
      "source": [],
      "metadata": {
        "id": "k4v_RIAwgvCx"
      },
      "execution_count": null,
      "outputs": []
    },
    {
      "cell_type": "code",
      "source": [],
      "metadata": {
        "id": "x-iCfkI5gzTi"
      },
      "execution_count": null,
      "outputs": []
    },
    {
      "cell_type": "markdown",
      "source": [
        "### DIRECT SPEECH"
      ],
      "metadata": {
        "id": "zfvIn-8biqxc"
      }
    },
    {
      "cell_type": "code",
      "source": [],
      "metadata": {
        "id": "OEU6070qg6iC"
      },
      "execution_count": null,
      "outputs": []
    },
    {
      "cell_type": "markdown",
      "source": [
        "##AMBIGUITY"
      ],
      "metadata": {
        "id": "XzSt0hAmQcYJ"
      }
    },
    {
      "cell_type": "markdown",
      "source": [
        "### PP -ambiguity\n",
        " "
      ],
      "metadata": {
        "id": "88Z28UZUr6NW"
      }
    },
    {
      "cell_type": "code",
      "source": [
        "sentences=\"I went to the resturant by the Hutsin\", \"I went to the resturant by\"\n",
        "for s in sentences:\n",
        "  print(s)\n",
        "  pred=predictor.predict(s)\n",
        "  desc=[x['description'] for x in pred['verbs']]\n",
        "  #print(verbs)\n",
        "  print(desc)\n",
        "  print(\"\\n\\n\")"
      ],
      "metadata": {
        "colab": {
          "base_uri": "https://localhost:8080/"
        },
        "id": "__UUhlKKi0II",
        "outputId": "df279aeb-590e-497c-9510-393de9163699"
      },
      "execution_count": null,
      "outputs": [
        {
          "output_type": "stream",
          "name": "stdout",
          "text": [
            "I went to the resturant by the Hutsin\n",
            "['[ARG0: I] [V: went] [ARG4: to the resturant by the Hutsin]']\n",
            "\n",
            "\n",
            "\n",
            "I went to the resturant by bike\n",
            "['[ARG0: I] [V: went] [ARG4: to the resturant] [ARGM-MNR: by bike]']\n",
            "\n",
            "\n",
            "\n"
          ]
        }
      ]
    },
    {
      "cell_type": "code",
      "source": [
        "[\"I fixed the car with a red logo\",\"I fixed the car with a wretch\"]\n",
        "[\"I bought a computer with GPU\",\" I bought a computer wit bitcoins\"]\n"
      ],
      "metadata": {
        "id": "fqHUwgoCr7OA"
      },
      "execution_count": null,
      "outputs": []
    },
    {
      "cell_type": "code",
      "source": [],
      "metadata": {
        "id": "7i47oLC8qoSV"
      },
      "execution_count": null,
      "outputs": []
    },
    {
      "cell_type": "markdown",
      "source": [],
      "metadata": {
        "id": "XmfHHUH_qm0C"
      }
    },
    {
      "cell_type": "code",
      "source": [],
      "metadata": {
        "id": "NaB7JX0uqlcL"
      },
      "execution_count": null,
      "outputs": []
    },
    {
      "cell_type": "markdown",
      "source": [
        "## QUESTIONS reformulation"
      ],
      "metadata": {
        "id": "x2IbgB-XRuWQ"
      }
    },
    {
      "cell_type": "code",
      "source": [],
      "metadata": {
        "id": "pyNb46UrRwK9"
      },
      "execution_count": null,
      "outputs": []
    },
    {
      "cell_type": "code",
      "source": [],
      "metadata": {
        "id": "r-sgdwntxYwk"
      },
      "execution_count": null,
      "outputs": []
    },
    {
      "cell_type": "markdown",
      "source": [
        "##LONG ENTITIES ABBREVIATED"
      ],
      "metadata": {
        "id": "18hqUeT2Yije"
      }
    },
    {
      "cell_type": "markdown",
      "source": [
        "#PROBABLY NOT DOING THEM any mre\n",
        "\n",
        "\n",
        "\n"
      ],
      "metadata": {
        "id": "AsWFgLOtBAOh"
      }
    },
    {
      "cell_type": "markdown",
      "source": [
        "##SLANG"
      ],
      "metadata": {
        "id": "GhiSOWiBizFk"
      }
    },
    {
      "cell_type": "code",
      "source": [],
      "metadata": {
        "id": "51L_HfZnk_NJ"
      },
      "execution_count": null,
      "outputs": []
    },
    {
      "cell_type": "code",
      "source": [],
      "metadata": {
        "id": "ZUa4DZGhqQvq"
      },
      "execution_count": null,
      "outputs": []
    },
    {
      "cell_type": "markdown",
      "source": [
        "## INCISI"
      ],
      "metadata": {
        "id": "qywAgrXmqR8S"
      }
    },
    {
      "cell_type": "code",
      "source": [
        "sentences=[\"This, my friend, is epic \"]\n",
        "for s in sentences:\n",
        "  print(s)\n",
        "  pred=predictor.predict(s)\n",
        "  desc=[x['description'] for x in pred['verbs']]\n",
        "  #print(verbs)\n",
        "  print(desc)\n",
        "  print(\"\\n\\n\")"
      ],
      "metadata": {
        "colab": {
          "base_uri": "https://localhost:8080/"
        },
        "id": "3NIVdwIEqTDI",
        "outputId": "d2fc01e9-3d77-4c96-ef0c-a1aa102d3f19"
      },
      "execution_count": null,
      "outputs": [
        {
          "output_type": "stream",
          "name": "stdout",
          "text": [
            "This, my friend, is epic \n",
            "['[ARG1: This , my friend] , [V: is] [ARG2: epic]']\n",
            "\n",
            "\n",
            "\n"
          ]
        }
      ]
    },
    {
      "cell_type": "code",
      "source": [],
      "metadata": {
        "id": "HFQzrpEHqajZ"
      },
      "execution_count": null,
      "outputs": []
    },
    {
      "cell_type": "markdown",
      "source": [
        "## DIfferent frames or labels recognition"
      ],
      "metadata": {
        "id": "1qa_YDiogvoa"
      }
    },
    {
      "cell_type": "markdown",
      "source": [
        "##With mutiple verbs, argoument confusion or shiet"
      ],
      "metadata": {
        "id": "LzgT37FWxTPY"
      }
    },
    {
      "cell_type": "code",
      "source": [],
      "metadata": {
        "id": "zQnFGmcjx2OY"
      },
      "execution_count": null,
      "outputs": []
    },
    {
      "cell_type": "code",
      "source": [],
      "metadata": {
        "id": "DgEXYwK9x2Uh"
      },
      "execution_count": null,
      "outputs": []
    },
    {
      "cell_type": "markdown",
      "source": [
        "##LONG SETNECES DEPEPNDENCY - coreference\n"
      ],
      "metadata": {
        "id": "Vgh1JZCKx3FT"
      }
    },
    {
      "cell_type": "code",
      "source": [],
      "metadata": {
        "id": "_Rt77YCcYkfe"
      },
      "execution_count": null,
      "outputs": []
    },
    {
      "cell_type": "markdown",
      "source": [
        "## SAXON GENITIVES"
      ],
      "metadata": {
        "id": "JoQIAH4WY2Kl"
      }
    },
    {
      "cell_type": "code",
      "source": [
        "paired_sentences = [    [\"The president's decision to withdraw troops from the region caused controversy among military leaders.\",      \"The decision of the president to withdraw troops from the region caused controversy among military leaders.\"],\n",
        "    [\"The CEO's success in turning around the struggling company was due in large part to her innovative marketing strategies.\",      \"The success of the CEO in turning around the struggling company was due in large part to her innovative marketing strategies.\"],\n",
        "    [\"The director's vision for the film was not fully realized due to budget constraints and scheduling conflicts.\",      \"The vision of the director for the film was not fully realized due to budget constraints and scheduling conflicts.\"],\n",
        "    [\"The professor's lecture on the history of ancient Rome was attended by a packed auditorium of eager students.\",      \"The lecture on the history of ancient Rome of the professor was attended by a packed auditorium of eager students.\"],\n",
        "    [\"The artist's latest work, a sculpture made entirely of recycled materials, was featured in a prominent gallery exhibition.\",      \"The latest work of the artist, a sculpture made entirely of recycled materials, was featured in a prominent gallery exhibition.\"],\n",
        "    [\"The athlete's rigorous training regimen and strict diet led to her record-breaking performance at the championship.\",      \"The rigorous training regimen and strict diet of the athlete led to her record-breaking performance at the championship.\"],\n",
        "    [\"The author's use of symbolism and metaphor in her novel added depth and complexity to the story.\",      \"The use of symbolism and metaphor in her novel of the author added depth and complexity to the story.\"]\n",
        "]\n"
      ],
      "metadata": {
        "id": "gqJO-kASY35h"
      },
      "execution_count": null,
      "outputs": []
    },
    {
      "cell_type": "code",
      "source": [],
      "metadata": {
        "id": "xA-tIuKeeFwl"
      },
      "execution_count": null,
      "outputs": []
    },
    {
      "cell_type": "code",
      "source": [],
      "metadata": {
        "id": "e3HiN4_geN9E"
      },
      "execution_count": null,
      "outputs": []
    },
    {
      "cell_type": "markdown",
      "source": [
        "##[PROLLY NOT]INTRANSITIVE VERBS"
      ],
      "metadata": {
        "id": "bZmRzaqwSkTM"
      }
    },
    {
      "cell_type": "code",
      "source": [
        "sentences = ['The sun rises in the east.',\n",
        "             'He slept for 10 hours.',\n",
        "             'They danced all night.',\n",
        "             'The flowers bloomed in the spring.',\n",
        "             'The baby cried all night.',\n",
        "             'The cat meowed loudly.',\n",
        "             'The car stopped suddenly.',\n",
        "             'She ran around the park.',\n",
        "             'The plane took off at 9 am.',\n",
        "             'The wind blew fiercely.',\n",
        "             'The tree swayed in the wind.',\n",
        "             'The river flows downstream.',\n",
        "             'The coffee brewed in the pot.',\n",
        "             'The music played softly in the background.',\n",
        "             'The bird chirped early in the morning.',\n",
        "             'The children laughed and played.',\n",
        "             'The fire crackled in the fireplace.',\n",
        "             'The leaves fell from the trees.',\n",
        "             'The boat sailed across the ocean.',\n",
        "             'The train arrived at the station on time.']\n"
      ],
      "metadata": {
        "id": "Dp9F9dxYSmzc"
      },
      "execution_count": null,
      "outputs": []
    },
    {
      "cell_type": "code",
      "source": [
        "for s in sentences:\n",
        "  print(s)\n",
        "  pred=predictor.predict(s)\n",
        "  desc=[x['description'] for x in pred['verbs']]\n",
        "  #print(verbs)\n",
        "  print(desc)\n",
        "  print(\"\\n\\n\")"
      ],
      "metadata": {
        "colab": {
          "base_uri": "https://localhost:8080/"
        },
        "id": "1U47CiSLSsia",
        "outputId": "eba4faa3-5a89-48aa-a482-9a951d02eb1c"
      },
      "execution_count": null,
      "outputs": [
        {
          "output_type": "stream",
          "name": "stdout",
          "text": [
            "The sun rises in the east.\n",
            "['[ARG1: The sun] [V: rises] [ARGM-LOC: in the east] .']\n",
            "\n",
            "\n",
            "\n",
            "He slept for 10 hours.\n",
            "['[ARG0: He] [V: slept] [ARGM-TMP: for 10 hours] .']\n",
            "\n",
            "\n",
            "\n",
            "They danced all night.\n",
            "['[ARG0: They] [V: danced] [ARGM-TMP: all night] .']\n",
            "\n",
            "\n",
            "\n",
            "The flowers bloomed in the spring.\n",
            "['[ARG0: The flowers] [V: bloomed] [ARGM-TMP: in the spring] .']\n",
            "\n",
            "\n",
            "\n",
            "The baby cried all night.\n",
            "['[ARG0: The baby] [V: cried] [ARGM-TMP: all night] .']\n",
            "\n",
            "\n",
            "\n",
            "The cat meowed loudly.\n",
            "['[ARG0: The cat] [V: meowed] [ARGM-MNR: loudly] .']\n",
            "\n",
            "\n",
            "\n",
            "The car stopped suddenly.\n",
            "['[ARG1: The car] [V: stopped] [ARGM-MNR: suddenly] .']\n",
            "\n",
            "\n",
            "\n",
            "She ran around the park.\n",
            "['[ARG0: She] [V: ran] [ARGM-DIR: around the park] .']\n",
            "\n",
            "\n",
            "\n",
            "The plane took off at 9 am.\n",
            "['[ARG1: The plane] [V: took] off [ARGM-TMP: at 9 am] .']\n",
            "\n",
            "\n",
            "\n",
            "The wind blew fiercely.\n",
            "['[ARG1: The wind] [V: blew] [ARGM-MNR: fiercely] .']\n",
            "\n",
            "\n",
            "\n",
            "The tree swayed in the wind.\n",
            "['[ARG1: The tree] [V: swayed] [ARGM-LOC: in the wind] .']\n",
            "\n",
            "\n",
            "\n",
            "The river flows downstream.\n",
            "['[ARG1: The river] [V: flows] [ARGM-DIR: downstream] .']\n",
            "\n",
            "\n",
            "\n",
            "The coffee brewed in the pot.\n",
            "['[ARG1: The coffee] [V: brewed] [ARGM-LOC: in the pot] .']\n",
            "\n",
            "\n",
            "\n",
            "The music played softly in the background.\n",
            "['[ARG1: The music] [V: played] [ARGM-MNR: softly] [ARGM-LOC: in the background] .']\n",
            "\n",
            "\n",
            "\n",
            "The bird chirped early in the morning.\n",
            "['[ARG0: The bird] [V: chirped] [ARGM-TMP: early in the morning] .']\n",
            "\n",
            "\n",
            "\n",
            "The children laughed and played.\n",
            "['[ARG0: The children] [V: laughed] and played .', '[ARG0: The children] laughed and [V: played] .']\n",
            "\n",
            "\n",
            "\n",
            "The fire crackled in the fireplace.\n",
            "['[ARG0: The fire] [V: crackled] [ARGM-LOC: in the fireplace] .']\n",
            "\n",
            "\n",
            "\n",
            "The leaves fell from the trees.\n",
            "['[ARG1: The leaves] [V: fell] [ARG3: from the trees] .']\n",
            "\n",
            "\n",
            "\n",
            "The boat sailed across the ocean.\n",
            "['[ARG0: The boat] [V: sailed] [ARGM-DIR: across the ocean] .']\n",
            "\n",
            "\n",
            "\n",
            "The train arrived at the station on time.\n",
            "['[ARG1: The train] [V: arrived] [ARG4: at the station] [ARGM-TMP: on time] .']\n",
            "\n",
            "\n",
            "\n"
          ]
        }
      ]
    },
    {
      "cell_type": "code",
      "source": [
        "sentences = ['The snow fell gently from the sky.',\n",
        "             'She laughed uncontrollably at the joke.',\n",
        "             'The sun set over the horizon.',\n",
        "             'The children played happily in the park.',\n",
        "             'The fire burned brightly in the fireplace.',\n",
        "             'The wind howled outside the window.',\n",
        "             'The cake baked for an hour.',\n",
        "             'The door opened slowly.',\n",
        "             'The crowd cheered loudly at the concert.',\n",
        "             'The athlete ran around the track.',\n",
        "             'The tree grew tall and strong.',\n",
        "             'The river flowed peacefully.',\n",
        "             'The bird flew gracefully through the air.',\n",
        "             'The fish swam quickly in the water.',\n",
        "             'The dog barked loudly at the mailman.',\n",
        "             'The car drove smoothly down the road.',\n",
        "             'The plane flew high above the clouds.',\n",
        "             'The moon shone brightly in the sky.',\n",
        "             'The stars twinkled in the night sky.',\n",
        "             'The flowers swayed in the breeze.']\n"
      ],
      "metadata": {
        "id": "crDSij6dS3XA"
      },
      "execution_count": null,
      "outputs": []
    },
    {
      "cell_type": "code",
      "source": [
        "for s in sentences:\n",
        "  print(s)\n",
        "  pred=predictor.predict(s)\n",
        "  desc=[x['description'] for x in pred['verbs']]\n",
        "  #print(verbs)\n",
        "  print(desc)\n",
        "  print(\"\\n\\n\")"
      ],
      "metadata": {
        "colab": {
          "base_uri": "https://localhost:8080/"
        },
        "id": "0W15h4WVZJFj",
        "outputId": "4af66d47-d0cc-4f15-9b9f-0afd4dbded95"
      },
      "execution_count": null,
      "outputs": [
        {
          "output_type": "stream",
          "name": "stdout",
          "text": [
            "The snow fell gently from the sky.\n",
            "['[ARG1: The snow] [V: fell] [ARGM-MNR: gently] [ARG3: from the sky] .']\n",
            "\n",
            "\n",
            "\n",
            "She laughed uncontrollably at the joke.\n",
            "['[ARG0: She] [V: laughed] [ARGM-MNR: uncontrollably] [ARG2: at the joke] .']\n",
            "\n",
            "\n",
            "\n",
            "The sun set over the horizon.\n",
            "['[ARG1: The sun] [V: set] [ARG2: over the horizon] .']\n",
            "\n",
            "\n",
            "\n",
            "The children played happily in the park.\n",
            "['[ARG0: The children] [V: played] [ARGM-MNR: happily] [ARGM-LOC: in the park] .']\n",
            "\n",
            "\n",
            "\n",
            "The fire burned brightly in the fireplace.\n",
            "['[ARG1: The fire] [V: burned] [ARGM-MNR: brightly] [ARGM-LOC: in the fireplace] .']\n",
            "\n",
            "\n",
            "\n",
            "The wind howled outside the window.\n",
            "['[ARG0: The wind] [V: howled] [ARGM-LOC: outside the window] .']\n",
            "\n",
            "\n",
            "\n",
            "The cake baked for an hour.\n",
            "['[ARG1: The cake] [V: baked] [ARGM-TMP: for an hour] .']\n",
            "\n",
            "\n",
            "\n",
            "The door opened slowly.\n",
            "['[ARG1: The door] [V: opened] [ARGM-MNR: slowly] .']\n",
            "\n",
            "\n",
            "\n",
            "The crowd cheered loudly at the concert.\n",
            "['[ARG0: The crowd] [V: cheered] [ARGM-MNR: loudly] [ARG1: at the concert] .']\n",
            "\n",
            "\n",
            "\n",
            "The athlete ran around the track.\n",
            "['[ARG0: The athlete] [V: ran] [ARGM-DIR: around the track] .']\n",
            "\n",
            "\n",
            "\n",
            "The tree grew tall and strong.\n",
            "['[ARG1: The tree] [V: grew] [ARGM-PRD: tall and strong] .']\n",
            "\n",
            "\n",
            "\n",
            "The river flowed peacefully.\n",
            "['[ARG1: The river] [V: flowed] [ARGM-MNR: peacefully] .']\n",
            "\n",
            "\n",
            "\n",
            "The bird flew gracefully through the air.\n",
            "['[ARG0: The bird] [V: flew] [ARGM-MNR: gracefully] [ARGM-DIR: through the air] .']\n",
            "\n",
            "\n",
            "\n",
            "The fish swam quickly in the water.\n",
            "[]\n",
            "\n",
            "\n",
            "\n",
            "The dog barked loudly at the mailman.\n",
            "['[ARG0: The dog] [V: barked] [ARGM-MNR: loudly] [ARG2: at the mailman] .']\n",
            "\n",
            "\n",
            "\n",
            "The car drove smoothly down the road.\n",
            "['[ARG0: The car] [V: drove] [ARGM-MNR: smoothly] [ARG1: down the road] .']\n",
            "\n",
            "\n",
            "\n",
            "The plane flew high above the clouds.\n",
            "['[ARG1: The plane] [V: flew] [ARGM-LOC: high above the clouds] .']\n",
            "\n",
            "\n",
            "\n",
            "The moon shone brightly in the sky.\n",
            "['[ARG1: The moon] [V: shone] [ARGM-MNR: brightly] [ARGM-LOC: in the sky] .']\n",
            "\n",
            "\n",
            "\n",
            "The stars twinkled in the night sky.\n",
            "['[ARG1: The stars] [V: twinkled] [ARGM-LOC: in the night sky] .']\n",
            "\n",
            "\n",
            "\n",
            "The flowers swayed in the breeze.\n",
            "['[ARG1: The flowers] [V: swayed] [ARGM-LOC: in the breeze] .']\n",
            "\n",
            "\n",
            "\n"
          ]
        }
      ]
    },
    {
      "cell_type": "code",
      "source": [
        "sent=\"Many people keep falling for this CON - GAME that lower taxes on the rich benefits everyone . \"\n",
        "predictor.predict(sent)"
      ],
      "metadata": {
        "colab": {
          "base_uri": "https://localhost:8080/"
        },
        "id": "fNLh24X7Z5zo",
        "outputId": "5e4fee14-f665-4f11-9c04-f26c35025ffc"
      },
      "execution_count": null,
      "outputs": [
        {
          "output_type": "execute_result",
          "data": {
            "text/plain": [
              "{'verbs': [{'verb': 'keep',\n",
              "   'description': '[ARG0: Many people] [V: keep] [ARG1: falling for this CON - GAME that lower taxes on the rich benefits everyone] .',\n",
              "   'tags': ['B-ARG0',\n",
              "    'I-ARG0',\n",
              "    'B-V',\n",
              "    'B-ARG1',\n",
              "    'I-ARG1',\n",
              "    'I-ARG1',\n",
              "    'I-ARG1',\n",
              "    'I-ARG1',\n",
              "    'I-ARG1',\n",
              "    'I-ARG1',\n",
              "    'I-ARG1',\n",
              "    'I-ARG1',\n",
              "    'I-ARG1',\n",
              "    'I-ARG1',\n",
              "    'I-ARG1',\n",
              "    'I-ARG1',\n",
              "    'I-ARG1',\n",
              "    'O']},\n",
              "  {'verb': 'falling',\n",
              "   'description': '[ARG1: Many people] keep [V: falling] [ARGM-PRP: for this CON - GAME that lower taxes on the rich benefits everyone] .',\n",
              "   'tags': ['B-ARG1',\n",
              "    'I-ARG1',\n",
              "    'O',\n",
              "    'B-V',\n",
              "    'B-ARGM-PRP',\n",
              "    'I-ARGM-PRP',\n",
              "    'I-ARGM-PRP',\n",
              "    'I-ARGM-PRP',\n",
              "    'I-ARGM-PRP',\n",
              "    'I-ARGM-PRP',\n",
              "    'I-ARGM-PRP',\n",
              "    'I-ARGM-PRP',\n",
              "    'I-ARGM-PRP',\n",
              "    'I-ARGM-PRP',\n",
              "    'I-ARGM-PRP',\n",
              "    'I-ARGM-PRP',\n",
              "    'I-ARGM-PRP',\n",
              "    'O']}],\n",
              " 'words': ['Many',\n",
              "  'people',\n",
              "  'keep',\n",
              "  'falling',\n",
              "  'for',\n",
              "  'this',\n",
              "  'CON',\n",
              "  '-',\n",
              "  'GAME',\n",
              "  'that',\n",
              "  'lower',\n",
              "  'taxes',\n",
              "  'on',\n",
              "  'the',\n",
              "  'rich',\n",
              "  'benefits',\n",
              "  'everyone',\n",
              "  '.']}"
            ]
          },
          "metadata": {},
          "execution_count": 161
        }
      ]
    },
    {
      "cell_type": "code",
      "source": [
        "predictor.predict(\"He walked the dog to the park and back.\")"
      ],
      "metadata": {
        "colab": {
          "base_uri": "https://localhost:8080/"
        },
        "id": "zpYziEq6aAhf",
        "outputId": "bf89e4fd-b324-43fd-9fe2-22d18b2ec2e6"
      },
      "execution_count": null,
      "outputs": [
        {
          "output_type": "execute_result",
          "data": {
            "text/plain": [
              "{'verbs': [{'verb': 'walked',\n",
              "   'description': '[ARG0: He] [V: walked] [ARG1: the dog] [ARGM-GOL: to the park and back] .',\n",
              "   'tags': ['B-ARG0',\n",
              "    'B-V',\n",
              "    'B-ARG1',\n",
              "    'I-ARG1',\n",
              "    'B-ARGM-GOL',\n",
              "    'I-ARGM-GOL',\n",
              "    'I-ARGM-GOL',\n",
              "    'I-ARGM-GOL',\n",
              "    'I-ARGM-GOL',\n",
              "    'O']}],\n",
              " 'words': ['He',\n",
              "  'walked',\n",
              "  'the',\n",
              "  'dog',\n",
              "  'to',\n",
              "  'the',\n",
              "  'park',\n",
              "  'and',\n",
              "  'back',\n",
              "  '.']}"
            ]
          },
          "metadata": {},
          "execution_count": 163
        }
      ]
    },
    {
      "cell_type": "code",
      "source": [
        "predictor.predict(\"He walked with the dog to the park and back.\")"
      ],
      "metadata": {
        "colab": {
          "base_uri": "https://localhost:8080/"
        },
        "id": "NPbWPYbidmKY",
        "outputId": "426766eb-8c35-4be3-e22f-afe03b575d44"
      },
      "execution_count": null,
      "outputs": [
        {
          "output_type": "execute_result",
          "data": {
            "text/plain": [
              "{'verbs': [{'verb': 'walked',\n",
              "   'description': '[ARG0: He] [V: walked] [ARGM-COM: with the dog] [ARGM-GOL: to the park and back] .',\n",
              "   'tags': ['B-ARG0',\n",
              "    'B-V',\n",
              "    'B-ARGM-COM',\n",
              "    'I-ARGM-COM',\n",
              "    'I-ARGM-COM',\n",
              "    'B-ARGM-GOL',\n",
              "    'I-ARGM-GOL',\n",
              "    'I-ARGM-GOL',\n",
              "    'I-ARGM-GOL',\n",
              "    'I-ARGM-GOL',\n",
              "    'O']}],\n",
              " 'words': ['He',\n",
              "  'walked',\n",
              "  'with',\n",
              "  'the',\n",
              "  'dog',\n",
              "  'to',\n",
              "  'the',\n",
              "  'park',\n",
              "  'and',\n",
              "  'back',\n",
              "  '.']}"
            ]
          },
          "metadata": {},
          "execution_count": 164
        }
      ]
    },
    {
      "cell_type": "code",
      "source": [
        "predictor.predict(\"I see a man with a telescope under his arm\")"
      ],
      "metadata": {
        "colab": {
          "base_uri": "https://localhost:8080/"
        },
        "id": "zyRX4rLYdzje",
        "outputId": "65eaa0f1-1bca-4953-e0f5-2ae227c50313"
      },
      "execution_count": null,
      "outputs": [
        {
          "output_type": "execute_result",
          "data": {
            "text/plain": [
              "{'verbs': [{'verb': 'see',\n",
              "   'description': '[ARG0: I] [V: see] [ARG1: a man with a telescope under his arm]',\n",
              "   'tags': ['B-ARG0',\n",
              "    'B-V',\n",
              "    'B-ARG1',\n",
              "    'I-ARG1',\n",
              "    'I-ARG1',\n",
              "    'I-ARG1',\n",
              "    'I-ARG1',\n",
              "    'I-ARG1',\n",
              "    'I-ARG1',\n",
              "    'I-ARG1']}],\n",
              " 'words': ['I',\n",
              "  'see',\n",
              "  'a',\n",
              "  'man',\n",
              "  'with',\n",
              "  'a',\n",
              "  'telescope',\n",
              "  'under',\n",
              "  'his',\n",
              "  'arm']}"
            ]
          },
          "metadata": {},
          "execution_count": 182
        }
      ]
    },
    {
      "cell_type": "code",
      "source": [],
      "metadata": {
        "id": "a9NCwD39fjDK"
      },
      "execution_count": null,
      "outputs": []
    },
    {
      "cell_type": "code",
      "source": [
        "predictor.predict(\"The plane took a large turn\")"
      ],
      "metadata": {
        "colab": {
          "base_uri": "https://localhost:8080/"
        },
        "id": "yKENZLQKew3c",
        "outputId": "1e0d7a08-8386-4948-a908-01544f0742bc"
      },
      "execution_count": null,
      "outputs": [
        {
          "output_type": "execute_result",
          "data": {
            "text/plain": [
              "{'verbs': [{'verb': 'took',\n",
              "   'description': '[ARG0: The plane] [V: took] [ARG1: a large turn]',\n",
              "   'tags': ['B-ARG0', 'I-ARG0', 'B-V', 'B-ARG1', 'I-ARG1', 'I-ARG1']}],\n",
              " 'words': ['The', 'plane', 'took', 'a', 'large', 'turn']}"
            ]
          },
          "metadata": {},
          "execution_count": 169
        }
      ]
    }
  ]
}